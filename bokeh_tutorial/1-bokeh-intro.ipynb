{
 "cells": [
  {
   "cell_type": "markdown",
   "metadata": {},
   "source": [
    "# Bokeh - Introduction\n",
    "\n",
    "Bokeh is a general purpose visualisation library that is easy to use and focuses on interactivity. \n",
    "The main resource for learning Bokeh should be their website at https://bokeh.pydata.org. \n",
    "\n",
    "## Contents\n",
    "\n",
    "* [Installation](#Installation)\n",
    "* [Basic line plot](#Basic-line-plot)\n",
    "* [Basic circle plot](#Basic-circle-plot)\n",
    "* [Step plot](#Step-plot)\n",
    "* [Multiple markers](#Multiple-markers)\n",
    "* [Shapes](#Shapes)\n",
    "* [Importing data](#Importing-data)\n",
    "* [Customising axes](#Customising-axes)\n",
    "\n",
    "\n",
    "## Installation\n",
    "\n",
    "### Prerequisites:\n",
    "\n",
    "* Anaconda Python 3.6 version (download from https://www.anaconda.com/download)\n",
    "* Jupyter Notebook (comes with Anaconda)\n",
    "* NumPy (also comes with Anaconda)\n",
    "* Bokeh version 0.13.0 (see below for installation)\n",
    "\n",
    "I also assume that you can find your ways around Jupyter Notebook and also that you know some basic NumPy concepts. I have written a [short tutorial on NumPy here](../numpy_tutorial/NumPy.ipynb). I am also going to use panda when convenient (e.g. `read_csv`). \n",
    "\n",
    "To install Bokeh run the following on the command line. \n",
    "```\n",
    "pip install bokeh --upgrade\n",
    "```\n",
    "or \n",
    "```\n",
    "conda install -c bokeh bokeh\n",
    "```"
   ]
  },
  {
   "cell_type": "code",
   "execution_count": 1,
   "metadata": {
    "scrolled": true
   },
   "outputs": [
    {
     "data": {
      "text/html": [
       "\n",
       "    <div class=\"bk-root\">\n",
       "        <a href=\"https://bokeh.pydata.org\" target=\"_blank\" class=\"bk-logo bk-logo-small bk-logo-notebook\"></a>\n",
       "        <span id=\"0dbd0b48-6618-4cba-9897-9f9c6295c6f6\">Loading BokehJS ...</span>\n",
       "    </div>"
      ]
     },
     "metadata": {},
     "output_type": "display_data"
    },
    {
     "data": {
      "application/javascript": [
       "\n",
       "(function(root) {\n",
       "  function now() {\n",
       "    return new Date();\n",
       "  }\n",
       "\n",
       "  var force = true;\n",
       "\n",
       "  if (typeof (root._bokeh_onload_callbacks) === \"undefined\" || force === true) {\n",
       "    root._bokeh_onload_callbacks = [];\n",
       "    root._bokeh_is_loading = undefined;\n",
       "  }\n",
       "\n",
       "  var JS_MIME_TYPE = 'application/javascript';\n",
       "  var HTML_MIME_TYPE = 'text/html';\n",
       "  var EXEC_MIME_TYPE = 'application/vnd.bokehjs_exec.v0+json';\n",
       "  var CLASS_NAME = 'output_bokeh rendered_html';\n",
       "\n",
       "  /**\n",
       "   * Render data to the DOM node\n",
       "   */\n",
       "  function render(props, node) {\n",
       "    var script = document.createElement(\"script\");\n",
       "    node.appendChild(script);\n",
       "  }\n",
       "\n",
       "  /**\n",
       "   * Handle when an output is cleared or removed\n",
       "   */\n",
       "  function handleClearOutput(event, handle) {\n",
       "    var cell = handle.cell;\n",
       "\n",
       "    var id = cell.output_area._bokeh_element_id;\n",
       "    var server_id = cell.output_area._bokeh_server_id;\n",
       "    // Clean up Bokeh references\n",
       "    if (id != null && id in Bokeh.index) {\n",
       "      Bokeh.index[id].model.document.clear();\n",
       "      delete Bokeh.index[id];\n",
       "    }\n",
       "\n",
       "    if (server_id !== undefined) {\n",
       "      // Clean up Bokeh references\n",
       "      var cmd = \"from bokeh.io.state import curstate; print(curstate().uuid_to_server['\" + server_id + \"'].get_sessions()[0].document.roots[0]._id)\";\n",
       "      cell.notebook.kernel.execute(cmd, {\n",
       "        iopub: {\n",
       "          output: function(msg) {\n",
       "            var id = msg.content.text.trim();\n",
       "            if (id in Bokeh.index) {\n",
       "              Bokeh.index[id].model.document.clear();\n",
       "              delete Bokeh.index[id];\n",
       "            }\n",
       "          }\n",
       "        }\n",
       "      });\n",
       "      // Destroy server and session\n",
       "      var cmd = \"import bokeh.io.notebook as ion; ion.destroy_server('\" + server_id + \"')\";\n",
       "      cell.notebook.kernel.execute(cmd);\n",
       "    }\n",
       "  }\n",
       "\n",
       "  /**\n",
       "   * Handle when a new output is added\n",
       "   */\n",
       "  function handleAddOutput(event, handle) {\n",
       "    var output_area = handle.output_area;\n",
       "    var output = handle.output;\n",
       "\n",
       "    // limit handleAddOutput to display_data with EXEC_MIME_TYPE content only\n",
       "    if ((output.output_type != \"display_data\") || (!output.data.hasOwnProperty(EXEC_MIME_TYPE))) {\n",
       "      return\n",
       "    }\n",
       "\n",
       "    var toinsert = output_area.element.find(\".\" + CLASS_NAME.split(' ')[0]);\n",
       "\n",
       "    if (output.metadata[EXEC_MIME_TYPE][\"id\"] !== undefined) {\n",
       "      toinsert[toinsert.length - 1].firstChild.textContent = output.data[JS_MIME_TYPE];\n",
       "      // store reference to embed id on output_area\n",
       "      output_area._bokeh_element_id = output.metadata[EXEC_MIME_TYPE][\"id\"];\n",
       "    }\n",
       "    if (output.metadata[EXEC_MIME_TYPE][\"server_id\"] !== undefined) {\n",
       "      var bk_div = document.createElement(\"div\");\n",
       "      bk_div.innerHTML = output.data[HTML_MIME_TYPE];\n",
       "      var script_attrs = bk_div.children[0].attributes;\n",
       "      for (var i = 0; i < script_attrs.length; i++) {\n",
       "        toinsert[toinsert.length - 1].firstChild.setAttribute(script_attrs[i].name, script_attrs[i].value);\n",
       "      }\n",
       "      // store reference to server id on output_area\n",
       "      output_area._bokeh_server_id = output.metadata[EXEC_MIME_TYPE][\"server_id\"];\n",
       "    }\n",
       "  }\n",
       "\n",
       "  function register_renderer(events, OutputArea) {\n",
       "\n",
       "    function append_mime(data, metadata, element) {\n",
       "      // create a DOM node to render to\n",
       "      var toinsert = this.create_output_subarea(\n",
       "        metadata,\n",
       "        CLASS_NAME,\n",
       "        EXEC_MIME_TYPE\n",
       "      );\n",
       "      this.keyboard_manager.register_events(toinsert);\n",
       "      // Render to node\n",
       "      var props = {data: data, metadata: metadata[EXEC_MIME_TYPE]};\n",
       "      render(props, toinsert[toinsert.length - 1]);\n",
       "      element.append(toinsert);\n",
       "      return toinsert\n",
       "    }\n",
       "\n",
       "    /* Handle when an output is cleared or removed */\n",
       "    events.on('clear_output.CodeCell', handleClearOutput);\n",
       "    events.on('delete.Cell', handleClearOutput);\n",
       "\n",
       "    /* Handle when a new output is added */\n",
       "    events.on('output_added.OutputArea', handleAddOutput);\n",
       "\n",
       "    /**\n",
       "     * Register the mime type and append_mime function with output_area\n",
       "     */\n",
       "    OutputArea.prototype.register_mime_type(EXEC_MIME_TYPE, append_mime, {\n",
       "      /* Is output safe? */\n",
       "      safe: true,\n",
       "      /* Index of renderer in `output_area.display_order` */\n",
       "      index: 0\n",
       "    });\n",
       "  }\n",
       "\n",
       "  // register the mime type if in Jupyter Notebook environment and previously unregistered\n",
       "  if (root.Jupyter !== undefined) {\n",
       "    var events = require('base/js/events');\n",
       "    var OutputArea = require('notebook/js/outputarea').OutputArea;\n",
       "\n",
       "    if (OutputArea.prototype.mime_types().indexOf(EXEC_MIME_TYPE) == -1) {\n",
       "      register_renderer(events, OutputArea);\n",
       "    }\n",
       "  }\n",
       "\n",
       "  \n",
       "  if (typeof (root._bokeh_timeout) === \"undefined\" || force === true) {\n",
       "    root._bokeh_timeout = Date.now() + 5000;\n",
       "    root._bokeh_failed_load = false;\n",
       "  }\n",
       "\n",
       "  var NB_LOAD_WARNING = {'data': {'text/html':\n",
       "     \"<div style='background-color: #fdd'>\\n\"+\n",
       "     \"<p>\\n\"+\n",
       "     \"BokehJS does not appear to have successfully loaded. If loading BokehJS from CDN, this \\n\"+\n",
       "     \"may be due to a slow or bad network connection. Possible fixes:\\n\"+\n",
       "     \"</p>\\n\"+\n",
       "     \"<ul>\\n\"+\n",
       "     \"<li>re-rerun `output_notebook()` to attempt to load from CDN again, or</li>\\n\"+\n",
       "     \"<li>use INLINE resources instead, as so:</li>\\n\"+\n",
       "     \"</ul>\\n\"+\n",
       "     \"<code>\\n\"+\n",
       "     \"from bokeh.resources import INLINE\\n\"+\n",
       "     \"output_notebook(resources=INLINE)\\n\"+\n",
       "     \"</code>\\n\"+\n",
       "     \"</div>\"}};\n",
       "\n",
       "  function display_loaded() {\n",
       "    var el = document.getElementById(\"0dbd0b48-6618-4cba-9897-9f9c6295c6f6\");\n",
       "    if (el != null) {\n",
       "      el.textContent = \"BokehJS is loading...\";\n",
       "    }\n",
       "    if (root.Bokeh !== undefined) {\n",
       "      if (el != null) {\n",
       "        el.textContent = \"BokehJS \" + root.Bokeh.version + \" successfully loaded.\";\n",
       "      }\n",
       "    } else if (Date.now() < root._bokeh_timeout) {\n",
       "      setTimeout(display_loaded, 100)\n",
       "    }\n",
       "  }\n",
       "\n",
       "\n",
       "  function run_callbacks() {\n",
       "    try {\n",
       "      root._bokeh_onload_callbacks.forEach(function(callback) { callback() });\n",
       "    }\n",
       "    finally {\n",
       "      delete root._bokeh_onload_callbacks\n",
       "    }\n",
       "    console.info(\"Bokeh: all callbacks have finished\");\n",
       "  }\n",
       "\n",
       "  function load_libs(js_urls, callback) {\n",
       "    root._bokeh_onload_callbacks.push(callback);\n",
       "    if (root._bokeh_is_loading > 0) {\n",
       "      console.log(\"Bokeh: BokehJS is being loaded, scheduling callback at\", now());\n",
       "      return null;\n",
       "    }\n",
       "    if (js_urls == null || js_urls.length === 0) {\n",
       "      run_callbacks();\n",
       "      return null;\n",
       "    }\n",
       "    console.log(\"Bokeh: BokehJS not loaded, scheduling load and callback at\", now());\n",
       "    root._bokeh_is_loading = js_urls.length;\n",
       "    for (var i = 0; i < js_urls.length; i++) {\n",
       "      var url = js_urls[i];\n",
       "      var s = document.createElement('script');\n",
       "      s.src = url;\n",
       "      s.async = false;\n",
       "      s.onreadystatechange = s.onload = function() {\n",
       "        root._bokeh_is_loading--;\n",
       "        if (root._bokeh_is_loading === 0) {\n",
       "          console.log(\"Bokeh: all BokehJS libraries loaded\");\n",
       "          run_callbacks()\n",
       "        }\n",
       "      };\n",
       "      s.onerror = function() {\n",
       "        console.warn(\"failed to load library \" + url);\n",
       "      };\n",
       "      console.log(\"Bokeh: injecting script tag for BokehJS library: \", url);\n",
       "      document.getElementsByTagName(\"head\")[0].appendChild(s);\n",
       "    }\n",
       "  };var element = document.getElementById(\"0dbd0b48-6618-4cba-9897-9f9c6295c6f6\");\n",
       "  if (element == null) {\n",
       "    console.log(\"Bokeh: ERROR: autoload.js configured with elementid '0dbd0b48-6618-4cba-9897-9f9c6295c6f6' but no matching script tag was found. \")\n",
       "    return false;\n",
       "  }\n",
       "\n",
       "  var js_urls = [\"https://cdn.pydata.org/bokeh/release/bokeh-0.13.0.min.js\", \"https://cdn.pydata.org/bokeh/release/bokeh-widgets-0.13.0.min.js\", \"https://cdn.pydata.org/bokeh/release/bokeh-tables-0.13.0.min.js\", \"https://cdn.pydata.org/bokeh/release/bokeh-gl-0.13.0.min.js\"];\n",
       "\n",
       "  var inline_js = [\n",
       "    function(Bokeh) {\n",
       "      Bokeh.set_log_level(\"info\");\n",
       "    },\n",
       "    \n",
       "    function(Bokeh) {\n",
       "      \n",
       "    },\n",
       "    function(Bokeh) {\n",
       "      console.log(\"Bokeh: injecting CSS: https://cdn.pydata.org/bokeh/release/bokeh-0.13.0.min.css\");\n",
       "      Bokeh.embed.inject_css(\"https://cdn.pydata.org/bokeh/release/bokeh-0.13.0.min.css\");\n",
       "      console.log(\"Bokeh: injecting CSS: https://cdn.pydata.org/bokeh/release/bokeh-widgets-0.13.0.min.css\");\n",
       "      Bokeh.embed.inject_css(\"https://cdn.pydata.org/bokeh/release/bokeh-widgets-0.13.0.min.css\");\n",
       "      console.log(\"Bokeh: injecting CSS: https://cdn.pydata.org/bokeh/release/bokeh-tables-0.13.0.min.css\");\n",
       "      Bokeh.embed.inject_css(\"https://cdn.pydata.org/bokeh/release/bokeh-tables-0.13.0.min.css\");\n",
       "    }\n",
       "  ];\n",
       "\n",
       "  function run_inline_js() {\n",
       "    \n",
       "    if ((root.Bokeh !== undefined) || (force === true)) {\n",
       "      for (var i = 0; i < inline_js.length; i++) {\n",
       "        inline_js[i].call(root, root.Bokeh);\n",
       "      }if (force === true) {\n",
       "        display_loaded();\n",
       "      }} else if (Date.now() < root._bokeh_timeout) {\n",
       "      setTimeout(run_inline_js, 100);\n",
       "    } else if (!root._bokeh_failed_load) {\n",
       "      console.log(\"Bokeh: BokehJS failed to load within specified timeout.\");\n",
       "      root._bokeh_failed_load = true;\n",
       "    } else if (force !== true) {\n",
       "      var cell = $(document.getElementById(\"0dbd0b48-6618-4cba-9897-9f9c6295c6f6\")).parents('.cell').data().cell;\n",
       "      cell.output_area.append_execute_result(NB_LOAD_WARNING)\n",
       "    }\n",
       "\n",
       "  }\n",
       "\n",
       "  if (root._bokeh_is_loading === 0) {\n",
       "    console.log(\"Bokeh: BokehJS loaded, going straight to plotting\");\n",
       "    run_inline_js();\n",
       "  } else {\n",
       "    load_libs(js_urls, function() {\n",
       "      console.log(\"Bokeh: BokehJS plotting callback run at\", now());\n",
       "      run_inline_js();\n",
       "    });\n",
       "  }\n",
       "}(window));"
      ],
      "application/vnd.bokehjs_load.v0+json": "\n(function(root) {\n  function now() {\n    return new Date();\n  }\n\n  var force = true;\n\n  if (typeof (root._bokeh_onload_callbacks) === \"undefined\" || force === true) {\n    root._bokeh_onload_callbacks = [];\n    root._bokeh_is_loading = undefined;\n  }\n\n  \n\n  \n  if (typeof (root._bokeh_timeout) === \"undefined\" || force === true) {\n    root._bokeh_timeout = Date.now() + 5000;\n    root._bokeh_failed_load = false;\n  }\n\n  var NB_LOAD_WARNING = {'data': {'text/html':\n     \"<div style='background-color: #fdd'>\\n\"+\n     \"<p>\\n\"+\n     \"BokehJS does not appear to have successfully loaded. If loading BokehJS from CDN, this \\n\"+\n     \"may be due to a slow or bad network connection. Possible fixes:\\n\"+\n     \"</p>\\n\"+\n     \"<ul>\\n\"+\n     \"<li>re-rerun `output_notebook()` to attempt to load from CDN again, or</li>\\n\"+\n     \"<li>use INLINE resources instead, as so:</li>\\n\"+\n     \"</ul>\\n\"+\n     \"<code>\\n\"+\n     \"from bokeh.resources import INLINE\\n\"+\n     \"output_notebook(resources=INLINE)\\n\"+\n     \"</code>\\n\"+\n     \"</div>\"}};\n\n  function display_loaded() {\n    var el = document.getElementById(\"0dbd0b48-6618-4cba-9897-9f9c6295c6f6\");\n    if (el != null) {\n      el.textContent = \"BokehJS is loading...\";\n    }\n    if (root.Bokeh !== undefined) {\n      if (el != null) {\n        el.textContent = \"BokehJS \" + root.Bokeh.version + \" successfully loaded.\";\n      }\n    } else if (Date.now() < root._bokeh_timeout) {\n      setTimeout(display_loaded, 100)\n    }\n  }\n\n\n  function run_callbacks() {\n    try {\n      root._bokeh_onload_callbacks.forEach(function(callback) { callback() });\n    }\n    finally {\n      delete root._bokeh_onload_callbacks\n    }\n    console.info(\"Bokeh: all callbacks have finished\");\n  }\n\n  function load_libs(js_urls, callback) {\n    root._bokeh_onload_callbacks.push(callback);\n    if (root._bokeh_is_loading > 0) {\n      console.log(\"Bokeh: BokehJS is being loaded, scheduling callback at\", now());\n      return null;\n    }\n    if (js_urls == null || js_urls.length === 0) {\n      run_callbacks();\n      return null;\n    }\n    console.log(\"Bokeh: BokehJS not loaded, scheduling load and callback at\", now());\n    root._bokeh_is_loading = js_urls.length;\n    for (var i = 0; i < js_urls.length; i++) {\n      var url = js_urls[i];\n      var s = document.createElement('script');\n      s.src = url;\n      s.async = false;\n      s.onreadystatechange = s.onload = function() {\n        root._bokeh_is_loading--;\n        if (root._bokeh_is_loading === 0) {\n          console.log(\"Bokeh: all BokehJS libraries loaded\");\n          run_callbacks()\n        }\n      };\n      s.onerror = function() {\n        console.warn(\"failed to load library \" + url);\n      };\n      console.log(\"Bokeh: injecting script tag for BokehJS library: \", url);\n      document.getElementsByTagName(\"head\")[0].appendChild(s);\n    }\n  };var element = document.getElementById(\"0dbd0b48-6618-4cba-9897-9f9c6295c6f6\");\n  if (element == null) {\n    console.log(\"Bokeh: ERROR: autoload.js configured with elementid '0dbd0b48-6618-4cba-9897-9f9c6295c6f6' but no matching script tag was found. \")\n    return false;\n  }\n\n  var js_urls = [\"https://cdn.pydata.org/bokeh/release/bokeh-0.13.0.min.js\", \"https://cdn.pydata.org/bokeh/release/bokeh-widgets-0.13.0.min.js\", \"https://cdn.pydata.org/bokeh/release/bokeh-tables-0.13.0.min.js\", \"https://cdn.pydata.org/bokeh/release/bokeh-gl-0.13.0.min.js\"];\n\n  var inline_js = [\n    function(Bokeh) {\n      Bokeh.set_log_level(\"info\");\n    },\n    \n    function(Bokeh) {\n      \n    },\n    function(Bokeh) {\n      console.log(\"Bokeh: injecting CSS: https://cdn.pydata.org/bokeh/release/bokeh-0.13.0.min.css\");\n      Bokeh.embed.inject_css(\"https://cdn.pydata.org/bokeh/release/bokeh-0.13.0.min.css\");\n      console.log(\"Bokeh: injecting CSS: https://cdn.pydata.org/bokeh/release/bokeh-widgets-0.13.0.min.css\");\n      Bokeh.embed.inject_css(\"https://cdn.pydata.org/bokeh/release/bokeh-widgets-0.13.0.min.css\");\n      console.log(\"Bokeh: injecting CSS: https://cdn.pydata.org/bokeh/release/bokeh-tables-0.13.0.min.css\");\n      Bokeh.embed.inject_css(\"https://cdn.pydata.org/bokeh/release/bokeh-tables-0.13.0.min.css\");\n    }\n  ];\n\n  function run_inline_js() {\n    \n    if ((root.Bokeh !== undefined) || (force === true)) {\n      for (var i = 0; i < inline_js.length; i++) {\n        inline_js[i].call(root, root.Bokeh);\n      }if (force === true) {\n        display_loaded();\n      }} else if (Date.now() < root._bokeh_timeout) {\n      setTimeout(run_inline_js, 100);\n    } else if (!root._bokeh_failed_load) {\n      console.log(\"Bokeh: BokehJS failed to load within specified timeout.\");\n      root._bokeh_failed_load = true;\n    } else if (force !== true) {\n      var cell = $(document.getElementById(\"0dbd0b48-6618-4cba-9897-9f9c6295c6f6\")).parents('.cell').data().cell;\n      cell.output_area.append_execute_result(NB_LOAD_WARNING)\n    }\n\n  }\n\n  if (root._bokeh_is_loading === 0) {\n    console.log(\"Bokeh: BokehJS loaded, going straight to plotting\");\n    run_inline_js();\n  } else {\n    load_libs(js_urls, function() {\n      console.log(\"Bokeh: BokehJS plotting callback run at\", now());\n      run_inline_js();\n    });\n  }\n}(window));"
     },
     "metadata": {},
     "output_type": "display_data"
    }
   ],
   "source": [
    "import numpy as np\n",
    "\n",
    "from bokeh.io import output_notebook, show\n",
    "from bokeh.plotting import figure\n",
    "\n",
    "output_notebook()"
   ]
  },
  {
   "cell_type": "markdown",
   "metadata": {},
   "source": [
    "The command `output_notebook()` will set Bokeh so that the figure is displayed inline. \n",
    "If you want your figure to be displayed as an html file, instead of `output_notebook()`, you need to import the `output_file()` function. For example, to save the figure as `output.html`, use instead\n",
    "```\n",
    "from bokeh.io import output_file\n",
    "output_file('output.html')\n",
    "```\n",
    "It is also possible to run Bokeh from the command line, but we will not be discussing this method since it is much more convenient to use Jupyter notebook. [You can read more about it here](https://bokeh.pydata.org/en/latest/docs/user_guide/concepts.html#output-methods).\n",
    "\n",
    "#### Aside: \n",
    "\n",
    "Bokeh is composed of two parts: Bokeh Python Library and BokehJS. We use Bokeh Python Library to produce a JSON data that represent a figure, which is later rendered into html by BokehJS. Bokeh Python Library itself has two main components: bokeh.plotting and bokeh.models. The former is the main tool that we are going to use, while the latter is a low-level interface which you can use to further customise your visualisation."
   ]
  },
  {
   "cell_type": "markdown",
   "metadata": {},
   "source": [
    "## Basic line plot\n",
    "\n",
    "Main reference: https://bokeh.pydata.org/en/latest/docs/reference/plotting.html\n",
    "\n",
    "To draw something using Bokeh, we must first create a figure. Once a figure is created, we are free to add as many plots as we like on it, even of different kinds. We start with the basic line plot:"
   ]
  },
  {
   "cell_type": "code",
   "execution_count": 2,
   "metadata": {
    "scrolled": false
   },
   "outputs": [
    {
     "data": {
      "text/html": [
       "\n",
       "<div class=\"bk-root\">\n",
       "    <div class=\"bk-plotdiv\" id=\"f7d11ab0-9b8e-4a68-856c-b2593ecc2d55\"></div>\n",
       "</div>"
      ]
     },
     "metadata": {},
     "output_type": "display_data"
    },
    {
     "data": {
      "application/javascript": [
       "(function(root) {\n",
       "  function embed_document(root) {\n",
       "    \n",
       "  var docs_json = {\"c3969cc4-5adf-4f9a-b10f-8d3377b78e81\":{\"roots\":{\"references\":[{\"attributes\":{},\"id\":\"229b3a0b-b38c-42ac-ba01-bf84f92bb471\",\"type\":\"BasicTicker\"},{\"attributes\":{\"formatter\":{\"id\":\"276cc6f5-02c5-4330-991c-47700539b2fd\",\"type\":\"BasicTickFormatter\"},\"plot\":{\"id\":\"42d52d62-8cf8-4f6f-bc7b-4c21542e59cf\",\"subtype\":\"Figure\",\"type\":\"Plot\"},\"ticker\":{\"id\":\"8e3b3d59-f939-4c83-9c60-a66a56890c37\",\"type\":\"BasicTicker\"}},\"id\":\"b94315af-f40a-46c6-b9f5-5c2dc7dffbe3\",\"type\":\"LinearAxis\"},{\"attributes\":{\"line_alpha\":0.1,\"line_color\":\"#1f77b4\",\"x\":{\"field\":\"x\"},\"y\":{\"field\":\"y\"}},\"id\":\"a47baa27-1c14-4096-ab77-f0b3d1594441\",\"type\":\"Line\"},{\"attributes\":{},\"id\":\"8e3b3d59-f939-4c83-9c60-a66a56890c37\",\"type\":\"BasicTicker\"},{\"attributes\":{\"dimension\":1,\"plot\":{\"id\":\"42d52d62-8cf8-4f6f-bc7b-4c21542e59cf\",\"subtype\":\"Figure\",\"type\":\"Plot\"},\"ticker\":{\"id\":\"229b3a0b-b38c-42ac-ba01-bf84f92bb471\",\"type\":\"BasicTicker\"}},\"id\":\"1c7d2ef8-62b2-4795-9668-b7b41d330d23\",\"type\":\"Grid\"},{\"attributes\":{\"plot\":{\"id\":\"42d52d62-8cf8-4f6f-bc7b-4c21542e59cf\",\"subtype\":\"Figure\",\"type\":\"Plot\"},\"ticker\":{\"id\":\"8e3b3d59-f939-4c83-9c60-a66a56890c37\",\"type\":\"BasicTicker\"}},\"id\":\"b4c0e7f4-5651-4e24-bd44-09d1015765ca\",\"type\":\"Grid\"},{\"attributes\":{\"formatter\":{\"id\":\"f599b98e-0373-4220-aea1-0b98c7d8f9e2\",\"type\":\"BasicTickFormatter\"},\"plot\":{\"id\":\"42d52d62-8cf8-4f6f-bc7b-4c21542e59cf\",\"subtype\":\"Figure\",\"type\":\"Plot\"},\"ticker\":{\"id\":\"229b3a0b-b38c-42ac-ba01-bf84f92bb471\",\"type\":\"BasicTicker\"}},\"id\":\"e1eb3243-7eb8-488a-a28e-f1aad7707adf\",\"type\":\"LinearAxis\"},{\"attributes\":{\"bottom_units\":\"screen\",\"fill_alpha\":{\"value\":0.5},\"fill_color\":{\"value\":\"lightgrey\"},\"left_units\":\"screen\",\"level\":\"overlay\",\"line_alpha\":{\"value\":1.0},\"line_color\":{\"value\":\"black\"},\"line_dash\":[4,4],\"line_width\":{\"value\":2},\"plot\":null,\"render_mode\":\"css\",\"right_units\":\"screen\",\"top_units\":\"screen\"},\"id\":\"ce8e67e5-f556-40fa-a6fb-0d2bbd0fed9f\",\"type\":\"BoxAnnotation\"},{\"attributes\":{},\"id\":\"276cc6f5-02c5-4330-991c-47700539b2fd\",\"type\":\"BasicTickFormatter\"},{\"attributes\":{\"data_source\":{\"id\":\"de8f5358-5065-4516-9ca9-7789c4e6f127\",\"type\":\"ColumnDataSource\"},\"glyph\":{\"id\":\"92a70ddc-9566-4af2-9ae0-c876b1cf120e\",\"type\":\"Line\"},\"hover_glyph\":null,\"muted_glyph\":null,\"nonselection_glyph\":{\"id\":\"a47baa27-1c14-4096-ab77-f0b3d1594441\",\"type\":\"Line\"},\"selection_glyph\":null,\"view\":{\"id\":\"45e68749-7aab-4818-807b-d10354778943\",\"type\":\"CDSView\"}},\"id\":\"b2c875db-e960-4f9c-92a9-27b1f04003f3\",\"type\":\"GlyphRenderer\"},{\"attributes\":{\"line_color\":\"cyan\",\"x\":{\"field\":\"x\"},\"y\":{\"field\":\"y\"}},\"id\":\"92a70ddc-9566-4af2-9ae0-c876b1cf120e\",\"type\":\"Line\"},{\"attributes\":{},\"id\":\"d1e5cf4a-700b-412d-8ea7-7010359f00f7\",\"type\":\"PanTool\"},{\"attributes\":{},\"id\":\"6d59f828-536a-4e81-87b2-357d8c036043\",\"type\":\"WheelZoomTool\"},{\"attributes\":{\"overlay\":{\"id\":\"ce8e67e5-f556-40fa-a6fb-0d2bbd0fed9f\",\"type\":\"BoxAnnotation\"}},\"id\":\"e6ef0d77-f08c-41aa-afc3-a7a55ea8ec60\",\"type\":\"BoxZoomTool\"},{\"attributes\":{\"line_alpha\":0.1,\"line_color\":\"#1f77b4\",\"x\":{\"field\":\"x\"},\"y\":{\"field\":\"y\"}},\"id\":\"c4628807-17aa-4e79-b98b-6cd56d2d6829\",\"type\":\"Line\"},{\"attributes\":{},\"id\":\"e9b117a2-7e50-4357-b0f9-9cfea96cfa5c\",\"type\":\"SaveTool\"},{\"attributes\":{},\"id\":\"9fcafe65-25cc-406c-bdcb-cbdb2f287f4a\",\"type\":\"ResetTool\"},{\"attributes\":{\"source\":{\"id\":\"c2cb8080-f0b7-421c-8016-ce80b6beea6c\",\"type\":\"ColumnDataSource\"}},\"id\":\"fb7e8ad7-4131-4068-a5f6-208321dbc4c7\",\"type\":\"CDSView\"},{\"attributes\":{},\"id\":\"2d128922-1312-49b1-bef9-3e4bb4b6d781\",\"type\":\"HelpTool\"},{\"attributes\":{\"source\":{\"id\":\"de8f5358-5065-4516-9ca9-7789c4e6f127\",\"type\":\"ColumnDataSource\"}},\"id\":\"45e68749-7aab-4818-807b-d10354778943\",\"type\":\"CDSView\"},{\"attributes\":{\"line_color\":\"green\",\"x\":{\"field\":\"x\"},\"y\":{\"field\":\"y\"}},\"id\":\"8cb0f9c8-05b5-4837-92fc-1930c56b9428\",\"type\":\"Line\"},{\"attributes\":{\"line_color\":\"orange\",\"x\":{\"field\":\"x\"},\"y\":{\"field\":\"y\"}},\"id\":\"8c28f165-7a9f-42e6-98bc-e7f074d1fdfe\",\"type\":\"Line\"},{\"attributes\":{},\"id\":\"f599b98e-0373-4220-aea1-0b98c7d8f9e2\",\"type\":\"BasicTickFormatter\"},{\"attributes\":{\"line_alpha\":0.1,\"line_color\":\"#1f77b4\",\"x\":{\"field\":\"x\"},\"y\":{\"field\":\"y\"}},\"id\":\"f227f268-bb3b-4990-9016-51be9a74cd62\",\"type\":\"Line\"},{\"attributes\":{\"callback\":null,\"data\":{\"x\":{\"__ndarray__\":\"mpmZmZmZ6T/sUbgehevpPz4K16NwPeo/kML1KFyP6j/iehSuR+HqPzQzMzMzM+s/hutRuB6F6z/Yo3A9CtfrPypcj8L1KOw/fBSuR+F67D/OzMzMzMzsPyCF61G4Hu0/cj0K16Nw7T/E9Shcj8LtPxauR+F6FO4/aGZmZmZm7j+6HoXrUbjuPwzXo3A9Cu8/Xo/C9Shc7z+wR+F6FK7vPwEAAAAAAPA/KlyPwvUo8D9TuB6F61HwP3wUrkfhevA/pXA9Ctej8D/OzMzMzMzwP/coXI/C9fA/IIXrUbge8T9J4XoUrkfxP3I9CtejcPE/m5mZmZmZ8T/E9Shcj8LxP+1RuB6F6/E/Fq5H4XoU8j8/CtejcD3yP2hmZmZmZvI/kcL1KFyP8j+6HoXrUbjyP+N6FK5H4fI/DNejcD0K8z8=\",\"dtype\":\"float64\",\"shape\":[40]},\"y\":{\"__ndarray__\":\"mpmZmZmZ6T/sUbgehevpPz4K16NwPeo/kML1KFyP6j/iehSuR+HqPzQzMzMzM+s/hutRuB6F6z/Yo3A9CtfrPypcj8L1KOw/fBSuR+F67D/OzMzMzMzsPyCF61G4Hu0/cj0K16Nw7T/E9Shcj8LtPxauR+F6FO4/aGZmZmZm7j+6HoXrUbjuPwzXo3A9Cu8/Xo/C9Shc7z+wR+F6FK7vPwEAAAAAAPA/KlyPwvUo8D9TuB6F61HwP3wUrkfhevA/pXA9Ctej8D/OzMzMzMzwP/coXI/C9fA/IIXrUbge8T9J4XoUrkfxP3I9CtejcPE/m5mZmZmZ8T/E9Shcj8LxP+1RuB6F6/E/Fq5H4XoU8j8/CtejcD3yP2hmZmZmZvI/kcL1KFyP8j+6HoXrUbjyP+N6FK5H4fI/DNejcD0K8z8=\",\"dtype\":\"float64\",\"shape\":[40]}},\"selected\":{\"id\":\"cafb3543-5ce6-4d47-8464-61607d90de76\",\"type\":\"Selection\"},\"selection_policy\":{\"id\":\"09d38092-d1e8-4d8a-80ef-53bef0b158c4\",\"type\":\"UnionRenderers\"}},\"id\":\"c2cb8080-f0b7-421c-8016-ce80b6beea6c\",\"type\":\"ColumnDataSource\"},{\"attributes\":{\"source\":{\"id\":\"3c4c75af-d092-46be-869d-816985ce73c2\",\"type\":\"ColumnDataSource\"}},\"id\":\"0cc6c293-d4f3-4919-9145-1b6c5cf6d939\",\"type\":\"CDSView\"},{\"attributes\":{\"data_source\":{\"id\":\"3c4c75af-d092-46be-869d-816985ce73c2\",\"type\":\"ColumnDataSource\"},\"glyph\":{\"id\":\"8c28f165-7a9f-42e6-98bc-e7f074d1fdfe\",\"type\":\"Line\"},\"hover_glyph\":null,\"muted_glyph\":null,\"nonselection_glyph\":{\"id\":\"f227f268-bb3b-4990-9016-51be9a74cd62\",\"type\":\"Line\"},\"selection_glyph\":null,\"view\":{\"id\":\"0cc6c293-d4f3-4919-9145-1b6c5cf6d939\",\"type\":\"CDSView\"}},\"id\":\"edb9dc5b-08ca-4748-a148-92131e8defa9\",\"type\":\"GlyphRenderer\"},{\"attributes\":{\"below\":[{\"id\":\"b94315af-f40a-46c6-b9f5-5c2dc7dffbe3\",\"type\":\"LinearAxis\"}],\"left\":[{\"id\":\"e1eb3243-7eb8-488a-a28e-f1aad7707adf\",\"type\":\"LinearAxis\"}],\"plot_height\":300,\"plot_width\":500,\"renderers\":[{\"id\":\"b94315af-f40a-46c6-b9f5-5c2dc7dffbe3\",\"type\":\"LinearAxis\"},{\"id\":\"b4c0e7f4-5651-4e24-bd44-09d1015765ca\",\"type\":\"Grid\"},{\"id\":\"e1eb3243-7eb8-488a-a28e-f1aad7707adf\",\"type\":\"LinearAxis\"},{\"id\":\"1c7d2ef8-62b2-4795-9668-b7b41d330d23\",\"type\":\"Grid\"},{\"id\":\"ce8e67e5-f556-40fa-a6fb-0d2bbd0fed9f\",\"type\":\"BoxAnnotation\"},{\"id\":\"634ae618-8f42-4105-84da-c6ec0f6d8fce\",\"type\":\"GlyphRenderer\"},{\"id\":\"b2c875db-e960-4f9c-92a9-27b1f04003f3\",\"type\":\"GlyphRenderer\"},{\"id\":\"edb9dc5b-08ca-4748-a148-92131e8defa9\",\"type\":\"GlyphRenderer\"}],\"title\":{\"id\":\"4e2c410f-98e9-47e5-9bdb-8a08b87b7edd\",\"type\":\"Title\"},\"toolbar\":{\"id\":\"8a3fd8ed-54ae-4b73-a930-a2feca2e06d3\",\"type\":\"Toolbar\"},\"x_range\":{\"id\":\"4df1dabe-c617-41e2-ba91-fa04f2af65fc\",\"type\":\"DataRange1d\"},\"x_scale\":{\"id\":\"20772e76-a147-48df-9489-a83494032bcb\",\"type\":\"LinearScale\"},\"y_range\":{\"id\":\"dbe53228-50de-48fd-a4c5-e7a57f00a839\",\"type\":\"DataRange1d\"},\"y_scale\":{\"id\":\"54477fa2-5b2b-4355-89df-987f88e99e34\",\"type\":\"LinearScale\"}},\"id\":\"42d52d62-8cf8-4f6f-bc7b-4c21542e59cf\",\"subtype\":\"Figure\",\"type\":\"Plot\"},{\"attributes\":{\"data_source\":{\"id\":\"c2cb8080-f0b7-421c-8016-ce80b6beea6c\",\"type\":\"ColumnDataSource\"},\"glyph\":{\"id\":\"8cb0f9c8-05b5-4837-92fc-1930c56b9428\",\"type\":\"Line\"},\"hover_glyph\":null,\"muted_glyph\":null,\"nonselection_glyph\":{\"id\":\"c4628807-17aa-4e79-b98b-6cd56d2d6829\",\"type\":\"Line\"},\"selection_glyph\":null,\"view\":{\"id\":\"fb7e8ad7-4131-4068-a5f6-208321dbc4c7\",\"type\":\"CDSView\"}},\"id\":\"634ae618-8f42-4105-84da-c6ec0f6d8fce\",\"type\":\"GlyphRenderer\"},{\"attributes\":{\"plot\":null,\"text\":\"Basic line plot\"},\"id\":\"4e2c410f-98e9-47e5-9bdb-8a08b87b7edd\",\"type\":\"Title\"},{\"attributes\":{},\"id\":\"cafb3543-5ce6-4d47-8464-61607d90de76\",\"type\":\"Selection\"},{\"attributes\":{\"callback\":null},\"id\":\"4df1dabe-c617-41e2-ba91-fa04f2af65fc\",\"type\":\"DataRange1d\"},{\"attributes\":{\"callback\":null,\"data\":{\"x\":{\"__ndarray__\":\"mpmZmZmZ6T/sUbgehevpPz4K16NwPeo/kML1KFyP6j/iehSuR+HqPzQzMzMzM+s/hutRuB6F6z/Yo3A9CtfrPypcj8L1KOw/fBSuR+F67D/OzMzMzMzsPyCF61G4Hu0/cj0K16Nw7T/E9Shcj8LtPxauR+F6FO4/aGZmZmZm7j+6HoXrUbjuPwzXo3A9Cu8/Xo/C9Shc7z+wR+F6FK7vPwEAAAAAAPA/KlyPwvUo8D9TuB6F61HwP3wUrkfhevA/pXA9Ctej8D/OzMzMzMzwP/coXI/C9fA/IIXrUbge8T9J4XoUrkfxP3I9CtejcPE/m5mZmZmZ8T/E9Shcj8LxP+1RuB6F6/E/Fq5H4XoU8j8/CtejcD3yP2hmZmZmZvI/kcL1KFyP8j+6HoXrUbjyP+N6FK5H4fI/DNejcD0K8z8=\",\"dtype\":\"float64\",\"shape\":[40]},\"y\":{\"__ndarray__\":\"/anx0k1i4D/4HFiOkAHhPyDzAYHOpOE//eQoQBRM4j8WqwZhbvfiP/X91HjppuM/IpbNHJJa5D8mLCridBLlP4h4JF6ezuU/0TP2JRuP5j+KFtnO91PnPzvZBu5AHeg/bTS5GAPr6D+o4CnkSr3pP3SWkuUklOo/Wg4tsp1v6z/jADPfwU/sP5Ym3gGeNO0//Tdorz4e7j+f7Qp9sAzvPwMAAAAAAPA/3ZPA5hx88D+hDmQ9tfrwP5RMh07Pe/E/+SnHZHH/8T8Wg8DKoYXyPy80EMtmDvM/hxlTsMaZ8z9jDybFxyf0PwfyJVRwuPQ/t53vp8ZL9T+47h8L0eH1P07BU8iVevY/vPEnKhsW9z9IXDl7Z7T3PzXdJAaBVfg/yFCHFW75+D9Fk/3zNKD5P/CAJOzbSfo/DfaYSGn2+j8=\",\"dtype\":\"float64\",\"shape\":[40]}},\"selected\":{\"id\":\"529cf8ab-c5af-457c-ac75-ebe6117780d0\",\"type\":\"Selection\"},\"selection_policy\":{\"id\":\"b6164223-9ed3-46c0-9094-441099c23c9b\",\"type\":\"UnionRenderers\"}},\"id\":\"3c4c75af-d092-46be-869d-816985ce73c2\",\"type\":\"ColumnDataSource\"},{\"attributes\":{},\"id\":\"b6164223-9ed3-46c0-9094-441099c23c9b\",\"type\":\"UnionRenderers\"},{\"attributes\":{\"active_drag\":\"auto\",\"active_inspect\":\"auto\",\"active_scroll\":\"auto\",\"active_tap\":\"auto\",\"tools\":[{\"id\":\"d1e5cf4a-700b-412d-8ea7-7010359f00f7\",\"type\":\"PanTool\"},{\"id\":\"6d59f828-536a-4e81-87b2-357d8c036043\",\"type\":\"WheelZoomTool\"},{\"id\":\"e6ef0d77-f08c-41aa-afc3-a7a55ea8ec60\",\"type\":\"BoxZoomTool\"},{\"id\":\"e9b117a2-7e50-4357-b0f9-9cfea96cfa5c\",\"type\":\"SaveTool\"},{\"id\":\"9fcafe65-25cc-406c-bdcb-cbdb2f287f4a\",\"type\":\"ResetTool\"},{\"id\":\"2d128922-1312-49b1-bef9-3e4bb4b6d781\",\"type\":\"HelpTool\"}]},\"id\":\"8a3fd8ed-54ae-4b73-a930-a2feca2e06d3\",\"type\":\"Toolbar\"},{\"attributes\":{},\"id\":\"09d38092-d1e8-4d8a-80ef-53bef0b158c4\",\"type\":\"UnionRenderers\"},{\"attributes\":{\"callback\":null,\"data\":{\"x\":{\"__ndarray__\":\"mpmZmZmZ6T/sUbgehevpPz4K16NwPeo/kML1KFyP6j/iehSuR+HqPzQzMzMzM+s/hutRuB6F6z/Yo3A9CtfrPypcj8L1KOw/fBSuR+F67D/OzMzMzMzsPyCF61G4Hu0/cj0K16Nw7T/E9Shcj8LtPxauR+F6FO4/aGZmZmZm7j+6HoXrUbjuPwzXo3A9Cu8/Xo/C9Shc7z+wR+F6FK7vPwEAAAAAAPA/KlyPwvUo8D9TuB6F61HwP3wUrkfhevA/pXA9Ctej8D/OzMzMzMzwP/coXI/C9fA/IIXrUbge8T9J4XoUrkfxP3I9CtejcPE/m5mZmZmZ8T/E9Shcj8LxP+1RuB6F6/E/Fq5H4XoU8j8/CtejcD3yP2hmZmZmZvI/kcL1KFyP8j+6HoXrUbjyP+N6FK5H4fI/DNejcD0K8z8=\",\"dtype\":\"float64\",\"shape\":[40]},\"y\":{\"__ndarray__\":\"fBSuR+F65D+u+lxtxf7kP6SSOgFNhOU/XtxGA3gL5j/d14FzRpTmPyCF61G4Huc/J+SDns2q5z/z9EpZhjjoP4K3QILix+g/1itlGeJY6T/uUbgehevpP8opOpLLf+o/arPqc7UV6z/P7snDQq3rP/fb14FzRuw/5HoUrkfh7D+Vy39Iv33tPwvOGVHaG+4/RILix5i77j9C6Nms+lzvPwIAAAAAAPA/xWSqYFRS8D9qImx4eqXwP/I4RUdy+fA/W6g1zTtO8T+mcD0K16PxP9SRXP5D+vE/5AuTqYJR8j/V3uALk6nyP6kKRiV1AvM/X4/C9Shc8z/3bFZ9rrbzP3GjAbwFEvQ/zjLEsS5u9D8MG55eKcv0Py1cj8L1KPU/L/aX3ZOH9T8U6bevA+f1P9s07zhFR/Y/hNk9eVio9j8=\",\"dtype\":\"float64\",\"shape\":[40]}},\"selected\":{\"id\":\"db1ae0e1-7ba5-4551-8502-46c284a65359\",\"type\":\"Selection\"},\"selection_policy\":{\"id\":\"eede2223-a355-498f-a840-d4c786fcb943\",\"type\":\"UnionRenderers\"}},\"id\":\"de8f5358-5065-4516-9ca9-7789c4e6f127\",\"type\":\"ColumnDataSource\"},{\"attributes\":{},\"id\":\"db1ae0e1-7ba5-4551-8502-46c284a65359\",\"type\":\"Selection\"},{\"attributes\":{},\"id\":\"20772e76-a147-48df-9489-a83494032bcb\",\"type\":\"LinearScale\"},{\"attributes\":{},\"id\":\"529cf8ab-c5af-457c-ac75-ebe6117780d0\",\"type\":\"Selection\"},{\"attributes\":{\"callback\":null},\"id\":\"dbe53228-50de-48fd-a4c5-e7a57f00a839\",\"type\":\"DataRange1d\"},{\"attributes\":{},\"id\":\"eede2223-a355-498f-a840-d4c786fcb943\",\"type\":\"UnionRenderers\"},{\"attributes\":{},\"id\":\"54477fa2-5b2b-4355-89df-987f88e99e34\",\"type\":\"LinearScale\"}],\"root_ids\":[\"42d52d62-8cf8-4f6f-bc7b-4c21542e59cf\"]},\"title\":\"Bokeh Application\",\"version\":\"0.12.16\"}};\n",
       "  var render_items = [{\"docid\":\"c3969cc4-5adf-4f9a-b10f-8d3377b78e81\",\"elementid\":\"f7d11ab0-9b8e-4a68-856c-b2593ecc2d55\",\"modelid\":\"42d52d62-8cf8-4f6f-bc7b-4c21542e59cf\"}];\n",
       "  root.Bokeh.embed.embed_items_notebook(docs_json, render_items);\n",
       "\n",
       "  }\n",
       "  if (root.Bokeh !== undefined) {\n",
       "    embed_document(root);\n",
       "  } else {\n",
       "    var attempts = 0;\n",
       "    var timer = setInterval(function(root) {\n",
       "      if (root.Bokeh !== undefined) {\n",
       "        embed_document(root);\n",
       "        clearInterval(timer);\n",
       "      }\n",
       "      attempts++;\n",
       "      if (attempts > 100) {\n",
       "        console.log(\"Bokeh: ERROR: Unable to run BokehJS code because BokehJS library is missing\")\n",
       "        clearInterval(timer);\n",
       "      }\n",
       "    }, 10, root)\n",
       "  }\n",
       "})(window);"
      ],
      "application/vnd.bokehjs_exec.v0+json": ""
     },
     "metadata": {
      "application/vnd.bokehjs_exec.v0+json": {
       "id": "42d52d62-8cf8-4f6f-bc7b-4c21542e59cf"
      }
     },
     "output_type": "display_data"
    }
   ],
   "source": [
    "x = np.arange(0.8,1.2,0.01)\n",
    "def square(x):\n",
    "    return x**2\n",
    "def cube(x):\n",
    "    return x**3\n",
    "\n",
    "line_plot = figure(title=\"Basic line plot\",plot_height=300, plot_width=500)\n",
    "line_plot.line(x,x,line_color='green')\n",
    "line_plot.line(x,square(x),line_color='cyan')\n",
    "line_plot.line(x,cube(x),line_color='orange')\n",
    "show(line_plot)"
   ]
  },
  {
   "cell_type": "markdown",
   "metadata": {},
   "source": [
    "Bokeh functions can take a list of keyword arguments (kwargs), as you have seen above. Here is the more commonly used ones. The values inside the square bracket is either the type (e.g. Int or Float) or an array of possible String values. \n",
    "```\n",
    "line_alpha=[Float between 0.0 and 1.0]\n",
    "line_color=[Color]\n",
    "line_width=[Float]\n",
    "line_cap=['butt','round','square']\n",
    "line_dash=['solid','dashed','dotted','dotdash','dashdot']\n",
    "```\n",
    "\n",
    "See also [`multi_line()`](https://bokeh.pydata.org/en/latest/docs/reference/plotting.html#bokeh.plotting.figure.Figure.multi_line) for drawing multiple line plots at once, which can be convenient, but it is also good to be able to customise each line separately (e.g. different interactivity). "
   ]
  },
  {
   "cell_type": "markdown",
   "metadata": {},
   "source": [
    "## Basic circle plot\n",
    "\n",
    "Main reference: https://bokeh.pydata.org/en/latest/docs/reference/plotting.html"
   ]
  },
  {
   "cell_type": "code",
   "execution_count": 3,
   "metadata": {},
   "outputs": [
    {
     "data": {
      "text/html": [
       "\n",
       "<div class=\"bk-root\">\n",
       "    <div class=\"bk-plotdiv\" id=\"7083f831-e362-41c4-9cbb-d4fc69440c6a\"></div>\n",
       "</div>"
      ]
     },
     "metadata": {},
     "output_type": "display_data"
    },
    {
     "data": {
      "application/javascript": [
       "(function(root) {\n",
       "  function embed_document(root) {\n",
       "    \n",
       "  var docs_json = {\"d48a1eb6-710d-4b6e-8f42-d4aff1305545\":{\"roots\":{\"references\":[{\"attributes\":{\"dimension\":1,\"plot\":{\"id\":\"f747b6c3-c2a0-4694-9595-6ec04f1671e5\",\"subtype\":\"Figure\",\"type\":\"Plot\"},\"ticker\":{\"id\":\"3c9a7735-3fd4-491a-b4ec-43bdc060aeb7\",\"type\":\"BasicTicker\"}},\"id\":\"fbb161f5-51ac-4300-ab17-f6c5210edeeb\",\"type\":\"Grid\"},{\"attributes\":{},\"id\":\"d619e772-36c8-4aea-8749-6414751295f4\",\"type\":\"HelpTool\"},{\"attributes\":{},\"id\":\"3c9a7735-3fd4-491a-b4ec-43bdc060aeb7\",\"type\":\"BasicTicker\"},{\"attributes\":{},\"id\":\"8f2af420-d28f-4cbf-a5c2-5d1d8c516f5e\",\"type\":\"ResetTool\"},{\"attributes\":{},\"id\":\"ccb5457f-839a-4a85-a392-84725d065c3c\",\"type\":\"WheelZoomTool\"},{\"attributes\":{},\"id\":\"0758d4a3-1d42-428e-a86a-fdffb87058f6\",\"type\":\"LinearScale\"},{\"attributes\":{\"below\":[{\"id\":\"fce4f8b4-fe6e-4e22-bc54-83307aabafb1\",\"type\":\"LinearAxis\"}],\"left\":[{\"id\":\"94791a27-8318-4c9c-9287-0b0ee448e089\",\"type\":\"LinearAxis\"}],\"plot_height\":300,\"plot_width\":500,\"renderers\":[{\"id\":\"fce4f8b4-fe6e-4e22-bc54-83307aabafb1\",\"type\":\"LinearAxis\"},{\"id\":\"3115f2cc-135d-4bb6-b498-89dd1ccb772f\",\"type\":\"Grid\"},{\"id\":\"94791a27-8318-4c9c-9287-0b0ee448e089\",\"type\":\"LinearAxis\"},{\"id\":\"fbb161f5-51ac-4300-ab17-f6c5210edeeb\",\"type\":\"Grid\"},{\"id\":\"d177642e-2439-4fad-a84c-ec0c5c672ee6\",\"type\":\"BoxAnnotation\"},{\"id\":\"e973ec36-2a89-49f5-8757-f21670da54d6\",\"type\":\"GlyphRenderer\"}],\"title\":{\"id\":\"7ea6dc5a-6a46-4a14-ad5c-286a2a52456e\",\"type\":\"Title\"},\"toolbar\":{\"id\":\"bfdb0f2a-6ee4-45a8-a4e8-20b5b604355d\",\"type\":\"Toolbar\"},\"x_range\":{\"id\":\"47972ec7-9a35-41b4-9738-0977f591a176\",\"type\":\"DataRange1d\"},\"x_scale\":{\"id\":\"0758d4a3-1d42-428e-a86a-fdffb87058f6\",\"type\":\"LinearScale\"},\"y_range\":{\"id\":\"eacd82f4-f44c-4121-a4df-0984a7d0bac0\",\"type\":\"DataRange1d\"},\"y_scale\":{\"id\":\"277130e0-7b14-496e-9a62-34c782696e36\",\"type\":\"LinearScale\"}},\"id\":\"f747b6c3-c2a0-4694-9595-6ec04f1671e5\",\"subtype\":\"Figure\",\"type\":\"Plot\"},{\"attributes\":{},\"id\":\"d48081ac-5f39-4f51-9c35-e094e7f5a8be\",\"type\":\"BasicTickFormatter\"},{\"attributes\":{\"fill_alpha\":{\"value\":0.1},\"fill_color\":{\"value\":\"#1f77b4\"},\"line_alpha\":{\"value\":0.1},\"line_color\":{\"value\":\"#1f77b4\"},\"size\":{\"field\":\"size\",\"units\":\"screen\"},\"x\":{\"field\":\"x\"},\"y\":{\"field\":\"y\"}},\"id\":\"c5989332-af2e-4143-8b54-8d2e56672f6f\",\"type\":\"Circle\"},{\"attributes\":{\"formatter\":{\"id\":\"d48081ac-5f39-4f51-9c35-e094e7f5a8be\",\"type\":\"BasicTickFormatter\"},\"plot\":{\"id\":\"f747b6c3-c2a0-4694-9595-6ec04f1671e5\",\"subtype\":\"Figure\",\"type\":\"Plot\"},\"ticker\":{\"id\":\"3c9a7735-3fd4-491a-b4ec-43bdc060aeb7\",\"type\":\"BasicTicker\"}},\"id\":\"94791a27-8318-4c9c-9287-0b0ee448e089\",\"type\":\"LinearAxis\"},{\"attributes\":{},\"id\":\"c049496a-c192-43bb-84f5-13b53cd354b9\",\"type\":\"UnionRenderers\"},{\"attributes\":{},\"id\":\"4a70d5a7-7808-498a-947a-5dd3ba73ce99\",\"type\":\"BasicTickFormatter\"},{\"attributes\":{\"fill_alpha\":{\"value\":0.3},\"fill_color\":{\"value\":\"orange\"},\"line_color\":{\"value\":\"orange\"},\"size\":{\"field\":\"size\",\"units\":\"screen\"},\"x\":{\"field\":\"x\"},\"y\":{\"field\":\"y\"}},\"id\":\"8ce4d8d1-e527-498b-a229-98d48e0b0728\",\"type\":\"Circle\"},{\"attributes\":{\"plot\":null,\"text\":\"Basic circle plot\"},\"id\":\"7ea6dc5a-6a46-4a14-ad5c-286a2a52456e\",\"type\":\"Title\"},{\"attributes\":{},\"id\":\"d99a6685-d7a6-4a9c-88ab-1c0bd3a90121\",\"type\":\"Selection\"},{\"attributes\":{\"data_source\":{\"id\":\"792cd988-650e-4de1-add0-e276e9f26982\",\"type\":\"ColumnDataSource\"},\"glyph\":{\"id\":\"8ce4d8d1-e527-498b-a229-98d48e0b0728\",\"type\":\"Circle\"},\"hover_glyph\":null,\"muted_glyph\":null,\"nonselection_glyph\":{\"id\":\"c5989332-af2e-4143-8b54-8d2e56672f6f\",\"type\":\"Circle\"},\"selection_glyph\":null,\"view\":{\"id\":\"5e870d8d-a5fa-406a-8232-b65fb629221b\",\"type\":\"CDSView\"}},\"id\":\"e973ec36-2a89-49f5-8757-f21670da54d6\",\"type\":\"GlyphRenderer\"},{\"attributes\":{\"active_drag\":\"auto\",\"active_inspect\":\"auto\",\"active_scroll\":\"auto\",\"active_tap\":\"auto\",\"tools\":[{\"id\":\"afb39408-ee21-405e-ba1a-0b56b769b454\",\"type\":\"PanTool\"},{\"id\":\"ccb5457f-839a-4a85-a392-84725d065c3c\",\"type\":\"WheelZoomTool\"},{\"id\":\"70fd3368-87dd-434e-a0a5-5d90becdf40a\",\"type\":\"BoxZoomTool\"},{\"id\":\"c3c84cb4-a442-405e-86d7-19b639520549\",\"type\":\"SaveTool\"},{\"id\":\"8f2af420-d28f-4cbf-a5c2-5d1d8c516f5e\",\"type\":\"ResetTool\"},{\"id\":\"d619e772-36c8-4aea-8749-6414751295f4\",\"type\":\"HelpTool\"}]},\"id\":\"bfdb0f2a-6ee4-45a8-a4e8-20b5b604355d\",\"type\":\"Toolbar\"},{\"attributes\":{\"source\":{\"id\":\"792cd988-650e-4de1-add0-e276e9f26982\",\"type\":\"ColumnDataSource\"}},\"id\":\"5e870d8d-a5fa-406a-8232-b65fb629221b\",\"type\":\"CDSView\"},{\"attributes\":{},\"id\":\"1f35c084-9692-4bcd-bf42-ea22ebecbfe5\",\"type\":\"BasicTicker\"},{\"attributes\":{},\"id\":\"afb39408-ee21-405e-ba1a-0b56b769b454\",\"type\":\"PanTool\"},{\"attributes\":{},\"id\":\"277130e0-7b14-496e-9a62-34c782696e36\",\"type\":\"LinearScale\"},{\"attributes\":{\"bottom_units\":\"screen\",\"fill_alpha\":{\"value\":0.5},\"fill_color\":{\"value\":\"lightgrey\"},\"left_units\":\"screen\",\"level\":\"overlay\",\"line_alpha\":{\"value\":1.0},\"line_color\":{\"value\":\"black\"},\"line_dash\":[4,4],\"line_width\":{\"value\":2},\"plot\":null,\"render_mode\":\"css\",\"right_units\":\"screen\",\"top_units\":\"screen\"},\"id\":\"d177642e-2439-4fad-a84c-ec0c5c672ee6\",\"type\":\"BoxAnnotation\"},{\"attributes\":{\"overlay\":{\"id\":\"d177642e-2439-4fad-a84c-ec0c5c672ee6\",\"type\":\"BoxAnnotation\"}},\"id\":\"70fd3368-87dd-434e-a0a5-5d90becdf40a\",\"type\":\"BoxZoomTool\"},{\"attributes\":{\"callback\":null},\"id\":\"eacd82f4-f44c-4121-a4df-0984a7d0bac0\",\"type\":\"DataRange1d\"},{\"attributes\":{\"callback\":null,\"data\":{\"size\":{\"__ndarray__\":\"AAAAAAAAAADaRrGypawhQOqvsChr3DBAL4+enbX2PEDnCT0ZzPlPQO0/bR2nF1BASKlIUEni7D907rk1BfhHQGy5bGvgGVFAEyQswzxFWEA=\",\"dtype\":\"float64\",\"shape\":[10]},\"x\":[0,1,2,3,4,5,6,7,8,9],\"y\":{\"__ndarray__\":\"jqn/iHUsMEDaRrGypawhQOqvsChr3CBAyrRpviNPI0DnCT0ZzPkvQK7MrshxvylAMMaFNYZBwz9gx2Y9mGQbQGy5bGvgGSFA2JF8reCSJUA=\",\"dtype\":\"float64\",\"shape\":[10]}},\"selected\":{\"id\":\"d99a6685-d7a6-4a9c-88ab-1c0bd3a90121\",\"type\":\"Selection\"},\"selection_policy\":{\"id\":\"c049496a-c192-43bb-84f5-13b53cd354b9\",\"type\":\"UnionRenderers\"}},\"id\":\"792cd988-650e-4de1-add0-e276e9f26982\",\"type\":\"ColumnDataSource\"},{\"attributes\":{},\"id\":\"c3c84cb4-a442-405e-86d7-19b639520549\",\"type\":\"SaveTool\"},{\"attributes\":{\"plot\":{\"id\":\"f747b6c3-c2a0-4694-9595-6ec04f1671e5\",\"subtype\":\"Figure\",\"type\":\"Plot\"},\"ticker\":{\"id\":\"1f35c084-9692-4bcd-bf42-ea22ebecbfe5\",\"type\":\"BasicTicker\"}},\"id\":\"3115f2cc-135d-4bb6-b498-89dd1ccb772f\",\"type\":\"Grid\"},{\"attributes\":{\"formatter\":{\"id\":\"4a70d5a7-7808-498a-947a-5dd3ba73ce99\",\"type\":\"BasicTickFormatter\"},\"plot\":{\"id\":\"f747b6c3-c2a0-4694-9595-6ec04f1671e5\",\"subtype\":\"Figure\",\"type\":\"Plot\"},\"ticker\":{\"id\":\"1f35c084-9692-4bcd-bf42-ea22ebecbfe5\",\"type\":\"BasicTicker\"}},\"id\":\"fce4f8b4-fe6e-4e22-bc54-83307aabafb1\",\"type\":\"LinearAxis\"},{\"attributes\":{\"callback\":null},\"id\":\"47972ec7-9a35-41b4-9738-0977f591a176\",\"type\":\"DataRange1d\"}],\"root_ids\":[\"f747b6c3-c2a0-4694-9595-6ec04f1671e5\"]},\"title\":\"Bokeh Application\",\"version\":\"0.12.16\"}};\n",
       "  var render_items = [{\"docid\":\"d48a1eb6-710d-4b6e-8f42-d4aff1305545\",\"elementid\":\"7083f831-e362-41c4-9cbb-d4fc69440c6a\",\"modelid\":\"f747b6c3-c2a0-4694-9595-6ec04f1671e5\"}];\n",
       "  root.Bokeh.embed.embed_items_notebook(docs_json, render_items);\n",
       "\n",
       "  }\n",
       "  if (root.Bokeh !== undefined) {\n",
       "    embed_document(root);\n",
       "  } else {\n",
       "    var attempts = 0;\n",
       "    var timer = setInterval(function(root) {\n",
       "      if (root.Bokeh !== undefined) {\n",
       "        embed_document(root);\n",
       "        clearInterval(timer);\n",
       "      }\n",
       "      attempts++;\n",
       "      if (attempts > 100) {\n",
       "        console.log(\"Bokeh: ERROR: Unable to run BokehJS code because BokehJS library is missing\")\n",
       "        clearInterval(timer);\n",
       "      }\n",
       "    }, 10, root)\n",
       "  }\n",
       "})(window);"
      ],
      "application/vnd.bokehjs_exec.v0+json": ""
     },
     "metadata": {
      "application/vnd.bokehjs_exec.v0+json": {
       "id": "f747b6c3-c2a0-4694-9595-6ec04f1671e5"
      }
     },
     "output_type": "display_data"
    }
   ],
   "source": [
    "circle_x = np.arange(10)\n",
    "circle_y = np.random.rand(10)*20\n",
    "circle_plot = figure(title='Basic circle plot',plot_height=300, plot_width=500)\n",
    "circle_plot.circle(circle_x,circle_y,size=circle_y*circle_x,fill_color='orange',fill_alpha=0.3,line_color='orange')\n",
    "show(circle_plot)"
   ]
  },
  {
   "cell_type": "markdown",
   "metadata": {},
   "source": [
    "The main keyword arguments are\n",
    "```\n",
    "fill_color=[Color]\n",
    "fill_alpha=[Float between 0.0 and 1.0]\n",
    "radius=[Float]\n",
    "size=[Float]\n",
    "```"
   ]
  },
  {
   "cell_type": "markdown",
   "metadata": {},
   "source": [
    "## Step plot\n",
    "\n",
    "Main reference: https://bokeh.pydata.org/en/latest/docs/reference/plotting.html"
   ]
  },
  {
   "cell_type": "code",
   "execution_count": 4,
   "metadata": {
    "scrolled": false
   },
   "outputs": [
    {
     "data": {
      "text/html": [
       "\n",
       "<div class=\"bk-root\">\n",
       "    <div class=\"bk-plotdiv\" id=\"4957b39c-de58-4cb4-8f59-96f44bad7ba7\"></div>\n",
       "</div>"
      ]
     },
     "metadata": {},
     "output_type": "display_data"
    },
    {
     "data": {
      "application/javascript": [
       "(function(root) {\n",
       "  function embed_document(root) {\n",
       "    \n",
       "  var docs_json = {\"bbddac8f-3b79-4a5b-a001-a3f4676f7cde\":{\"roots\":{\"references\":[{\"attributes\":{\"callback\":null},\"id\":\"c0fcc4a9-a712-4cfe-8fd3-da4fe7c38c91\",\"type\":\"DataRange1d\"},{\"attributes\":{\"data_source\":{\"id\":\"2ed2ada9-04e7-42b5-a227-5a3d0a645ce8\",\"type\":\"ColumnDataSource\"},\"glyph\":{\"id\":\"8de05079-dbba-4836-953c-6bc038996de2\",\"type\":\"Step\"},\"hover_glyph\":null,\"muted_glyph\":null,\"nonselection_glyph\":{\"id\":\"e18640fa-7180-44c5-9e84-b91cfbbb3de0\",\"type\":\"Step\"},\"selection_glyph\":null,\"view\":{\"id\":\"6e9a6828-dd9a-41ea-85de-592588aca7fa\",\"type\":\"CDSView\"}},\"id\":\"9e3d5c26-7441-4840-8868-a2139c7cceae\",\"type\":\"GlyphRenderer\"},{\"attributes\":{\"line_alpha\":{\"value\":0.6},\"line_color\":{\"value\":\"orange\"},\"line_width\":{\"value\":2},\"mode\":\"after\",\"x\":{\"field\":\"x\"},\"y\":{\"field\":\"y\"}},\"id\":\"8de05079-dbba-4836-953c-6bc038996de2\",\"type\":\"Step\"},{\"attributes\":{\"line_alpha\":{\"value\":0.1},\"line_color\":{\"value\":\"#1f77b4\"},\"line_width\":{\"value\":2},\"mode\":\"after\",\"x\":{\"field\":\"x\"},\"y\":{\"field\":\"y\"}},\"id\":\"e18640fa-7180-44c5-9e84-b91cfbbb3de0\",\"type\":\"Step\"},{\"attributes\":{},\"id\":\"3c6d6a30-163b-4cc0-b759-6fedc961fb34\",\"type\":\"WheelZoomTool\"},{\"attributes\":{\"callback\":null,\"data\":{\"x\":[1,2,3,4,5,6,7,8,9,10],\"y\":[10,4,6,1,5,7,1,4,6,7]},\"selected\":{\"id\":\"c83a0748-6cd1-4ba4-9417-2f08a47e9f9e\",\"type\":\"Selection\"},\"selection_policy\":{\"id\":\"c9da9f8f-d038-4892-9269-435ac9aad189\",\"type\":\"UnionRenderers\"}},\"id\":\"2ed2ada9-04e7-42b5-a227-5a3d0a645ce8\",\"type\":\"ColumnDataSource\"},{\"attributes\":{\"bottom_units\":\"screen\",\"fill_alpha\":{\"value\":0.5},\"fill_color\":{\"value\":\"lightgrey\"},\"left_units\":\"screen\",\"level\":\"overlay\",\"line_alpha\":{\"value\":1.0},\"line_color\":{\"value\":\"black\"},\"line_dash\":[4,4],\"line_width\":{\"value\":2},\"plot\":null,\"render_mode\":\"css\",\"right_units\":\"screen\",\"top_units\":\"screen\"},\"id\":\"06753ed8-3deb-4009-b881-1ba3fe3e9c44\",\"type\":\"BoxAnnotation\"},{\"attributes\":{},\"id\":\"3f6d5b72-cc62-462b-a5d6-204bc3d6f124\",\"type\":\"BasicTickFormatter\"},{\"attributes\":{},\"id\":\"6021f55b-eb2c-499e-b6d1-b29ed3f04183\",\"type\":\"SaveTool\"},{\"attributes\":{},\"id\":\"41ebf2e2-1628-42bc-951f-f7f1849142f7\",\"type\":\"LinearScale\"},{\"attributes\":{\"plot\":null,\"text\":\"Step plot\"},\"id\":\"013c297b-f32a-4606-b378-6d598a649dff\",\"type\":\"Title\"},{\"attributes\":{},\"id\":\"ed1dd039-acf0-498c-ac1a-9b0c66bb62e9\",\"type\":\"ResetTool\"},{\"attributes\":{},\"id\":\"7149f728-5df9-4d7f-b7d1-5026344e1621\",\"type\":\"PanTool\"},{\"attributes\":{\"source\":{\"id\":\"2ed2ada9-04e7-42b5-a227-5a3d0a645ce8\",\"type\":\"ColumnDataSource\"}},\"id\":\"6e9a6828-dd9a-41ea-85de-592588aca7fa\",\"type\":\"CDSView\"},{\"attributes\":{\"overlay\":{\"id\":\"06753ed8-3deb-4009-b881-1ba3fe3e9c44\",\"type\":\"BoxAnnotation\"}},\"id\":\"8f707eb2-f8ad-47c6-ae74-a03bea3016c9\",\"type\":\"BoxZoomTool\"},{\"attributes\":{\"formatter\":{\"id\":\"0c8e9e08-f95d-4f95-a9ce-c31acd938959\",\"type\":\"BasicTickFormatter\"},\"plot\":{\"id\":\"3401d8e1-e373-4e79-8194-7e76a4c34133\",\"subtype\":\"Figure\",\"type\":\"Plot\"},\"ticker\":{\"id\":\"3fa7a6a2-df34-4920-98bd-c19dac92fa4e\",\"type\":\"BasicTicker\"}},\"id\":\"38e5a1c3-9b45-47ce-aa49-f5abc78be319\",\"type\":\"LinearAxis\"},{\"attributes\":{},\"id\":\"0c8e9e08-f95d-4f95-a9ce-c31acd938959\",\"type\":\"BasicTickFormatter\"},{\"attributes\":{},\"id\":\"c83a0748-6cd1-4ba4-9417-2f08a47e9f9e\",\"type\":\"Selection\"},{\"attributes\":{},\"id\":\"c9da9f8f-d038-4892-9269-435ac9aad189\",\"type\":\"UnionRenderers\"},{\"attributes\":{\"callback\":null},\"id\":\"4b0ccb8e-35a5-447f-8085-554775515407\",\"type\":\"DataRange1d\"},{\"attributes\":{\"below\":[{\"id\":\"19457815-f28c-47bc-99dd-37d4bd010efa\",\"type\":\"LinearAxis\"}],\"left\":[{\"id\":\"38e5a1c3-9b45-47ce-aa49-f5abc78be319\",\"type\":\"LinearAxis\"}],\"plot_height\":300,\"plot_width\":500,\"renderers\":[{\"id\":\"19457815-f28c-47bc-99dd-37d4bd010efa\",\"type\":\"LinearAxis\"},{\"id\":\"16ef8a32-5666-49ce-987c-459581aae8b8\",\"type\":\"Grid\"},{\"id\":\"38e5a1c3-9b45-47ce-aa49-f5abc78be319\",\"type\":\"LinearAxis\"},{\"id\":\"28562d70-7955-425c-ab78-eacaf741f918\",\"type\":\"Grid\"},{\"id\":\"06753ed8-3deb-4009-b881-1ba3fe3e9c44\",\"type\":\"BoxAnnotation\"},{\"id\":\"9e3d5c26-7441-4840-8868-a2139c7cceae\",\"type\":\"GlyphRenderer\"}],\"title\":{\"id\":\"013c297b-f32a-4606-b378-6d598a649dff\",\"type\":\"Title\"},\"toolbar\":{\"id\":\"061be408-f31c-4c3a-8d5a-18c9a9f20548\",\"type\":\"Toolbar\"},\"x_range\":{\"id\":\"4b0ccb8e-35a5-447f-8085-554775515407\",\"type\":\"DataRange1d\"},\"x_scale\":{\"id\":\"07062c1a-e066-402e-8407-a9daebc2e8b4\",\"type\":\"LinearScale\"},\"y_range\":{\"id\":\"c0fcc4a9-a712-4cfe-8fd3-da4fe7c38c91\",\"type\":\"DataRange1d\"},\"y_scale\":{\"id\":\"41ebf2e2-1628-42bc-951f-f7f1849142f7\",\"type\":\"LinearScale\"}},\"id\":\"3401d8e1-e373-4e79-8194-7e76a4c34133\",\"subtype\":\"Figure\",\"type\":\"Plot\"},{\"attributes\":{},\"id\":\"82c4826d-cfb2-4678-90bc-809f0610b051\",\"type\":\"HelpTool\"},{\"attributes\":{\"formatter\":{\"id\":\"3f6d5b72-cc62-462b-a5d6-204bc3d6f124\",\"type\":\"BasicTickFormatter\"},\"plot\":{\"id\":\"3401d8e1-e373-4e79-8194-7e76a4c34133\",\"subtype\":\"Figure\",\"type\":\"Plot\"},\"ticker\":{\"id\":\"17065c57-69a0-4271-82e0-578300e729ba\",\"type\":\"BasicTicker\"}},\"id\":\"19457815-f28c-47bc-99dd-37d4bd010efa\",\"type\":\"LinearAxis\"},{\"attributes\":{\"active_drag\":\"auto\",\"active_inspect\":\"auto\",\"active_scroll\":\"auto\",\"active_tap\":\"auto\",\"tools\":[{\"id\":\"7149f728-5df9-4d7f-b7d1-5026344e1621\",\"type\":\"PanTool\"},{\"id\":\"3c6d6a30-163b-4cc0-b759-6fedc961fb34\",\"type\":\"WheelZoomTool\"},{\"id\":\"8f707eb2-f8ad-47c6-ae74-a03bea3016c9\",\"type\":\"BoxZoomTool\"},{\"id\":\"6021f55b-eb2c-499e-b6d1-b29ed3f04183\",\"type\":\"SaveTool\"},{\"id\":\"ed1dd039-acf0-498c-ac1a-9b0c66bb62e9\",\"type\":\"ResetTool\"},{\"id\":\"82c4826d-cfb2-4678-90bc-809f0610b051\",\"type\":\"HelpTool\"}]},\"id\":\"061be408-f31c-4c3a-8d5a-18c9a9f20548\",\"type\":\"Toolbar\"},{\"attributes\":{},\"id\":\"3fa7a6a2-df34-4920-98bd-c19dac92fa4e\",\"type\":\"BasicTicker\"},{\"attributes\":{},\"id\":\"07062c1a-e066-402e-8407-a9daebc2e8b4\",\"type\":\"LinearScale\"},{\"attributes\":{\"plot\":{\"id\":\"3401d8e1-e373-4e79-8194-7e76a4c34133\",\"subtype\":\"Figure\",\"type\":\"Plot\"},\"ticker\":{\"id\":\"17065c57-69a0-4271-82e0-578300e729ba\",\"type\":\"BasicTicker\"}},\"id\":\"16ef8a32-5666-49ce-987c-459581aae8b8\",\"type\":\"Grid\"},{\"attributes\":{},\"id\":\"17065c57-69a0-4271-82e0-578300e729ba\",\"type\":\"BasicTicker\"},{\"attributes\":{\"dimension\":1,\"plot\":{\"id\":\"3401d8e1-e373-4e79-8194-7e76a4c34133\",\"subtype\":\"Figure\",\"type\":\"Plot\"},\"ticker\":{\"id\":\"3fa7a6a2-df34-4920-98bd-c19dac92fa4e\",\"type\":\"BasicTicker\"}},\"id\":\"28562d70-7955-425c-ab78-eacaf741f918\",\"type\":\"Grid\"}],\"root_ids\":[\"3401d8e1-e373-4e79-8194-7e76a4c34133\"]},\"title\":\"Bokeh Application\",\"version\":\"0.12.16\"}};\n",
       "  var render_items = [{\"docid\":\"bbddac8f-3b79-4a5b-a001-a3f4676f7cde\",\"elementid\":\"4957b39c-de58-4cb4-8f59-96f44bad7ba7\",\"modelid\":\"3401d8e1-e373-4e79-8194-7e76a4c34133\"}];\n",
       "  root.Bokeh.embed.embed_items_notebook(docs_json, render_items);\n",
       "\n",
       "  }\n",
       "  if (root.Bokeh !== undefined) {\n",
       "    embed_document(root);\n",
       "  } else {\n",
       "    var attempts = 0;\n",
       "    var timer = setInterval(function(root) {\n",
       "      if (root.Bokeh !== undefined) {\n",
       "        embed_document(root);\n",
       "        clearInterval(timer);\n",
       "      }\n",
       "      attempts++;\n",
       "      if (attempts > 100) {\n",
       "        console.log(\"Bokeh: ERROR: Unable to run BokehJS code because BokehJS library is missing\")\n",
       "        clearInterval(timer);\n",
       "      }\n",
       "    }, 10, root)\n",
       "  }\n",
       "})(window);"
      ],
      "application/vnd.bokehjs_exec.v0+json": ""
     },
     "metadata": {
      "application/vnd.bokehjs_exec.v0+json": {
       "id": "3401d8e1-e373-4e79-8194-7e76a4c34133"
      }
     },
     "output_type": "display_data"
    }
   ],
   "source": [
    "step_x = [1,2,3,4,5,6,7,8,9,10]\n",
    "step_y = [10,4,6,1,5,7,1,4,6,7];\n",
    "step_plot = figure(title='Step plot', plot_height=300, plot_width=500)\n",
    "step_plot.step(step_x,step_y,line_color='orange',line_width=2,mode='after',line_alpha=0.6)\n",
    "show(step_plot)"
   ]
  },
  {
   "cell_type": "markdown",
   "metadata": {},
   "source": [
    "The keyword arguments for line properties listed above applies to step plot as well. The other main keyword argument is\n",
    "```\n",
    "mode=['before','after','center']\n",
    "```\n",
    "denoting where the step level should be drawn in relation to the x and y coordinates."
   ]
  },
  {
   "cell_type": "markdown",
   "metadata": {},
   "source": [
    "## Multiple markers"
   ]
  },
  {
   "cell_type": "markdown",
   "metadata": {},
   "source": [
    "As mentioned above, it is possible to combine multiple plots in one figure, and there are quite a few shapes that you can choose from. I displayed some of the more interesting ones in the next figure ([segment](https://bokeh.pydata.org/en/latest/docs/reference/models/glyphs/segment.html), [annulus](https://bokeh.pydata.org/en/latest/docs/reference/models/glyphs/annulus.html), and \n",
    "[hex](https://bokeh.pydata.org/en/latest/docs/reference/models/markers/hex.html) --- mostly because of [hexbin](https://bokeh.pydata.org/en/latest/docs/gallery/hexbin.html)).\n",
    "For the segment plot, notice how we can pass an array of values for the keyword arguments. \n",
    "\n",
    "\n",
    "Apart from these, there are basic shapes such as \n",
    "[rectangle](https://bokeh.pydata.org/en/latest/docs/reference/models/glyphs/rect.html), \n",
    "[triangle](https://bokeh.pydata.org/en/latest/docs/reference/models/markers/triangle.html),\n",
    "[square](https://bokeh.pydata.org/en/latest/docs/reference/models/markers/square.html),\n",
    "[ellipse](https://bokeh.pydata.org/en/latest/docs/reference/models/glyphs/ellipse.html), and \n",
    "[diamond](https://bokeh.pydata.org/en/latest/docs/reference/models/markers/diamond.html). \n",
    "For other possible shapes, refer to the list on [bokeh plotting documentation](https://bokeh.pydata.org/en/latest/docs/reference/plotting.html#bokeh-plotting)."
   ]
  },
  {
   "cell_type": "code",
   "execution_count": 5,
   "metadata": {},
   "outputs": [
    {
     "data": {
      "text/html": [
       "\n",
       "<div class=\"bk-root\">\n",
       "    <div class=\"bk-plotdiv\" id=\"856cac2f-d92a-4afe-8333-ba2751db0d1b\"></div>\n",
       "</div>"
      ]
     },
     "metadata": {},
     "output_type": "display_data"
    },
    {
     "data": {
      "application/javascript": [
       "(function(root) {\n",
       "  function embed_document(root) {\n",
       "    \n",
       "  var docs_json = {\"c07f72ab-54ba-4846-9760-d8a1d5505a95\":{\"roots\":{\"references\":[{\"attributes\":{},\"id\":\"c195edd1-a9d8-4b89-9768-d4faa06c4c39\",\"type\":\"BasicTickFormatter\"},{\"attributes\":{},\"id\":\"fa43d8b2-65cb-426d-915f-f324023f1e15\",\"type\":\"BasicTickFormatter\"},{\"attributes\":{},\"id\":\"cc04ffc4-b40d-41b4-b0b3-001ff4bf62f2\",\"type\":\"Selection\"},{\"attributes\":{\"plot\":{\"id\":\"e07a026f-0924-4278-8268-c04a17cb0409\",\"subtype\":\"Figure\",\"type\":\"Plot\"},\"ticker\":{\"id\":\"395304de-f985-467b-be20-904b41e796aa\",\"type\":\"BasicTicker\"}},\"id\":\"c938c7d0-fb82-4697-bcc3-ea7196937a31\",\"type\":\"Grid\"},{\"attributes\":{\"formatter\":{\"id\":\"fa43d8b2-65cb-426d-915f-f324023f1e15\",\"type\":\"BasicTickFormatter\"},\"plot\":{\"id\":\"e07a026f-0924-4278-8268-c04a17cb0409\",\"subtype\":\"Figure\",\"type\":\"Plot\"},\"ticker\":{\"id\":\"395304de-f985-467b-be20-904b41e796aa\",\"type\":\"BasicTicker\"}},\"id\":\"ee489623-3965-477c-9084-10ebb3b27c0a\",\"type\":\"LinearAxis\"},{\"attributes\":{},\"id\":\"395304de-f985-467b-be20-904b41e796aa\",\"type\":\"BasicTicker\"},{\"attributes\":{\"source\":{\"id\":\"28bee042-7823-4656-b1ff-5324ce04654c\",\"type\":\"ColumnDataSource\"}},\"id\":\"8c192ff9-0cb3-4a9c-9acc-28833c6b8302\",\"type\":\"CDSView\"},{\"attributes\":{},\"id\":\"23f2c2cf-0123-406f-b402-b7954777aa2c\",\"type\":\"Selection\"},{\"attributes\":{},\"id\":\"66cad8a2-297c-4fbd-b2f1-7450278e6cb9\",\"type\":\"Selection\"},{\"attributes\":{},\"id\":\"ba72e021-cd65-41a9-9e09-42e30ab69c6c\",\"type\":\"LinearScale\"},{\"attributes\":{},\"id\":\"4d56146d-05c4-4de3-befe-a685eebf00af\",\"type\":\"UnionRenderers\"},{\"attributes\":{\"data_source\":{\"id\":\"28bee042-7823-4656-b1ff-5324ce04654c\",\"type\":\"ColumnDataSource\"},\"glyph\":{\"id\":\"f75f6270-3b96-47e6-aef2-cb52825bc30b\",\"type\":\"Segment\"},\"hover_glyph\":null,\"muted_glyph\":null,\"nonselection_glyph\":{\"id\":\"008809fe-0127-4982-9830-1d639c1045bc\",\"type\":\"Segment\"},\"selection_glyph\":null,\"view\":{\"id\":\"8c192ff9-0cb3-4a9c-9acc-28833c6b8302\",\"type\":\"CDSView\"}},\"id\":\"ad66c7a1-6c2f-4519-9287-8493bdd8e3a2\",\"type\":\"GlyphRenderer\"},{\"attributes\":{},\"id\":\"316ce7a2-8dc1-46b4-8144-260529eb4cf5\",\"type\":\"LinearScale\"},{\"attributes\":{\"fill_alpha\":{\"value\":0.1},\"fill_color\":{\"value\":\"#1f77b4\"},\"inner_radius\":{\"units\":\"data\",\"value\":0.2},\"line_alpha\":{\"value\":0.1},\"line_color\":{\"value\":\"#1f77b4\"},\"outer_radius\":{\"units\":\"data\",\"value\":0.5},\"x\":{\"field\":\"x\"},\"y\":{\"field\":\"y\"}},\"id\":\"b45d7753-ffff-4b4e-978b-e28343f43744\",\"type\":\"Annulus\"},{\"attributes\":{\"formatter\":{\"id\":\"c195edd1-a9d8-4b89-9768-d4faa06c4c39\",\"type\":\"BasicTickFormatter\"},\"plot\":{\"id\":\"e07a026f-0924-4278-8268-c04a17cb0409\",\"subtype\":\"Figure\",\"type\":\"Plot\"},\"ticker\":{\"id\":\"53337750-7c11-46aa-ba2a-2ebb654cf7a1\",\"type\":\"BasicTicker\"}},\"id\":\"8ab020f3-068e-473a-b935-cf33b4f22636\",\"type\":\"LinearAxis\"},{\"attributes\":{\"plot\":null,\"text\":\"Multiple markers\"},\"id\":\"6aa4a147-05f0-4c47-9795-502ff88ed7ad\",\"type\":\"Title\"},{\"attributes\":{},\"id\":\"53337750-7c11-46aa-ba2a-2ebb654cf7a1\",\"type\":\"BasicTicker\"},{\"attributes\":{\"dimension\":1,\"plot\":{\"id\":\"e07a026f-0924-4278-8268-c04a17cb0409\",\"subtype\":\"Figure\",\"type\":\"Plot\"},\"ticker\":{\"id\":\"53337750-7c11-46aa-ba2a-2ebb654cf7a1\",\"type\":\"BasicTicker\"}},\"id\":\"ed16c93d-8a98-4df2-9bdd-c6a055865062\",\"type\":\"Grid\"},{\"attributes\":{\"below\":[{\"id\":\"ee489623-3965-477c-9084-10ebb3b27c0a\",\"type\":\"LinearAxis\"}],\"left\":[{\"id\":\"8ab020f3-068e-473a-b935-cf33b4f22636\",\"type\":\"LinearAxis\"}],\"plot_height\":400,\"plot_width\":640,\"renderers\":[{\"id\":\"ee489623-3965-477c-9084-10ebb3b27c0a\",\"type\":\"LinearAxis\"},{\"id\":\"c938c7d0-fb82-4697-bcc3-ea7196937a31\",\"type\":\"Grid\"},{\"id\":\"8ab020f3-068e-473a-b935-cf33b4f22636\",\"type\":\"LinearAxis\"},{\"id\":\"ed16c93d-8a98-4df2-9bdd-c6a055865062\",\"type\":\"Grid\"},{\"id\":\"94034d2b-2f1b-4d2b-b38f-cd746ad406a0\",\"type\":\"BoxAnnotation\"},{\"id\":\"e27e1396-3bec-4bc9-ad5e-53202986f21e\",\"type\":\"GlyphRenderer\"},{\"id\":\"b192f57e-340c-4b33-976c-cf04c5b0e819\",\"type\":\"GlyphRenderer\"},{\"id\":\"ad66c7a1-6c2f-4519-9287-8493bdd8e3a2\",\"type\":\"GlyphRenderer\"}],\"title\":{\"id\":\"6aa4a147-05f0-4c47-9795-502ff88ed7ad\",\"type\":\"Title\"},\"toolbar\":{\"id\":\"e0c5a5e6-3c8a-4a92-993c-c704fb26a86e\",\"type\":\"Toolbar\"},\"x_range\":{\"id\":\"c4be5168-de73-4326-8e6a-2b7b57515b10\",\"type\":\"DataRange1d\"},\"x_scale\":{\"id\":\"ba72e021-cd65-41a9-9e09-42e30ab69c6c\",\"type\":\"LinearScale\"},\"y_range\":{\"id\":\"9bb68495-45be-43f1-95f5-d29c1ebe9886\",\"type\":\"DataRange1d\"},\"y_scale\":{\"id\":\"316ce7a2-8dc1-46b4-8144-260529eb4cf5\",\"type\":\"LinearScale\"}},\"id\":\"e07a026f-0924-4278-8268-c04a17cb0409\",\"subtype\":\"Figure\",\"type\":\"Plot\"},{\"attributes\":{\"data_source\":{\"id\":\"186a4617-a861-459b-aff0-c68efe3ee823\",\"type\":\"ColumnDataSource\"},\"glyph\":{\"id\":\"af017bbb-50aa-4f5c-9f64-8998f16ca390\",\"type\":\"Annulus\"},\"hover_glyph\":null,\"muted_glyph\":null,\"nonselection_glyph\":{\"id\":\"b45d7753-ffff-4b4e-978b-e28343f43744\",\"type\":\"Annulus\"},\"selection_glyph\":null,\"view\":{\"id\":\"6e9ab1be-5a3e-4d47-9a6a-500d2c71254b\",\"type\":\"CDSView\"}},\"id\":\"e27e1396-3bec-4bc9-ad5e-53202986f21e\",\"type\":\"GlyphRenderer\"},{\"attributes\":{\"callback\":null,\"data\":{\"size\":{\"__ndarray__\":\"3CqmnXBTJUAiyK7x6GYdQChQ1CJrQQhAmY7Gp35PIEAYtl5SdgwiQACRTAyEQes/QZhfYKYZMECsZKJ8biEiQHz97ETYjh5AHHQSXFXgFkCM3jbbXmMyQOI5/qTBrSxAklpd6olWLEBSgJPLbxgsQM/MO6FqMyxAXh9GbBN4KEAIeDb5N2UJQMjnPWR2EQxAAEjO6xlPqT/+yts1l+8vQEKqqTpnVTNA0TtBLHb+IUDmHcTCCokxQAAw6UKeK8U/6llxjneLLUDsNMJfyPQSQNy9/K2gwCdAYu4IJVOIF0CYp9Z9fK8lQKANKcg9Mg9ASvMInLBfJEB6jRqC96IsQDgBnZSphQRAe+/k3H9+MECwqrBpZjkEQNDK5ld2gx1A9J+RvGGQFkAYRtT0IngoQNDbY5wJg/E/ACTM+8IcAUA2gTTCGKElQCo2Y8WiLBFAMgGuChncIkCURSYk6z0nQLA3QV0eMhxA2N7rkZOeIEBE4jyQElkWQPBr7r7SHANAAIRhxc61KkC0QxBN5M0aQPRiVxnytB9AhvdZxrggM0D8vF1pDYsxQPuNEpqsESdAqmm5MlXgGkCTuZGv6lMkQBI049QVLzNA0fPHxO/kIUDS+SBEnUYwQAqD2v5/hh9AYPbWGYFD6z9qiEe+VE0lQORGxCAu9R1AUM0kKR388j/gs9MYoQsBQBJ1u9CwGBFAP7nt7/lFI0DILkGoESEUQMCuJKZNzv8/oJQ467fv/z9A7jtTIbbRP16xsovnODJAEq3qJ5CaGUB6rleR5EEfQHITywiimRdAZHFGeQU2MkB/xYxnUyYlQP9O4vtN6jNAdkhrpF/ZJ0AwfRHE1uXwP7q6UakfPRdAatxDaTP5IEDKzSmntuUVQERR9pgnfiJAFteQtxuvFkA0hiRwymwXQJivabwZvwdAZKB7+zHQHkD3glvNKtYqQHfYSIFj7jBAVeedsE8cMUAAjR0edeXQP1j+C4OE6C5A9pKHbdaSKEBVADIZnPonQNfLlr13xSBAJ0KIi8WtMkBwwAYJuCImQH+i1p50gSRAgF7iQ8YrB0A=\",\"dtype\":\"float64\",\"shape\":[100]},\"x\":{\"__ndarray__\":\"AAAAAAAA8D9nSMzbGRLzP8+QmLczJPY/Ntlkk002+T+eITFvZ0j8PwVq/UqBWv8/Ntlkk002AUBq/UqBWr8CQJ4hMW9nSARA0UUXXXTRBUAFav1KgVoHQDmO4ziO4whAbLLJJptsCkCg1q8UqPULQNT6lQK1fg1ABx988MEHD0CeITFvZ0gQQLgzJObtDBFA0UUXXXTREUDrVwrU+pUSQAVq/UqBWhNAH3zwwQcfFEA5juM4juMUQFKg1q8UqBVAbLLJJptsFkCGxLydITEXQKDWrxSo9RdAuuiiiy66GEDU+pUCtX4ZQO0MiXk7QxpABx988MEHG0AhMW9nSMwbQDtDYt7OkBxAVVVVVVVVHUBvZ0jM2xkeQIl5O0Ni3h5AoosuuuiiH0DezpCYtzMgQOtXCtT6lSBA+OCDDz74IEAFav1KgVohQBLzdobEvCFAH3zwwQcfIkAsBWr9SoEiQDmO4ziO4yJARRdddNFFI0BSoNavFKgjQF8pUOtXCiRAbLLJJptsJEB5O0Ni3s4kQIbEvJ0hMSVAk0022WSTJUCg1q8UqPUlQK1fKVDrVyZAuuiiiy66JkDHcRzHcRwnQNT6lQK1fidA4YMPPvjgJ0DtDIl5O0MoQPqVArV+pShABx988MEHKUAUqPUrBWopQCExb2dIzClALrrooosuKkA7Q2LezpAqQEjM2xkS8ypAVVVVVVVVK0Bi3s6QmLcrQG9nSMzbGSxAfPDBBx98LECJeTtDYt4sQJUCtX6lQC1AoosuuuiiLUCvFKj1KwUuQLydITFvZy5AySabbLLJLkDWrxSo9SsvQOM4juM4ji9A8MEHH3zwL0B+pUCtXykwQAVq/UqBWjBAjC666KKLMEAS83aGxLwwQJi3MyTm7TBAH3zwwQcfMUClQK1fKVAxQCwFav1KgTFAsskmm2yyMUA5juM4juMxQL9SoNavFDJARRdddNFFMkDM2xkS83YyQFKg1q8UqDJA2WSTTTbZMkBfKVDrVwozQObtDIl5OzNAbLLJJptsM0DzdobEvJ0zQHk7Q2LezjNAAAAAAAAANEA=\",\"dtype\":\"float64\",\"shape\":[100]},\"y\":{\"__ndarray__\":\"JNVZYo+sIkDvmyiHi0wpQPt1pZvS9zBAZ3E5WIGwJ0DoSaGtifMlQHibnd/zJTNA+D0D/cwyD0BUm12Dkd4lQEKBid2TuChA8sX2UdWPLEBGF5JMEsr5PzyMA7Z8pBZA3EpFK+xSF0Bd/9hoIM8XQGJmiL0qmRdARMFzJ9kPH0D/MNkAWdMwQAdDeDPRfTBA3BgKc1jzM0AEakiU0SAQQMC3yqoYU+U/L8S+04kBJkDUEN/pqbcDQKAtesOo1TNALEwd4xDpFECK5R7Qm4UuQCRCA1JfPyBAz4h7bdY7LEBoWCmCg1AiQEze+ka4GTBAtgz3Y0+gI0AM5cr7ELoWQNlfbM1KbzFAKoTYGAEMDECq6sky03gxQJiaDNREPilABjC3Ic+3LEDRc1cWug8fQEPCOWbP5zJAgHuGoGfcMUDKfss9514iQOtkTp2uaS9Azv5R9eYjJUBsutnbFMIgQChkX9Hw5ilAKCEUbmxhJ0DejuG3dtMsQIIyIqhlnDFAAPg8dWKUGkAm3nfZDZkqQIZOVPOGJShAUA/BNOfo6z8hGBK1lKcDQAVy7WVT7iBAK0ujZtWPKkBtRm5QFawjQLh9mWNFHeo/Lww4OxAbJkBsMfjeFcsNQHu+kgDAPChATUgx9+MlM0CWd7hBq7IiQI7cne9oBSlAK7NtLT7QMkCEieXci94xQHdFopency9AwUYSEAa6JECcaN8rd+8tQBS1nSUbAzJAtnZMgQQBMkBHELN6J7kzQB7q1ESHcfw/d6kK7LcyK0DDKFS3DV8oQEd2mvsuMyxAvOmYa6if/D+BOnOYrNkiQAABsR0EsrU/ireUW6AmIEAt6L6TovEyQKMiVytwYSxAliO8lswGJ0AbGWusJA0tQLyuCWfYgSVAdZQ3JHKoLEDmvO3HmkksQA3KcsgcCDFAzi9CAueXKEAS+khlqlMaQEU8ufXjjAhAV8UQe4IdB0DMiYcrarwzQFED6Pn2LhJAFNrwJFPaHkCr/83mYwUgQCk0aUKIOidAjt17R6cj9T+QP/n2R90hQIFdKWGLfiNAMLSDN4caMUA=\",\"dtype\":\"float64\",\"shape\":[100]}},\"selected\":{\"id\":\"23f2c2cf-0123-406f-b402-b7954777aa2c\",\"type\":\"Selection\"},\"selection_policy\":{\"id\":\"d8c3c259-ee1b-415c-8bbb-772c589f97fb\",\"type\":\"UnionRenderers\"}},\"id\":\"74b8d844-5089-48ef-8a4d-ac512ea7f7ca\",\"type\":\"ColumnDataSource\"},{\"attributes\":{\"fill_alpha\":{\"value\":0.2},\"fill_color\":{\"value\":\"orange\"},\"inner_radius\":{\"units\":\"data\",\"value\":0.2},\"line_color\":{\"value\":\"orange\"},\"outer_radius\":{\"units\":\"data\",\"value\":0.5},\"x\":{\"field\":\"x\"},\"y\":{\"field\":\"y\"}},\"id\":\"af017bbb-50aa-4f5c-9f64-8998f16ca390\",\"type\":\"Annulus\"},{\"attributes\":{\"bottom_units\":\"screen\",\"fill_alpha\":{\"value\":0.5},\"fill_color\":{\"value\":\"lightgrey\"},\"left_units\":\"screen\",\"level\":\"overlay\",\"line_alpha\":{\"value\":1.0},\"line_color\":{\"value\":\"black\"},\"line_dash\":[4,4],\"line_width\":{\"value\":2},\"plot\":null,\"render_mode\":\"css\",\"right_units\":\"screen\",\"top_units\":\"screen\"},\"id\":\"94034d2b-2f1b-4d2b-b38f-cd746ad406a0\",\"type\":\"BoxAnnotation\"},{\"attributes\":{\"callback\":null},\"id\":\"9bb68495-45be-43f1-95f5-d29c1ebe9886\",\"type\":\"DataRange1d\"},{\"attributes\":{},\"id\":\"88c42aff-8dc1-4d73-82dd-787ef62ec4e9\",\"type\":\"PanTool\"},{\"attributes\":{\"source\":{\"id\":\"186a4617-a861-459b-aff0-c68efe3ee823\",\"type\":\"ColumnDataSource\"}},\"id\":\"6e9ab1be-5a3e-4d47-9a6a-500d2c71254b\",\"type\":\"CDSView\"},{\"attributes\":{},\"id\":\"f46e211b-7a3a-4cb6-8335-4e7dc1dd0162\",\"type\":\"WheelZoomTool\"},{\"attributes\":{\"overlay\":{\"id\":\"94034d2b-2f1b-4d2b-b38f-cd746ad406a0\",\"type\":\"BoxAnnotation\"}},\"id\":\"ebaf070f-243f-4cf7-970e-c189703ca7d0\",\"type\":\"BoxZoomTool\"},{\"attributes\":{},\"id\":\"21931833-9628-4d40-b455-9023d79616ad\",\"type\":\"SaveTool\"},{\"attributes\":{},\"id\":\"068f7dec-0455-42e2-a04b-145f939c8c4a\",\"type\":\"ResetTool\"},{\"attributes\":{},\"id\":\"e060bfee-153b-483f-a69f-b225d8eb43d4\",\"type\":\"HelpTool\"},{\"attributes\":{\"fill_alpha\":{\"value\":0.1},\"fill_color\":{\"value\":\"#1f77b4\"},\"line_alpha\":{\"value\":0.1},\"line_color\":{\"value\":\"#1f77b4\"},\"size\":{\"field\":\"size\",\"units\":\"screen\"},\"x\":{\"field\":\"x\"},\"y\":{\"field\":\"y\"}},\"id\":\"825039c7-86b9-4343-a3f8-6b57d35a189e\",\"type\":\"Hex\"},{\"attributes\":{\"callback\":null,\"data\":{\"line_alpha\":[0.6,0.7,0.9],\"line_width\":[12,7,9],\"x0\":[5,7.5,10],\"x1\":[5,7.5,15],\"y0\":[5,10,15],\"y1\":[10,15,15]},\"selected\":{\"id\":\"cc04ffc4-b40d-41b4-b0b3-001ff4bf62f2\",\"type\":\"Selection\"},\"selection_policy\":{\"id\":\"50a25e02-3e6d-4279-a91e-0347f70778d5\",\"type\":\"UnionRenderers\"}},\"id\":\"28bee042-7823-4656-b1ff-5324ce04654c\",\"type\":\"ColumnDataSource\"},{\"attributes\":{\"fill_alpha\":{\"value\":0.1},\"fill_color\":{\"value\":\"red\"},\"line_alpha\":{\"value\":0.1},\"line_color\":{\"value\":\"red\"},\"size\":{\"field\":\"size\",\"units\":\"screen\"},\"x\":{\"field\":\"x\"},\"y\":{\"field\":\"y\"}},\"id\":\"df6265b5-8148-4146-a72e-a89bbe97db19\",\"type\":\"Hex\"},{\"attributes\":{\"callback\":null,\"data\":{\"x\":{\"__ndarray__\":\"AAAAAAAA8D+3bdu2bdsCQG7btm3btg1AkiRJkiRJFEBu27Zt27YZQEqSJEmSJB9AkiRJkiRJIkAAAAAAAAAlQG7btm3btidA3LZt27ZtKkBKkiRJkiQtQLdt27Zt2y9AkiRJkiRJMUBJkiRJkqQyQAAAAAAAADRA\",\"dtype\":\"float64\",\"shape\":[15]},\"y\":{\"__ndarray__\":\"n8hFFooOM0BNe3sYq18nQLCKg2Uv/yRAcKxuTaezDED6zTPrlAwwQLJzpU6fsTNAwPBWwZYOIkD5zBStjzcuQAKOri7y0Q5AKMbXd1O4IkDHieGEtDgwQEUJ6H7x0jFAGgsrahHjHkDqKgQBHVMwQLfVgbdsfDNA\",\"dtype\":\"float64\",\"shape\":[15]}},\"selected\":{\"id\":\"66cad8a2-297c-4fbd-b2f1-7450278e6cb9\",\"type\":\"Selection\"},\"selection_policy\":{\"id\":\"4d56146d-05c4-4de3-befe-a685eebf00af\",\"type\":\"UnionRenderers\"}},\"id\":\"186a4617-a861-459b-aff0-c68efe3ee823\",\"type\":\"ColumnDataSource\"},{\"attributes\":{\"line_alpha\":{\"field\":\"line_alpha\"},\"line_color\":{\"value\":\"lavender\"},\"line_width\":{\"field\":\"line_width\"},\"x0\":{\"field\":\"x0\"},\"x1\":{\"field\":\"x1\"},\"y0\":{\"field\":\"y0\"},\"y1\":{\"field\":\"y1\"}},\"id\":\"f75f6270-3b96-47e6-aef2-cb52825bc30b\",\"type\":\"Segment\"},{\"attributes\":{},\"id\":\"d8c3c259-ee1b-415c-8bbb-772c589f97fb\",\"type\":\"UnionRenderers\"},{\"attributes\":{\"source\":{\"id\":\"74b8d844-5089-48ef-8a4d-ac512ea7f7ca\",\"type\":\"ColumnDataSource\"}},\"id\":\"782e3a78-7646-4c55-b605-58b92221ce6d\",\"type\":\"CDSView\"},{\"attributes\":{\"data_source\":{\"id\":\"74b8d844-5089-48ef-8a4d-ac512ea7f7ca\",\"type\":\"ColumnDataSource\"},\"glyph\":{\"id\":\"df6265b5-8148-4146-a72e-a89bbe97db19\",\"type\":\"Hex\"},\"hover_glyph\":null,\"muted_glyph\":null,\"nonselection_glyph\":{\"id\":\"825039c7-86b9-4343-a3f8-6b57d35a189e\",\"type\":\"Hex\"},\"selection_glyph\":null,\"view\":{\"id\":\"782e3a78-7646-4c55-b605-58b92221ce6d\",\"type\":\"CDSView\"}},\"id\":\"b192f57e-340c-4b33-976c-cf04c5b0e819\",\"type\":\"GlyphRenderer\"},{\"attributes\":{\"line_alpha\":{\"value\":0.1},\"line_color\":{\"value\":\"#1f77b4\"},\"line_width\":{\"field\":\"line_width\"},\"x0\":{\"field\":\"x0\"},\"x1\":{\"field\":\"x1\"},\"y0\":{\"field\":\"y0\"},\"y1\":{\"field\":\"y1\"}},\"id\":\"008809fe-0127-4982-9830-1d639c1045bc\",\"type\":\"Segment\"},{\"attributes\":{\"active_drag\":\"auto\",\"active_inspect\":\"auto\",\"active_scroll\":\"auto\",\"active_tap\":\"auto\",\"tools\":[{\"id\":\"88c42aff-8dc1-4d73-82dd-787ef62ec4e9\",\"type\":\"PanTool\"},{\"id\":\"f46e211b-7a3a-4cb6-8335-4e7dc1dd0162\",\"type\":\"WheelZoomTool\"},{\"id\":\"ebaf070f-243f-4cf7-970e-c189703ca7d0\",\"type\":\"BoxZoomTool\"},{\"id\":\"21931833-9628-4d40-b455-9023d79616ad\",\"type\":\"SaveTool\"},{\"id\":\"068f7dec-0455-42e2-a04b-145f939c8c4a\",\"type\":\"ResetTool\"},{\"id\":\"e060bfee-153b-483f-a69f-b225d8eb43d4\",\"type\":\"HelpTool\"}]},\"id\":\"e0c5a5e6-3c8a-4a92-993c-c704fb26a86e\",\"type\":\"Toolbar\"},{\"attributes\":{\"callback\":null},\"id\":\"c4be5168-de73-4326-8e6a-2b7b57515b10\",\"type\":\"DataRange1d\"},{\"attributes\":{},\"id\":\"50a25e02-3e6d-4279-a91e-0347f70778d5\",\"type\":\"UnionRenderers\"}],\"root_ids\":[\"e07a026f-0924-4278-8268-c04a17cb0409\"]},\"title\":\"Bokeh Application\",\"version\":\"0.12.16\"}};\n",
       "  var render_items = [{\"docid\":\"c07f72ab-54ba-4846-9760-d8a1d5505a95\",\"elementid\":\"856cac2f-d92a-4afe-8333-ba2751db0d1b\",\"modelid\":\"e07a026f-0924-4278-8268-c04a17cb0409\"}];\n",
       "  root.Bokeh.embed.embed_items_notebook(docs_json, render_items);\n",
       "\n",
       "  }\n",
       "  if (root.Bokeh !== undefined) {\n",
       "    embed_document(root);\n",
       "  } else {\n",
       "    var attempts = 0;\n",
       "    var timer = setInterval(function(root) {\n",
       "      if (root.Bokeh !== undefined) {\n",
       "        embed_document(root);\n",
       "        clearInterval(timer);\n",
       "      }\n",
       "      attempts++;\n",
       "      if (attempts > 100) {\n",
       "        console.log(\"Bokeh: ERROR: Unable to run BokehJS code because BokehJS library is missing\")\n",
       "        clearInterval(timer);\n",
       "      }\n",
       "    }, 10, root)\n",
       "  }\n",
       "})(window);"
      ],
      "application/vnd.bokehjs_exec.v0+json": ""
     },
     "metadata": {
      "application/vnd.bokehjs_exec.v0+json": {
       "id": "e07a026f-0924-4278-8268-c04a17cb0409"
      }
     },
     "output_type": "display_data"
    }
   ],
   "source": [
    "mult_plot = figure(title='Multiple markers', plot_height=400,plot_width=640)\n",
    "\n",
    "annulus_x = np.linspace(1,20,15);\n",
    "annulus_y = np.random.rand(15)*20;\n",
    "mult_plot.annulus(annulus_x,annulus_y,0.2,0.5,fill_color='orange',fill_alpha=0.2,line_color='orange')\n",
    "\n",
    "hex_x = np.linspace(1,20,100);\n",
    "hex_y = np.random.rand(100)*20;\n",
    "mult_plot.hex(hex_x,hex_y,20-hex_y,fill_color='red',fill_alpha=0.1,line_color='red',line_alpha=0.1)\n",
    "\n",
    "segment_x0 = [5,7.5,10]\n",
    "segment_y0 = [5,10,15]\n",
    "segment_x1 = [5,7.5,15]\n",
    "segment_y1 = [10,15,15]\n",
    "mult_plot.segment(segment_x0,segment_y0,\n",
    "                  segment_x1,segment_y1,\n",
    "                  line_width=[12,7,9],\n",
    "                  line_color='lavender',\n",
    "                  line_alpha=[0.6,0.7,0.9])\n",
    "\n",
    "show(mult_plot)"
   ]
  },
  {
   "cell_type": "markdown",
   "metadata": {},
   "source": [
    "## Shapes\n",
    "\n",
    "There are two main method of drawing larger shapes: [quad](https://bokeh.pydata.org/en/latest/docs/reference/models/glyphs/quad.html) and [patch](https://bokeh.pydata.org/en/latest/docs/reference/models/glyphs/patch.html#bokeh.models.glyphs.Patch). Quad is used for standard rectangular shape while patch is more general in that it can draw almost any shape."
   ]
  },
  {
   "cell_type": "code",
   "execution_count": 6,
   "metadata": {},
   "outputs": [
    {
     "data": {
      "text/html": [
       "\n",
       "<div class=\"bk-root\">\n",
       "    <div class=\"bk-plotdiv\" id=\"87c9f875-99ef-452e-9088-ee0bdc0c3a3c\"></div>\n",
       "</div>"
      ]
     },
     "metadata": {},
     "output_type": "display_data"
    },
    {
     "data": {
      "application/javascript": [
       "(function(root) {\n",
       "  function embed_document(root) {\n",
       "    \n",
       "  var docs_json = {\"7d65e4bf-9735-48d6-b56b-dc94ec9360fc\":{\"roots\":{\"references\":[{\"attributes\":{},\"id\":\"6a2be950-e43d-45e6-a1de-2630b035785b\",\"type\":\"LinearScale\"},{\"attributes\":{},\"id\":\"0c736876-e41d-4ff7-85f4-947aa764ca58\",\"type\":\"HelpTool\"},{\"attributes\":{},\"id\":\"c8736b2a-509d-499f-847d-a48778a28c62\",\"type\":\"SaveTool\"},{\"attributes\":{\"overlay\":{\"id\":\"18b4e264-5d9c-4092-ad16-88f8f78a0657\",\"type\":\"BoxAnnotation\"}},\"id\":\"d2e9ffad-d0ae-4cb1-a440-c7bb48000c44\",\"type\":\"BoxZoomTool\"},{\"attributes\":{},\"id\":\"509e9cd6-36db-4189-856e-d7b75af658f2\",\"type\":\"ResetTool\"},{\"attributes\":{},\"id\":\"7bcfd482-e96e-4f54-8911-f38b5888985e\",\"type\":\"WheelZoomTool\"},{\"attributes\":{\"source\":{\"id\":\"b3489c1a-6b4a-4720-a6fe-dc465584997d\",\"type\":\"ColumnDataSource\"}},\"id\":\"cbf7591a-ecc6-4229-8ca8-4b16538b7be9\",\"type\":\"CDSView\"},{\"attributes\":{},\"id\":\"7f77ac18-8d47-4089-b808-2955e8db8e2a\",\"type\":\"Selection\"},{\"attributes\":{},\"id\":\"00a8f3a2-91b5-443f-8ba5-f1d1a4e0f9e5\",\"type\":\"BasicTickFormatter\"},{\"attributes\":{\"callback\":null},\"id\":\"6559e019-4ef4-4687-8af9-c1ab007371a7\",\"type\":\"DataRange1d\"},{\"attributes\":{},\"id\":\"8747773e-abfb-4a90-9b3f-d6d24ec3ba64\",\"type\":\"UnionRenderers\"},{\"attributes\":{},\"id\":\"1110a394-fe4d-481e-8c53-2545c7144ee5\",\"type\":\"PanTool\"},{\"attributes\":{\"data_source\":{\"id\":\"b3489c1a-6b4a-4720-a6fe-dc465584997d\",\"type\":\"ColumnDataSource\"},\"glyph\":{\"id\":\"20261030-8425-4811-b279-82316b6cf1f3\",\"type\":\"Quad\"},\"hover_glyph\":null,\"muted_glyph\":null,\"nonselection_glyph\":{\"id\":\"d19e4406-8451-445c-a600-61405e91a66d\",\"type\":\"Quad\"},\"selection_glyph\":null,\"view\":{\"id\":\"cbf7591a-ecc6-4229-8ca8-4b16538b7be9\",\"type\":\"CDSView\"}},\"id\":\"49209196-2994-4934-afc9-db8279ffc0bc\",\"type\":\"GlyphRenderer\"},{\"attributes\":{\"bottom\":{\"field\":\"bottom\"},\"fill_alpha\":{\"value\":0.1},\"fill_color\":{\"value\":\"#1f77b4\"},\"left\":{\"field\":\"left\"},\"line_alpha\":{\"value\":0.1},\"line_color\":{\"value\":\"#1f77b4\"},\"right\":{\"field\":\"right\"},\"top\":{\"field\":\"top\"}},\"id\":\"d19e4406-8451-445c-a600-61405e91a66d\",\"type\":\"Quad\"},{\"attributes\":{\"plot\":null,\"text\":\"Quads\"},\"id\":\"0a167855-39d0-479d-95b8-ded0dba50449\",\"type\":\"Title\"},{\"attributes\":{\"bottom_units\":\"screen\",\"fill_alpha\":{\"value\":0.5},\"fill_color\":{\"value\":\"lightgrey\"},\"left_units\":\"screen\",\"level\":\"overlay\",\"line_alpha\":{\"value\":1.0},\"line_color\":{\"value\":\"black\"},\"line_dash\":[4,4],\"line_width\":{\"value\":2},\"plot\":null,\"render_mode\":\"css\",\"right_units\":\"screen\",\"top_units\":\"screen\"},\"id\":\"18b4e264-5d9c-4092-ad16-88f8f78a0657\",\"type\":\"BoxAnnotation\"},{\"attributes\":{\"plot\":{\"id\":\"f90ed972-e39c-4bf9-a966-1ec099eabae3\",\"subtype\":\"Figure\",\"type\":\"Plot\"},\"ticker\":{\"id\":\"6ee979d4-6d0c-4776-bb23-99fd68a8fd4e\",\"type\":\"BasicTicker\"}},\"id\":\"75bfc497-af7a-40f3-a2df-1fd986d30318\",\"type\":\"Grid\"},{\"attributes\":{\"callback\":null,\"data\":{\"bottom\":[1,3],\"fill_alpha\":[0.3,0.4],\"fill_color\":[\"orange\",\"blue\"],\"left\":[2,5],\"line_alpha\":[0.6,0.8],\"line_color\":[\"orange\",\"blue\"],\"right\":[4,8],\"top\":[5,5]},\"selected\":{\"id\":\"7f77ac18-8d47-4089-b808-2955e8db8e2a\",\"type\":\"Selection\"},\"selection_policy\":{\"id\":\"8747773e-abfb-4a90-9b3f-d6d24ec3ba64\",\"type\":\"UnionRenderers\"}},\"id\":\"b3489c1a-6b4a-4720-a6fe-dc465584997d\",\"type\":\"ColumnDataSource\"},{\"attributes\":{},\"id\":\"e3a50f2d-594e-4bf3-9353-c54f569b49a3\",\"type\":\"BasicTicker\"},{\"attributes\":{\"formatter\":{\"id\":\"7ad0108a-e836-470a-96b2-c22075f694eb\",\"type\":\"BasicTickFormatter\"},\"plot\":{\"id\":\"f90ed972-e39c-4bf9-a966-1ec099eabae3\",\"subtype\":\"Figure\",\"type\":\"Plot\"},\"ticker\":{\"id\":\"6ee979d4-6d0c-4776-bb23-99fd68a8fd4e\",\"type\":\"BasicTicker\"}},\"id\":\"d49bec0d-7c10-4822-ba24-7fd6ee9a7d3e\",\"type\":\"LinearAxis\"},{\"attributes\":{\"dimension\":1,\"plot\":{\"id\":\"f90ed972-e39c-4bf9-a966-1ec099eabae3\",\"subtype\":\"Figure\",\"type\":\"Plot\"},\"ticker\":{\"id\":\"e3a50f2d-594e-4bf3-9353-c54f569b49a3\",\"type\":\"BasicTicker\"}},\"id\":\"6bea3352-8d1a-46c7-9abc-03ede5383311\",\"type\":\"Grid\"},{\"attributes\":{},\"id\":\"6ee979d4-6d0c-4776-bb23-99fd68a8fd4e\",\"type\":\"BasicTicker\"},{\"attributes\":{\"below\":[{\"id\":\"d49bec0d-7c10-4822-ba24-7fd6ee9a7d3e\",\"type\":\"LinearAxis\"}],\"left\":[{\"id\":\"c52c5356-7a5c-4060-8c00-af70fa1c46c8\",\"type\":\"LinearAxis\"}],\"plot_height\":400,\"plot_width\":640,\"renderers\":[{\"id\":\"d49bec0d-7c10-4822-ba24-7fd6ee9a7d3e\",\"type\":\"LinearAxis\"},{\"id\":\"75bfc497-af7a-40f3-a2df-1fd986d30318\",\"type\":\"Grid\"},{\"id\":\"c52c5356-7a5c-4060-8c00-af70fa1c46c8\",\"type\":\"LinearAxis\"},{\"id\":\"6bea3352-8d1a-46c7-9abc-03ede5383311\",\"type\":\"Grid\"},{\"id\":\"18b4e264-5d9c-4092-ad16-88f8f78a0657\",\"type\":\"BoxAnnotation\"},{\"id\":\"49209196-2994-4934-afc9-db8279ffc0bc\",\"type\":\"GlyphRenderer\"}],\"title\":{\"id\":\"0a167855-39d0-479d-95b8-ded0dba50449\",\"type\":\"Title\"},\"toolbar\":{\"id\":\"bc487f8c-0746-452c-ad02-313112a546a7\",\"type\":\"Toolbar\"},\"x_range\":{\"id\":\"19df69b0-4666-4bc8-93fd-55572d8d894e\",\"type\":\"DataRange1d\"},\"x_scale\":{\"id\":\"6a2be950-e43d-45e6-a1de-2630b035785b\",\"type\":\"LinearScale\"},\"y_range\":{\"id\":\"6559e019-4ef4-4687-8af9-c1ab007371a7\",\"type\":\"DataRange1d\"},\"y_scale\":{\"id\":\"a9f49045-ba05-413c-b1df-3d4f5457b344\",\"type\":\"LinearScale\"}},\"id\":\"f90ed972-e39c-4bf9-a966-1ec099eabae3\",\"subtype\":\"Figure\",\"type\":\"Plot\"},{\"attributes\":{\"bottom\":{\"field\":\"bottom\"},\"fill_alpha\":{\"field\":\"fill_alpha\"},\"fill_color\":{\"field\":\"fill_color\"},\"left\":{\"field\":\"left\"},\"line_alpha\":{\"field\":\"line_alpha\"},\"line_color\":{\"field\":\"line_color\"},\"right\":{\"field\":\"right\"},\"top\":{\"field\":\"top\"}},\"id\":\"20261030-8425-4811-b279-82316b6cf1f3\",\"type\":\"Quad\"},{\"attributes\":{},\"id\":\"a9f49045-ba05-413c-b1df-3d4f5457b344\",\"type\":\"LinearScale\"},{\"attributes\":{\"active_drag\":\"auto\",\"active_inspect\":\"auto\",\"active_scroll\":\"auto\",\"active_tap\":\"auto\",\"tools\":[{\"id\":\"1110a394-fe4d-481e-8c53-2545c7144ee5\",\"type\":\"PanTool\"},{\"id\":\"7bcfd482-e96e-4f54-8911-f38b5888985e\",\"type\":\"WheelZoomTool\"},{\"id\":\"d2e9ffad-d0ae-4cb1-a440-c7bb48000c44\",\"type\":\"BoxZoomTool\"},{\"id\":\"c8736b2a-509d-499f-847d-a48778a28c62\",\"type\":\"SaveTool\"},{\"id\":\"509e9cd6-36db-4189-856e-d7b75af658f2\",\"type\":\"ResetTool\"},{\"id\":\"0c736876-e41d-4ff7-85f4-947aa764ca58\",\"type\":\"HelpTool\"}]},\"id\":\"bc487f8c-0746-452c-ad02-313112a546a7\",\"type\":\"Toolbar\"},{\"attributes\":{\"callback\":null},\"id\":\"19df69b0-4666-4bc8-93fd-55572d8d894e\",\"type\":\"DataRange1d\"},{\"attributes\":{\"formatter\":{\"id\":\"00a8f3a2-91b5-443f-8ba5-f1d1a4e0f9e5\",\"type\":\"BasicTickFormatter\"},\"plot\":{\"id\":\"f90ed972-e39c-4bf9-a966-1ec099eabae3\",\"subtype\":\"Figure\",\"type\":\"Plot\"},\"ticker\":{\"id\":\"e3a50f2d-594e-4bf3-9353-c54f569b49a3\",\"type\":\"BasicTicker\"}},\"id\":\"c52c5356-7a5c-4060-8c00-af70fa1c46c8\",\"type\":\"LinearAxis\"},{\"attributes\":{},\"id\":\"7ad0108a-e836-470a-96b2-c22075f694eb\",\"type\":\"BasicTickFormatter\"}],\"root_ids\":[\"f90ed972-e39c-4bf9-a966-1ec099eabae3\"]},\"title\":\"Bokeh Application\",\"version\":\"0.12.16\"}};\n",
       "  var render_items = [{\"docid\":\"7d65e4bf-9735-48d6-b56b-dc94ec9360fc\",\"elementid\":\"87c9f875-99ef-452e-9088-ee0bdc0c3a3c\",\"modelid\":\"f90ed972-e39c-4bf9-a966-1ec099eabae3\"}];\n",
       "  root.Bokeh.embed.embed_items_notebook(docs_json, render_items);\n",
       "\n",
       "  }\n",
       "  if (root.Bokeh !== undefined) {\n",
       "    embed_document(root);\n",
       "  } else {\n",
       "    var attempts = 0;\n",
       "    var timer = setInterval(function(root) {\n",
       "      if (root.Bokeh !== undefined) {\n",
       "        embed_document(root);\n",
       "        clearInterval(timer);\n",
       "      }\n",
       "      attempts++;\n",
       "      if (attempts > 100) {\n",
       "        console.log(\"Bokeh: ERROR: Unable to run BokehJS code because BokehJS library is missing\")\n",
       "        clearInterval(timer);\n",
       "      }\n",
       "    }, 10, root)\n",
       "  }\n",
       "})(window);"
      ],
      "application/vnd.bokehjs_exec.v0+json": ""
     },
     "metadata": {
      "application/vnd.bokehjs_exec.v0+json": {
       "id": "f90ed972-e39c-4bf9-a966-1ec099eabae3"
      }
     },
     "output_type": "display_data"
    }
   ],
   "source": [
    "quad_plot = figure(title='Quads', plot_height=400,plot_width=640)\n",
    "\n",
    "quad_plot.quad(\n",
    "        bottom=[1,3],\n",
    "        top=[5,5],\n",
    "        left=[2,5],\n",
    "        right=[4,8],\n",
    "      \n",
    "        fill_color=['orange','blue'],\n",
    "        fill_alpha=[0.3,0.4],\n",
    "        line_color=['orange','blue'],\n",
    "        line_alpha=[0.6,0.8])\n",
    "\n",
    "show(quad_plot)"
   ]
  },
  {
   "cell_type": "code",
   "execution_count": 7,
   "metadata": {},
   "outputs": [
    {
     "data": {
      "text/html": [
       "\n",
       "<div class=\"bk-root\">\n",
       "    <div class=\"bk-plotdiv\" id=\"d7a33669-099f-4266-aaee-ee8070ed72c3\"></div>\n",
       "</div>"
      ]
     },
     "metadata": {},
     "output_type": "display_data"
    },
    {
     "data": {
      "application/javascript": [
       "(function(root) {\n",
       "  function embed_document(root) {\n",
       "    \n",
       "  var docs_json = {\"5545bcc4-4d0f-423a-875b-7166560536a1\":{\"roots\":{\"references\":[{\"attributes\":{\"dimension\":1,\"plot\":{\"id\":\"770f82fa-f46c-42ef-a670-9ba8e9d49c72\",\"subtype\":\"Figure\",\"type\":\"Plot\"},\"ticker\":{\"id\":\"1dce896b-43f6-4f18-be10-1d88323692d8\",\"type\":\"BasicTicker\"}},\"id\":\"e9ace0c8-cf4b-45b1-ab99-b7f5d6f3d274\",\"type\":\"Grid\"},{\"attributes\":{\"fill_alpha\":0.3,\"fill_color\":\"orange\",\"line_alpha\":0.6,\"line_color\":\"orange\",\"x\":{\"field\":\"x\"},\"y\":{\"field\":\"y\"}},\"id\":\"cc354771-89de-4183-91a4-aaa59a0132d2\",\"type\":\"Patch\"},{\"attributes\":{\"formatter\":{\"id\":\"d130f93d-d82f-42d4-9653-df65289be5c4\",\"type\":\"BasicTickFormatter\"},\"plot\":{\"id\":\"770f82fa-f46c-42ef-a670-9ba8e9d49c72\",\"subtype\":\"Figure\",\"type\":\"Plot\"},\"ticker\":{\"id\":\"1dce896b-43f6-4f18-be10-1d88323692d8\",\"type\":\"BasicTicker\"}},\"id\":\"d57827bc-8d61-4105-aa88-f9722ea0d292\",\"type\":\"LinearAxis\"},{\"attributes\":{},\"id\":\"1dce896b-43f6-4f18-be10-1d88323692d8\",\"type\":\"BasicTicker\"},{\"attributes\":{},\"id\":\"f139136a-8f11-4fd7-9d54-6614fa9383cd\",\"type\":\"HelpTool\"},{\"attributes\":{\"below\":[{\"id\":\"fec6283d-c419-4d5a-a3a5-75ae276eca13\",\"type\":\"LinearAxis\"}],\"left\":[{\"id\":\"d57827bc-8d61-4105-aa88-f9722ea0d292\",\"type\":\"LinearAxis\"}],\"plot_height\":400,\"plot_width\":640,\"renderers\":[{\"id\":\"fec6283d-c419-4d5a-a3a5-75ae276eca13\",\"type\":\"LinearAxis\"},{\"id\":\"bf0f5c35-b815-46c7-83ea-c80da99fffff\",\"type\":\"Grid\"},{\"id\":\"d57827bc-8d61-4105-aa88-f9722ea0d292\",\"type\":\"LinearAxis\"},{\"id\":\"e9ace0c8-cf4b-45b1-ab99-b7f5d6f3d274\",\"type\":\"Grid\"},{\"id\":\"a4696892-c209-4f6d-a06f-89f9ca4cd84a\",\"type\":\"BoxAnnotation\"},{\"id\":\"fbce29c1-4dc2-4a68-ab5b-2de7d185013b\",\"type\":\"GlyphRenderer\"}],\"title\":{\"id\":\"40508f0d-1a07-4976-ba08-16b7fb94701d\",\"type\":\"Title\"},\"toolbar\":{\"id\":\"b9fbdeb4-213b-49ad-84a2-44c5bda95f64\",\"type\":\"Toolbar\"},\"x_range\":{\"id\":\"44b66647-d108-4a90-92e3-d3466ca5a22c\",\"type\":\"DataRange1d\"},\"x_scale\":{\"id\":\"c62c66b6-e74d-41c0-9c2d-ebb1cdb3f32c\",\"type\":\"LinearScale\"},\"y_range\":{\"id\":\"e9651c73-9dcc-444f-8098-03e8062fcfb8\",\"type\":\"DataRange1d\"},\"y_scale\":{\"id\":\"233e6efa-e433-463f-9295-e41aa41cd0d6\",\"type\":\"LinearScale\"}},\"id\":\"770f82fa-f46c-42ef-a670-9ba8e9d49c72\",\"subtype\":\"Figure\",\"type\":\"Plot\"},{\"attributes\":{\"plot\":{\"id\":\"770f82fa-f46c-42ef-a670-9ba8e9d49c72\",\"subtype\":\"Figure\",\"type\":\"Plot\"},\"ticker\":{\"id\":\"03869ee7-0292-4224-b30d-2c3a238f0c0c\",\"type\":\"BasicTicker\"}},\"id\":\"bf0f5c35-b815-46c7-83ea-c80da99fffff\",\"type\":\"Grid\"},{\"attributes\":{\"callback\":null},\"id\":\"e9651c73-9dcc-444f-8098-03e8062fcfb8\",\"type\":\"DataRange1d\"},{\"attributes\":{},\"id\":\"175c8a2d-5927-4fbd-985b-48c94322f18d\",\"type\":\"BasicTickFormatter\"},{\"attributes\":{},\"id\":\"24e9d896-8dc1-4d50-a682-af6dd1989664\",\"type\":\"WheelZoomTool\"},{\"attributes\":{},\"id\":\"03869ee7-0292-4224-b30d-2c3a238f0c0c\",\"type\":\"BasicTicker\"},{\"attributes\":{},\"id\":\"fd5d361f-cada-4d15-bd68-04b4a69245c9\",\"type\":\"Selection\"},{\"attributes\":{\"formatter\":{\"id\":\"175c8a2d-5927-4fbd-985b-48c94322f18d\",\"type\":\"BasicTickFormatter\"},\"plot\":{\"id\":\"770f82fa-f46c-42ef-a670-9ba8e9d49c72\",\"subtype\":\"Figure\",\"type\":\"Plot\"},\"ticker\":{\"id\":\"03869ee7-0292-4224-b30d-2c3a238f0c0c\",\"type\":\"BasicTicker\"}},\"id\":\"fec6283d-c419-4d5a-a3a5-75ae276eca13\",\"type\":\"LinearAxis\"},{\"attributes\":{},\"id\":\"233e6efa-e433-463f-9295-e41aa41cd0d6\",\"type\":\"LinearScale\"},{\"attributes\":{\"active_drag\":\"auto\",\"active_inspect\":\"auto\",\"active_scroll\":\"auto\",\"active_tap\":\"auto\",\"tools\":[{\"id\":\"e7526850-d235-4acb-af5d-08d3089076d5\",\"type\":\"PanTool\"},{\"id\":\"24e9d896-8dc1-4d50-a682-af6dd1989664\",\"type\":\"WheelZoomTool\"},{\"id\":\"6ce1d384-3293-43b1-a28f-8458161932fc\",\"type\":\"BoxZoomTool\"},{\"id\":\"2f0e4335-8b77-4407-a9c4-48689e80cdf4\",\"type\":\"SaveTool\"},{\"id\":\"eacfab42-7818-424e-a696-17ea6489d50b\",\"type\":\"ResetTool\"},{\"id\":\"f139136a-8f11-4fd7-9d54-6614fa9383cd\",\"type\":\"HelpTool\"}]},\"id\":\"b9fbdeb4-213b-49ad-84a2-44c5bda95f64\",\"type\":\"Toolbar\"},{\"attributes\":{},\"id\":\"6b35ce28-4b51-4147-afb2-75660106337b\",\"type\":\"UnionRenderers\"},{\"attributes\":{\"fill_alpha\":0.1,\"fill_color\":\"#1f77b4\",\"line_alpha\":0.1,\"line_color\":\"#1f77b4\",\"x\":{\"field\":\"x\"},\"y\":{\"field\":\"y\"}},\"id\":\"d8351824-7f89-4bd8-8fd5-480e7cd51e70\",\"type\":\"Patch\"},{\"attributes\":{},\"id\":\"2f0e4335-8b77-4407-a9c4-48689e80cdf4\",\"type\":\"SaveTool\"},{\"attributes\":{\"callback\":null,\"data\":{\"x\":[1,2,3,4,5,4,3,2,1],\"y\":[3,4,4,6,5,3,1,1,2]},\"selected\":{\"id\":\"fd5d361f-cada-4d15-bd68-04b4a69245c9\",\"type\":\"Selection\"},\"selection_policy\":{\"id\":\"6b35ce28-4b51-4147-afb2-75660106337b\",\"type\":\"UnionRenderers\"}},\"id\":\"020ba63f-1494-4fa0-8008-aed66cae50c6\",\"type\":\"ColumnDataSource\"},{\"attributes\":{\"plot\":null,\"text\":\"Patch\"},\"id\":\"40508f0d-1a07-4976-ba08-16b7fb94701d\",\"type\":\"Title\"},{\"attributes\":{},\"id\":\"d130f93d-d82f-42d4-9653-df65289be5c4\",\"type\":\"BasicTickFormatter\"},{\"attributes\":{},\"id\":\"eacfab42-7818-424e-a696-17ea6489d50b\",\"type\":\"ResetTool\"},{\"attributes\":{},\"id\":\"e7526850-d235-4acb-af5d-08d3089076d5\",\"type\":\"PanTool\"},{\"attributes\":{\"source\":{\"id\":\"020ba63f-1494-4fa0-8008-aed66cae50c6\",\"type\":\"ColumnDataSource\"}},\"id\":\"671aaf25-aaff-4dc7-a3d3-f10f003dbb7e\",\"type\":\"CDSView\"},{\"attributes\":{\"bottom_units\":\"screen\",\"fill_alpha\":{\"value\":0.5},\"fill_color\":{\"value\":\"lightgrey\"},\"left_units\":\"screen\",\"level\":\"overlay\",\"line_alpha\":{\"value\":1.0},\"line_color\":{\"value\":\"black\"},\"line_dash\":[4,4],\"line_width\":{\"value\":2},\"plot\":null,\"render_mode\":\"css\",\"right_units\":\"screen\",\"top_units\":\"screen\"},\"id\":\"a4696892-c209-4f6d-a06f-89f9ca4cd84a\",\"type\":\"BoxAnnotation\"},{\"attributes\":{},\"id\":\"c62c66b6-e74d-41c0-9c2d-ebb1cdb3f32c\",\"type\":\"LinearScale\"},{\"attributes\":{\"callback\":null},\"id\":\"44b66647-d108-4a90-92e3-d3466ca5a22c\",\"type\":\"DataRange1d\"},{\"attributes\":{\"data_source\":{\"id\":\"020ba63f-1494-4fa0-8008-aed66cae50c6\",\"type\":\"ColumnDataSource\"},\"glyph\":{\"id\":\"cc354771-89de-4183-91a4-aaa59a0132d2\",\"type\":\"Patch\"},\"hover_glyph\":null,\"muted_glyph\":null,\"nonselection_glyph\":{\"id\":\"d8351824-7f89-4bd8-8fd5-480e7cd51e70\",\"type\":\"Patch\"},\"selection_glyph\":null,\"view\":{\"id\":\"671aaf25-aaff-4dc7-a3d3-f10f003dbb7e\",\"type\":\"CDSView\"}},\"id\":\"fbce29c1-4dc2-4a68-ab5b-2de7d185013b\",\"type\":\"GlyphRenderer\"},{\"attributes\":{\"overlay\":{\"id\":\"a4696892-c209-4f6d-a06f-89f9ca4cd84a\",\"type\":\"BoxAnnotation\"}},\"id\":\"6ce1d384-3293-43b1-a28f-8458161932fc\",\"type\":\"BoxZoomTool\"}],\"root_ids\":[\"770f82fa-f46c-42ef-a670-9ba8e9d49c72\"]},\"title\":\"Bokeh Application\",\"version\":\"0.12.16\"}};\n",
       "  var render_items = [{\"docid\":\"5545bcc4-4d0f-423a-875b-7166560536a1\",\"elementid\":\"d7a33669-099f-4266-aaee-ee8070ed72c3\",\"modelid\":\"770f82fa-f46c-42ef-a670-9ba8e9d49c72\"}];\n",
       "  root.Bokeh.embed.embed_items_notebook(docs_json, render_items);\n",
       "\n",
       "  }\n",
       "  if (root.Bokeh !== undefined) {\n",
       "    embed_document(root);\n",
       "  } else {\n",
       "    var attempts = 0;\n",
       "    var timer = setInterval(function(root) {\n",
       "      if (root.Bokeh !== undefined) {\n",
       "        embed_document(root);\n",
       "        clearInterval(timer);\n",
       "      }\n",
       "      attempts++;\n",
       "      if (attempts > 100) {\n",
       "        console.log(\"Bokeh: ERROR: Unable to run BokehJS code because BokehJS library is missing\")\n",
       "        clearInterval(timer);\n",
       "      }\n",
       "    }, 10, root)\n",
       "  }\n",
       "})(window);"
      ],
      "application/vnd.bokehjs_exec.v0+json": ""
     },
     "metadata": {
      "application/vnd.bokehjs_exec.v0+json": {
       "id": "770f82fa-f46c-42ef-a670-9ba8e9d49c72"
      }
     },
     "output_type": "display_data"
    }
   ],
   "source": [
    "patch_plot = figure(title='Patch', plot_height=400,plot_width=640)\n",
    "\n",
    "patch_plot.patch(\n",
    "        [1,2,3,4,5,4,3,2,1],\n",
    "        [3,4,4,6,5,3,1,1,2],\n",
    "        fill_color='orange',\n",
    "        fill_alpha=0.3,\n",
    "        line_color='orange',\n",
    "        line_alpha=0.6)\n",
    "\n",
    "show(patch_plot)"
   ]
  },
  {
   "cell_type": "markdown",
   "metadata": {},
   "source": [
    "## Importing data\n",
    "\n",
    "For CSV file, I find it easier to use panda rather than NumPy since `read_csv()` is very powerful. You can use panda dataframes as input for your plots, because after all they are NumPy arrays. "
   ]
  },
  {
   "cell_type": "code",
   "execution_count": 44,
   "metadata": {},
   "outputs": [
    {
     "data": {
      "text/html": [
       "\n",
       "<div class=\"bk-root\">\n",
       "    <div class=\"bk-plotdiv\" id=\"faa51e8b-8d93-4715-8469-9748a698d62e\"></div>\n",
       "</div>"
      ]
     },
     "metadata": {},
     "output_type": "display_data"
    },
    {
     "data": {
      "application/javascript": [
       "(function(root) {\n",
       "  function embed_document(root) {\n",
       "    \n",
       "  var docs_json = {\"f5e953ab-f5da-4a61-91de-7857402931cc\":{\"roots\":{\"references\":[{\"attributes\":{\"callback\":null},\"id\":\"72244a7f-4505-457a-a76d-9cfe4832c660\",\"type\":\"DataRange1d\"},{\"attributes\":{\"line_color\":\"purple\",\"x\":{\"field\":\"x\"},\"y\":{\"field\":\"y\"}},\"id\":\"44cd3cb7-060b-4b82-b43d-faf7513ff18e\",\"type\":\"Line\"},{\"attributes\":{},\"id\":\"704f970b-1c78-4a03-b353-23af8ed36024\",\"type\":\"BasicTickFormatter\"},{\"attributes\":{\"formatter\":{\"id\":\"704f970b-1c78-4a03-b353-23af8ed36024\",\"type\":\"BasicTickFormatter\"},\"plot\":{\"id\":\"5db12e66-1532-4b74-93f7-8464c26fb1d6\",\"subtype\":\"Figure\",\"type\":\"Plot\"},\"ticker\":{\"id\":\"41d8505e-4bfc-484e-bd46-8f06bc453e15\",\"type\":\"BasicTicker\"}},\"id\":\"fca87510-8e16-4ed8-b1dd-b843964d36aa\",\"type\":\"LinearAxis\"},{\"attributes\":{},\"id\":\"9f667a1e-f002-4813-b973-658c4653cd5d\",\"type\":\"Selection\"},{\"attributes\":{\"plot\":{\"id\":\"5db12e66-1532-4b74-93f7-8464c26fb1d6\",\"subtype\":\"Figure\",\"type\":\"Plot\"},\"ticker\":{\"id\":\"41d8505e-4bfc-484e-bd46-8f06bc453e15\",\"type\":\"BasicTicker\"}},\"id\":\"d2398dbc-0108-4ab0-8f45-15dbdaecdce8\",\"type\":\"Grid\"},{\"attributes\":{},\"id\":\"576e1e69-7928-45d8-9d23-93207dcef82b\",\"type\":\"SaveTool\"},{\"attributes\":{\"callback\":null,\"data\":{\"x\":[1915,1916,1917,1918,1919,1920,1921,1922,1923,1924,1925,1926,1927,1928,1929,1930,1931,1932,1933,1934,1935,1936,1937,1938,1939,1940,1941,1942,1943,1944,1945,1946,1947,1948,1949,1950,1951,1952,1953,1954,1955,1956,1957,1958,1959,1960,1961,1962,1963,1964,1965,1966,1967,1968,1969,1970,1971,1972,1973,1974,1975,1976,1977,1978,1979,1980,1981,1982,1983,1984,1985,1986,1987,1988,1989,1990,1991,1992,1993,1994,1995,1996,1997,1998,1999,2000,2001,2002,2003,2004],\"y\":{\"__ndarray__\":\"pHA9Ctej4D/hehSuR+HaP4XrUbgehds/uB6F61G43j+PwvUoXI/qP9ejcD0K1+M/rkfhehSu1z+F61G4HoXbP+xRuB6F69E/cT0K16Nw3T9I4XoUrkfRP4/C9Shcj+I/PQrXo3A94j9SuB6F61HgPwAAAAAAAOg/w/UoXI/C5T+kcD0K16PoP3E9CtejcN0/AAAAAAAA4D/hehSuR+HaP4XrUbgeheM/cT0K16Nw3T89CtejcD3iP2ZmZmZmZtY/9ihcj8L12D+PwvUoXI/iP7gehetRuM4/uB6F61G4zj+kcD0K16PQP+F6FK5H4do/rkfhehSu1z9SuB6F61HYPz0K16NwPdo/9ihcj8L12D+4HoXrUbjOP3sUrkfhesQ/KVyPwvUo3D9SuB6F61HgP65H4XoUrtc/hetRuB6F2z89CtejcD3aPx+F61G4HtU/pHA9Ctej4D+amZmZmZnhP5qZmZmZmeE/AAAAAAAA4D/2KFyPwvXgPzMzMzMzM+M/7FG4HoXr4T89CtejcD3iPwAAAAAAAOA/SOF6FK5H4T/sUbgehevhPxSuR+F6FOY/KVyPwvUo3D89CtejcD3iPzMzMzMzM+M/FK5H4XoU3j/hehSuR+HiPzMzMzMzM+M/KVyPwvUo5D+F61G4HoXjP2ZmZmZmZuY/uB6F61G43j9mZmZmZmbmP2ZmZmZmZuY/MzMzMzMz4z9mZmZmZmbmPzMzMzMzM+M/mpmZmZmZ6T8zMzMzMzPjPzMzMzMzM+M/MzMzMzMz4z9mZmZmZmbmPwAAAAAAAOA/AAAAAAAA4D8AAAAAAADgPzMzMzMzM+M/H4XrUbge1T9I4XoUrkfRP3sUrkfhetQ/SOF6FK5H4T89CtejcD3aP4/C9Shcj9I/H4XrUbge1T/Xo3A9CtfTP6RwPQrXo9A/4XoUrkfhyj9SuB6F61HIP3sUrkfhesQ/\",\"dtype\":\"float64\",\"shape\":[90]}},\"selected\":{\"id\":\"9f667a1e-f002-4813-b973-658c4653cd5d\",\"type\":\"Selection\"},\"selection_policy\":{\"id\":\"ac4a3598-bdc4-43c6-8df6-7fafa37716e9\",\"type\":\"UnionRenderers\"}},\"id\":\"841a1eab-29e6-49f6-af74-374a04984363\",\"type\":\"ColumnDataSource\"},{\"attributes\":{},\"id\":\"ab2320ac-5d96-487a-b0d1-ac6e76f83b36\",\"type\":\"HelpTool\"},{\"attributes\":{\"bottom_units\":\"screen\",\"fill_alpha\":{\"value\":0.5},\"fill_color\":{\"value\":\"lightgrey\"},\"left_units\":\"screen\",\"level\":\"overlay\",\"line_alpha\":{\"value\":1.0},\"line_color\":{\"value\":\"black\"},\"line_dash\":[4,4],\"line_width\":{\"value\":2},\"plot\":null,\"render_mode\":\"css\",\"right_units\":\"screen\",\"top_units\":\"screen\"},\"id\":\"9f00bd05-6319-4f6d-8634-1b72953b55b4\",\"type\":\"BoxAnnotation\"},{\"attributes\":{\"line_alpha\":0.1,\"line_color\":\"#1f77b4\",\"x\":{\"field\":\"x\"},\"y\":{\"field\":\"y\"}},\"id\":\"41362f95-8b46-4daf-b2b7-05349794b85f\",\"type\":\"Line\"},{\"attributes\":{\"active_drag\":\"auto\",\"active_inspect\":\"auto\",\"active_scroll\":\"auto\",\"active_tap\":\"auto\",\"tools\":[{\"id\":\"a8fadd04-1116-445e-a0db-8e638dc1f3bb\",\"type\":\"PanTool\"},{\"id\":\"fdee8b9e-00a7-42fd-a6b0-e57c2a724317\",\"type\":\"WheelZoomTool\"},{\"id\":\"12fcdaac-1a8c-41b0-bbee-ebdfe1c06509\",\"type\":\"BoxZoomTool\"},{\"id\":\"576e1e69-7928-45d8-9d23-93207dcef82b\",\"type\":\"SaveTool\"},{\"id\":\"110e89c8-8104-436a-99da-5fa8a63d306b\",\"type\":\"ResetTool\"},{\"id\":\"ab2320ac-5d96-487a-b0d1-ac6e76f83b36\",\"type\":\"HelpTool\"}]},\"id\":\"17ebb1ab-54ac-439a-8da3-18be6e075010\",\"type\":\"Toolbar\"},{\"attributes\":{},\"id\":\"f5136a06-3a5c-4466-9fda-a56fbbc4e9e7\",\"type\":\"LinearScale\"},{\"attributes\":{\"overlay\":{\"id\":\"9f00bd05-6319-4f6d-8634-1b72953b55b4\",\"type\":\"BoxAnnotation\"}},\"id\":\"12fcdaac-1a8c-41b0-bbee-ebdfe1c06509\",\"type\":\"BoxZoomTool\"},{\"attributes\":{\"below\":[{\"id\":\"fca87510-8e16-4ed8-b1dd-b843964d36aa\",\"type\":\"LinearAxis\"}],\"left\":[{\"id\":\"72d5e59a-4e3c-4ac4-bc98-1ce78bcebe90\",\"type\":\"LinearAxis\"}],\"plot_height\":300,\"plot_width\":900,\"renderers\":[{\"id\":\"fca87510-8e16-4ed8-b1dd-b843964d36aa\",\"type\":\"LinearAxis\"},{\"id\":\"d2398dbc-0108-4ab0-8f45-15dbdaecdce8\",\"type\":\"Grid\"},{\"id\":\"72d5e59a-4e3c-4ac4-bc98-1ce78bcebe90\",\"type\":\"LinearAxis\"},{\"id\":\"741c9820-001b-4c2f-be14-fea2d36c1c89\",\"type\":\"Grid\"},{\"id\":\"9f00bd05-6319-4f6d-8634-1b72953b55b4\",\"type\":\"BoxAnnotation\"},{\"id\":\"be16c1eb-31e2-4824-8d49-673c5ce10690\",\"type\":\"Legend\"},{\"id\":\"9b0daf4c-b08c-42e2-9501-fda2d595b20c\",\"type\":\"GlyphRenderer\"},{\"id\":\"8bab3802-5183-4fbe-a9b5-90cf11d7e12f\",\"type\":\"GlyphRenderer\"}],\"title\":{\"id\":\"a93d5d5f-1ef1-4d52-bfb4-1353bc3ac7f7\",\"type\":\"Title\"},\"toolbar\":{\"id\":\"17ebb1ab-54ac-439a-8da3-18be6e075010\",\"type\":\"Toolbar\"},\"x_range\":{\"id\":\"ca3c2e27-c0c4-4f31-81d8-9a49378abcb9\",\"type\":\"DataRange1d\"},\"x_scale\":{\"id\":\"bdc90d16-cb24-4a50-a219-ecb1ed2a7f12\",\"type\":\"LinearScale\"},\"y_range\":{\"id\":\"72244a7f-4505-457a-a76d-9cfe4832c660\",\"type\":\"DataRange1d\"},\"y_scale\":{\"id\":\"f5136a06-3a5c-4466-9fda-a56fbbc4e9e7\",\"type\":\"LinearScale\"}},\"id\":\"5db12e66-1532-4b74-93f7-8464c26fb1d6\",\"subtype\":\"Figure\",\"type\":\"Plot\"},{\"attributes\":{\"source\":{\"id\":\"841a1eab-29e6-49f6-af74-374a04984363\",\"type\":\"ColumnDataSource\"}},\"id\":\"b3676f96-ca13-47b7-8b27-7a27cfd5467f\",\"type\":\"CDSView\"},{\"attributes\":{},\"id\":\"a8fadd04-1116-445e-a0db-8e638dc1f3bb\",\"type\":\"PanTool\"},{\"attributes\":{},\"id\":\"fdee8b9e-00a7-42fd-a6b0-e57c2a724317\",\"type\":\"WheelZoomTool\"},{\"attributes\":{\"callback\":null,\"data\":{\"x\":[1915,1916,1917,1918,1919,1920,1921,1922,1923,1924,1925,1926,1927,1928,1929,1930,1931,1932,1933,1934,1935,1936,1937,1938,1939,1940,1941,1942,1943,1944,1945,1946,1947,1948,1949,1950,1951,1952,1953,1954,1955,1956,1957,1958,1959,1960,1961,1962,1963,1964,1965,1966,1967,1968,1969,1970,1971,1972,1973,1974,1975,1976,1977,1978,1979,1980,1981,1982,1983,1984,1985,1986,1987,1988,1989,1990,1991,1992,1993,1994,1995,1996,1997,1998,1999,2000,2001,2002,2003,2004],\"y\":{\"__ndarray__\":\"VOOlm8QgEEAEVg4tsp0NQKabxCCwcghAc2iR7Xw/CkDhehSuR+EHQFpkO99PjQ1AAyuHFtnOCUCF61G4HoUBQM3MzMzMzARApHA9CtejCEBxPQrXo3AHQPyp8dJNYgdA4XoUrkfhCUB3vp8aL90HQBKDwMqhRQpA2/l+arx0DkBI4XoUrkcOQF+6SQwCKwVAI9v5fmq8CECkcD0K16MJQEFg5dAi2whAI9v5fmq8C0CsHFpkO98HQFg5tMh2vglABFYOLbKdBkDb+X5qvHQJQBbZzvdT4wFA3SQGgZVDAEBSuB6F61H6P0A1XrpJDPo/DQIrhxbZ+j/ZzvdT46UCQMHKoUW28wNAdJMYBFYOAkBzaJHtfD8FQDEIrBxaZAJAzczMzMzMBEBcj8L1KFwIQIgW2c73UwZAN4lBYOXQCUAj2/l+arwHQE+Nl24SgwdA001iEFg5CkAxCKwcWmQLQC/dJAaBlQhA1HjpJjEIBkBI4XoUrkcHQDEIrBxaZAlAJQaBlUOLCEC4HoXrUbgIQKjGSzeJQQdAppvEILByB0Bpke18PzUIQIXrUbgehQdAu0kMAiuHBUAv3SQGgZUJQM/3U+OlmwhAtvP91HjpBkDpJjEIrBwIQAaBlUOLbAhA7FG4HoXrBkDb+X5qvHQIQHjpJjEIrAdAarx0kxgECkBt5/up8dIMQJZDi2zn+wtAxks3iUFgCkA3iUFg5dAMQGZmZmZmZgpAne+nxks3C0CgGi/dJAYMQJ3vp8ZLNwtAyqFFtvP9C0CamZmZmZkJQJqZmZmZmQVAnMQgsHJoBkD91HjpJjEHQJzEILByaAZAMzMzMzMzA0DTTWIQWDkDQARWDi2ynQFAbef7qfHSAED4U+Olm8T8PwisHFpkO/M/ZmZmZmZm9j+d76fGSzfzP/hT46WbxPQ/mpmZmZmZ8T9qvHSTGATwP42XbhKDwOo/\",\"dtype\":\"float64\",\"shape\":[90]}},\"selected\":{\"id\":\"f3e794d2-af8b-4d7f-8160-93ec98bdd690\",\"type\":\"Selection\"},\"selection_policy\":{\"id\":\"1cd81cfc-2424-417c-b039-d8f4a15f4d93\",\"type\":\"UnionRenderers\"}},\"id\":\"a74c889c-23dd-4f74-a5ce-973292eed104\",\"type\":\"ColumnDataSource\"},{\"attributes\":{\"data_source\":{\"id\":\"841a1eab-29e6-49f6-af74-374a04984363\",\"type\":\"ColumnDataSource\"},\"glyph\":{\"id\":\"3d15ff25-3e01-4234-8609-ee750a4a6f96\",\"type\":\"Line\"},\"hover_glyph\":null,\"muted_glyph\":null,\"nonselection_glyph\":{\"id\":\"7b664856-d3a0-419c-b520-1a31a23eeaf3\",\"type\":\"Line\"},\"selection_glyph\":null,\"view\":{\"id\":\"b3676f96-ca13-47b7-8b27-7a27cfd5467f\",\"type\":\"CDSView\"}},\"id\":\"9b0daf4c-b08c-42e2-9501-fda2d595b20c\",\"type\":\"GlyphRenderer\"},{\"attributes\":{\"line_color\":\"orange\",\"x\":{\"field\":\"x\"},\"y\":{\"field\":\"y\"}},\"id\":\"3d15ff25-3e01-4234-8609-ee750a4a6f96\",\"type\":\"Line\"},{\"attributes\":{\"callback\":null},\"id\":\"ca3c2e27-c0c4-4f31-81d8-9a49378abcb9\",\"type\":\"DataRange1d\"},{\"attributes\":{},\"id\":\"ac4a3598-bdc4-43c6-8df6-7fafa37716e9\",\"type\":\"UnionRenderers\"},{\"attributes\":{\"plot\":null,\"text\":\"Homicide and suicide rate, 1915-2004\"},\"id\":\"a93d5d5f-1ef1-4d52-bfb4-1353bc3ac7f7\",\"type\":\"Title\"},{\"attributes\":{\"data_source\":{\"id\":\"a74c889c-23dd-4f74-a5ce-973292eed104\",\"type\":\"ColumnDataSource\"},\"glyph\":{\"id\":\"44cd3cb7-060b-4b82-b43d-faf7513ff18e\",\"type\":\"Line\"},\"hover_glyph\":null,\"muted_glyph\":null,\"nonselection_glyph\":{\"id\":\"41362f95-8b46-4daf-b2b7-05349794b85f\",\"type\":\"Line\"},\"selection_glyph\":null,\"view\":{\"id\":\"6632d4cb-b177-4514-ba6b-695b15f0b46c\",\"type\":\"CDSView\"}},\"id\":\"8bab3802-5183-4fbe-a9b5-90cf11d7e12f\",\"type\":\"GlyphRenderer\"},{\"attributes\":{},\"id\":\"110e89c8-8104-436a-99da-5fa8a63d306b\",\"type\":\"ResetTool\"},{\"attributes\":{},\"id\":\"1cd81cfc-2424-417c-b039-d8f4a15f4d93\",\"type\":\"UnionRenderers\"},{\"attributes\":{},\"id\":\"343909a7-5bc0-43dc-9c1e-a4d84da4e141\",\"type\":\"BasicTicker\"},{\"attributes\":{\"line_alpha\":0.1,\"line_color\":\"#1f77b4\",\"x\":{\"field\":\"x\"},\"y\":{\"field\":\"y\"}},\"id\":\"7b664856-d3a0-419c-b520-1a31a23eeaf3\",\"type\":\"Line\"},{\"attributes\":{\"source\":{\"id\":\"a74c889c-23dd-4f74-a5ce-973292eed104\",\"type\":\"ColumnDataSource\"}},\"id\":\"6632d4cb-b177-4514-ba6b-695b15f0b46c\",\"type\":\"CDSView\"},{\"attributes\":{\"label\":{\"value\":\"Suicide\"},\"renderers\":[{\"id\":\"8bab3802-5183-4fbe-a9b5-90cf11d7e12f\",\"type\":\"GlyphRenderer\"}]},\"id\":\"01b955bd-b060-4e0a-adf5-0b63d364c551\",\"type\":\"LegendItem\"},{\"attributes\":{},\"id\":\"41d8505e-4bfc-484e-bd46-8f06bc453e15\",\"type\":\"BasicTicker\"},{\"attributes\":{\"dimension\":1,\"plot\":{\"id\":\"5db12e66-1532-4b74-93f7-8464c26fb1d6\",\"subtype\":\"Figure\",\"type\":\"Plot\"},\"ticker\":{\"id\":\"343909a7-5bc0-43dc-9c1e-a4d84da4e141\",\"type\":\"BasicTicker\"}},\"id\":\"741c9820-001b-4c2f-be14-fea2d36c1c89\",\"type\":\"Grid\"},{\"attributes\":{},\"id\":\"f3e794d2-af8b-4d7f-8160-93ec98bdd690\",\"type\":\"Selection\"},{\"attributes\":{},\"id\":\"bdc90d16-cb24-4a50-a219-ecb1ed2a7f12\",\"type\":\"LinearScale\"},{\"attributes\":{},\"id\":\"c7fcb184-f03c-4bc9-8bbe-9b23c18da1b2\",\"type\":\"BasicTickFormatter\"},{\"attributes\":{\"formatter\":{\"id\":\"c7fcb184-f03c-4bc9-8bbe-9b23c18da1b2\",\"type\":\"BasicTickFormatter\"},\"plot\":{\"id\":\"5db12e66-1532-4b74-93f7-8464c26fb1d6\",\"subtype\":\"Figure\",\"type\":\"Plot\"},\"ticker\":{\"id\":\"343909a7-5bc0-43dc-9c1e-a4d84da4e141\",\"type\":\"BasicTicker\"}},\"id\":\"72d5e59a-4e3c-4ac4-bc98-1ce78bcebe90\",\"type\":\"LinearAxis\"},{\"attributes\":{\"label\":{\"value\":\"Homicide\"},\"renderers\":[{\"id\":\"9b0daf4c-b08c-42e2-9501-fda2d595b20c\",\"type\":\"GlyphRenderer\"}]},\"id\":\"aacc7355-f5fc-4314-b875-57ce151c0330\",\"type\":\"LegendItem\"},{\"attributes\":{\"items\":[{\"id\":\"aacc7355-f5fc-4314-b875-57ce151c0330\",\"type\":\"LegendItem\"},{\"id\":\"01b955bd-b060-4e0a-adf5-0b63d364c551\",\"type\":\"LegendItem\"}],\"plot\":{\"id\":\"5db12e66-1532-4b74-93f7-8464c26fb1d6\",\"subtype\":\"Figure\",\"type\":\"Plot\"}},\"id\":\"be16c1eb-31e2-4824-8d49-673c5ce10690\",\"type\":\"Legend\"}],\"root_ids\":[\"5db12e66-1532-4b74-93f7-8464c26fb1d6\"]},\"title\":\"Bokeh Application\",\"version\":\"0.12.16\"}};\n",
       "  var render_items = [{\"docid\":\"f5e953ab-f5da-4a61-91de-7857402931cc\",\"elementid\":\"faa51e8b-8d93-4715-8469-9748a698d62e\",\"modelid\":\"5db12e66-1532-4b74-93f7-8464c26fb1d6\"}];\n",
       "  root.Bokeh.embed.embed_items_notebook(docs_json, render_items);\n",
       "\n",
       "  }\n",
       "  if (root.Bokeh !== undefined) {\n",
       "    embed_document(root);\n",
       "  } else {\n",
       "    var attempts = 0;\n",
       "    var timer = setInterval(function(root) {\n",
       "      if (root.Bokeh !== undefined) {\n",
       "        embed_document(root);\n",
       "        clearInterval(timer);\n",
       "      }\n",
       "      attempts++;\n",
       "      if (attempts > 100) {\n",
       "        console.log(\"Bokeh: ERROR: Unable to run BokehJS code because BokehJS library is missing\")\n",
       "        clearInterval(timer);\n",
       "      }\n",
       "    }, 10, root)\n",
       "  }\n",
       "})(window);"
      ],
      "application/vnd.bokehjs_exec.v0+json": ""
     },
     "metadata": {
      "application/vnd.bokehjs_exec.v0+json": {
       "id": "5db12e66-1532-4b74-93f7-8464c26fb1d6"
      }
     },
     "output_type": "display_data"
    }
   ],
   "source": [
    "import pandas as pd\n",
    "death_data = pd.read_csv('../data/deaths_homicide_suicide.csv')\n",
    "\n",
    "death_plot = figure(title=\"Homicide and suicide rate, 1915-2004\",plot_height=300, plot_width=900)\n",
    "death_plot.line(death_data['Year'],death_data['Homicide'],line_color='orange',legend='Homicide')\n",
    "death_plot.line(death_data['Year'],death_data['Suicide'],line_color='purple',legend='Suicide')\n",
    "show(death_plot)"
   ]
  },
  {
   "cell_type": "markdown",
   "metadata": {},
   "source": [
    "## Customising axes\n",
    "\n",
    "In the previous examples we have been customising a plot using keyword arguments, i.e. upon creation. You can actually further modify a figure using additional functions. Here I am listing the more common ones. You can see the list for available functions [here](https://bokeh.pydata.org/en/latest/docs/reference/models/axes.html).\n",
    "\n",
    "Sometimes it requires you to access bokeh.models library."
   ]
  },
  {
   "cell_type": "code",
   "execution_count": 9,
   "metadata": {},
   "outputs": [
    {
     "data": {
      "text/html": [
       "\n",
       "<div class=\"bk-root\">\n",
       "    <div class=\"bk-plotdiv\" id=\"4cd81ee7-ed68-48c6-93de-418d7bc13b78\"></div>\n",
       "</div>"
      ]
     },
     "metadata": {},
     "output_type": "display_data"
    },
    {
     "data": {
      "application/javascript": [
       "(function(root) {\n",
       "  function embed_document(root) {\n",
       "    \n",
       "  var docs_json = {\"409f1af2-ef19-4c98-8407-18661872ed09\":{\"roots\":{\"references\":[{\"attributes\":{},\"id\":\"61230230-ff99-4e63-99c8-13af1e9ac4b4\",\"type\":\"WheelZoomTool\"},{\"attributes\":{},\"id\":\"e347f9f1-0790-479f-850b-73208d508cf4\",\"type\":\"PanTool\"},{\"attributes\":{\"formatter\":{\"id\":\"9dd1dfac-858a-41ce-a42b-9c9e8feca4b9\",\"type\":\"BasicTickFormatter\"},\"plot\":{\"id\":\"67f6d972-22f7-4506-8bf2-1887737ded41\",\"subtype\":\"Figure\",\"type\":\"Plot\"},\"ticker\":{\"id\":\"6efffe7c-937e-43c5-9bb7-3d0de2b28277\",\"type\":\"BasicTicker\"}},\"id\":\"b398ebde-9f26-4060-8574-9df639b13133\",\"type\":\"LinearAxis\"},{\"attributes\":{},\"id\":\"42545a0d-4dab-4596-8569-1f41b5146616\",\"type\":\"ResetTool\"},{\"attributes\":{\"overlay\":{\"id\":\"218a3902-2a2a-4f9f-8c84-f7f81903a0d0\",\"type\":\"BoxAnnotation\"}},\"id\":\"f9e73f6c-22dc-4c19-82e1-27cb7e2da64d\",\"type\":\"BoxZoomTool\"},{\"attributes\":{\"source\":{\"id\":\"c27dfdc5-67e0-4188-8202-5aedf7dca578\",\"type\":\"ColumnDataSource\"}},\"id\":\"0eaff93f-f411-4ca5-8c5e-6ce15cf77d34\",\"type\":\"CDSView\"},{\"attributes\":{},\"id\":\"2e58731f-a2e5-415f-a1e9-91fa3af7a598\",\"type\":\"SaveTool\"},{\"attributes\":{\"dimension\":1,\"plot\":{\"id\":\"67f6d972-22f7-4506-8bf2-1887737ded41\",\"subtype\":\"Figure\",\"type\":\"Plot\"},\"ticker\":{\"id\":\"6efffe7c-937e-43c5-9bb7-3d0de2b28277\",\"type\":\"BasicTicker\"}},\"id\":\"685d1bdf-1795-4e2a-b434-45b30cbd34ca\",\"type\":\"Grid\"},{\"attributes\":{\"callback\":null,\"data\":{\"size\":[0,6,12,18,24,30,36,42,48,54],\"x\":[0,1,2,3,4,5,6,7,8,9],\"y\":{\"__ndarray__\":\"nFpRYOy7M0C8ooVHRZ/3P/LF3/83lvc/2oYSRiksHkAQAzkAHFIwQFIscdA3pxVAnnBJo++1HUCGpkfoPi8QQO6aGMp4Ff8/8GartYWa3T8=\",\"dtype\":\"float64\",\"shape\":[10]}},\"selected\":{\"id\":\"e50e16b2-b459-41d3-ab92-dad8c2808023\",\"type\":\"Selection\"},\"selection_policy\":{\"id\":\"7dd90704-7da4-4079-b6ae-44909eb65950\",\"type\":\"UnionRenderers\"}},\"id\":\"c27dfdc5-67e0-4188-8202-5aedf7dca578\",\"type\":\"ColumnDataSource\"},{\"attributes\":{\"fill_alpha\":{\"value\":0.3},\"fill_color\":{\"value\":\"orange\"},\"line_color\":{\"value\":\"orange\"},\"size\":{\"field\":\"size\",\"units\":\"screen\"},\"x\":{\"field\":\"x\"},\"y\":{\"field\":\"y\"}},\"id\":\"ce1a8a10-49d8-4d98-a955-60f144ecc9da\",\"type\":\"Square\"},{\"attributes\":{},\"id\":\"e50e16b2-b459-41d3-ab92-dad8c2808023\",\"type\":\"Selection\"},{\"attributes\":{\"plot\":{\"id\":\"67f6d972-22f7-4506-8bf2-1887737ded41\",\"subtype\":\"Figure\",\"type\":\"Plot\"},\"ticker\":{\"id\":\"19386eb6-e3c3-46c9-987f-ae79a5241b31\",\"type\":\"BasicTicker\"}},\"id\":\"bc14496d-9ac1-4669-9719-fbd90f5b57f4\",\"type\":\"Grid\"},{\"attributes\":{},\"id\":\"4a9ced15-b3da-4ac4-815d-64017b4a7907\",\"type\":\"BasicTickFormatter\"},{\"attributes\":{},\"id\":\"19386eb6-e3c3-46c9-987f-ae79a5241b31\",\"type\":\"BasicTicker\"},{\"attributes\":{},\"id\":\"7dd90704-7da4-4079-b6ae-44909eb65950\",\"type\":\"UnionRenderers\"},{\"attributes\":{\"data_source\":{\"id\":\"c27dfdc5-67e0-4188-8202-5aedf7dca578\",\"type\":\"ColumnDataSource\"},\"glyph\":{\"id\":\"ce1a8a10-49d8-4d98-a955-60f144ecc9da\",\"type\":\"Square\"},\"hover_glyph\":null,\"muted_glyph\":null,\"nonselection_glyph\":{\"id\":\"98bf3bb2-52aa-450c-866b-debdbfd1ac05\",\"type\":\"Square\"},\"selection_glyph\":null,\"view\":{\"id\":\"0eaff93f-f411-4ca5-8c5e-6ce15cf77d34\",\"type\":\"CDSView\"}},\"id\":\"7b37427d-3980-41f1-a0a5-2cb30d6174c3\",\"type\":\"GlyphRenderer\"},{\"attributes\":{\"plot\":null,\"text\":\"Square plot\"},\"id\":\"a654725e-2f48-4e29-90e1-7cf422e50c5b\",\"type\":\"Title\"},{\"attributes\":{\"formatter\":{\"id\":\"4a9ced15-b3da-4ac4-815d-64017b4a7907\",\"type\":\"BasicTickFormatter\"},\"plot\":{\"id\":\"67f6d972-22f7-4506-8bf2-1887737ded41\",\"subtype\":\"Figure\",\"type\":\"Plot\"},\"ticker\":{\"id\":\"19386eb6-e3c3-46c9-987f-ae79a5241b31\",\"type\":\"BasicTicker\"}},\"id\":\"4f0184aa-9b4f-45a6-8dff-890fd62ddf5a\",\"type\":\"LinearAxis\"},{\"attributes\":{\"active_drag\":\"auto\",\"active_inspect\":\"auto\",\"active_scroll\":\"auto\",\"active_tap\":\"auto\",\"tools\":[{\"id\":\"e347f9f1-0790-479f-850b-73208d508cf4\",\"type\":\"PanTool\"},{\"id\":\"61230230-ff99-4e63-99c8-13af1e9ac4b4\",\"type\":\"WheelZoomTool\"},{\"id\":\"f9e73f6c-22dc-4c19-82e1-27cb7e2da64d\",\"type\":\"BoxZoomTool\"},{\"id\":\"2e58731f-a2e5-415f-a1e9-91fa3af7a598\",\"type\":\"SaveTool\"},{\"id\":\"42545a0d-4dab-4596-8569-1f41b5146616\",\"type\":\"ResetTool\"},{\"id\":\"b1f4bcef-92d0-4b68-82ef-af67468154d4\",\"type\":\"HelpTool\"}]},\"id\":\"cc2ac4f1-0cd0-458b-8c95-d3e2d31ed187\",\"type\":\"Toolbar\"},{\"attributes\":{\"fill_alpha\":{\"value\":0.1},\"fill_color\":{\"value\":\"#1f77b4\"},\"line_alpha\":{\"value\":0.1},\"line_color\":{\"value\":\"#1f77b4\"},\"size\":{\"field\":\"size\",\"units\":\"screen\"},\"x\":{\"field\":\"x\"},\"y\":{\"field\":\"y\"}},\"id\":\"98bf3bb2-52aa-450c-866b-debdbfd1ac05\",\"type\":\"Square\"},{\"attributes\":{},\"id\":\"f54bae72-fb4f-4c8d-b2ba-8e4b181bc065\",\"type\":\"LinearScale\"},{\"attributes\":{},\"id\":\"937ab40b-9a28-447c-82ce-bbbf15dc13bf\",\"type\":\"LinearScale\"},{\"attributes\":{},\"id\":\"6efffe7c-937e-43c5-9bb7-3d0de2b28277\",\"type\":\"BasicTicker\"},{\"attributes\":{\"bottom_units\":\"screen\",\"fill_alpha\":{\"value\":0.5},\"fill_color\":{\"value\":\"lightgrey\"},\"left_units\":\"screen\",\"level\":\"overlay\",\"line_alpha\":{\"value\":1.0},\"line_color\":{\"value\":\"black\"},\"line_dash\":[4,4],\"line_width\":{\"value\":2},\"plot\":null,\"render_mode\":\"css\",\"right_units\":\"screen\",\"top_units\":\"screen\"},\"id\":\"218a3902-2a2a-4f9f-8c84-f7f81903a0d0\",\"type\":\"BoxAnnotation\"},{\"attributes\":{\"below\":[{\"id\":\"4f0184aa-9b4f-45a6-8dff-890fd62ddf5a\",\"type\":\"LinearAxis\"}],\"left\":[{\"id\":\"b398ebde-9f26-4060-8574-9df639b13133\",\"type\":\"LinearAxis\"}],\"plot_height\":300,\"plot_width\":500,\"renderers\":[{\"id\":\"4f0184aa-9b4f-45a6-8dff-890fd62ddf5a\",\"type\":\"LinearAxis\"},{\"id\":\"bc14496d-9ac1-4669-9719-fbd90f5b57f4\",\"type\":\"Grid\"},{\"id\":\"b398ebde-9f26-4060-8574-9df639b13133\",\"type\":\"LinearAxis\"},{\"id\":\"685d1bdf-1795-4e2a-b434-45b30cbd34ca\",\"type\":\"Grid\"},{\"id\":\"218a3902-2a2a-4f9f-8c84-f7f81903a0d0\",\"type\":\"BoxAnnotation\"},{\"id\":\"7b37427d-3980-41f1-a0a5-2cb30d6174c3\",\"type\":\"GlyphRenderer\"}],\"title\":{\"id\":\"a654725e-2f48-4e29-90e1-7cf422e50c5b\",\"type\":\"Title\"},\"toolbar\":{\"id\":\"cc2ac4f1-0cd0-458b-8c95-d3e2d31ed187\",\"type\":\"Toolbar\"},\"x_range\":{\"id\":\"3259d5d5-bd3e-4d04-92af-d06d3d3b8b7a\",\"type\":\"Range1d\"},\"x_scale\":{\"id\":\"937ab40b-9a28-447c-82ce-bbbf15dc13bf\",\"type\":\"LinearScale\"},\"y_range\":{\"id\":\"ed20f827-a3b3-44e4-bab5-b3faf3804765\",\"type\":\"Range1d\"},\"y_scale\":{\"id\":\"f54bae72-fb4f-4c8d-b2ba-8e4b181bc065\",\"type\":\"LinearScale\"}},\"id\":\"67f6d972-22f7-4506-8bf2-1887737ded41\",\"subtype\":\"Figure\",\"type\":\"Plot\"},{\"attributes\":{},\"id\":\"9dd1dfac-858a-41ce-a42b-9c9e8feca4b9\",\"type\":\"BasicTickFormatter\"},{\"attributes\":{\"callback\":null,\"end\":12},\"id\":\"3259d5d5-bd3e-4d04-92af-d06d3d3b8b7a\",\"type\":\"Range1d\"},{\"attributes\":{},\"id\":\"b1f4bcef-92d0-4b68-82ef-af67468154d4\",\"type\":\"HelpTool\"},{\"attributes\":{\"callback\":null,\"end\":20},\"id\":\"ed20f827-a3b3-44e4-bab5-b3faf3804765\",\"type\":\"Range1d\"}],\"root_ids\":[\"67f6d972-22f7-4506-8bf2-1887737ded41\"]},\"title\":\"Bokeh Application\",\"version\":\"0.12.16\"}};\n",
       "  var render_items = [{\"docid\":\"409f1af2-ef19-4c98-8407-18661872ed09\",\"elementid\":\"4cd81ee7-ed68-48c6-93de-418d7bc13b78\",\"modelid\":\"67f6d972-22f7-4506-8bf2-1887737ded41\"}];\n",
       "  root.Bokeh.embed.embed_items_notebook(docs_json, render_items);\n",
       "\n",
       "  }\n",
       "  if (root.Bokeh !== undefined) {\n",
       "    embed_document(root);\n",
       "  } else {\n",
       "    var attempts = 0;\n",
       "    var timer = setInterval(function(root) {\n",
       "      if (root.Bokeh !== undefined) {\n",
       "        embed_document(root);\n",
       "        clearInterval(timer);\n",
       "      }\n",
       "      attempts++;\n",
       "      if (attempts > 100) {\n",
       "        console.log(\"Bokeh: ERROR: Unable to run BokehJS code because BokehJS library is missing\")\n",
       "        clearInterval(timer);\n",
       "      }\n",
       "    }, 10, root)\n",
       "  }\n",
       "})(window);"
      ],
      "application/vnd.bokehjs_exec.v0+json": ""
     },
     "metadata": {
      "application/vnd.bokehjs_exec.v0+json": {
       "id": "67f6d972-22f7-4506-8bf2-1887737ded41"
      }
     },
     "output_type": "display_data"
    }
   ],
   "source": [
    "square_x = np.arange(10)\n",
    "square_y = np.random.rand(10)*20\n",
    "square_plot = figure(title='Square plot',plot_height=300, plot_width=500, x_range=(0,12), y_range=(0,20))\n",
    "square_plot.square(square_x,square_y,size=6*square_x,fill_color='orange',fill_alpha=0.3,line_color='orange')\n",
    "show(square_plot)"
   ]
  },
  {
   "cell_type": "code",
   "execution_count": 10,
   "metadata": {},
   "outputs": [
    {
     "data": {
      "text/html": [
       "\n",
       "<div class=\"bk-root\">\n",
       "    <div class=\"bk-plotdiv\" id=\"0e1a4d48-7766-4fb9-a2f8-324603bbfae6\"></div>\n",
       "</div>"
      ]
     },
     "metadata": {},
     "output_type": "display_data"
    },
    {
     "data": {
      "application/javascript": [
       "(function(root) {\n",
       "  function embed_document(root) {\n",
       "    \n",
       "  var docs_json = {\"d0956d3a-cf99-48cf-a95b-0f6039c970cc\":{\"roots\":{\"references\":[{\"attributes\":{},\"id\":\"61230230-ff99-4e63-99c8-13af1e9ac4b4\",\"type\":\"WheelZoomTool\"},{\"attributes\":{},\"id\":\"e347f9f1-0790-479f-850b-73208d508cf4\",\"type\":\"PanTool\"},{\"attributes\":{\"axis_label\":\"Left Text\",\"axis_label_text_color\":{\"value\":\"black\"},\"formatter\":{\"id\":\"9dd1dfac-858a-41ce-a42b-9c9e8feca4b9\",\"type\":\"BasicTickFormatter\"},\"major_label_text_color\":{\"value\":\"red\"},\"plot\":{\"id\":\"67f6d972-22f7-4506-8bf2-1887737ded41\",\"subtype\":\"Figure\",\"type\":\"Plot\"},\"ticker\":{\"id\":\"6efffe7c-937e-43c5-9bb7-3d0de2b28277\",\"type\":\"BasicTicker\"}},\"id\":\"b398ebde-9f26-4060-8574-9df639b13133\",\"type\":\"LinearAxis\"},{\"attributes\":{},\"id\":\"42545a0d-4dab-4596-8569-1f41b5146616\",\"type\":\"ResetTool\"},{\"attributes\":{\"overlay\":{\"id\":\"218a3902-2a2a-4f9f-8c84-f7f81903a0d0\",\"type\":\"BoxAnnotation\"}},\"id\":\"f9e73f6c-22dc-4c19-82e1-27cb7e2da64d\",\"type\":\"BoxZoomTool\"},{\"attributes\":{\"source\":{\"id\":\"c27dfdc5-67e0-4188-8202-5aedf7dca578\",\"type\":\"ColumnDataSource\"}},\"id\":\"0eaff93f-f411-4ca5-8c5e-6ce15cf77d34\",\"type\":\"CDSView\"},{\"attributes\":{},\"id\":\"2e58731f-a2e5-415f-a1e9-91fa3af7a598\",\"type\":\"SaveTool\"},{\"attributes\":{\"dimension\":1,\"plot\":{\"id\":\"67f6d972-22f7-4506-8bf2-1887737ded41\",\"subtype\":\"Figure\",\"type\":\"Plot\"},\"ticker\":{\"id\":\"6efffe7c-937e-43c5-9bb7-3d0de2b28277\",\"type\":\"BasicTicker\"}},\"id\":\"685d1bdf-1795-4e2a-b434-45b30cbd34ca\",\"type\":\"Grid\"},{\"attributes\":{\"callback\":null,\"data\":{\"size\":[0,6,12,18,24,30,36,42,48,54],\"x\":[0,1,2,3,4,5,6,7,8,9],\"y\":{\"__ndarray__\":\"nFpRYOy7M0C8ooVHRZ/3P/LF3/83lvc/2oYSRiksHkAQAzkAHFIwQFIscdA3pxVAnnBJo++1HUCGpkfoPi8QQO6aGMp4Ff8/8GartYWa3T8=\",\"dtype\":\"float64\",\"shape\":[10]}},\"selected\":{\"id\":\"e50e16b2-b459-41d3-ab92-dad8c2808023\",\"type\":\"Selection\"},\"selection_policy\":{\"id\":\"7dd90704-7da4-4079-b6ae-44909eb65950\",\"type\":\"UnionRenderers\"}},\"id\":\"c27dfdc5-67e0-4188-8202-5aedf7dca578\",\"type\":\"ColumnDataSource\"},{\"attributes\":{\"callback\":null,\"end\":40},\"id\":\"5ff4814c-f0b0-4d0e-8b33-32ce31d91894\",\"type\":\"Range1d\"},{\"attributes\":{\"fill_alpha\":{\"value\":0.3},\"fill_color\":{\"value\":\"orange\"},\"line_color\":{\"value\":\"orange\"},\"size\":{\"field\":\"size\",\"units\":\"screen\"},\"x\":{\"field\":\"x\"},\"y\":{\"field\":\"y\"}},\"id\":\"ce1a8a10-49d8-4d98-a955-60f144ecc9da\",\"type\":\"Square\"},{\"attributes\":{},\"id\":\"e50e16b2-b459-41d3-ab92-dad8c2808023\",\"type\":\"Selection\"},{\"attributes\":{\"plot\":{\"id\":\"67f6d972-22f7-4506-8bf2-1887737ded41\",\"subtype\":\"Figure\",\"type\":\"Plot\"},\"ticker\":{\"id\":\"19386eb6-e3c3-46c9-987f-ae79a5241b31\",\"type\":\"BasicTicker\"}},\"id\":\"bc14496d-9ac1-4669-9719-fbd90f5b57f4\",\"type\":\"Grid\"},{\"attributes\":{},\"id\":\"4a9ced15-b3da-4ac4-815d-64017b4a7907\",\"type\":\"BasicTickFormatter\"},{\"attributes\":{},\"id\":\"19386eb6-e3c3-46c9-987f-ae79a5241b31\",\"type\":\"BasicTicker\"},{\"attributes\":{},\"id\":\"7dd90704-7da4-4079-b6ae-44909eb65950\",\"type\":\"UnionRenderers\"},{\"attributes\":{\"data_source\":{\"id\":\"c27dfdc5-67e0-4188-8202-5aedf7dca578\",\"type\":\"ColumnDataSource\"},\"glyph\":{\"id\":\"ce1a8a10-49d8-4d98-a955-60f144ecc9da\",\"type\":\"Square\"},\"hover_glyph\":null,\"muted_glyph\":null,\"nonselection_glyph\":{\"id\":\"98bf3bb2-52aa-450c-866b-debdbfd1ac05\",\"type\":\"Square\"},\"selection_glyph\":null,\"view\":{\"id\":\"0eaff93f-f411-4ca5-8c5e-6ce15cf77d34\",\"type\":\"CDSView\"}},\"id\":\"7b37427d-3980-41f1-a0a5-2cb30d6174c3\",\"type\":\"GlyphRenderer\"},{\"attributes\":{\"plot\":null,\"text\":\"Square plot\"},\"id\":\"a654725e-2f48-4e29-90e1-7cf422e50c5b\",\"type\":\"Title\"},{\"attributes\":{\"axis_label\":\"Bottom Text\",\"axis_label_text_color\":{\"value\":\"black\"},\"formatter\":{\"id\":\"4a9ced15-b3da-4ac4-815d-64017b4a7907\",\"type\":\"BasicTickFormatter\"},\"plot\":{\"id\":\"67f6d972-22f7-4506-8bf2-1887737ded41\",\"subtype\":\"Figure\",\"type\":\"Plot\"},\"ticker\":{\"id\":\"19386eb6-e3c3-46c9-987f-ae79a5241b31\",\"type\":\"BasicTicker\"}},\"id\":\"4f0184aa-9b4f-45a6-8dff-890fd62ddf5a\",\"type\":\"LinearAxis\"},{\"attributes\":{\"active_drag\":\"auto\",\"active_inspect\":\"auto\",\"active_scroll\":\"auto\",\"active_tap\":\"auto\",\"tools\":[{\"id\":\"e347f9f1-0790-479f-850b-73208d508cf4\",\"type\":\"PanTool\"},{\"id\":\"61230230-ff99-4e63-99c8-13af1e9ac4b4\",\"type\":\"WheelZoomTool\"},{\"id\":\"f9e73f6c-22dc-4c19-82e1-27cb7e2da64d\",\"type\":\"BoxZoomTool\"},{\"id\":\"2e58731f-a2e5-415f-a1e9-91fa3af7a598\",\"type\":\"SaveTool\"},{\"id\":\"42545a0d-4dab-4596-8569-1f41b5146616\",\"type\":\"ResetTool\"},{\"id\":\"b1f4bcef-92d0-4b68-82ef-af67468154d4\",\"type\":\"HelpTool\"}]},\"id\":\"cc2ac4f1-0cd0-458b-8c95-d3e2d31ed187\",\"type\":\"Toolbar\"},{\"attributes\":{\"fill_alpha\":{\"value\":0.1},\"fill_color\":{\"value\":\"#1f77b4\"},\"line_alpha\":{\"value\":0.1},\"line_color\":{\"value\":\"#1f77b4\"},\"size\":{\"field\":\"size\",\"units\":\"screen\"},\"x\":{\"field\":\"x\"},\"y\":{\"field\":\"y\"}},\"id\":\"98bf3bb2-52aa-450c-866b-debdbfd1ac05\",\"type\":\"Square\"},{\"attributes\":{},\"id\":\"f54bae72-fb4f-4c8d-b2ba-8e4b181bc065\",\"type\":\"LinearScale\"},{\"attributes\":{},\"id\":\"937ab40b-9a28-447c-82ce-bbbf15dc13bf\",\"type\":\"LinearScale\"},{\"attributes\":{},\"id\":\"6efffe7c-937e-43c5-9bb7-3d0de2b28277\",\"type\":\"BasicTicker\"},{\"attributes\":{\"bottom_units\":\"screen\",\"fill_alpha\":{\"value\":0.5},\"fill_color\":{\"value\":\"lightgrey\"},\"left_units\":\"screen\",\"level\":\"overlay\",\"line_alpha\":{\"value\":1.0},\"line_color\":{\"value\":\"black\"},\"line_dash\":[4,4],\"line_width\":{\"value\":2},\"plot\":null,\"render_mode\":\"css\",\"right_units\":\"screen\",\"top_units\":\"screen\"},\"id\":\"218a3902-2a2a-4f9f-8c84-f7f81903a0d0\",\"type\":\"BoxAnnotation\"},{\"attributes\":{\"below\":[{\"id\":\"4f0184aa-9b4f-45a6-8dff-890fd62ddf5a\",\"type\":\"LinearAxis\"}],\"left\":[{\"id\":\"b398ebde-9f26-4060-8574-9df639b13133\",\"type\":\"LinearAxis\"}],\"plot_height\":300,\"plot_width\":500,\"renderers\":[{\"id\":\"4f0184aa-9b4f-45a6-8dff-890fd62ddf5a\",\"type\":\"LinearAxis\"},{\"id\":\"bc14496d-9ac1-4669-9719-fbd90f5b57f4\",\"type\":\"Grid\"},{\"id\":\"b398ebde-9f26-4060-8574-9df639b13133\",\"type\":\"LinearAxis\"},{\"id\":\"685d1bdf-1795-4e2a-b434-45b30cbd34ca\",\"type\":\"Grid\"},{\"id\":\"218a3902-2a2a-4f9f-8c84-f7f81903a0d0\",\"type\":\"BoxAnnotation\"},{\"id\":\"7b37427d-3980-41f1-a0a5-2cb30d6174c3\",\"type\":\"GlyphRenderer\"}],\"title\":{\"id\":\"a654725e-2f48-4e29-90e1-7cf422e50c5b\",\"type\":\"Title\"},\"toolbar\":{\"id\":\"cc2ac4f1-0cd0-458b-8c95-d3e2d31ed187\",\"type\":\"Toolbar\"},\"x_range\":{\"id\":\"5ff4814c-f0b0-4d0e-8b33-32ce31d91894\",\"type\":\"Range1d\"},\"x_scale\":{\"id\":\"937ab40b-9a28-447c-82ce-bbbf15dc13bf\",\"type\":\"LinearScale\"},\"y_range\":{\"id\":\"7608c8ad-0757-47c6-998f-f8a95813b56e\",\"type\":\"Range1d\"},\"y_scale\":{\"id\":\"f54bae72-fb4f-4c8d-b2ba-8e4b181bc065\",\"type\":\"LinearScale\"}},\"id\":\"67f6d972-22f7-4506-8bf2-1887737ded41\",\"subtype\":\"Figure\",\"type\":\"Plot\"},{\"attributes\":{},\"id\":\"9dd1dfac-858a-41ce-a42b-9c9e8feca4b9\",\"type\":\"BasicTickFormatter\"},{\"attributes\":{\"callback\":null,\"end\":80},\"id\":\"7608c8ad-0757-47c6-998f-f8a95813b56e\",\"type\":\"Range1d\"},{\"attributes\":{},\"id\":\"b1f4bcef-92d0-4b68-82ef-af67468154d4\",\"type\":\"HelpTool\"}],\"root_ids\":[\"67f6d972-22f7-4506-8bf2-1887737ded41\"]},\"title\":\"Bokeh Application\",\"version\":\"0.12.16\"}};\n",
       "  var render_items = [{\"docid\":\"d0956d3a-cf99-48cf-a95b-0f6039c970cc\",\"elementid\":\"0e1a4d48-7766-4fb9-a2f8-324603bbfae6\",\"modelid\":\"67f6d972-22f7-4506-8bf2-1887737ded41\"}];\n",
       "  root.Bokeh.embed.embed_items_notebook(docs_json, render_items);\n",
       "\n",
       "  }\n",
       "  if (root.Bokeh !== undefined) {\n",
       "    embed_document(root);\n",
       "  } else {\n",
       "    var attempts = 0;\n",
       "    var timer = setInterval(function(root) {\n",
       "      if (root.Bokeh !== undefined) {\n",
       "        embed_document(root);\n",
       "        clearInterval(timer);\n",
       "      }\n",
       "      attempts++;\n",
       "      if (attempts > 100) {\n",
       "        console.log(\"Bokeh: ERROR: Unable to run BokehJS code because BokehJS library is missing\")\n",
       "        clearInterval(timer);\n",
       "      }\n",
       "    }, 10, root)\n",
       "  }\n",
       "})(window);"
      ],
      "application/vnd.bokehjs_exec.v0+json": ""
     },
     "metadata": {
      "application/vnd.bokehjs_exec.v0+json": {
       "id": "67f6d972-22f7-4506-8bf2-1887737ded41"
      }
     },
     "output_type": "display_data"
    }
   ],
   "source": [
    "# axes labels\n",
    "square_plot.yaxis.axis_label = 'Left Text'\n",
    "square_plot.xaxis.axis_label = 'Bottom Text'\n",
    "\n",
    "square_plot.xaxis.axis_label_text_color = 'black'\n",
    "square_plot.yaxis.axis_label_text_color = 'black'\n",
    "\n",
    "square_plot.yaxis.major_label_text_color = 'red'\n",
    "\n",
    "# customising ticks\n",
    "\n",
    "square_plot.yaxis.minor_tick_in = 0\n",
    "\n",
    "# extending the range\n",
    "from bokeh.models import Range1d\n",
    "square_plot.x_range=(Range1d(0,40))\n",
    "square_plot.y_range=(Range1d(0,80))\n",
    "\n",
    "show(square_plot)"
   ]
  },
  {
   "cell_type": "markdown",
   "metadata": {},
   "source": [
    "The final example requires a deeper use of bokeh.models. If we have two sets of data with same x-axis but different y-axis, we can add another axis:"
   ]
  },
  {
   "cell_type": "code",
   "execution_count": 43,
   "metadata": {},
   "outputs": [
    {
     "data": {
      "text/html": [
       "\n",
       "<div class=\"bk-root\">\n",
       "    <div class=\"bk-plotdiv\" id=\"fb0c22bc-9ce3-4175-9d2d-3fbd518de76a\"></div>\n",
       "</div>"
      ]
     },
     "metadata": {},
     "output_type": "display_data"
    },
    {
     "data": {
      "application/javascript": [
       "(function(root) {\n",
       "  function embed_document(root) {\n",
       "    \n",
       "  var docs_json = {\"8198e5aa-e453-4adb-add9-d8130c69656d\":{\"roots\":{\"references\":[{\"attributes\":{\"bottom_units\":\"screen\",\"fill_alpha\":{\"value\":0.5},\"fill_color\":{\"value\":\"lightgrey\"},\"left_units\":\"screen\",\"level\":\"overlay\",\"line_alpha\":{\"value\":1.0},\"line_color\":{\"value\":\"black\"},\"line_dash\":[4,4],\"line_width\":{\"value\":2},\"plot\":null,\"render_mode\":\"css\",\"right_units\":\"screen\",\"top_units\":\"screen\"},\"id\":\"1753e840-e4ed-4f5e-a9c6-0035ca479a61\",\"type\":\"BoxAnnotation\"},{\"attributes\":{\"data_source\":{\"id\":\"9eb8de3e-d142-4f87-811a-ebb2c1a4c81c\",\"type\":\"ColumnDataSource\"},\"glyph\":{\"id\":\"b5a78d0c-e18c-4aa3-954b-4e1595b8f81b\",\"type\":\"Circle\"},\"hover_glyph\":null,\"muted_glyph\":null,\"nonselection_glyph\":{\"id\":\"5d9b55ba-467e-4cb9-94ba-9b46a065bec2\",\"type\":\"Circle\"},\"selection_glyph\":null,\"view\":{\"id\":\"5fc94cac-37f0-402d-bad9-c2e4afac97b8\",\"type\":\"CDSView\"}},\"id\":\"ba20d331-a965-4279-ac31-471387d29f50\",\"type\":\"GlyphRenderer\"},{\"attributes\":{\"overlay\":{\"id\":\"1753e840-e4ed-4f5e-a9c6-0035ca479a61\",\"type\":\"BoxAnnotation\"}},\"id\":\"1440273d-e33e-47b4-9de7-f9510bfd185a\",\"type\":\"BoxZoomTool\"},{\"attributes\":{},\"id\":\"aa3f9178-1919-4902-8401-e17fd7af7916\",\"type\":\"SaveTool\"},{\"attributes\":{},\"id\":\"5271a1b1-4d82-4c2e-9a3c-6bf2cb583755\",\"type\":\"ResetTool\"},{\"attributes\":{\"formatter\":{\"id\":\"0cbc8c4c-cb7e-4591-8e6f-cfcec957e108\",\"type\":\"BasicTickFormatter\"},\"plot\":{\"id\":\"2defd3dd-20da-4256-b182-8b3b6f394c2d\",\"subtype\":\"Figure\",\"type\":\"Plot\"},\"ticker\":{\"id\":\"4877008b-252b-4ce6-bbc0-d1ae73705dbc\",\"type\":\"BasicTicker\"},\"y_range_name\":\"foo\"},\"id\":\"42c86b7e-de84-4811-afbf-755d63d145ce\",\"type\":\"LinearAxis\"},{\"attributes\":{},\"id\":\"ff415d98-7be0-43ee-8c16-f4da59b8e029\",\"type\":\"HelpTool\"},{\"attributes\":{\"source\":{\"id\":\"9567655c-70de-4888-a517-5c6b5da6dd44\",\"type\":\"ColumnDataSource\"}},\"id\":\"f9ed5a45-32ce-4d52-8d16-5b0f0967ff54\",\"type\":\"CDSView\"},{\"attributes\":{},\"id\":\"0cbc8c4c-cb7e-4591-8e6f-cfcec957e108\",\"type\":\"BasicTickFormatter\"},{\"attributes\":{},\"id\":\"b4cc7f67-8a43-4912-bbe0-74764cb491b1\",\"type\":\"BasicTickFormatter\"},{\"attributes\":{\"callback\":null,\"data\":{\"size\":{\"__ndarray__\":\"AAAAAAAALkCD8zE4H4MtQAbnY3A+Bi1AidqVqF2JLEAMzsfgfAwsQJDB+RicjytAE7UrUbsSK0CWqF2J2pUqQBmcj8H5GCpAnI/B+RicKUAfg/MxOB8pQKJ2JWpXoihAJmpXonYlKECoXYnalagnQCxRuxK1KydAr0TtStSuJkAyOB+D8zEmQLUrUbsStSVAOB+D8zE4JUC7ErUrUbskQD4G52NwPiRAwvkYnI/BI0BF7UrUrkQjQMjgfAzOxyJAS9SuRO1KIkDOx+B8DM4hQFG7ErUrUSFA1K5E7UrUIEBXonYlalcgQLUrUbsStR9AuxK1K1G7HkDC+Ricj8EdQMjgfAzOxxxAzsfgfAzOG0DUrkTtStQaQNyVqF2J2hlA4nwMzsfgGEDoY3A+BucXQOxK1K5E7RZA9DE4H4PzFUD6GJyPwfkUQAAAAAAAABRA\",\"dtype\":\"float64\",\"shape\":[42]},\"x\":{\"__ndarray__\":\"GC1EVPshGcDl+RAhyO4XwLLG3e2UuxbAf5OqumGIFcBMYHeHLlUUwBktRFT7IRPA5vkQIcjuEcCzxt3tlLsQwAAnVXXDEA/AmsDuDl2qDMA0Woio9kMKwM7zIUKQ3QfAaI272yl3BcACJ1V1wxADwJzA7g5dqgDAbLQQUe2H/L+g50OEILv3v9Qad7dT7vK/EJxU1Q1D7L94Ars7dKniv8DRQkS1H9K/ABcG7943kT+glCMisUbUP+hjqyryvOM/gP1ExItW7T+MS++uEnjzP1gYvHvfRPg/IOWISKwR/T/42KqKPO8AQGA/EfGiVQNAxKV3Vwm8BUAoDN69byIIQJByRCTWiApA+NiqijzvDEBcPxHxolUPQODSu6sE3hBAFAbv3jcREkBIOSISa0QTQHpsVUWedxRArJ+IeNGqFUDg0rurBN4WQBQG7943ERhA\",\"dtype\":\"float64\",\"shape\":[42]},\"y\":{\"__ndarray__\":\"AAAAAAAAAACD8zE4H4MDQIPzMTgfgxNARO1K1K5EHUCD8zE4H4MjQGRwPgbnYyhARO1K1K5ELUATtStRuxIxQIPzMTgfgzNA8zE4H4PzNUBkcD4G52M4QNSuRO1K1DpARO1K1K5EPUC1K1G7ErU/QBO1K1G7EkFAS9SuRO1KQkCD8zE4H4NDQLsStStRu0RA8zE4H4PzRUAsUbsStStHQGRwPgbnY0hAnI/B+RicSUDUrkTtStRKQAzOx+B8DExARO1K1K5ETUB9DM7H4HxOQLUrUbsStU9AdyVqV6J2UEATtStRuxJRQK9E7UrUrlFAS9SuRO1KUkDnY3A+BudSQIPzMTgfg1NAH4PzMTgfVEC7ErUrUbtUQFeidiVqV1VA8zE4H4PzVUCPwfkYnI9WQCxRuxK1K1dAyOB8DM7HV0BkcD4G52NYQAAAAAAAAFlA\",\"dtype\":\"float64\",\"shape\":[42]}},\"selected\":{\"id\":\"6238c109-b751-44c0-85bc-6bd599982ccc\",\"type\":\"Selection\"},\"selection_policy\":{\"id\":\"42617a69-9d2b-4c4e-85ac-ede3690d5279\",\"type\":\"UnionRenderers\"}},\"id\":\"9567655c-70de-4888-a517-5c6b5da6dd44\",\"type\":\"ColumnDataSource\"},{\"attributes\":{},\"id\":\"ce9ee1fd-84f6-4a42-8edf-2cbfa2494081\",\"type\":\"BasicTickFormatter\"},{\"attributes\":{\"fill_alpha\":{\"value\":0.3},\"fill_color\":{\"value\":\"orange\"},\"line_alpha\":{\"value\":0},\"line_color\":{\"value\":\"#1f77b4\"},\"size\":{\"field\":\"size\",\"units\":\"screen\"},\"x\":{\"field\":\"x\"},\"y\":{\"field\":\"y\"}},\"id\":\"958c3b7c-213c-4b22-bb16-41546e08f614\",\"type\":\"Circle\"},{\"attributes\":{},\"id\":\"4877008b-252b-4ce6-bbc0-d1ae73705dbc\",\"type\":\"BasicTicker\"},{\"attributes\":{\"callback\":null,\"end\":1.1,\"start\":-1.1},\"id\":\"c6ce7e16-d880-4cec-b768-92f59b60209d\",\"type\":\"Range1d\"},{\"attributes\":{\"source\":{\"id\":\"9eb8de3e-d142-4f87-811a-ebb2c1a4c81c\",\"type\":\"ColumnDataSource\"}},\"id\":\"5fc94cac-37f0-402d-bad9-c2e4afac97b8\",\"type\":\"CDSView\"},{\"attributes\":{\"plot\":{\"id\":\"2defd3dd-20da-4256-b182-8b3b6f394c2d\",\"subtype\":\"Figure\",\"type\":\"Plot\"},\"ticker\":{\"id\":\"ab1212e3-e693-4583-ac76-00a7407eed8c\",\"type\":\"BasicTicker\"}},\"id\":\"e8b09124-dc18-4926-85e0-a2263426d781\",\"type\":\"Grid\"},{\"attributes\":{},\"id\":\"42617a69-9d2b-4c4e-85ac-ede3690d5279\",\"type\":\"UnionRenderers\"},{\"attributes\":{\"fill_alpha\":{\"value\":0.2},\"fill_color\":{\"value\":\"blue\"},\"line_alpha\":{\"value\":0},\"line_color\":{\"value\":\"#1f77b4\"},\"size\":{\"units\":\"screen\",\"value\":8},\"x\":{\"field\":\"x\"},\"y\":{\"field\":\"y\"}},\"id\":\"b5a78d0c-e18c-4aa3-954b-4e1595b8f81b\",\"type\":\"Circle\"},{\"attributes\":{},\"id\":\"da3bd09f-7419-4efe-a906-f68cc435aed0\",\"type\":\"Selection\"},{\"attributes\":{},\"id\":\"6238c109-b751-44c0-85bc-6bd599982ccc\",\"type\":\"Selection\"},{\"attributes\":{},\"id\":\"30691f5f-1d76-4e56-8cf9-0fb448b3b421\",\"type\":\"WheelZoomTool\"},{\"attributes\":{\"fill_alpha\":{\"value\":0.1},\"fill_color\":{\"value\":\"#1f77b4\"},\"line_alpha\":{\"value\":0.1},\"line_color\":{\"value\":\"#1f77b4\"},\"size\":{\"field\":\"size\",\"units\":\"screen\"},\"x\":{\"field\":\"x\"},\"y\":{\"field\":\"y\"}},\"id\":\"95364029-cbd7-4a6c-969f-672109e7e698\",\"type\":\"Circle\"},{\"attributes\":{},\"id\":\"ea5ecaf8-3c01-40be-992f-182fc2f59083\",\"type\":\"BasicTicker\"},{\"attributes\":{},\"id\":\"3f454625-f521-4b64-adf7-2b187d78b2ed\",\"type\":\"UnionRenderers\"},{\"attributes\":{},\"id\":\"a8046da4-945c-4d3e-8fd2-c5189a93d16b\",\"type\":\"LinearScale\"},{\"attributes\":{\"callback\":null,\"end\":6.5,\"start\":-6.5},\"id\":\"b9ebd5f3-8e23-45b6-a164-6dbe30facba5\",\"type\":\"Range1d\"},{\"attributes\":{},\"id\":\"3c8bf9e1-8f92-41a2-b3ff-ec0dcdeb5e9e\",\"type\":\"LinearScale\"},{\"attributes\":{\"fill_alpha\":{\"value\":0.1},\"fill_color\":{\"value\":\"#1f77b4\"},\"line_alpha\":{\"value\":0.1},\"line_color\":{\"value\":\"#1f77b4\"},\"size\":{\"units\":\"screen\",\"value\":8},\"x\":{\"field\":\"x\"},\"y\":{\"field\":\"y\"}},\"id\":\"5d9b55ba-467e-4cb9-94ba-9b46a065bec2\",\"type\":\"Circle\"},{\"attributes\":{},\"id\":\"ab1212e3-e693-4583-ac76-00a7407eed8c\",\"type\":\"BasicTicker\"},{\"attributes\":{\"formatter\":{\"id\":\"b4cc7f67-8a43-4912-bbe0-74764cb491b1\",\"type\":\"BasicTickFormatter\"},\"plot\":{\"id\":\"2defd3dd-20da-4256-b182-8b3b6f394c2d\",\"subtype\":\"Figure\",\"type\":\"Plot\"},\"ticker\":{\"id\":\"ab1212e3-e693-4583-ac76-00a7407eed8c\",\"type\":\"BasicTicker\"}},\"id\":\"1f018bb7-7e76-4f2f-8710-de7573e6f991\",\"type\":\"LinearAxis\"},{\"attributes\":{\"data_source\":{\"id\":\"9567655c-70de-4888-a517-5c6b5da6dd44\",\"type\":\"ColumnDataSource\"},\"glyph\":{\"id\":\"958c3b7c-213c-4b22-bb16-41546e08f614\",\"type\":\"Circle\"},\"hover_glyph\":null,\"muted_glyph\":null,\"nonselection_glyph\":{\"id\":\"95364029-cbd7-4a6c-969f-672109e7e698\",\"type\":\"Circle\"},\"selection_glyph\":null,\"view\":{\"id\":\"f9ed5a45-32ce-4d52-8d16-5b0f0967ff54\",\"type\":\"CDSView\"},\"y_range_name\":\"foo\"},\"id\":\"651bead5-aca3-4573-8cc0-5a696b8606d7\",\"type\":\"GlyphRenderer\"},{\"attributes\":{\"callback\":null,\"data\":{\"x\":{\"__ndarray__\":\"GC1EVPshGcDl+RAhyO4XwLLG3e2UuxbAf5OqumGIFcBMYHeHLlUUwBktRFT7IRPA5vkQIcjuEcCzxt3tlLsQwAAnVXXDEA/AmsDuDl2qDMA0Woio9kMKwM7zIUKQ3QfAaI272yl3BcACJ1V1wxADwJzA7g5dqgDAbLQQUe2H/L+g50OEILv3v9Qad7dT7vK/EJxU1Q1D7L94Ars7dKniv8DRQkS1H9K/ABcG7943kT+glCMisUbUP+hjqyryvOM/gP1ExItW7T+MS++uEnjzP1gYvHvfRPg/IOWISKwR/T/42KqKPO8AQGA/EfGiVQNAxKV3Vwm8BUAoDN69byIIQJByRCTWiApA+NiqijzvDEBcPxHxolUPQODSu6sE3hBAFAbv3jcREkBIOSISa0QTQHpsVUWedxRArJ+IeNGqFUDg0rurBN4WQBQG7943ERhA\",\"dtype\":\"float64\",\"shape\":[42]},\"y\":{\"__ndarray__\":\"B1wUMyamsTw0urqVzenSP1hBpReNEeI/P6hdmAMR6T/DVRqiQ9PtP4ptLJt66+8/8hW9gcIp7z8Ac+s/aZ/rP6PRw/VkneU/JackJDFa2z+S1bZtOBDCP1AMt8oCMcS/0dHwQ0FS3L++sx8tLgLmv80S0N/y4+u/fEDHPe1H778CPgyalODvv8Qi2BxGoO2/ggUyl3y66L+5x3pJN5/hv/misIrx4dG/xTrLwqk3kT9KCekvS/DTP6Ea2BuUguI/+MjjJbpl6T8irvyGGATuPy23gCwR9O8/crRJW1YJ7z+y9y3P31jrPxmiLj8LN+U/5C8MNiZg2j86Ls6+Pty/PzW2FQhXUMa/H7YgoURI3b8fZtCZX2Xmv/hC8Lh3Juy/gRtzYNRj778VoA/zX9Pvv2JPAKgja+2/K62gZSti6L/ZZdf3mivhv7zAyyfK2NC/\",\"dtype\":\"float64\",\"shape\":[42]}},\"selected\":{\"id\":\"da3bd09f-7419-4efe-a906-f68cc435aed0\",\"type\":\"Selection\"},\"selection_policy\":{\"id\":\"3f454625-f521-4b64-adf7-2b187d78b2ed\",\"type\":\"UnionRenderers\"}},\"id\":\"9eb8de3e-d142-4f87-811a-ebb2c1a4c81c\",\"type\":\"ColumnDataSource\"},{\"attributes\":{\"plot\":null,\"text\":\"\"},\"id\":\"21f93e45-24c2-479f-a5b0-0bdbc16542d2\",\"type\":\"Title\"},{\"attributes\":{\"active_drag\":\"auto\",\"active_inspect\":\"auto\",\"active_scroll\":\"auto\",\"active_tap\":\"auto\",\"tools\":[{\"id\":\"d9ec6ed4-60fe-4f72-aef7-e77b6df30abf\",\"type\":\"PanTool\"},{\"id\":\"30691f5f-1d76-4e56-8cf9-0fb448b3b421\",\"type\":\"WheelZoomTool\"},{\"id\":\"1440273d-e33e-47b4-9de7-f9510bfd185a\",\"type\":\"BoxZoomTool\"},{\"id\":\"aa3f9178-1919-4902-8401-e17fd7af7916\",\"type\":\"SaveTool\"},{\"id\":\"5271a1b1-4d82-4c2e-9a3c-6bf2cb583755\",\"type\":\"ResetTool\"},{\"id\":\"ff415d98-7be0-43ee-8c16-f4da59b8e029\",\"type\":\"HelpTool\"}]},\"id\":\"b042297d-2824-4d9a-a674-1a99f7bee658\",\"type\":\"Toolbar\"},{\"attributes\":{\"callback\":null,\"end\":100},\"id\":\"efa4b293-8c31-4333-8654-eea90de489fb\",\"type\":\"Range1d\"},{\"attributes\":{\"dimension\":1,\"plot\":{\"id\":\"2defd3dd-20da-4256-b182-8b3b6f394c2d\",\"subtype\":\"Figure\",\"type\":\"Plot\"},\"ticker\":{\"id\":\"ea5ecaf8-3c01-40be-992f-182fc2f59083\",\"type\":\"BasicTicker\"}},\"id\":\"039cda22-31da-4531-9f98-7d331b824f78\",\"type\":\"Grid\"},{\"attributes\":{},\"id\":\"d9ec6ed4-60fe-4f72-aef7-e77b6df30abf\",\"type\":\"PanTool\"},{\"attributes\":{\"below\":[{\"id\":\"1f018bb7-7e76-4f2f-8710-de7573e6f991\",\"type\":\"LinearAxis\"}],\"extra_y_ranges\":{\"foo\":{\"id\":\"efa4b293-8c31-4333-8654-eea90de489fb\",\"type\":\"Range1d\"}},\"left\":[{\"id\":\"23489bb5-3d25-4622-989a-9594fea586bb\",\"type\":\"LinearAxis\"}],\"renderers\":[{\"id\":\"1f018bb7-7e76-4f2f-8710-de7573e6f991\",\"type\":\"LinearAxis\"},{\"id\":\"e8b09124-dc18-4926-85e0-a2263426d781\",\"type\":\"Grid\"},{\"id\":\"23489bb5-3d25-4622-989a-9594fea586bb\",\"type\":\"LinearAxis\"},{\"id\":\"039cda22-31da-4531-9f98-7d331b824f78\",\"type\":\"Grid\"},{\"id\":\"1753e840-e4ed-4f5e-a9c6-0035ca479a61\",\"type\":\"BoxAnnotation\"},{\"id\":\"ba20d331-a965-4279-ac31-471387d29f50\",\"type\":\"GlyphRenderer\"},{\"id\":\"651bead5-aca3-4573-8cc0-5a696b8606d7\",\"type\":\"GlyphRenderer\"},{\"id\":\"42c86b7e-de84-4811-afbf-755d63d145ce\",\"type\":\"LinearAxis\"}],\"right\":[{\"id\":\"42c86b7e-de84-4811-afbf-755d63d145ce\",\"type\":\"LinearAxis\"}],\"title\":{\"id\":\"21f93e45-24c2-479f-a5b0-0bdbc16542d2\",\"type\":\"Title\"},\"toolbar\":{\"id\":\"b042297d-2824-4d9a-a674-1a99f7bee658\",\"type\":\"Toolbar\"},\"x_range\":{\"id\":\"b9ebd5f3-8e23-45b6-a164-6dbe30facba5\",\"type\":\"Range1d\"},\"x_scale\":{\"id\":\"a8046da4-945c-4d3e-8fd2-c5189a93d16b\",\"type\":\"LinearScale\"},\"y_range\":{\"id\":\"c6ce7e16-d880-4cec-b768-92f59b60209d\",\"type\":\"Range1d\"},\"y_scale\":{\"id\":\"3c8bf9e1-8f92-41a2-b3ff-ec0dcdeb5e9e\",\"type\":\"LinearScale\"}},\"id\":\"2defd3dd-20da-4256-b182-8b3b6f394c2d\",\"subtype\":\"Figure\",\"type\":\"Plot\"},{\"attributes\":{\"formatter\":{\"id\":\"ce9ee1fd-84f6-4a42-8edf-2cbfa2494081\",\"type\":\"BasicTickFormatter\"},\"plot\":{\"id\":\"2defd3dd-20da-4256-b182-8b3b6f394c2d\",\"subtype\":\"Figure\",\"type\":\"Plot\"},\"ticker\":{\"id\":\"ea5ecaf8-3c01-40be-992f-182fc2f59083\",\"type\":\"BasicTicker\"}},\"id\":\"23489bb5-3d25-4622-989a-9594fea586bb\",\"type\":\"LinearAxis\"}],\"root_ids\":[\"2defd3dd-20da-4256-b182-8b3b6f394c2d\"]},\"title\":\"Bokeh Application\",\"version\":\"0.12.16\"}};\n",
       "  var render_items = [{\"docid\":\"8198e5aa-e453-4adb-add9-d8130c69656d\",\"elementid\":\"fb0c22bc-9ce3-4175-9d2d-3fbd518de76a\",\"modelid\":\"2defd3dd-20da-4256-b182-8b3b6f394c2d\"}];\n",
       "  root.Bokeh.embed.embed_items_notebook(docs_json, render_items);\n",
       "\n",
       "  }\n",
       "  if (root.Bokeh !== undefined) {\n",
       "    embed_document(root);\n",
       "  } else {\n",
       "    var attempts = 0;\n",
       "    var timer = setInterval(function(root) {\n",
       "      if (root.Bokeh !== undefined) {\n",
       "        embed_document(root);\n",
       "        clearInterval(timer);\n",
       "      }\n",
       "      attempts++;\n",
       "      if (attempts > 100) {\n",
       "        console.log(\"Bokeh: ERROR: Unable to run BokehJS code because BokehJS library is missing\")\n",
       "        clearInterval(timer);\n",
       "      }\n",
       "    }, 10, root)\n",
       "  }\n",
       "})(window);"
      ],
      "application/vnd.bokehjs_exec.v0+json": ""
     },
     "metadata": {
      "application/vnd.bokehjs_exec.v0+json": {
       "id": "2defd3dd-20da-4256-b182-8b3b6f394c2d"
      }
     },
     "output_type": "display_data"
    }
   ],
   "source": [
    "from bokeh.models import LinearAxis, Range1d\n",
    "\n",
    "x = np.arange(-2*np.pi, 2*np.pi, 0.3)\n",
    "y = np.sin(x)\n",
    "y2 = np.linspace(0, 100, len(y))\n",
    "\n",
    "twin_plot = figure(x_range=(-6.5, 6.5), y_range=(-1.1, 1.1))\n",
    "\n",
    "twin_plot.circle(x, y, size=8, fill_color=\"blue\", fill_alpha=0.2, line_alpha=0)\n",
    "\n",
    "twin_plot.extra_y_ranges = {\"foo\": Range1d(start=0, end=100)}\n",
    "twin_plot.circle(x, y2, size=15-y2/10, line_alpha=0,fill_alpha=0.3, fill_color=\"orange\", y_range_name=\"foo\")\n",
    "twin_plot.add_layout(LinearAxis(y_range_name=\"foo\"), 'right')\n",
    "\n",
    "show(twin_plot)"
   ]
  }
 ],
 "metadata": {
  "kernelspec": {
   "display_name": "Python 3",
   "language": "python",
   "name": "python3"
  },
  "language_info": {
   "codemirror_mode": {
    "name": "ipython",
    "version": 3
   },
   "file_extension": ".py",
   "mimetype": "text/x-python",
   "name": "python",
   "nbconvert_exporter": "python",
   "pygments_lexer": "ipython3",
   "version": "3.6.5"
  }
 },
 "nbformat": 4,
 "nbformat_minor": 2
}
