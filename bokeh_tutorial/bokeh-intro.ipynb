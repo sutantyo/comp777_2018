{
 "cells": [
  {
   "cell_type": "markdown",
   "metadata": {},
   "source": [
    "# Bokeh - Introduction\n",
    "\n",
    "Bokeh is a general purpose visualisation library that is easy to use and focuses on interactivity. \n",
    "The main resource for learning Bokeh should be their website at https://bokeh.pydata.org. \n",
    "\n",
    "## Contents\n",
    "\n",
    "* [Installation](#Installation)\n",
    "* [Basic line plot](#Basic-line-plot)\n",
    "* [Basic circle plot](#Basic-circle-plot)\n",
    "* [Step plot](#Step-plot)\n",
    "* [Multiple markers](#Multiple-markers)\n",
    "* [Shapes](#Shapes)\n",
    "* [Importing data](#Importing-data)\n",
    "* [Customising axes](#Customising-axes)\n",
    "\n",
    "\n",
    "## Installation\n",
    "\n",
    "### Prerequisites:\n",
    "\n",
    "* Anaconda Python 3.6 version (download from https://www.anaconda.com/download)\n",
    "* Jupyter Notebook (comes with Anaconda)\n",
    "* NumPy (also comes with Anaconda)\n",
    "\n",
    "I also assume that you can find your ways around Jupyter Notebook and also that you know some basic NumPy concepts. I have written a [short tutorial on NumPy here](../numpy_tutorial/NumPy.ipynb). I am also going to use panda when convenient (e.g. `read_csv`). \n",
    "\n",
    "To install Bokeh run the following on the command line. \n",
    "```\n",
    "pip3 install bokeh --upgrade\n",
    "```"
   ]
  },
  {
   "cell_type": "code",
   "execution_count": 1,
   "metadata": {
    "scrolled": true
   },
   "outputs": [
    {
     "data": {
      "text/html": [
       "\n",
       "    <div class=\"bk-root\">\n",
       "        <a href=\"https://bokeh.pydata.org\" target=\"_blank\" class=\"bk-logo bk-logo-small bk-logo-notebook\"></a>\n",
       "        <span id=\"7952596d-3067-41d7-84ee-0bad238c2fd8\">Loading BokehJS ...</span>\n",
       "    </div>"
      ]
     },
     "metadata": {},
     "output_type": "display_data"
    },
    {
     "data": {
      "application/javascript": [
       "\n",
       "(function(root) {\n",
       "  function now() {\n",
       "    return new Date();\n",
       "  }\n",
       "\n",
       "  var force = true;\n",
       "\n",
       "  if (typeof (root._bokeh_onload_callbacks) === \"undefined\" || force === true) {\n",
       "    root._bokeh_onload_callbacks = [];\n",
       "    root._bokeh_is_loading = undefined;\n",
       "  }\n",
       "\n",
       "  var JS_MIME_TYPE = 'application/javascript';\n",
       "  var HTML_MIME_TYPE = 'text/html';\n",
       "  var EXEC_MIME_TYPE = 'application/vnd.bokehjs_exec.v0+json';\n",
       "  var CLASS_NAME = 'output_bokeh rendered_html';\n",
       "\n",
       "  /**\n",
       "   * Render data to the DOM node\n",
       "   */\n",
       "  function render(props, node) {\n",
       "    var script = document.createElement(\"script\");\n",
       "    node.appendChild(script);\n",
       "  }\n",
       "\n",
       "  /**\n",
       "   * Handle when an output is cleared or removed\n",
       "   */\n",
       "  function handleClearOutput(event, handle) {\n",
       "    var cell = handle.cell;\n",
       "\n",
       "    var id = cell.output_area._bokeh_element_id;\n",
       "    var server_id = cell.output_area._bokeh_server_id;\n",
       "    // Clean up Bokeh references\n",
       "    if (id !== undefined) {\n",
       "      Bokeh.index[id].model.document.clear();\n",
       "      delete Bokeh.index[id];\n",
       "    }\n",
       "\n",
       "    if (server_id !== undefined) {\n",
       "      // Clean up Bokeh references\n",
       "      var cmd = \"from bokeh.io.state import curstate; print(curstate().uuid_to_server['\" + server_id + \"'].get_sessions()[0].document.roots[0]._id)\";\n",
       "      cell.notebook.kernel.execute(cmd, {\n",
       "        iopub: {\n",
       "          output: function(msg) {\n",
       "            var element_id = msg.content.text.trim();\n",
       "            Bokeh.index[element_id].model.document.clear();\n",
       "            delete Bokeh.index[element_id];\n",
       "          }\n",
       "        }\n",
       "      });\n",
       "      // Destroy server and session\n",
       "      var cmd = \"import bokeh.io.notebook as ion; ion.destroy_server('\" + server_id + \"')\";\n",
       "      cell.notebook.kernel.execute(cmd);\n",
       "    }\n",
       "  }\n",
       "\n",
       "  /**\n",
       "   * Handle when a new output is added\n",
       "   */\n",
       "  function handleAddOutput(event, handle) {\n",
       "    var output_area = handle.output_area;\n",
       "    var output = handle.output;\n",
       "\n",
       "    // limit handleAddOutput to display_data with EXEC_MIME_TYPE content only\n",
       "    if ((output.output_type != \"display_data\") || (!output.data.hasOwnProperty(EXEC_MIME_TYPE))) {\n",
       "      return\n",
       "    }\n",
       "\n",
       "    var toinsert = output_area.element.find(\".\" + CLASS_NAME.split(' ')[0]);\n",
       "\n",
       "    if (output.metadata[EXEC_MIME_TYPE][\"id\"] !== undefined) {\n",
       "      toinsert[toinsert.length - 1].firstChild.textContent = output.data[JS_MIME_TYPE];\n",
       "      // store reference to embed id on output_area\n",
       "      output_area._bokeh_element_id = output.metadata[EXEC_MIME_TYPE][\"id\"];\n",
       "    }\n",
       "    if (output.metadata[EXEC_MIME_TYPE][\"server_id\"] !== undefined) {\n",
       "      var bk_div = document.createElement(\"div\");\n",
       "      bk_div.innerHTML = output.data[HTML_MIME_TYPE];\n",
       "      var script_attrs = bk_div.children[0].attributes;\n",
       "      for (var i = 0; i < script_attrs.length; i++) {\n",
       "        toinsert[toinsert.length - 1].firstChild.setAttribute(script_attrs[i].name, script_attrs[i].value);\n",
       "      }\n",
       "      // store reference to server id on output_area\n",
       "      output_area._bokeh_server_id = output.metadata[EXEC_MIME_TYPE][\"server_id\"];\n",
       "    }\n",
       "  }\n",
       "\n",
       "  function register_renderer(events, OutputArea) {\n",
       "\n",
       "    function append_mime(data, metadata, element) {\n",
       "      // create a DOM node to render to\n",
       "      var toinsert = this.create_output_subarea(\n",
       "        metadata,\n",
       "        CLASS_NAME,\n",
       "        EXEC_MIME_TYPE\n",
       "      );\n",
       "      this.keyboard_manager.register_events(toinsert);\n",
       "      // Render to node\n",
       "      var props = {data: data, metadata: metadata[EXEC_MIME_TYPE]};\n",
       "      render(props, toinsert[toinsert.length - 1]);\n",
       "      element.append(toinsert);\n",
       "      return toinsert\n",
       "    }\n",
       "\n",
       "    /* Handle when an output is cleared or removed */\n",
       "    events.on('clear_output.CodeCell', handleClearOutput);\n",
       "    events.on('delete.Cell', handleClearOutput);\n",
       "\n",
       "    /* Handle when a new output is added */\n",
       "    events.on('output_added.OutputArea', handleAddOutput);\n",
       "\n",
       "    /**\n",
       "     * Register the mime type and append_mime function with output_area\n",
       "     */\n",
       "    OutputArea.prototype.register_mime_type(EXEC_MIME_TYPE, append_mime, {\n",
       "      /* Is output safe? */\n",
       "      safe: true,\n",
       "      /* Index of renderer in `output_area.display_order` */\n",
       "      index: 0\n",
       "    });\n",
       "  }\n",
       "\n",
       "  // register the mime type if in Jupyter Notebook environment and previously unregistered\n",
       "  if (root.Jupyter !== undefined) {\n",
       "    var events = require('base/js/events');\n",
       "    var OutputArea = require('notebook/js/outputarea').OutputArea;\n",
       "\n",
       "    if (OutputArea.prototype.mime_types().indexOf(EXEC_MIME_TYPE) == -1) {\n",
       "      register_renderer(events, OutputArea);\n",
       "    }\n",
       "  }\n",
       "\n",
       "  \n",
       "  if (typeof (root._bokeh_timeout) === \"undefined\" || force === true) {\n",
       "    root._bokeh_timeout = Date.now() + 5000;\n",
       "    root._bokeh_failed_load = false;\n",
       "  }\n",
       "\n",
       "  var NB_LOAD_WARNING = {'data': {'text/html':\n",
       "     \"<div style='background-color: #fdd'>\\n\"+\n",
       "     \"<p>\\n\"+\n",
       "     \"BokehJS does not appear to have successfully loaded. If loading BokehJS from CDN, this \\n\"+\n",
       "     \"may be due to a slow or bad network connection. Possible fixes:\\n\"+\n",
       "     \"</p>\\n\"+\n",
       "     \"<ul>\\n\"+\n",
       "     \"<li>re-rerun `output_notebook()` to attempt to load from CDN again, or</li>\\n\"+\n",
       "     \"<li>use INLINE resources instead, as so:</li>\\n\"+\n",
       "     \"</ul>\\n\"+\n",
       "     \"<code>\\n\"+\n",
       "     \"from bokeh.resources import INLINE\\n\"+\n",
       "     \"output_notebook(resources=INLINE)\\n\"+\n",
       "     \"</code>\\n\"+\n",
       "     \"</div>\"}};\n",
       "\n",
       "  function display_loaded() {\n",
       "    var el = document.getElementById(\"7952596d-3067-41d7-84ee-0bad238c2fd8\");\n",
       "    if (el != null) {\n",
       "      el.textContent = \"BokehJS is loading...\";\n",
       "    }\n",
       "    if (root.Bokeh !== undefined) {\n",
       "      if (el != null) {\n",
       "        el.textContent = \"BokehJS \" + root.Bokeh.version + \" successfully loaded.\";\n",
       "      }\n",
       "    } else if (Date.now() < root._bokeh_timeout) {\n",
       "      setTimeout(display_loaded, 100)\n",
       "    }\n",
       "  }\n",
       "\n",
       "\n",
       "  function run_callbacks() {\n",
       "    try {\n",
       "      root._bokeh_onload_callbacks.forEach(function(callback) { callback() });\n",
       "    }\n",
       "    finally {\n",
       "      delete root._bokeh_onload_callbacks\n",
       "    }\n",
       "    console.info(\"Bokeh: all callbacks have finished\");\n",
       "  }\n",
       "\n",
       "  function load_libs(js_urls, callback) {\n",
       "    root._bokeh_onload_callbacks.push(callback);\n",
       "    if (root._bokeh_is_loading > 0) {\n",
       "      console.log(\"Bokeh: BokehJS is being loaded, scheduling callback at\", now());\n",
       "      return null;\n",
       "    }\n",
       "    if (js_urls == null || js_urls.length === 0) {\n",
       "      run_callbacks();\n",
       "      return null;\n",
       "    }\n",
       "    console.log(\"Bokeh: BokehJS not loaded, scheduling load and callback at\", now());\n",
       "    root._bokeh_is_loading = js_urls.length;\n",
       "    for (var i = 0; i < js_urls.length; i++) {\n",
       "      var url = js_urls[i];\n",
       "      var s = document.createElement('script');\n",
       "      s.src = url;\n",
       "      s.async = false;\n",
       "      s.onreadystatechange = s.onload = function() {\n",
       "        root._bokeh_is_loading--;\n",
       "        if (root._bokeh_is_loading === 0) {\n",
       "          console.log(\"Bokeh: all BokehJS libraries loaded\");\n",
       "          run_callbacks()\n",
       "        }\n",
       "      };\n",
       "      s.onerror = function() {\n",
       "        console.warn(\"failed to load library \" + url);\n",
       "      };\n",
       "      console.log(\"Bokeh: injecting script tag for BokehJS library: \", url);\n",
       "      document.getElementsByTagName(\"head\")[0].appendChild(s);\n",
       "    }\n",
       "  };var element = document.getElementById(\"7952596d-3067-41d7-84ee-0bad238c2fd8\");\n",
       "  if (element == null) {\n",
       "    console.log(\"Bokeh: ERROR: autoload.js configured with elementid '7952596d-3067-41d7-84ee-0bad238c2fd8' but no matching script tag was found. \")\n",
       "    return false;\n",
       "  }\n",
       "\n",
       "  var js_urls = [\"https://cdn.pydata.org/bokeh/release/bokeh-0.12.16.min.js\", \"https://cdn.pydata.org/bokeh/release/bokeh-widgets-0.12.16.min.js\", \"https://cdn.pydata.org/bokeh/release/bokeh-tables-0.12.16.min.js\", \"https://cdn.pydata.org/bokeh/release/bokeh-gl-0.12.16.min.js\"];\n",
       "\n",
       "  var inline_js = [\n",
       "    function(Bokeh) {\n",
       "      Bokeh.set_log_level(\"info\");\n",
       "    },\n",
       "    \n",
       "    function(Bokeh) {\n",
       "      \n",
       "    },\n",
       "    function(Bokeh) {\n",
       "      console.log(\"Bokeh: injecting CSS: https://cdn.pydata.org/bokeh/release/bokeh-0.12.16.min.css\");\n",
       "      Bokeh.embed.inject_css(\"https://cdn.pydata.org/bokeh/release/bokeh-0.12.16.min.css\");\n",
       "      console.log(\"Bokeh: injecting CSS: https://cdn.pydata.org/bokeh/release/bokeh-widgets-0.12.16.min.css\");\n",
       "      Bokeh.embed.inject_css(\"https://cdn.pydata.org/bokeh/release/bokeh-widgets-0.12.16.min.css\");\n",
       "      console.log(\"Bokeh: injecting CSS: https://cdn.pydata.org/bokeh/release/bokeh-tables-0.12.16.min.css\");\n",
       "      Bokeh.embed.inject_css(\"https://cdn.pydata.org/bokeh/release/bokeh-tables-0.12.16.min.css\");\n",
       "    }\n",
       "  ];\n",
       "\n",
       "  function run_inline_js() {\n",
       "    \n",
       "    if ((root.Bokeh !== undefined) || (force === true)) {\n",
       "      for (var i = 0; i < inline_js.length; i++) {\n",
       "        inline_js[i].call(root, root.Bokeh);\n",
       "      }if (force === true) {\n",
       "        display_loaded();\n",
       "      }} else if (Date.now() < root._bokeh_timeout) {\n",
       "      setTimeout(run_inline_js, 100);\n",
       "    } else if (!root._bokeh_failed_load) {\n",
       "      console.log(\"Bokeh: BokehJS failed to load within specified timeout.\");\n",
       "      root._bokeh_failed_load = true;\n",
       "    } else if (force !== true) {\n",
       "      var cell = $(document.getElementById(\"7952596d-3067-41d7-84ee-0bad238c2fd8\")).parents('.cell').data().cell;\n",
       "      cell.output_area.append_execute_result(NB_LOAD_WARNING)\n",
       "    }\n",
       "\n",
       "  }\n",
       "\n",
       "  if (root._bokeh_is_loading === 0) {\n",
       "    console.log(\"Bokeh: BokehJS loaded, going straight to plotting\");\n",
       "    run_inline_js();\n",
       "  } else {\n",
       "    load_libs(js_urls, function() {\n",
       "      console.log(\"Bokeh: BokehJS plotting callback run at\", now());\n",
       "      run_inline_js();\n",
       "    });\n",
       "  }\n",
       "}(window));"
      ],
      "application/vnd.bokehjs_load.v0+json": "\n(function(root) {\n  function now() {\n    return new Date();\n  }\n\n  var force = true;\n\n  if (typeof (root._bokeh_onload_callbacks) === \"undefined\" || force === true) {\n    root._bokeh_onload_callbacks = [];\n    root._bokeh_is_loading = undefined;\n  }\n\n  \n\n  \n  if (typeof (root._bokeh_timeout) === \"undefined\" || force === true) {\n    root._bokeh_timeout = Date.now() + 5000;\n    root._bokeh_failed_load = false;\n  }\n\n  var NB_LOAD_WARNING = {'data': {'text/html':\n     \"<div style='background-color: #fdd'>\\n\"+\n     \"<p>\\n\"+\n     \"BokehJS does not appear to have successfully loaded. If loading BokehJS from CDN, this \\n\"+\n     \"may be due to a slow or bad network connection. Possible fixes:\\n\"+\n     \"</p>\\n\"+\n     \"<ul>\\n\"+\n     \"<li>re-rerun `output_notebook()` to attempt to load from CDN again, or</li>\\n\"+\n     \"<li>use INLINE resources instead, as so:</li>\\n\"+\n     \"</ul>\\n\"+\n     \"<code>\\n\"+\n     \"from bokeh.resources import INLINE\\n\"+\n     \"output_notebook(resources=INLINE)\\n\"+\n     \"</code>\\n\"+\n     \"</div>\"}};\n\n  function display_loaded() {\n    var el = document.getElementById(\"7952596d-3067-41d7-84ee-0bad238c2fd8\");\n    if (el != null) {\n      el.textContent = \"BokehJS is loading...\";\n    }\n    if (root.Bokeh !== undefined) {\n      if (el != null) {\n        el.textContent = \"BokehJS \" + root.Bokeh.version + \" successfully loaded.\";\n      }\n    } else if (Date.now() < root._bokeh_timeout) {\n      setTimeout(display_loaded, 100)\n    }\n  }\n\n\n  function run_callbacks() {\n    try {\n      root._bokeh_onload_callbacks.forEach(function(callback) { callback() });\n    }\n    finally {\n      delete root._bokeh_onload_callbacks\n    }\n    console.info(\"Bokeh: all callbacks have finished\");\n  }\n\n  function load_libs(js_urls, callback) {\n    root._bokeh_onload_callbacks.push(callback);\n    if (root._bokeh_is_loading > 0) {\n      console.log(\"Bokeh: BokehJS is being loaded, scheduling callback at\", now());\n      return null;\n    }\n    if (js_urls == null || js_urls.length === 0) {\n      run_callbacks();\n      return null;\n    }\n    console.log(\"Bokeh: BokehJS not loaded, scheduling load and callback at\", now());\n    root._bokeh_is_loading = js_urls.length;\n    for (var i = 0; i < js_urls.length; i++) {\n      var url = js_urls[i];\n      var s = document.createElement('script');\n      s.src = url;\n      s.async = false;\n      s.onreadystatechange = s.onload = function() {\n        root._bokeh_is_loading--;\n        if (root._bokeh_is_loading === 0) {\n          console.log(\"Bokeh: all BokehJS libraries loaded\");\n          run_callbacks()\n        }\n      };\n      s.onerror = function() {\n        console.warn(\"failed to load library \" + url);\n      };\n      console.log(\"Bokeh: injecting script tag for BokehJS library: \", url);\n      document.getElementsByTagName(\"head\")[0].appendChild(s);\n    }\n  };var element = document.getElementById(\"7952596d-3067-41d7-84ee-0bad238c2fd8\");\n  if (element == null) {\n    console.log(\"Bokeh: ERROR: autoload.js configured with elementid '7952596d-3067-41d7-84ee-0bad238c2fd8' but no matching script tag was found. \")\n    return false;\n  }\n\n  var js_urls = [\"https://cdn.pydata.org/bokeh/release/bokeh-0.12.16.min.js\", \"https://cdn.pydata.org/bokeh/release/bokeh-widgets-0.12.16.min.js\", \"https://cdn.pydata.org/bokeh/release/bokeh-tables-0.12.16.min.js\", \"https://cdn.pydata.org/bokeh/release/bokeh-gl-0.12.16.min.js\"];\n\n  var inline_js = [\n    function(Bokeh) {\n      Bokeh.set_log_level(\"info\");\n    },\n    \n    function(Bokeh) {\n      \n    },\n    function(Bokeh) {\n      console.log(\"Bokeh: injecting CSS: https://cdn.pydata.org/bokeh/release/bokeh-0.12.16.min.css\");\n      Bokeh.embed.inject_css(\"https://cdn.pydata.org/bokeh/release/bokeh-0.12.16.min.css\");\n      console.log(\"Bokeh: injecting CSS: https://cdn.pydata.org/bokeh/release/bokeh-widgets-0.12.16.min.css\");\n      Bokeh.embed.inject_css(\"https://cdn.pydata.org/bokeh/release/bokeh-widgets-0.12.16.min.css\");\n      console.log(\"Bokeh: injecting CSS: https://cdn.pydata.org/bokeh/release/bokeh-tables-0.12.16.min.css\");\n      Bokeh.embed.inject_css(\"https://cdn.pydata.org/bokeh/release/bokeh-tables-0.12.16.min.css\");\n    }\n  ];\n\n  function run_inline_js() {\n    \n    if ((root.Bokeh !== undefined) || (force === true)) {\n      for (var i = 0; i < inline_js.length; i++) {\n        inline_js[i].call(root, root.Bokeh);\n      }if (force === true) {\n        display_loaded();\n      }} else if (Date.now() < root._bokeh_timeout) {\n      setTimeout(run_inline_js, 100);\n    } else if (!root._bokeh_failed_load) {\n      console.log(\"Bokeh: BokehJS failed to load within specified timeout.\");\n      root._bokeh_failed_load = true;\n    } else if (force !== true) {\n      var cell = $(document.getElementById(\"7952596d-3067-41d7-84ee-0bad238c2fd8\")).parents('.cell').data().cell;\n      cell.output_area.append_execute_result(NB_LOAD_WARNING)\n    }\n\n  }\n\n  if (root._bokeh_is_loading === 0) {\n    console.log(\"Bokeh: BokehJS loaded, going straight to plotting\");\n    run_inline_js();\n  } else {\n    load_libs(js_urls, function() {\n      console.log(\"Bokeh: BokehJS plotting callback run at\", now());\n      run_inline_js();\n    });\n  }\n}(window));"
     },
     "metadata": {},
     "output_type": "display_data"
    }
   ],
   "source": [
    "import numpy as np\n",
    "\n",
    "from bokeh.io import output_notebook, show\n",
    "from bokeh.plotting import figure\n",
    "\n",
    "output_notebook()"
   ]
  },
  {
   "cell_type": "markdown",
   "metadata": {},
   "source": [
    "The command `output_notebook()` will set Bokeh so that the figure is displayed inline. \n",
    "If you want your figure to be displayed as an html file, instead of `output_notebook()`, you need to import the `output_file()` function. For example, to save the figure as `output.html`, use instead\n",
    "```\n",
    "from bokeh.io import output_file\n",
    "output_file('output.html')\n",
    "```\n",
    "It is also possible to run Bokeh from the command line, but we will not be discussing this method since it is much more convenient to use Jupyter notebook. [You can read more about it here](https://bokeh.pydata.org/en/latest/docs/user_guide/concepts.html#output-methods).\n",
    "\n",
    "#### Aside: \n",
    "\n",
    "Bokeh is composed of two parts: Bokeh Python Library and BokehJS. We use Bokeh Python Library to produce a JSON data that represent a figure, which is later rendered into html by BokehJS. Bokeh Python Library itself has two main components: bokeh.plotting and bokeh.models. The former is the main tool that we are going to use, while the latter is a low-level interface which you can use to further customise your visualisation."
   ]
  },
  {
   "cell_type": "markdown",
   "metadata": {},
   "source": [
    "## Basic line plot\n",
    "\n",
    "Main reference: https://bokeh.pydata.org/en/latest/docs/reference/plotting.html#bokeh.plotting.figure.Figure.line\n",
    "\n",
    "To draw something using Bokeh, we must first create a figure. Once a figure is created, we are free to add as many plots as we like on it, even of different kinds. We start with the basic line plot:"
   ]
  },
  {
   "cell_type": "code",
   "execution_count": 2,
   "metadata": {
    "scrolled": false
   },
   "outputs": [
    {
     "data": {
      "text/html": [
       "\n",
       "<div class=\"bk-root\">\n",
       "    <div class=\"bk-plotdiv\" id=\"499cacf5-fa8e-4757-a1a0-5dc2f0150ddd\"></div>\n",
       "</div>"
      ]
     },
     "metadata": {},
     "output_type": "display_data"
    },
    {
     "data": {
      "application/javascript": [
       "(function(root) {\n",
       "  function embed_document(root) {\n",
       "    \n",
       "  var docs_json = {\"dce574d1-9e15-4959-be09-3cf4263ed4ed\":{\"roots\":{\"references\":[{\"attributes\":{},\"id\":\"36e7fa57-f4f7-4f95-b561-0c8992f878d6\",\"type\":\"LinearScale\"},{\"attributes\":{},\"id\":\"7c6bfaaa-8dae-4bc8-bb51-a3a0e9cdbf85\",\"type\":\"BasicTicker\"},{\"attributes\":{},\"id\":\"592e2e6c-1c66-4bd8-a2d9-33f06de31a2d\",\"type\":\"BasicTicker\"},{\"attributes\":{\"dimension\":1,\"plot\":{\"id\":\"4a9c29dd-a200-43e2-843c-b891f0cb17db\",\"subtype\":\"Figure\",\"type\":\"Plot\"},\"ticker\":{\"id\":\"7c6bfaaa-8dae-4bc8-bb51-a3a0e9cdbf85\",\"type\":\"BasicTicker\"}},\"id\":\"d8248a07-0945-4809-97d5-7647a8b96de9\",\"type\":\"Grid\"},{\"attributes\":{\"bottom_units\":\"screen\",\"fill_alpha\":{\"value\":0.5},\"fill_color\":{\"value\":\"lightgrey\"},\"left_units\":\"screen\",\"level\":\"overlay\",\"line_alpha\":{\"value\":1.0},\"line_color\":{\"value\":\"black\"},\"line_dash\":[4,4],\"line_width\":{\"value\":2},\"plot\":null,\"render_mode\":\"css\",\"right_units\":\"screen\",\"top_units\":\"screen\"},\"id\":\"a50cee9e-07af-4c2a-88bd-5bf57d02dab7\",\"type\":\"BoxAnnotation\"},{\"attributes\":{\"callback\":null,\"data\":{\"x\":{\"__ndarray__\":\"mpmZmZmZ6T/sUbgehevpPz4K16NwPeo/kML1KFyP6j/iehSuR+HqPzQzMzMzM+s/hutRuB6F6z/Yo3A9CtfrPypcj8L1KOw/fBSuR+F67D/OzMzMzMzsPyCF61G4Hu0/cj0K16Nw7T/E9Shcj8LtPxauR+F6FO4/aGZmZmZm7j+6HoXrUbjuPwzXo3A9Cu8/Xo/C9Shc7z+wR+F6FK7vPwEAAAAAAPA/KlyPwvUo8D9TuB6F61HwP3wUrkfhevA/pXA9Ctej8D/OzMzMzMzwP/coXI/C9fA/IIXrUbge8T9J4XoUrkfxP3I9CtejcPE/m5mZmZmZ8T/E9Shcj8LxP+1RuB6F6/E/Fq5H4XoU8j8/CtejcD3yP2hmZmZmZvI/kcL1KFyP8j+6HoXrUbjyP+N6FK5H4fI/DNejcD0K8z8=\",\"dtype\":\"float64\",\"shape\":[40]},\"y\":{\"__ndarray__\":\"fBSuR+F65D+u+lxtxf7kP6SSOgFNhOU/XtxGA3gL5j/d14FzRpTmPyCF61G4Huc/J+SDns2q5z/z9EpZhjjoP4K3QILix+g/1itlGeJY6T/uUbgehevpP8opOpLLf+o/arPqc7UV6z/P7snDQq3rP/fb14FzRuw/5HoUrkfh7D+Vy39Iv33tPwvOGVHaG+4/RILix5i77j9C6Nms+lzvPwIAAAAAAPA/xWSqYFRS8D9qImx4eqXwP/I4RUdy+fA/W6g1zTtO8T+mcD0K16PxP9SRXP5D+vE/5AuTqYJR8j/V3uALk6nyP6kKRiV1AvM/X4/C9Shc8z/3bFZ9rrbzP3GjAbwFEvQ/zjLEsS5u9D8MG55eKcv0Py1cj8L1KPU/L/aX3ZOH9T8U6bevA+f1P9s07zhFR/Y/hNk9eVio9j8=\",\"dtype\":\"float64\",\"shape\":[40]}},\"selected\":{\"id\":\"4d1e21c2-358d-41c1-a728-beb57b5779f2\",\"type\":\"Selection\"},\"selection_policy\":{\"id\":\"88db0a93-f8bc-4753-88e9-e0591ab81875\",\"type\":\"UnionRenderers\"}},\"id\":\"64bca614-7e06-4a97-9a9e-df25a60df820\",\"type\":\"ColumnDataSource\"},{\"attributes\":{},\"id\":\"73e86149-18e2-4341-b027-b2ce39b4341a\",\"type\":\"BasicTickFormatter\"},{\"attributes\":{},\"id\":\"4fe42a1a-bbd2-49ef-a279-739f67bf1bbb\",\"type\":\"PanTool\"},{\"attributes\":{},\"id\":\"00c71d88-ee9b-4651-8cc5-0c7c7388a4dc\",\"type\":\"WheelZoomTool\"},{\"attributes\":{\"overlay\":{\"id\":\"a50cee9e-07af-4c2a-88bd-5bf57d02dab7\",\"type\":\"BoxAnnotation\"}},\"id\":\"bf96931d-75e5-41b9-8ba0-840a5b98dcbe\",\"type\":\"BoxZoomTool\"},{\"attributes\":{},\"id\":\"ecb4427f-d336-4e1a-b5fb-9d34985d1e2b\",\"type\":\"SaveTool\"},{\"attributes\":{\"callback\":null,\"data\":{\"x\":{\"__ndarray__\":\"mpmZmZmZ6T/sUbgehevpPz4K16NwPeo/kML1KFyP6j/iehSuR+HqPzQzMzMzM+s/hutRuB6F6z/Yo3A9CtfrPypcj8L1KOw/fBSuR+F67D/OzMzMzMzsPyCF61G4Hu0/cj0K16Nw7T/E9Shcj8LtPxauR+F6FO4/aGZmZmZm7j+6HoXrUbjuPwzXo3A9Cu8/Xo/C9Shc7z+wR+F6FK7vPwEAAAAAAPA/KlyPwvUo8D9TuB6F61HwP3wUrkfhevA/pXA9Ctej8D/OzMzMzMzwP/coXI/C9fA/IIXrUbge8T9J4XoUrkfxP3I9CtejcPE/m5mZmZmZ8T/E9Shcj8LxP+1RuB6F6/E/Fq5H4XoU8j8/CtejcD3yP2hmZmZmZvI/kcL1KFyP8j+6HoXrUbjyP+N6FK5H4fI/DNejcD0K8z8=\",\"dtype\":\"float64\",\"shape\":[40]},\"y\":{\"__ndarray__\":\"/anx0k1i4D/4HFiOkAHhPyDzAYHOpOE//eQoQBRM4j8WqwZhbvfiP/X91HjppuM/IpbNHJJa5D8mLCridBLlP4h4JF6ezuU/0TP2JRuP5j+KFtnO91PnPzvZBu5AHeg/bTS5GAPr6D+o4CnkSr3pP3SWkuUklOo/Wg4tsp1v6z/jADPfwU/sP5Ym3gGeNO0//Tdorz4e7j+f7Qp9sAzvPwMAAAAAAPA/3ZPA5hx88D+hDmQ9tfrwP5RMh07Pe/E/+SnHZHH/8T8Wg8DKoYXyPy80EMtmDvM/hxlTsMaZ8z9jDybFxyf0PwfyJVRwuPQ/t53vp8ZL9T+47h8L0eH1P07BU8iVevY/vPEnKhsW9z9IXDl7Z7T3PzXdJAaBVfg/yFCHFW75+D9Fk/3zNKD5P/CAJOzbSfo/DfaYSGn2+j8=\",\"dtype\":\"float64\",\"shape\":[40]}},\"selected\":{\"id\":\"e7267a8a-a559-461a-9a30-bcbf40626e67\",\"type\":\"Selection\"},\"selection_policy\":{\"id\":\"e606f57b-b966-4e6f-b29d-6383e4cf9c61\",\"type\":\"UnionRenderers\"}},\"id\":\"dabfa0d4-a986-4e1f-b1ae-efdef8852ab2\",\"type\":\"ColumnDataSource\"},{\"attributes\":{},\"id\":\"d60793c4-81cc-468b-aa5d-59456219d9bb\",\"type\":\"ResetTool\"},{\"attributes\":{},\"id\":\"3f50aac0-087f-46b1-b2e0-a493c7f39af8\",\"type\":\"HelpTool\"},{\"attributes\":{\"data_source\":{\"id\":\"64bca614-7e06-4a97-9a9e-df25a60df820\",\"type\":\"ColumnDataSource\"},\"glyph\":{\"id\":\"bb5e44e2-ad07-4af1-8b95-7fc72545c88d\",\"type\":\"Line\"},\"hover_glyph\":null,\"muted_glyph\":null,\"nonselection_glyph\":{\"id\":\"b7b469b8-bb31-46d3-a3ff-69e789906184\",\"type\":\"Line\"},\"selection_glyph\":null,\"view\":{\"id\":\"dfb86b4e-8dbb-435a-8561-f2c406daf864\",\"type\":\"CDSView\"}},\"id\":\"a7f9d902-56a0-455b-ab13-63d331670e18\",\"type\":\"GlyphRenderer\"},{\"attributes\":{\"line_color\":\"cyan\",\"x\":{\"field\":\"x\"},\"y\":{\"field\":\"y\"}},\"id\":\"bb5e44e2-ad07-4af1-8b95-7fc72545c88d\",\"type\":\"Line\"},{\"attributes\":{\"source\":{\"id\":\"64bca614-7e06-4a97-9a9e-df25a60df820\",\"type\":\"ColumnDataSource\"}},\"id\":\"dfb86b4e-8dbb-435a-8561-f2c406daf864\",\"type\":\"CDSView\"},{\"attributes\":{\"source\":{\"id\":\"dabfa0d4-a986-4e1f-b1ae-efdef8852ab2\",\"type\":\"ColumnDataSource\"}},\"id\":\"6c5292a9-63da-4aff-85ab-52dbd12999c6\",\"type\":\"CDSView\"},{\"attributes\":{\"line_alpha\":0.1,\"line_color\":\"#1f77b4\",\"x\":{\"field\":\"x\"},\"y\":{\"field\":\"y\"}},\"id\":\"8f37a9f1-0691-44ea-bdc6-2c0b01f7affa\",\"type\":\"Line\"},{\"attributes\":{\"line_color\":\"orange\",\"x\":{\"field\":\"x\"},\"y\":{\"field\":\"y\"}},\"id\":\"03099fa7-22c9-4c1c-8387-656e8772658f\",\"type\":\"Line\"},{\"attributes\":{\"callback\":null,\"data\":{\"x\":{\"__ndarray__\":\"mpmZmZmZ6T/sUbgehevpPz4K16NwPeo/kML1KFyP6j/iehSuR+HqPzQzMzMzM+s/hutRuB6F6z/Yo3A9CtfrPypcj8L1KOw/fBSuR+F67D/OzMzMzMzsPyCF61G4Hu0/cj0K16Nw7T/E9Shcj8LtPxauR+F6FO4/aGZmZmZm7j+6HoXrUbjuPwzXo3A9Cu8/Xo/C9Shc7z+wR+F6FK7vPwEAAAAAAPA/KlyPwvUo8D9TuB6F61HwP3wUrkfhevA/pXA9Ctej8D/OzMzMzMzwP/coXI/C9fA/IIXrUbge8T9J4XoUrkfxP3I9CtejcPE/m5mZmZmZ8T/E9Shcj8LxP+1RuB6F6/E/Fq5H4XoU8j8/CtejcD3yP2hmZmZmZvI/kcL1KFyP8j+6HoXrUbjyP+N6FK5H4fI/DNejcD0K8z8=\",\"dtype\":\"float64\",\"shape\":[40]},\"y\":{\"__ndarray__\":\"mpmZmZmZ6T/sUbgehevpPz4K16NwPeo/kML1KFyP6j/iehSuR+HqPzQzMzMzM+s/hutRuB6F6z/Yo3A9CtfrPypcj8L1KOw/fBSuR+F67D/OzMzMzMzsPyCF61G4Hu0/cj0K16Nw7T/E9Shcj8LtPxauR+F6FO4/aGZmZmZm7j+6HoXrUbjuPwzXo3A9Cu8/Xo/C9Shc7z+wR+F6FK7vPwEAAAAAAPA/KlyPwvUo8D9TuB6F61HwP3wUrkfhevA/pXA9Ctej8D/OzMzMzMzwP/coXI/C9fA/IIXrUbge8T9J4XoUrkfxP3I9CtejcPE/m5mZmZmZ8T/E9Shcj8LxP+1RuB6F6/E/Fq5H4XoU8j8/CtejcD3yP2hmZmZmZvI/kcL1KFyP8j+6HoXrUbjyP+N6FK5H4fI/DNejcD0K8z8=\",\"dtype\":\"float64\",\"shape\":[40]}},\"selected\":{\"id\":\"7c4ca83d-1cdf-45b7-b293-6f73bff2fa67\",\"type\":\"Selection\"},\"selection_policy\":{\"id\":\"3611826a-7a88-497e-93d0-4f3bd5afd072\",\"type\":\"UnionRenderers\"}},\"id\":\"0de47c7c-6401-4632-85a7-04764d9ffa05\",\"type\":\"ColumnDataSource\"},{\"attributes\":{\"data_source\":{\"id\":\"dabfa0d4-a986-4e1f-b1ae-efdef8852ab2\",\"type\":\"ColumnDataSource\"},\"glyph\":{\"id\":\"03099fa7-22c9-4c1c-8387-656e8772658f\",\"type\":\"Line\"},\"hover_glyph\":null,\"muted_glyph\":null,\"nonselection_glyph\":{\"id\":\"4352baa2-559a-42b5-bad7-19c01bfd4acb\",\"type\":\"Line\"},\"selection_glyph\":null,\"view\":{\"id\":\"6c5292a9-63da-4aff-85ab-52dbd12999c6\",\"type\":\"CDSView\"}},\"id\":\"6f8c57f4-2f4e-4abe-85ce-73beaadfc761\",\"type\":\"GlyphRenderer\"},{\"attributes\":{\"line_alpha\":0.1,\"line_color\":\"#1f77b4\",\"x\":{\"field\":\"x\"},\"y\":{\"field\":\"y\"}},\"id\":\"4352baa2-559a-42b5-bad7-19c01bfd4acb\",\"type\":\"Line\"},{\"attributes\":{\"line_color\":\"green\",\"x\":{\"field\":\"x\"},\"y\":{\"field\":\"y\"}},\"id\":\"a41c04e9-5d00-416a-8f68-b31487370d2c\",\"type\":\"Line\"},{\"attributes\":{\"below\":[{\"id\":\"b21ba103-8a59-475d-a9c6-adef1e36601a\",\"type\":\"LinearAxis\"}],\"left\":[{\"id\":\"a73792e3-a4c2-4320-b1a4-e956e2a20636\",\"type\":\"LinearAxis\"}],\"plot_height\":300,\"plot_width\":500,\"renderers\":[{\"id\":\"b21ba103-8a59-475d-a9c6-adef1e36601a\",\"type\":\"LinearAxis\"},{\"id\":\"dff8dc64-0df7-4a14-b6c0-9f4de0d335a7\",\"type\":\"Grid\"},{\"id\":\"a73792e3-a4c2-4320-b1a4-e956e2a20636\",\"type\":\"LinearAxis\"},{\"id\":\"d8248a07-0945-4809-97d5-7647a8b96de9\",\"type\":\"Grid\"},{\"id\":\"a50cee9e-07af-4c2a-88bd-5bf57d02dab7\",\"type\":\"BoxAnnotation\"},{\"id\":\"71271476-3718-40a0-ae2b-9fc96f430898\",\"type\":\"GlyphRenderer\"},{\"id\":\"a7f9d902-56a0-455b-ab13-63d331670e18\",\"type\":\"GlyphRenderer\"},{\"id\":\"6f8c57f4-2f4e-4abe-85ce-73beaadfc761\",\"type\":\"GlyphRenderer\"}],\"title\":{\"id\":\"be5094bc-b413-4f7a-9bd7-cf1f1b080cf8\",\"type\":\"Title\"},\"toolbar\":{\"id\":\"55a10fa2-0062-4adc-97cd-5fcc06f70c2b\",\"type\":\"Toolbar\"},\"x_range\":{\"id\":\"f17b161c-9c26-440a-9c18-98c9043c15a8\",\"type\":\"DataRange1d\"},\"x_scale\":{\"id\":\"f764d588-99e8-4508-a0d5-c12338166286\",\"type\":\"LinearScale\"},\"y_range\":{\"id\":\"5e113f3a-b057-4f62-9687-d353dd75fcba\",\"type\":\"DataRange1d\"},\"y_scale\":{\"id\":\"36e7fa57-f4f7-4f95-b561-0c8992f878d6\",\"type\":\"LinearScale\"}},\"id\":\"4a9c29dd-a200-43e2-843c-b891f0cb17db\",\"subtype\":\"Figure\",\"type\":\"Plot\"},{\"attributes\":{\"plot\":null,\"text\":\"Basic line plot\"},\"id\":\"be5094bc-b413-4f7a-9bd7-cf1f1b080cf8\",\"type\":\"Title\"},{\"attributes\":{},\"id\":\"81eae69f-2487-4f17-ac50-299cafc96741\",\"type\":\"BasicTickFormatter\"},{\"attributes\":{\"callback\":null},\"id\":\"f17b161c-9c26-440a-9c18-98c9043c15a8\",\"type\":\"DataRange1d\"},{\"attributes\":{},\"id\":\"7c4ca83d-1cdf-45b7-b293-6f73bff2fa67\",\"type\":\"Selection\"},{\"attributes\":{\"formatter\":{\"id\":\"81eae69f-2487-4f17-ac50-299cafc96741\",\"type\":\"BasicTickFormatter\"},\"plot\":{\"id\":\"4a9c29dd-a200-43e2-843c-b891f0cb17db\",\"subtype\":\"Figure\",\"type\":\"Plot\"},\"ticker\":{\"id\":\"592e2e6c-1c66-4bd8-a2d9-33f06de31a2d\",\"type\":\"BasicTicker\"}},\"id\":\"b21ba103-8a59-475d-a9c6-adef1e36601a\",\"type\":\"LinearAxis\"},{\"attributes\":{},\"id\":\"3611826a-7a88-497e-93d0-4f3bd5afd072\",\"type\":\"UnionRenderers\"},{\"attributes\":{\"source\":{\"id\":\"0de47c7c-6401-4632-85a7-04764d9ffa05\",\"type\":\"ColumnDataSource\"}},\"id\":\"7f869e7e-b3e9-4bb5-8277-e962180f1ca8\",\"type\":\"CDSView\"},{\"attributes\":{},\"id\":\"88db0a93-f8bc-4753-88e9-e0591ab81875\",\"type\":\"UnionRenderers\"},{\"attributes\":{\"formatter\":{\"id\":\"73e86149-18e2-4341-b027-b2ce39b4341a\",\"type\":\"BasicTickFormatter\"},\"plot\":{\"id\":\"4a9c29dd-a200-43e2-843c-b891f0cb17db\",\"subtype\":\"Figure\",\"type\":\"Plot\"},\"ticker\":{\"id\":\"7c6bfaaa-8dae-4bc8-bb51-a3a0e9cdbf85\",\"type\":\"BasicTicker\"}},\"id\":\"a73792e3-a4c2-4320-b1a4-e956e2a20636\",\"type\":\"LinearAxis\"},{\"attributes\":{\"plot\":{\"id\":\"4a9c29dd-a200-43e2-843c-b891f0cb17db\",\"subtype\":\"Figure\",\"type\":\"Plot\"},\"ticker\":{\"id\":\"592e2e6c-1c66-4bd8-a2d9-33f06de31a2d\",\"type\":\"BasicTicker\"}},\"id\":\"dff8dc64-0df7-4a14-b6c0-9f4de0d335a7\",\"type\":\"Grid\"},{\"attributes\":{},\"id\":\"4d1e21c2-358d-41c1-a728-beb57b5779f2\",\"type\":\"Selection\"},{\"attributes\":{\"active_drag\":\"auto\",\"active_inspect\":\"auto\",\"active_scroll\":\"auto\",\"active_tap\":\"auto\",\"tools\":[{\"id\":\"4fe42a1a-bbd2-49ef-a279-739f67bf1bbb\",\"type\":\"PanTool\"},{\"id\":\"00c71d88-ee9b-4651-8cc5-0c7c7388a4dc\",\"type\":\"WheelZoomTool\"},{\"id\":\"bf96931d-75e5-41b9-8ba0-840a5b98dcbe\",\"type\":\"BoxZoomTool\"},{\"id\":\"ecb4427f-d336-4e1a-b5fb-9d34985d1e2b\",\"type\":\"SaveTool\"},{\"id\":\"d60793c4-81cc-468b-aa5d-59456219d9bb\",\"type\":\"ResetTool\"},{\"id\":\"3f50aac0-087f-46b1-b2e0-a493c7f39af8\",\"type\":\"HelpTool\"}]},\"id\":\"55a10fa2-0062-4adc-97cd-5fcc06f70c2b\",\"type\":\"Toolbar\"},{\"attributes\":{},\"id\":\"e606f57b-b966-4e6f-b29d-6383e4cf9c61\",\"type\":\"UnionRenderers\"},{\"attributes\":{\"data_source\":{\"id\":\"0de47c7c-6401-4632-85a7-04764d9ffa05\",\"type\":\"ColumnDataSource\"},\"glyph\":{\"id\":\"a41c04e9-5d00-416a-8f68-b31487370d2c\",\"type\":\"Line\"},\"hover_glyph\":null,\"muted_glyph\":null,\"nonselection_glyph\":{\"id\":\"8f37a9f1-0691-44ea-bdc6-2c0b01f7affa\",\"type\":\"Line\"},\"selection_glyph\":null,\"view\":{\"id\":\"7f869e7e-b3e9-4bb5-8277-e962180f1ca8\",\"type\":\"CDSView\"}},\"id\":\"71271476-3718-40a0-ae2b-9fc96f430898\",\"type\":\"GlyphRenderer\"},{\"attributes\":{},\"id\":\"e7267a8a-a559-461a-9a30-bcbf40626e67\",\"type\":\"Selection\"},{\"attributes\":{},\"id\":\"f764d588-99e8-4508-a0d5-c12338166286\",\"type\":\"LinearScale\"},{\"attributes\":{\"line_alpha\":0.1,\"line_color\":\"#1f77b4\",\"x\":{\"field\":\"x\"},\"y\":{\"field\":\"y\"}},\"id\":\"b7b469b8-bb31-46d3-a3ff-69e789906184\",\"type\":\"Line\"},{\"attributes\":{\"callback\":null},\"id\":\"5e113f3a-b057-4f62-9687-d353dd75fcba\",\"type\":\"DataRange1d\"}],\"root_ids\":[\"4a9c29dd-a200-43e2-843c-b891f0cb17db\"]},\"title\":\"Bokeh Application\",\"version\":\"0.12.16\"}};\n",
       "  var render_items = [{\"docid\":\"dce574d1-9e15-4959-be09-3cf4263ed4ed\",\"elementid\":\"499cacf5-fa8e-4757-a1a0-5dc2f0150ddd\",\"modelid\":\"4a9c29dd-a200-43e2-843c-b891f0cb17db\"}];\n",
       "  root.Bokeh.embed.embed_items_notebook(docs_json, render_items);\n",
       "\n",
       "  }\n",
       "  if (root.Bokeh !== undefined) {\n",
       "    embed_document(root);\n",
       "  } else {\n",
       "    var attempts = 0;\n",
       "    var timer = setInterval(function(root) {\n",
       "      if (root.Bokeh !== undefined) {\n",
       "        embed_document(root);\n",
       "        clearInterval(timer);\n",
       "      }\n",
       "      attempts++;\n",
       "      if (attempts > 100) {\n",
       "        console.log(\"Bokeh: ERROR: Unable to run BokehJS code because BokehJS library is missing\")\n",
       "        clearInterval(timer);\n",
       "      }\n",
       "    }, 10, root)\n",
       "  }\n",
       "})(window);"
      ],
      "application/vnd.bokehjs_exec.v0+json": ""
     },
     "metadata": {
      "application/vnd.bokehjs_exec.v0+json": {
       "id": "4a9c29dd-a200-43e2-843c-b891f0cb17db"
      }
     },
     "output_type": "display_data"
    }
   ],
   "source": [
    "x = np.arange(0.8,1.2,0.01)\n",
    "def square(x):\n",
    "    return x**2\n",
    "def cube(x):\n",
    "    return x**3\n",
    "\n",
    "line_plot = figure(title=\"Basic line plot\",plot_height=300, plot_width=500)\n",
    "line_plot.line(x,x,line_color='green')\n",
    "line_plot.line(x,square(x),line_color='cyan')\n",
    "line_plot.line(x,cube(x),line_color='orange')\n",
    "show(line_plot)"
   ]
  },
  {
   "cell_type": "markdown",
   "metadata": {},
   "source": [
    "Bokeh functions can take a list of keyword arguments (kwargs), as you have seen above. Here is the more commonly used ones. The values inside the square bracket is either the type (e.g. Int or Float) or an array of possible String values. \n",
    "```\n",
    "line_alpha=[Float between 0.0 and 1.0]\n",
    "line_color=[Color]\n",
    "line_width=[Float]\n",
    "line_cap=['butt','round','square']\n",
    "line_dash=['solid','dashed','dotted','dotdash','dashdot']\n",
    "```\n",
    "\n",
    "See also [`multi_line()`](https://bokeh.pydata.org/en/latest/docs/reference/plotting.html#bokeh.plotting.figure.Figure.multi_line) for drawing multiple line plots at once, which can be convenient, but it is also good to be able to customise each line separately (e.g. different interactivity). "
   ]
  },
  {
   "cell_type": "markdown",
   "metadata": {},
   "source": [
    "## Basic circle plot\n",
    "\n",
    "Main reference: https://bokeh.pydata.org/en/latest/docs/reference/plotting.html#bokeh.plotting.figure.Figure.circle"
   ]
  },
  {
   "cell_type": "code",
   "execution_count": 3,
   "metadata": {},
   "outputs": [
    {
     "data": {
      "text/html": [
       "\n",
       "<div class=\"bk-root\">\n",
       "    <div class=\"bk-plotdiv\" id=\"f948ef73-025d-492a-be03-1e2e647f7cd9\"></div>\n",
       "</div>"
      ]
     },
     "metadata": {},
     "output_type": "display_data"
    },
    {
     "data": {
      "application/javascript": [
       "(function(root) {\n",
       "  function embed_document(root) {\n",
       "    \n",
       "  var docs_json = {\"34c2b2b0-bfad-43d6-84ab-e95f791dbf47\":{\"roots\":{\"references\":[{\"attributes\":{},\"id\":\"8667c5a8-ad70-4ea7-8d0b-37ddef38b949\",\"type\":\"PanTool\"},{\"attributes\":{\"active_drag\":\"auto\",\"active_inspect\":\"auto\",\"active_scroll\":\"auto\",\"active_tap\":\"auto\",\"tools\":[{\"id\":\"8667c5a8-ad70-4ea7-8d0b-37ddef38b949\",\"type\":\"PanTool\"},{\"id\":\"8bebd847-4b98-4f36-8251-70760b2ae174\",\"type\":\"WheelZoomTool\"},{\"id\":\"acd627f4-8d68-4232-803b-cb9995fd14f0\",\"type\":\"BoxZoomTool\"},{\"id\":\"6e13e812-2481-493f-bfbe-5a65a54ac57b\",\"type\":\"SaveTool\"},{\"id\":\"9cba0317-14a4-4464-a1bc-823cae94ad64\",\"type\":\"ResetTool\"},{\"id\":\"b7f57101-8912-42f7-b8b3-4a0b19d0dbde\",\"type\":\"HelpTool\"}]},\"id\":\"ef8e0adc-9274-488d-a87c-0f3e25dbfdf2\",\"type\":\"Toolbar\"},{\"attributes\":{\"bottom_units\":\"screen\",\"fill_alpha\":{\"value\":0.5},\"fill_color\":{\"value\":\"lightgrey\"},\"left_units\":\"screen\",\"level\":\"overlay\",\"line_alpha\":{\"value\":1.0},\"line_color\":{\"value\":\"black\"},\"line_dash\":[4,4],\"line_width\":{\"value\":2},\"plot\":null,\"render_mode\":\"css\",\"right_units\":\"screen\",\"top_units\":\"screen\"},\"id\":\"809bf1ff-e39b-4364-8cfb-b995fe510b64\",\"type\":\"BoxAnnotation\"},{\"attributes\":{\"callback\":null},\"id\":\"42ad933a-7355-41a6-9769-5b78acdd59a7\",\"type\":\"DataRange1d\"},{\"attributes\":{\"source\":{\"id\":\"78ac67c1-f418-4017-bb9f-5331e8ddecba\",\"type\":\"ColumnDataSource\"}},\"id\":\"ff78ecdc-2f3a-4bb9-8eb1-ed951d011f28\",\"type\":\"CDSView\"},{\"attributes\":{},\"id\":\"086aa54a-37e0-4f8c-a3eb-f38088e890a3\",\"type\":\"UnionRenderers\"},{\"attributes\":{},\"id\":\"23e8e6f7-49d5-4fd2-b452-559872427fa6\",\"type\":\"LinearScale\"},{\"attributes\":{},\"id\":\"84d6e33c-91d9-4d9d-8548-818a562e06d3\",\"type\":\"Selection\"},{\"attributes\":{},\"id\":\"688de3aa-ed7c-4842-bc95-3f850142fd45\",\"type\":\"BasicTicker\"},{\"attributes\":{},\"id\":\"fa1c0c93-7906-4aae-9300-10b5d120567a\",\"type\":\"BasicTickFormatter\"},{\"attributes\":{},\"id\":\"a37b67a4-1031-4d0e-9d89-1e64f5fd0f7b\",\"type\":\"BasicTickFormatter\"},{\"attributes\":{\"plot\":{\"id\":\"d3155a40-34a7-400a-8321-83a1a2abb3da\",\"subtype\":\"Figure\",\"type\":\"Plot\"},\"ticker\":{\"id\":\"688de3aa-ed7c-4842-bc95-3f850142fd45\",\"type\":\"BasicTicker\"}},\"id\":\"ee1b7881-17d7-485b-86ce-c9752592d2d2\",\"type\":\"Grid\"},{\"attributes\":{},\"id\":\"a9d21923-91e0-413a-8021-0554547c8ed0\",\"type\":\"BasicTicker\"},{\"attributes\":{\"data_source\":{\"id\":\"78ac67c1-f418-4017-bb9f-5331e8ddecba\",\"type\":\"ColumnDataSource\"},\"glyph\":{\"id\":\"26251711-2e60-4fee-ac31-3c834aea765e\",\"type\":\"Circle\"},\"hover_glyph\":null,\"muted_glyph\":null,\"nonselection_glyph\":{\"id\":\"b119e05e-98c9-46ae-a5f9-8abaacdd0161\",\"type\":\"Circle\"},\"selection_glyph\":null,\"view\":{\"id\":\"ff78ecdc-2f3a-4bb9-8eb1-ed951d011f28\",\"type\":\"CDSView\"}},\"id\":\"5ace606c-2f47-41c7-aec2-c7a104333765\",\"type\":\"GlyphRenderer\"},{\"attributes\":{\"formatter\":{\"id\":\"fa1c0c93-7906-4aae-9300-10b5d120567a\",\"type\":\"BasicTickFormatter\"},\"plot\":{\"id\":\"d3155a40-34a7-400a-8321-83a1a2abb3da\",\"subtype\":\"Figure\",\"type\":\"Plot\"},\"ticker\":{\"id\":\"a9d21923-91e0-413a-8021-0554547c8ed0\",\"type\":\"BasicTicker\"}},\"id\":\"14846436-1649-4c06-b8c6-3a6f6dea3770\",\"type\":\"LinearAxis\"},{\"attributes\":{},\"id\":\"6e13e812-2481-493f-bfbe-5a65a54ac57b\",\"type\":\"SaveTool\"},{\"attributes\":{\"callback\":null},\"id\":\"22958cfe-a4ef-4ae5-b8ab-6a74df46a9ac\",\"type\":\"DataRange1d\"},{\"attributes\":{\"overlay\":{\"id\":\"809bf1ff-e39b-4364-8cfb-b995fe510b64\",\"type\":\"BoxAnnotation\"}},\"id\":\"acd627f4-8d68-4232-803b-cb9995fd14f0\",\"type\":\"BoxZoomTool\"},{\"attributes\":{\"fill_alpha\":{\"value\":0.3},\"fill_color\":{\"value\":\"orange\"},\"line_color\":{\"value\":\"orange\"},\"size\":{\"field\":\"size\",\"units\":\"screen\"},\"x\":{\"field\":\"x\"},\"y\":{\"field\":\"y\"}},\"id\":\"26251711-2e60-4fee-ac31-3c834aea765e\",\"type\":\"Circle\"},{\"attributes\":{\"below\":[{\"id\":\"832fd54f-794f-4086-8c59-b8a58f9227b4\",\"type\":\"LinearAxis\"}],\"left\":[{\"id\":\"14846436-1649-4c06-b8c6-3a6f6dea3770\",\"type\":\"LinearAxis\"}],\"plot_height\":300,\"plot_width\":500,\"renderers\":[{\"id\":\"832fd54f-794f-4086-8c59-b8a58f9227b4\",\"type\":\"LinearAxis\"},{\"id\":\"ee1b7881-17d7-485b-86ce-c9752592d2d2\",\"type\":\"Grid\"},{\"id\":\"14846436-1649-4c06-b8c6-3a6f6dea3770\",\"type\":\"LinearAxis\"},{\"id\":\"f64e692b-e637-4717-ae4d-977fddb0c60f\",\"type\":\"Grid\"},{\"id\":\"809bf1ff-e39b-4364-8cfb-b995fe510b64\",\"type\":\"BoxAnnotation\"},{\"id\":\"5ace606c-2f47-41c7-aec2-c7a104333765\",\"type\":\"GlyphRenderer\"}],\"title\":{\"id\":\"7d787d43-5b6b-4be6-8060-c3c202b99a34\",\"type\":\"Title\"},\"toolbar\":{\"id\":\"ef8e0adc-9274-488d-a87c-0f3e25dbfdf2\",\"type\":\"Toolbar\"},\"x_range\":{\"id\":\"42ad933a-7355-41a6-9769-5b78acdd59a7\",\"type\":\"DataRange1d\"},\"x_scale\":{\"id\":\"cb5deb12-d540-4dca-9f35-1f51ebb26afb\",\"type\":\"LinearScale\"},\"y_range\":{\"id\":\"22958cfe-a4ef-4ae5-b8ab-6a74df46a9ac\",\"type\":\"DataRange1d\"},\"y_scale\":{\"id\":\"23e8e6f7-49d5-4fd2-b452-559872427fa6\",\"type\":\"LinearScale\"}},\"id\":\"d3155a40-34a7-400a-8321-83a1a2abb3da\",\"subtype\":\"Figure\",\"type\":\"Plot\"},{\"attributes\":{},\"id\":\"b7f57101-8912-42f7-b8b3-4a0b19d0dbde\",\"type\":\"HelpTool\"},{\"attributes\":{\"dimension\":1,\"plot\":{\"id\":\"d3155a40-34a7-400a-8321-83a1a2abb3da\",\"subtype\":\"Figure\",\"type\":\"Plot\"},\"ticker\":{\"id\":\"a9d21923-91e0-413a-8021-0554547c8ed0\",\"type\":\"BasicTicker\"}},\"id\":\"f64e692b-e637-4717-ae4d-977fddb0c60f\",\"type\":\"Grid\"},{\"attributes\":{\"plot\":null,\"text\":\"Basic circle plot\"},\"id\":\"7d787d43-5b6b-4be6-8060-c3c202b99a34\",\"type\":\"Title\"},{\"attributes\":{},\"id\":\"9cba0317-14a4-4464-a1bc-823cae94ad64\",\"type\":\"ResetTool\"},{\"attributes\":{\"fill_alpha\":{\"value\":0.1},\"fill_color\":{\"value\":\"#1f77b4\"},\"line_alpha\":{\"value\":0.1},\"line_color\":{\"value\":\"#1f77b4\"},\"size\":{\"field\":\"size\",\"units\":\"screen\"},\"x\":{\"field\":\"x\"},\"y\":{\"field\":\"y\"}},\"id\":\"b119e05e-98c9-46ae-a5f9-8abaacdd0161\",\"type\":\"Circle\"},{\"attributes\":{\"callback\":null,\"data\":{\"size\":{\"__ndarray__\":\"AAAAAAAAAABtljMU5rUyQChk6CMgbShAXcVVSgctRUC9lSN+NosnQLBxJJywdEZAOL/P/3I0XUBnf/Ts9GRJQFKxPos5QzVAeefjzvExZUA=\",\"dtype\":\"float64\",\"shape\":[10]},\"x\":[0,1,2,3,4,5,6,7,8,9],\"y\":{\"__ndarray__\":\"zCNOTi2Y5z9tljMU5rUyQChk6CMgbRhAfFxyuAk8LEC9lSN+NosHQMAnHbDz9iFAe3+Kqkx4M0CakWAzqgUdQFKxPos5QwVAwc1Y1A/XMkA=\",\"dtype\":\"float64\",\"shape\":[10]}},\"selected\":{\"id\":\"84d6e33c-91d9-4d9d-8548-818a562e06d3\",\"type\":\"Selection\"},\"selection_policy\":{\"id\":\"086aa54a-37e0-4f8c-a3eb-f38088e890a3\",\"type\":\"UnionRenderers\"}},\"id\":\"78ac67c1-f418-4017-bb9f-5331e8ddecba\",\"type\":\"ColumnDataSource\"},{\"attributes\":{\"formatter\":{\"id\":\"a37b67a4-1031-4d0e-9d89-1e64f5fd0f7b\",\"type\":\"BasicTickFormatter\"},\"plot\":{\"id\":\"d3155a40-34a7-400a-8321-83a1a2abb3da\",\"subtype\":\"Figure\",\"type\":\"Plot\"},\"ticker\":{\"id\":\"688de3aa-ed7c-4842-bc95-3f850142fd45\",\"type\":\"BasicTicker\"}},\"id\":\"832fd54f-794f-4086-8c59-b8a58f9227b4\",\"type\":\"LinearAxis\"},{\"attributes\":{},\"id\":\"8bebd847-4b98-4f36-8251-70760b2ae174\",\"type\":\"WheelZoomTool\"},{\"attributes\":{},\"id\":\"cb5deb12-d540-4dca-9f35-1f51ebb26afb\",\"type\":\"LinearScale\"}],\"root_ids\":[\"d3155a40-34a7-400a-8321-83a1a2abb3da\"]},\"title\":\"Bokeh Application\",\"version\":\"0.12.16\"}};\n",
       "  var render_items = [{\"docid\":\"34c2b2b0-bfad-43d6-84ab-e95f791dbf47\",\"elementid\":\"f948ef73-025d-492a-be03-1e2e647f7cd9\",\"modelid\":\"d3155a40-34a7-400a-8321-83a1a2abb3da\"}];\n",
       "  root.Bokeh.embed.embed_items_notebook(docs_json, render_items);\n",
       "\n",
       "  }\n",
       "  if (root.Bokeh !== undefined) {\n",
       "    embed_document(root);\n",
       "  } else {\n",
       "    var attempts = 0;\n",
       "    var timer = setInterval(function(root) {\n",
       "      if (root.Bokeh !== undefined) {\n",
       "        embed_document(root);\n",
       "        clearInterval(timer);\n",
       "      }\n",
       "      attempts++;\n",
       "      if (attempts > 100) {\n",
       "        console.log(\"Bokeh: ERROR: Unable to run BokehJS code because BokehJS library is missing\")\n",
       "        clearInterval(timer);\n",
       "      }\n",
       "    }, 10, root)\n",
       "  }\n",
       "})(window);"
      ],
      "application/vnd.bokehjs_exec.v0+json": ""
     },
     "metadata": {
      "application/vnd.bokehjs_exec.v0+json": {
       "id": "d3155a40-34a7-400a-8321-83a1a2abb3da"
      }
     },
     "output_type": "display_data"
    }
   ],
   "source": [
    "circle_x = np.arange(10)\n",
    "circle_y = np.random.rand(10)*20\n",
    "circle_plot = figure(title='Basic circle plot',plot_height=300, plot_width=500)\n",
    "circle_plot.circle(circle_x,circle_y,size=circle_y*circle_x,fill_color='orange',fill_alpha=0.3,line_color='orange')\n",
    "show(circle_plot)"
   ]
  },
  {
   "cell_type": "markdown",
   "metadata": {},
   "source": [
    "The main keyword arguments are\n",
    "```\n",
    "fill_color=[Color]\n",
    "fill_alpha=[Float between 0.0 and 1.0]\n",
    "radius=[Float]\n",
    "size=[Float]\n",
    "```"
   ]
  },
  {
   "cell_type": "markdown",
   "metadata": {},
   "source": [
    "## Step plot\n",
    "\n",
    "Main reference: https://bokeh.pydata.org/en/latest/docs/reference/plotting.html#bokeh.plotting.figure.Figure.step"
   ]
  },
  {
   "cell_type": "code",
   "execution_count": 4,
   "metadata": {
    "scrolled": false
   },
   "outputs": [
    {
     "data": {
      "text/html": [
       "\n",
       "<div class=\"bk-root\">\n",
       "    <div class=\"bk-plotdiv\" id=\"c8123e70-e682-4f43-be12-14e4a0683f0c\"></div>\n",
       "</div>"
      ]
     },
     "metadata": {},
     "output_type": "display_data"
    },
    {
     "data": {
      "application/javascript": [
       "(function(root) {\n",
       "  function embed_document(root) {\n",
       "    \n",
       "  var docs_json = {\"1c73ba6c-503d-43ef-bc02-c83e8ef63c26\":{\"roots\":{\"references\":[{\"attributes\":{\"overlay\":{\"id\":\"e6575fe6-2bb4-4e45-9e79-239bfc7e92cf\",\"type\":\"BoxAnnotation\"}},\"id\":\"fe65dd46-44e9-4000-ad1c-10189b3d289e\",\"type\":\"BoxZoomTool\"},{\"attributes\":{\"below\":[{\"id\":\"33d90343-5ae8-4174-bd41-174fbe54a90d\",\"type\":\"LinearAxis\"}],\"left\":[{\"id\":\"d2e0d957-d63e-4de7-b6b9-2e1fabcf2a3e\",\"type\":\"LinearAxis\"}],\"plot_height\":300,\"plot_width\":500,\"renderers\":[{\"id\":\"33d90343-5ae8-4174-bd41-174fbe54a90d\",\"type\":\"LinearAxis\"},{\"id\":\"62e03ef7-0b22-4bec-b0e1-cfbcf743f4da\",\"type\":\"Grid\"},{\"id\":\"d2e0d957-d63e-4de7-b6b9-2e1fabcf2a3e\",\"type\":\"LinearAxis\"},{\"id\":\"489e2d66-1148-4338-b8d4-0e3c1fe41c5f\",\"type\":\"Grid\"},{\"id\":\"e6575fe6-2bb4-4e45-9e79-239bfc7e92cf\",\"type\":\"BoxAnnotation\"},{\"id\":\"a56dd87a-d9c5-4277-8825-03f0e2d73e02\",\"type\":\"GlyphRenderer\"}],\"title\":{\"id\":\"cb8e007d-6c97-425a-85e1-9ad36954656b\",\"type\":\"Title\"},\"toolbar\":{\"id\":\"2c6683c1-8342-469d-ad54-1d6358c7d9a1\",\"type\":\"Toolbar\"},\"x_range\":{\"id\":\"965f150e-1af6-47ff-8607-8d73df653e2e\",\"type\":\"DataRange1d\"},\"x_scale\":{\"id\":\"9feb9db9-3587-4ff4-9008-e7994a331421\",\"type\":\"LinearScale\"},\"y_range\":{\"id\":\"a33af701-efb4-4320-959c-f65eaa1afd1b\",\"type\":\"DataRange1d\"},\"y_scale\":{\"id\":\"43d2fe5e-2c09-45f2-95aa-c41e0ad9d320\",\"type\":\"LinearScale\"}},\"id\":\"658f99f7-9096-4d5e-8ad2-fd98c66c737a\",\"subtype\":\"Figure\",\"type\":\"Plot\"},{\"attributes\":{},\"id\":\"f3b5355a-f789-47d9-ab4d-a4989a3f6a83\",\"type\":\"WheelZoomTool\"},{\"attributes\":{\"callback\":null},\"id\":\"a33af701-efb4-4320-959c-f65eaa1afd1b\",\"type\":\"DataRange1d\"},{\"attributes\":{\"bottom_units\":\"screen\",\"fill_alpha\":{\"value\":0.5},\"fill_color\":{\"value\":\"lightgrey\"},\"left_units\":\"screen\",\"level\":\"overlay\",\"line_alpha\":{\"value\":1.0},\"line_color\":{\"value\":\"black\"},\"line_dash\":[4,4],\"line_width\":{\"value\":2},\"plot\":null,\"render_mode\":\"css\",\"right_units\":\"screen\",\"top_units\":\"screen\"},\"id\":\"e6575fe6-2bb4-4e45-9e79-239bfc7e92cf\",\"type\":\"BoxAnnotation\"},{\"attributes\":{\"plot\":null,\"text\":\"Step plot\"},\"id\":\"cb8e007d-6c97-425a-85e1-9ad36954656b\",\"type\":\"Title\"},{\"attributes\":{\"line_alpha\":{\"value\":0.6},\"line_color\":{\"value\":\"orange\"},\"line_width\":{\"value\":2},\"mode\":\"after\",\"x\":{\"field\":\"x\"},\"y\":{\"field\":\"y\"}},\"id\":\"7d359f1e-e8e7-460c-84d4-504b72118c66\",\"type\":\"Step\"},{\"attributes\":{\"dimension\":1,\"plot\":{\"id\":\"658f99f7-9096-4d5e-8ad2-fd98c66c737a\",\"subtype\":\"Figure\",\"type\":\"Plot\"},\"ticker\":{\"id\":\"2df98fca-6ba1-4af1-88f1-c905af53db52\",\"type\":\"BasicTicker\"}},\"id\":\"489e2d66-1148-4338-b8d4-0e3c1fe41c5f\",\"type\":\"Grid\"},{\"attributes\":{\"formatter\":{\"id\":\"0acd69a0-6db3-4ae1-ba15-c3b0264608bb\",\"type\":\"BasicTickFormatter\"},\"plot\":{\"id\":\"658f99f7-9096-4d5e-8ad2-fd98c66c737a\",\"subtype\":\"Figure\",\"type\":\"Plot\"},\"ticker\":{\"id\":\"5fa6c044-1d5b-4c4f-84d7-d994d53ddd8a\",\"type\":\"BasicTicker\"}},\"id\":\"33d90343-5ae8-4174-bd41-174fbe54a90d\",\"type\":\"LinearAxis\"},{\"attributes\":{},\"id\":\"2df98fca-6ba1-4af1-88f1-c905af53db52\",\"type\":\"BasicTicker\"},{\"attributes\":{\"line_alpha\":{\"value\":0.1},\"line_color\":{\"value\":\"#1f77b4\"},\"line_width\":{\"value\":2},\"mode\":\"after\",\"x\":{\"field\":\"x\"},\"y\":{\"field\":\"y\"}},\"id\":\"2cc7c5aa-8204-43ca-81c9-7cbf99f0586e\",\"type\":\"Step\"},{\"attributes\":{},\"id\":\"5b23727d-8b14-4e32-8289-76c423c77134\",\"type\":\"BasicTickFormatter\"},{\"attributes\":{\"plot\":{\"id\":\"658f99f7-9096-4d5e-8ad2-fd98c66c737a\",\"subtype\":\"Figure\",\"type\":\"Plot\"},\"ticker\":{\"id\":\"5fa6c044-1d5b-4c4f-84d7-d994d53ddd8a\",\"type\":\"BasicTicker\"}},\"id\":\"62e03ef7-0b22-4bec-b0e1-cfbcf743f4da\",\"type\":\"Grid\"},{\"attributes\":{},\"id\":\"5787d51b-eb18-40a0-a067-8631a9d6d3a7\",\"type\":\"HelpTool\"},{\"attributes\":{\"callback\":null},\"id\":\"965f150e-1af6-47ff-8607-8d73df653e2e\",\"type\":\"DataRange1d\"},{\"attributes\":{},\"id\":\"43d2fe5e-2c09-45f2-95aa-c41e0ad9d320\",\"type\":\"LinearScale\"},{\"attributes\":{},\"id\":\"7e20328d-ce98-4004-942f-27b78c25c9aa\",\"type\":\"Selection\"},{\"attributes\":{},\"id\":\"0acd69a0-6db3-4ae1-ba15-c3b0264608bb\",\"type\":\"BasicTickFormatter\"},{\"attributes\":{\"formatter\":{\"id\":\"5b23727d-8b14-4e32-8289-76c423c77134\",\"type\":\"BasicTickFormatter\"},\"plot\":{\"id\":\"658f99f7-9096-4d5e-8ad2-fd98c66c737a\",\"subtype\":\"Figure\",\"type\":\"Plot\"},\"ticker\":{\"id\":\"2df98fca-6ba1-4af1-88f1-c905af53db52\",\"type\":\"BasicTicker\"}},\"id\":\"d2e0d957-d63e-4de7-b6b9-2e1fabcf2a3e\",\"type\":\"LinearAxis\"},{\"attributes\":{\"source\":{\"id\":\"34749152-5a1f-42b3-b339-4ae7c34d40fb\",\"type\":\"ColumnDataSource\"}},\"id\":\"9fa11ed9-0f7e-4a3a-9e5d-52d964ebcfab\",\"type\":\"CDSView\"},{\"attributes\":{},\"id\":\"1de75acc-8a01-49a2-b228-e25d6f61f2c3\",\"type\":\"UnionRenderers\"},{\"attributes\":{\"active_drag\":\"auto\",\"active_inspect\":\"auto\",\"active_scroll\":\"auto\",\"active_tap\":\"auto\",\"tools\":[{\"id\":\"d860138b-ec31-4465-98bb-40e66046adfa\",\"type\":\"PanTool\"},{\"id\":\"f3b5355a-f789-47d9-ab4d-a4989a3f6a83\",\"type\":\"WheelZoomTool\"},{\"id\":\"fe65dd46-44e9-4000-ad1c-10189b3d289e\",\"type\":\"BoxZoomTool\"},{\"id\":\"4a12e606-d6e1-4778-8b19-2990b20c6e8e\",\"type\":\"SaveTool\"},{\"id\":\"5b011d3a-7047-415b-85df-c4b4244970b4\",\"type\":\"ResetTool\"},{\"id\":\"5787d51b-eb18-40a0-a067-8631a9d6d3a7\",\"type\":\"HelpTool\"}]},\"id\":\"2c6683c1-8342-469d-ad54-1d6358c7d9a1\",\"type\":\"Toolbar\"},{\"attributes\":{},\"id\":\"5b011d3a-7047-415b-85df-c4b4244970b4\",\"type\":\"ResetTool\"},{\"attributes\":{},\"id\":\"5fa6c044-1d5b-4c4f-84d7-d994d53ddd8a\",\"type\":\"BasicTicker\"},{\"attributes\":{\"callback\":null,\"data\":{\"x\":[1,2,3,4,5,6,7,8,9,10],\"y\":[10,4,6,1,5,7,1,4,6,7]},\"selected\":{\"id\":\"7e20328d-ce98-4004-942f-27b78c25c9aa\",\"type\":\"Selection\"},\"selection_policy\":{\"id\":\"1de75acc-8a01-49a2-b228-e25d6f61f2c3\",\"type\":\"UnionRenderers\"}},\"id\":\"34749152-5a1f-42b3-b339-4ae7c34d40fb\",\"type\":\"ColumnDataSource\"},{\"attributes\":{},\"id\":\"9feb9db9-3587-4ff4-9008-e7994a331421\",\"type\":\"LinearScale\"},{\"attributes\":{\"data_source\":{\"id\":\"34749152-5a1f-42b3-b339-4ae7c34d40fb\",\"type\":\"ColumnDataSource\"},\"glyph\":{\"id\":\"7d359f1e-e8e7-460c-84d4-504b72118c66\",\"type\":\"Step\"},\"hover_glyph\":null,\"muted_glyph\":null,\"nonselection_glyph\":{\"id\":\"2cc7c5aa-8204-43ca-81c9-7cbf99f0586e\",\"type\":\"Step\"},\"selection_glyph\":null,\"view\":{\"id\":\"9fa11ed9-0f7e-4a3a-9e5d-52d964ebcfab\",\"type\":\"CDSView\"}},\"id\":\"a56dd87a-d9c5-4277-8825-03f0e2d73e02\",\"type\":\"GlyphRenderer\"},{\"attributes\":{},\"id\":\"d860138b-ec31-4465-98bb-40e66046adfa\",\"type\":\"PanTool\"},{\"attributes\":{},\"id\":\"4a12e606-d6e1-4778-8b19-2990b20c6e8e\",\"type\":\"SaveTool\"}],\"root_ids\":[\"658f99f7-9096-4d5e-8ad2-fd98c66c737a\"]},\"title\":\"Bokeh Application\",\"version\":\"0.12.16\"}};\n",
       "  var render_items = [{\"docid\":\"1c73ba6c-503d-43ef-bc02-c83e8ef63c26\",\"elementid\":\"c8123e70-e682-4f43-be12-14e4a0683f0c\",\"modelid\":\"658f99f7-9096-4d5e-8ad2-fd98c66c737a\"}];\n",
       "  root.Bokeh.embed.embed_items_notebook(docs_json, render_items);\n",
       "\n",
       "  }\n",
       "  if (root.Bokeh !== undefined) {\n",
       "    embed_document(root);\n",
       "  } else {\n",
       "    var attempts = 0;\n",
       "    var timer = setInterval(function(root) {\n",
       "      if (root.Bokeh !== undefined) {\n",
       "        embed_document(root);\n",
       "        clearInterval(timer);\n",
       "      }\n",
       "      attempts++;\n",
       "      if (attempts > 100) {\n",
       "        console.log(\"Bokeh: ERROR: Unable to run BokehJS code because BokehJS library is missing\")\n",
       "        clearInterval(timer);\n",
       "      }\n",
       "    }, 10, root)\n",
       "  }\n",
       "})(window);"
      ],
      "application/vnd.bokehjs_exec.v0+json": ""
     },
     "metadata": {
      "application/vnd.bokehjs_exec.v0+json": {
       "id": "658f99f7-9096-4d5e-8ad2-fd98c66c737a"
      }
     },
     "output_type": "display_data"
    }
   ],
   "source": [
    "step_x = [1,2,3,4,5,6,7,8,9,10]\n",
    "step_y = [10,4,6,1,5,7,1,4,6,7];\n",
    "step_plot = figure(title='Step plot', plot_height=300, plot_width=500)\n",
    "step_plot.step(step_x,step_y,line_color='orange',line_width=2,mode='after',line_alpha=0.6)\n",
    "show(step_plot)"
   ]
  },
  {
   "cell_type": "markdown",
   "metadata": {},
   "source": [
    "The keyword arguments for line properties listed above applies to step plot as well. The other main keyword argument is\n",
    "```\n",
    "mode=['before','after','center']\n",
    "```\n",
    "denoting where the step level should be drawn in relation to the x and y coordinates."
   ]
  },
  {
   "cell_type": "markdown",
   "metadata": {},
   "source": [
    "## Multiple markers"
   ]
  },
  {
   "cell_type": "markdown",
   "metadata": {},
   "source": [
    "As mentioned above, it is possible to combine multiple plots in one figure, and there are quite a few shapes that you can choose from. I displayed some of the more interesting ones in the next figure ([segment](https://bokeh.pydata.org/en/latest/docs/reference/models/glyphs/segment.html), [annulus](https://bokeh.pydata.org/en/latest/docs/reference/models/glyphs/annulus.html), and \n",
    "[hex](https://bokeh.pydata.org/en/latest/docs/reference/models/markers/hex.html) --- mostly because of [hexbin](https://bokeh.pydata.org/en/latest/docs/gallery/hexbin.html)).\n",
    "For the segment plot, notice how we can pass an array of values for the keyword arguments. \n",
    "\n",
    "\n",
    "Apart from these, there are basic shapes such as \n",
    "[rectangle](https://bokeh.pydata.org/en/latest/docs/reference/models/glyphs/rect.html), \n",
    "[triangle](https://bokeh.pydata.org/en/latest/docs/reference/models/markers/triangle.html),\n",
    "[square](https://bokeh.pydata.org/en/latest/docs/reference/models/markers/square.html),\n",
    "[ellipse](https://bokeh.pydata.org/en/latest/docs/reference/models/glyphs/ellipse.html), and \n",
    "[diamond](https://bokeh.pydata.org/en/latest/docs/reference/models/markers/diamond.html). \n",
    "For other possible shapes, refer to the list on [bokeh plotting documentation](https://bokeh.pydata.org/en/latest/docs/reference/plotting.html#bokeh-plotting)."
   ]
  },
  {
   "cell_type": "code",
   "execution_count": 5,
   "metadata": {},
   "outputs": [
    {
     "data": {
      "text/html": [
       "\n",
       "<div class=\"bk-root\">\n",
       "    <div class=\"bk-plotdiv\" id=\"5c6e83ba-d071-496a-9258-48182776eed6\"></div>\n",
       "</div>"
      ]
     },
     "metadata": {},
     "output_type": "display_data"
    },
    {
     "data": {
      "application/javascript": [
       "(function(root) {\n",
       "  function embed_document(root) {\n",
       "    \n",
       "  var docs_json = {\"a8e6cd3d-84f1-4150-b8e2-c8ec171becec\":{\"roots\":{\"references\":[{\"attributes\":{},\"id\":\"3841d201-91ed-48f4-bf8b-c558e87ffbd1\",\"type\":\"BasicTickFormatter\"},{\"attributes\":{\"plot\":null,\"text\":\"Multiple markers\"},\"id\":\"ade54dec-8f6d-4efb-843f-5bd43ecc8ce0\",\"type\":\"Title\"},{\"attributes\":{\"callback\":null,\"data\":{\"x\":{\"__ndarray__\":\"AAAAAAAA8D+3bdu2bdsCQG7btm3btg1AkiRJkiRJFEBu27Zt27YZQEqSJEmSJB9AkiRJkiRJIkAAAAAAAAAlQG7btm3btidA3LZt27ZtKkBKkiRJkiQtQLdt27Zt2y9AkiRJkiRJMUBJkiRJkqQyQAAAAAAAADRA\",\"dtype\":\"float64\",\"shape\":[15]},\"y\":{\"__ndarray__\":\"Ccc9HA5SIEBaGeaur30vQA5Y1l6GJQhAkNKqWKzBHkBA3Fl7jsTqPwMNEFW1ZTFANGdozqyDJEDMDT2QPDwnQEK+p9k0rDJAKcNcJXX8LkCusn7xdMYpQEs+j2OGPQ9AvEewCLsWM0BA6YpflSQxQDA5Yotp6yVA\",\"dtype\":\"float64\",\"shape\":[15]}},\"selected\":{\"id\":\"f8b8c18c-5d14-48a8-a3d6-73aa718aa77d\",\"type\":\"Selection\"},\"selection_policy\":{\"id\":\"906fc012-ba11-42ca-ac80-12d2bb272809\",\"type\":\"UnionRenderers\"}},\"id\":\"4d667ff9-f1bf-4904-aaed-314bd042199c\",\"type\":\"ColumnDataSource\"},{\"attributes\":{\"source\":{\"id\":\"d2a56b83-8e23-43b8-9c35-bfb489a1af75\",\"type\":\"ColumnDataSource\"}},\"id\":\"4e803751-d261-4390-bbbf-416e32704c56\",\"type\":\"CDSView\"},{\"attributes\":{\"callback\":null},\"id\":\"85e19b73-41b2-44ae-b794-ef50eff315e8\",\"type\":\"DataRange1d\"},{\"attributes\":{},\"id\":\"f8b8c18c-5d14-48a8-a3d6-73aa718aa77d\",\"type\":\"Selection\"},{\"attributes\":{\"active_drag\":\"auto\",\"active_inspect\":\"auto\",\"active_scroll\":\"auto\",\"active_tap\":\"auto\",\"tools\":[{\"id\":\"dc8fd5b3-101a-40a3-8542-31797a2a35f8\",\"type\":\"PanTool\"},{\"id\":\"746def53-6991-4209-b106-971a092d747c\",\"type\":\"WheelZoomTool\"},{\"id\":\"5d4191f1-1bc4-4c69-ab9b-33228305645e\",\"type\":\"BoxZoomTool\"},{\"id\":\"15f2d45e-cbea-4480-9019-e88b3ed218df\",\"type\":\"SaveTool\"},{\"id\":\"38d906dd-fd24-4541-9cf9-e789c7cfad9a\",\"type\":\"ResetTool\"},{\"id\":\"d3b6febf-0f66-4053-bf09-c2f228a28350\",\"type\":\"HelpTool\"}]},\"id\":\"b209ec92-1bfc-47ec-918a-45bb9382c419\",\"type\":\"Toolbar\"},{\"attributes\":{},\"id\":\"bda385d3-4463-409e-8e92-4f549829c51d\",\"type\":\"Selection\"},{\"attributes\":{\"source\":{\"id\":\"4d667ff9-f1bf-4904-aaed-314bd042199c\",\"type\":\"ColumnDataSource\"}},\"id\":\"0c79f8d5-38d0-480c-b3c7-032f2679a70d\",\"type\":\"CDSView\"},{\"attributes\":{\"callback\":null,\"data\":{\"size\":{\"__ndarray__\":\"cN8Qat82/j9GiluIUT0sQKgU3exxeTBALoe/64ERIkDAK3qyoGXhP/y6Ly0+DBxAtCwsVe8pFkByp4eQVV4iQLYpWgNAmh9AGMAzFWVVDEC3K1Se/YIsQObSd8ZgniBAlwj3KD59JkAygiCJ1QEjQOB2u9Mhrv0/NlUf6PE+JEBQscI1eRAAQOmbGp7jAihASEj8CM0YGUDm7CUZgtITQL4jWDAdkSVADWNEyrxjMkCKbZgM3e4yQPhY4l7oECZAEKv5yCURHkABId6ArvcjQCDDJ74dyx5AgJOd63rnHUAAkqxoeqgwQGij07j+ORpAAI1RKuGZDUA+RBef+MkoQMvje5jgCy9AYMD6Uv+k4z9A2T+zBxAPQOQi3qrt5jJAV4ujTxrlK0BJTm+VvncgQH8Gk9RcdTJARoPeI6dQJEC5rTj3oGglQCISgzIdgCNAnqUVifKrE0DYH1uS1VERQLLe4teiziRAnkXJiTzJGkDC7RzAmjohQH3nSvqJpSFA+soMzU9KM0AvtGTbvTsmQA72FvqOSBtAjOghIjZuHkARyEf94PwxQKrtVCa/XTBAEgJW85bHFkA05GQHH/sQQLJWqaFCQRdAMEjI4j3uA0AuKZGWC/AYQCN3cIcPKSNAAOIln12wHkAcWw+JcRMaQBMz3IP38i9Av78ylDVDIEACJAdWRQ8yQCaC3JBcRDNAOJqzjVVwGUAGC7MCKmsmQE5+Wuop4yVAVhiMHcZEKUASfmNFGdgrQDLvTDP2Nh1A4ABDviTnDkCAgmONB7rwPxBNRCinxAhAwNSWc5PnLECKmyuFse0bQOVlgIxJuSJAeEgrSJ4FC0AkuO2VhSMYQJLFiqx+FjJAKk+RXjP1MEBN48z0oTssQCIeOoFIAyhALQFjEzWeJEDE4g0C0ucpQMYEqKu6+DNA8G0VL94IHUCO2D4/UOEoQJOvwcO5pTFA1IZVYg4tGUDoULsDV5sqQGSUkwEcCiJA5oy3cLp/IUBapSXmutofQEAh7GN2TOA/3FIx83/GE0DQjscV3gPxP2g6FXBS8gNAGgEHOH49MEA=\",\"dtype\":\"float64\",\"shape\":[100]},\"x\":{\"__ndarray__\":\"AAAAAAAA8D9nSMzbGRLzP8+QmLczJPY/Ntlkk002+T+eITFvZ0j8PwVq/UqBWv8/Ntlkk002AUBq/UqBWr8CQJ4hMW9nSARA0UUXXXTRBUAFav1KgVoHQDmO4ziO4whAbLLJJptsCkCg1q8UqPULQNT6lQK1fg1ABx988MEHD0CeITFvZ0gQQLgzJObtDBFA0UUXXXTREUDrVwrU+pUSQAVq/UqBWhNAH3zwwQcfFEA5juM4juMUQFKg1q8UqBVAbLLJJptsFkCGxLydITEXQKDWrxSo9RdAuuiiiy66GEDU+pUCtX4ZQO0MiXk7QxpABx988MEHG0AhMW9nSMwbQDtDYt7OkBxAVVVVVVVVHUBvZ0jM2xkeQIl5O0Ni3h5AoosuuuiiH0DezpCYtzMgQOtXCtT6lSBA+OCDDz74IEAFav1KgVohQBLzdobEvCFAH3zwwQcfIkAsBWr9SoEiQDmO4ziO4yJARRdddNFFI0BSoNavFKgjQF8pUOtXCiRAbLLJJptsJEB5O0Ni3s4kQIbEvJ0hMSVAk0022WSTJUCg1q8UqPUlQK1fKVDrVyZAuuiiiy66JkDHcRzHcRwnQNT6lQK1fidA4YMPPvjgJ0DtDIl5O0MoQPqVArV+pShABx988MEHKUAUqPUrBWopQCExb2dIzClALrrooosuKkA7Q2LezpAqQEjM2xkS8ypAVVVVVVVVK0Bi3s6QmLcrQG9nSMzbGSxAfPDBBx98LECJeTtDYt4sQJUCtX6lQC1AoosuuuiiLUCvFKj1KwUuQLydITFvZy5AySabbLLJLkDWrxSo9SsvQOM4juM4ji9A8MEHH3zwL0B+pUCtXykwQAVq/UqBWjBAjC666KKLMEAS83aGxLwwQJi3MyTm7TBAH3zwwQcfMUClQK1fKVAxQCwFav1KgTFAsskmm2yyMUA5juM4juMxQL9SoNavFDJARRdddNFFMkDM2xkS83YyQFKg1q8UqDJA2WSTTTbZMkBfKVDrVwozQObtDIl5OzNAbLLJJptsM0DzdobEvJ0zQHk7Q2LezjNAAAAAAAAANEA=\",\"dtype\":\"float64\",\"shape\":[100]},\"y\":{\"__ndarray__\":\"CfJeCZIcMkB060jvXIUXQMBaF5lwNAxA0nhAFH7uJUCiLmz60nQzQIIiaOng+SlApulpVQjrLECOWHhvqqElQCXrUv7fMihA/YdZXVN1MECSqFfDBPoWQBotiDmfYSdAafcI18GCIUDOfd92Kv4kQJJIxOIdJTJAyqrgFw7BI0DWqUfZ8P0xQC7IysM4+h9A3NuBe5lzK0CNCW3zvhYuQELcp8/ibiJAMs+5WzPE+T9oJ3k2LxLxPwinHaEX7yFAeCqDG233KED/3iF/UQgkQHAe7CBxmihAQDYxikIMKUAEcJu6LLwKQEwulqMA4ypAYM612sNMMECEd9HBDmweQGo4CM8+6BFA/SloBdhiM0DYBJgJ/x0wQLrRHVIlkfE/Uum4YMs1GEC3sZBqQYgnQAqYz7Yyqvg/unwh3FivI0BHUscIX5ciQN7tfM3ifyRAMS11uwYqLkAUcNI2FVcvQE4hHShdMSNAMV0bu2GbKkA+EuM/ZcUmQIMYtQV2WiZAuKBmXga25j/RS5skQsQhQPmE9IK4WypAugvv7uTIKEB1v8EV+BgAQLKSWM0GEg1A9/5UhjScLEDmjU18cIIvQKdUK69eXyxA+vamQziCMUBpa7c0+ocrQN2Ij3jw1iRAAA9tMNGnKEByUng7R/YqQNqZR/gQGhBAQUDNa8q8J0Dev42fqgv/P0y7b+RtdOc/5DImOdVHK0D69Ez91ZQhQLKBpRXWHCJAVM/nxHN2HUDcAzl1zU8YQGeIWeaEZClA5J83aBsjMEDYxymHX/QyQF529xpr5zBAgFbSGNkwFkA7Mmo9JwkqQBuaf3O2RiVA8Zb6NkyfMEDuIwk1Pe4rQOSmUzcVmP4/sYZ1C2VWCEBmOWYWvIgXQLzDi/1u+R9A0/6c7MphI0B5OuT7WzAcQADp7F9RFZ0/CEl16JB7KUDjToKBXz0eQGmD8uEx0gJAljzVznhpK0AwXon4UckaQJxrbP7j9SVAGnNIj0WAJkBTLe2MohIoQPae4EycfTNAklZnBsAcLkATh6Mewu8yQLNY/bG1gTFANPfHPw4UDkA=\",\"dtype\":\"float64\",\"shape\":[100]}},\"selected\":{\"id\":\"bda385d3-4463-409e-8e92-4f549829c51d\",\"type\":\"Selection\"},\"selection_policy\":{\"id\":\"20b73e39-fcfe-423e-a6f4-ccc5fa5126b8\",\"type\":\"UnionRenderers\"}},\"id\":\"476910b9-923a-4cc5-b644-24f7d3ce5abf\",\"type\":\"ColumnDataSource\"},{\"attributes\":{},\"id\":\"02020d43-25d8-4405-81ff-fa1bf7e49b8c\",\"type\":\"LinearScale\"},{\"attributes\":{\"callback\":null},\"id\":\"4205cb50-a4a2-41cf-81e2-a2825fabfe25\",\"type\":\"DataRange1d\"},{\"attributes\":{},\"id\":\"ee274e73-56d3-4e10-ab08-5ce24f139e9c\",\"type\":\"LinearScale\"},{\"attributes\":{},\"id\":\"906fc012-ba11-42ca-ac80-12d2bb272809\",\"type\":\"UnionRenderers\"},{\"attributes\":{\"plot\":{\"id\":\"5b846422-8828-44c8-9332-d8e869f7a4f7\",\"subtype\":\"Figure\",\"type\":\"Plot\"},\"ticker\":{\"id\":\"50047777-a242-4088-bff8-d877f3770b28\",\"type\":\"BasicTicker\"}},\"id\":\"22dda0a7-7a08-4738-abb3-f2f3ce6676a1\",\"type\":\"Grid\"},{\"attributes\":{},\"id\":\"027b71b8-7b89-4045-a7b1-a9510599af47\",\"type\":\"UnionRenderers\"},{\"attributes\":{\"formatter\":{\"id\":\"3841d201-91ed-48f4-bf8b-c558e87ffbd1\",\"type\":\"BasicTickFormatter\"},\"plot\":{\"id\":\"5b846422-8828-44c8-9332-d8e869f7a4f7\",\"subtype\":\"Figure\",\"type\":\"Plot\"},\"ticker\":{\"id\":\"50047777-a242-4088-bff8-d877f3770b28\",\"type\":\"BasicTicker\"}},\"id\":\"1a0beb48-15d1-4c48-80ed-e40dda1f5151\",\"type\":\"LinearAxis\"},{\"attributes\":{\"fill_alpha\":{\"value\":0.1},\"fill_color\":{\"value\":\"#1f77b4\"},\"inner_radius\":{\"units\":\"data\",\"value\":0.2},\"line_alpha\":{\"value\":0.1},\"line_color\":{\"value\":\"#1f77b4\"},\"outer_radius\":{\"units\":\"data\",\"value\":0.5},\"x\":{\"field\":\"x\"},\"y\":{\"field\":\"y\"}},\"id\":\"3f829bd8-2055-4d1d-9e1a-ee08857dc64f\",\"type\":\"Annulus\"},{\"attributes\":{},\"id\":\"a1406e7c-d507-4982-9683-5b0f5bf79615\",\"type\":\"Selection\"},{\"attributes\":{},\"id\":\"50047777-a242-4088-bff8-d877f3770b28\",\"type\":\"BasicTicker\"},{\"attributes\":{\"fill_alpha\":{\"value\":0.2},\"fill_color\":{\"value\":\"orange\"},\"inner_radius\":{\"units\":\"data\",\"value\":0.2},\"line_color\":{\"value\":\"orange\"},\"outer_radius\":{\"units\":\"data\",\"value\":0.5},\"x\":{\"field\":\"x\"},\"y\":{\"field\":\"y\"}},\"id\":\"5f986a7c-4b7c-44a1-be7b-dc13b62b882c\",\"type\":\"Annulus\"},{\"attributes\":{},\"id\":\"20b73e39-fcfe-423e-a6f4-ccc5fa5126b8\",\"type\":\"UnionRenderers\"},{\"attributes\":{\"formatter\":{\"id\":\"d99e71f4-9643-48ed-b461-2d300d12f436\",\"type\":\"BasicTickFormatter\"},\"plot\":{\"id\":\"5b846422-8828-44c8-9332-d8e869f7a4f7\",\"subtype\":\"Figure\",\"type\":\"Plot\"},\"ticker\":{\"id\":\"1c6d9f9e-5aa6-431e-afb0-2ad121ff8757\",\"type\":\"BasicTicker\"}},\"id\":\"9e056e0b-296d-4455-a10e-c3aebfa4aa08\",\"type\":\"LinearAxis\"},{\"attributes\":{},\"id\":\"1c6d9f9e-5aa6-431e-afb0-2ad121ff8757\",\"type\":\"BasicTicker\"},{\"attributes\":{\"dimension\":1,\"plot\":{\"id\":\"5b846422-8828-44c8-9332-d8e869f7a4f7\",\"subtype\":\"Figure\",\"type\":\"Plot\"},\"ticker\":{\"id\":\"1c6d9f9e-5aa6-431e-afb0-2ad121ff8757\",\"type\":\"BasicTicker\"}},\"id\":\"9bd15acf-78eb-4aba-9b35-28f87e4f6ed3\",\"type\":\"Grid\"},{\"attributes\":{\"callback\":null,\"data\":{\"line_alpha\":[0.6,0.7,0.9],\"line_width\":[12,7,9],\"x0\":[5,7.5,10],\"x1\":[5,7.5,15],\"y0\":[5,10,15],\"y1\":[10,15,15]},\"selected\":{\"id\":\"a1406e7c-d507-4982-9683-5b0f5bf79615\",\"type\":\"Selection\"},\"selection_policy\":{\"id\":\"027b71b8-7b89-4045-a7b1-a9510599af47\",\"type\":\"UnionRenderers\"}},\"id\":\"d2a56b83-8e23-43b8-9c35-bfb489a1af75\",\"type\":\"ColumnDataSource\"},{\"attributes\":{\"data_source\":{\"id\":\"4d667ff9-f1bf-4904-aaed-314bd042199c\",\"type\":\"ColumnDataSource\"},\"glyph\":{\"id\":\"5f986a7c-4b7c-44a1-be7b-dc13b62b882c\",\"type\":\"Annulus\"},\"hover_glyph\":null,\"muted_glyph\":null,\"nonselection_glyph\":{\"id\":\"3f829bd8-2055-4d1d-9e1a-ee08857dc64f\",\"type\":\"Annulus\"},\"selection_glyph\":null,\"view\":{\"id\":\"0c79f8d5-38d0-480c-b3c7-032f2679a70d\",\"type\":\"CDSView\"}},\"id\":\"f8c67940-16a6-4957-9698-5166dec17314\",\"type\":\"GlyphRenderer\"},{\"attributes\":{\"bottom_units\":\"screen\",\"fill_alpha\":{\"value\":0.5},\"fill_color\":{\"value\":\"lightgrey\"},\"left_units\":\"screen\",\"level\":\"overlay\",\"line_alpha\":{\"value\":1.0},\"line_color\":{\"value\":\"black\"},\"line_dash\":[4,4],\"line_width\":{\"value\":2},\"plot\":null,\"render_mode\":\"css\",\"right_units\":\"screen\",\"top_units\":\"screen\"},\"id\":\"e1aba3d6-5c2c-4a8f-97b3-9742c46c4978\",\"type\":\"BoxAnnotation\"},{\"attributes\":{},\"id\":\"dc8fd5b3-101a-40a3-8542-31797a2a35f8\",\"type\":\"PanTool\"},{\"attributes\":{\"fill_alpha\":{\"value\":0.1},\"fill_color\":{\"value\":\"red\"},\"line_alpha\":{\"value\":0.1},\"line_color\":{\"value\":\"red\"},\"size\":{\"field\":\"size\",\"units\":\"screen\"},\"x\":{\"field\":\"x\"},\"y\":{\"field\":\"y\"}},\"id\":\"9ab022dc-1d14-46f9-b8c7-35ef7806947b\",\"type\":\"Hex\"},{\"attributes\":{},\"id\":\"746def53-6991-4209-b106-971a092d747c\",\"type\":\"WheelZoomTool\"},{\"attributes\":{\"overlay\":{\"id\":\"e1aba3d6-5c2c-4a8f-97b3-9742c46c4978\",\"type\":\"BoxAnnotation\"}},\"id\":\"5d4191f1-1bc4-4c69-ab9b-33228305645e\",\"type\":\"BoxZoomTool\"},{\"attributes\":{},\"id\":\"15f2d45e-cbea-4480-9019-e88b3ed218df\",\"type\":\"SaveTool\"},{\"attributes\":{},\"id\":\"38d906dd-fd24-4541-9cf9-e789c7cfad9a\",\"type\":\"ResetTool\"},{\"attributes\":{\"below\":[{\"id\":\"1a0beb48-15d1-4c48-80ed-e40dda1f5151\",\"type\":\"LinearAxis\"}],\"left\":[{\"id\":\"9e056e0b-296d-4455-a10e-c3aebfa4aa08\",\"type\":\"LinearAxis\"}],\"plot_height\":400,\"plot_width\":640,\"renderers\":[{\"id\":\"1a0beb48-15d1-4c48-80ed-e40dda1f5151\",\"type\":\"LinearAxis\"},{\"id\":\"22dda0a7-7a08-4738-abb3-f2f3ce6676a1\",\"type\":\"Grid\"},{\"id\":\"9e056e0b-296d-4455-a10e-c3aebfa4aa08\",\"type\":\"LinearAxis\"},{\"id\":\"9bd15acf-78eb-4aba-9b35-28f87e4f6ed3\",\"type\":\"Grid\"},{\"id\":\"e1aba3d6-5c2c-4a8f-97b3-9742c46c4978\",\"type\":\"BoxAnnotation\"},{\"id\":\"f8c67940-16a6-4957-9698-5166dec17314\",\"type\":\"GlyphRenderer\"},{\"id\":\"19f01ebc-0009-4322-a729-5da0ba26105c\",\"type\":\"GlyphRenderer\"},{\"id\":\"1e2bf16d-7d4f-42b4-a118-73e38cc120a6\",\"type\":\"GlyphRenderer\"}],\"title\":{\"id\":\"ade54dec-8f6d-4efb-843f-5bd43ecc8ce0\",\"type\":\"Title\"},\"toolbar\":{\"id\":\"b209ec92-1bfc-47ec-918a-45bb9382c419\",\"type\":\"Toolbar\"},\"x_range\":{\"id\":\"85e19b73-41b2-44ae-b794-ef50eff315e8\",\"type\":\"DataRange1d\"},\"x_scale\":{\"id\":\"02020d43-25d8-4405-81ff-fa1bf7e49b8c\",\"type\":\"LinearScale\"},\"y_range\":{\"id\":\"4205cb50-a4a2-41cf-81e2-a2825fabfe25\",\"type\":\"DataRange1d\"},\"y_scale\":{\"id\":\"ee274e73-56d3-4e10-ab08-5ce24f139e9c\",\"type\":\"LinearScale\"}},\"id\":\"5b846422-8828-44c8-9332-d8e869f7a4f7\",\"subtype\":\"Figure\",\"type\":\"Plot\"},{\"attributes\":{},\"id\":\"d3b6febf-0f66-4053-bf09-c2f228a28350\",\"type\":\"HelpTool\"},{\"attributes\":{\"fill_alpha\":{\"value\":0.1},\"fill_color\":{\"value\":\"#1f77b4\"},\"line_alpha\":{\"value\":0.1},\"line_color\":{\"value\":\"#1f77b4\"},\"size\":{\"field\":\"size\",\"units\":\"screen\"},\"x\":{\"field\":\"x\"},\"y\":{\"field\":\"y\"}},\"id\":\"4526ef00-a97a-48a6-b12c-ba11821cd2f9\",\"type\":\"Hex\"},{\"attributes\":{\"data_source\":{\"id\":\"476910b9-923a-4cc5-b644-24f7d3ce5abf\",\"type\":\"ColumnDataSource\"},\"glyph\":{\"id\":\"9ab022dc-1d14-46f9-b8c7-35ef7806947b\",\"type\":\"Hex\"},\"hover_glyph\":null,\"muted_glyph\":null,\"nonselection_glyph\":{\"id\":\"4526ef00-a97a-48a6-b12c-ba11821cd2f9\",\"type\":\"Hex\"},\"selection_glyph\":null,\"view\":{\"id\":\"259a9189-9f9c-4bc8-b622-0f0ae43b875d\",\"type\":\"CDSView\"}},\"id\":\"19f01ebc-0009-4322-a729-5da0ba26105c\",\"type\":\"GlyphRenderer\"},{\"attributes\":{\"source\":{\"id\":\"476910b9-923a-4cc5-b644-24f7d3ce5abf\",\"type\":\"ColumnDataSource\"}},\"id\":\"259a9189-9f9c-4bc8-b622-0f0ae43b875d\",\"type\":\"CDSView\"},{\"attributes\":{\"line_alpha\":{\"field\":\"line_alpha\"},\"line_color\":{\"value\":\"lavender\"},\"line_width\":{\"field\":\"line_width\"},\"x0\":{\"field\":\"x0\"},\"x1\":{\"field\":\"x1\"},\"y0\":{\"field\":\"y0\"},\"y1\":{\"field\":\"y1\"}},\"id\":\"792b1353-b4b7-4086-a263-74577c154c16\",\"type\":\"Segment\"},{\"attributes\":{\"line_alpha\":{\"value\":0.1},\"line_color\":{\"value\":\"#1f77b4\"},\"line_width\":{\"field\":\"line_width\"},\"x0\":{\"field\":\"x0\"},\"x1\":{\"field\":\"x1\"},\"y0\":{\"field\":\"y0\"},\"y1\":{\"field\":\"y1\"}},\"id\":\"46a210a5-e124-4a7c-89eb-c160e22b1520\",\"type\":\"Segment\"},{\"attributes\":{\"data_source\":{\"id\":\"d2a56b83-8e23-43b8-9c35-bfb489a1af75\",\"type\":\"ColumnDataSource\"},\"glyph\":{\"id\":\"792b1353-b4b7-4086-a263-74577c154c16\",\"type\":\"Segment\"},\"hover_glyph\":null,\"muted_glyph\":null,\"nonselection_glyph\":{\"id\":\"46a210a5-e124-4a7c-89eb-c160e22b1520\",\"type\":\"Segment\"},\"selection_glyph\":null,\"view\":{\"id\":\"4e803751-d261-4390-bbbf-416e32704c56\",\"type\":\"CDSView\"}},\"id\":\"1e2bf16d-7d4f-42b4-a118-73e38cc120a6\",\"type\":\"GlyphRenderer\"},{\"attributes\":{},\"id\":\"d99e71f4-9643-48ed-b461-2d300d12f436\",\"type\":\"BasicTickFormatter\"}],\"root_ids\":[\"5b846422-8828-44c8-9332-d8e869f7a4f7\"]},\"title\":\"Bokeh Application\",\"version\":\"0.12.16\"}};\n",
       "  var render_items = [{\"docid\":\"a8e6cd3d-84f1-4150-b8e2-c8ec171becec\",\"elementid\":\"5c6e83ba-d071-496a-9258-48182776eed6\",\"modelid\":\"5b846422-8828-44c8-9332-d8e869f7a4f7\"}];\n",
       "  root.Bokeh.embed.embed_items_notebook(docs_json, render_items);\n",
       "\n",
       "  }\n",
       "  if (root.Bokeh !== undefined) {\n",
       "    embed_document(root);\n",
       "  } else {\n",
       "    var attempts = 0;\n",
       "    var timer = setInterval(function(root) {\n",
       "      if (root.Bokeh !== undefined) {\n",
       "        embed_document(root);\n",
       "        clearInterval(timer);\n",
       "      }\n",
       "      attempts++;\n",
       "      if (attempts > 100) {\n",
       "        console.log(\"Bokeh: ERROR: Unable to run BokehJS code because BokehJS library is missing\")\n",
       "        clearInterval(timer);\n",
       "      }\n",
       "    }, 10, root)\n",
       "  }\n",
       "})(window);"
      ],
      "application/vnd.bokehjs_exec.v0+json": ""
     },
     "metadata": {
      "application/vnd.bokehjs_exec.v0+json": {
       "id": "5b846422-8828-44c8-9332-d8e869f7a4f7"
      }
     },
     "output_type": "display_data"
    }
   ],
   "source": [
    "mult_plot = figure(title='Multiple markers', plot_height=400,plot_width=640)\n",
    "\n",
    "annulus_x = np.linspace(1,20,15);\n",
    "annulus_y = np.random.rand(15)*20;\n",
    "mult_plot.annulus(annulus_x,annulus_y,0.2,0.5,fill_color='orange',fill_alpha=0.2,line_color='orange')\n",
    "\n",
    "hex_x = np.linspace(1,20,100);\n",
    "hex_y = np.random.rand(100)*20;\n",
    "mult_plot.hex(hex_x,hex_y,20-hex_y,fill_color='red',fill_alpha=0.1,line_color='red',line_alpha=0.1)\n",
    "\n",
    "segment_x0 = [5,7.5,10]\n",
    "segment_y0 = [5,10,15]\n",
    "segment_x1 = [5,7.5,15]\n",
    "segment_y1 = [10,15,15]\n",
    "mult_plot.segment(segment_x0,segment_y0,\n",
    "                  segment_x1,segment_y1,\n",
    "                  line_width=[12,7,9],\n",
    "                  line_color='lavender',\n",
    "                  line_alpha=[0.6,0.7,0.9])\n",
    "\n",
    "show(mult_plot)"
   ]
  },
  {
   "cell_type": "markdown",
   "metadata": {},
   "source": [
    "## Shapes\n",
    "\n",
    "There are two main method of drawing larger shapes: [quad](https://bokeh.pydata.org/en/latest/docs/reference/models/glyphs/quad.html) and [patch](https://bokeh.pydata.org/en/latest/docs/reference/models/glyphs/patch.html#bokeh.models.glyphs.Patch). Quad is used for standard rectangular shape while patch is more general in that it can draw almost any shape."
   ]
  },
  {
   "cell_type": "code",
   "execution_count": 6,
   "metadata": {},
   "outputs": [
    {
     "data": {
      "text/html": [
       "\n",
       "<div class=\"bk-root\">\n",
       "    <div class=\"bk-plotdiv\" id=\"433fcbb8-e77d-4d70-a16f-afce92460cce\"></div>\n",
       "</div>"
      ]
     },
     "metadata": {},
     "output_type": "display_data"
    },
    {
     "data": {
      "application/javascript": [
       "(function(root) {\n",
       "  function embed_document(root) {\n",
       "    \n",
       "  var docs_json = {\"32bc7801-ca25-41aa-a395-4a104e8fc54d\":{\"roots\":{\"references\":[{\"attributes\":{\"below\":[{\"id\":\"f1025674-f931-4bba-ad29-a9db46aa1d82\",\"type\":\"LinearAxis\"}],\"left\":[{\"id\":\"8378e6e6-a634-4d68-b3e0-a069d3516cc8\",\"type\":\"LinearAxis\"}],\"plot_height\":400,\"plot_width\":640,\"renderers\":[{\"id\":\"f1025674-f931-4bba-ad29-a9db46aa1d82\",\"type\":\"LinearAxis\"},{\"id\":\"1955d15e-d8e0-4b28-a79d-3e6ffa030780\",\"type\":\"Grid\"},{\"id\":\"8378e6e6-a634-4d68-b3e0-a069d3516cc8\",\"type\":\"LinearAxis\"},{\"id\":\"a2b63dff-d1c8-4b67-a6d0-06754f1c7596\",\"type\":\"Grid\"},{\"id\":\"1fe051af-2cf2-42ea-9631-0f99f53898e7\",\"type\":\"BoxAnnotation\"},{\"id\":\"00db372f-100f-4ac2-bd0c-f470d18198c5\",\"type\":\"GlyphRenderer\"}],\"title\":{\"id\":\"ace13507-8772-4e52-8789-0ebf11d719e1\",\"type\":\"Title\"},\"toolbar\":{\"id\":\"b761a365-a00b-4042-a6bc-011e9027dbf9\",\"type\":\"Toolbar\"},\"x_range\":{\"id\":\"6b5be677-9cec-45f0-8708-9b9baab40c5e\",\"type\":\"DataRange1d\"},\"x_scale\":{\"id\":\"3f4c85c3-5e8d-41c2-8214-96aff2c15789\",\"type\":\"LinearScale\"},\"y_range\":{\"id\":\"d8b182ef-d23a-4057-9fac-e2844bdbffa6\",\"type\":\"DataRange1d\"},\"y_scale\":{\"id\":\"480d9241-ff3c-424f-8b89-84174681a5ca\",\"type\":\"LinearScale\"}},\"id\":\"d9c7b135-4da1-4971-ab85-5f67054851ef\",\"subtype\":\"Figure\",\"type\":\"Plot\"},{\"attributes\":{},\"id\":\"d52f6391-b474-41b2-9f3e-17feb4bc0bf7\",\"type\":\"PanTool\"},{\"attributes\":{\"source\":{\"id\":\"fb735ff0-f073-474a-8f1c-74e90f4a249a\",\"type\":\"ColumnDataSource\"}},\"id\":\"22eb832f-76aa-4666-b73a-abd9caaadbf6\",\"type\":\"CDSView\"},{\"attributes\":{\"bottom\":{\"field\":\"bottom\"},\"fill_alpha\":{\"value\":0.1},\"fill_color\":{\"value\":\"#1f77b4\"},\"left\":{\"field\":\"left\"},\"line_alpha\":{\"value\":0.1},\"line_color\":{\"value\":\"#1f77b4\"},\"right\":{\"field\":\"right\"},\"top\":{\"field\":\"top\"}},\"id\":\"1fd73211-9a13-4b0c-ae1b-25605bbf5d63\",\"type\":\"Quad\"},{\"attributes\":{},\"id\":\"a797da94-b224-48bb-bfda-b8b8f848c49e\",\"type\":\"WheelZoomTool\"},{\"attributes\":{},\"id\":\"e0d0b008-2e0e-461c-8e90-d5c4350b32f4\",\"type\":\"BasicTicker\"},{\"attributes\":{\"data_source\":{\"id\":\"fb735ff0-f073-474a-8f1c-74e90f4a249a\",\"type\":\"ColumnDataSource\"},\"glyph\":{\"id\":\"300c91c2-f238-4abc-bda5-b1dec4bf784b\",\"type\":\"Quad\"},\"hover_glyph\":null,\"muted_glyph\":null,\"nonselection_glyph\":{\"id\":\"1fd73211-9a13-4b0c-ae1b-25605bbf5d63\",\"type\":\"Quad\"},\"selection_glyph\":null,\"view\":{\"id\":\"22eb832f-76aa-4666-b73a-abd9caaadbf6\",\"type\":\"CDSView\"}},\"id\":\"00db372f-100f-4ac2-bd0c-f470d18198c5\",\"type\":\"GlyphRenderer\"},{\"attributes\":{},\"id\":\"8ecf3990-54ab-4962-8011-8fbb0e6e29d6\",\"type\":\"BasicTickFormatter\"},{\"attributes\":{\"bottom\":{\"field\":\"bottom\"},\"fill_alpha\":{\"field\":\"fill_alpha\"},\"fill_color\":{\"field\":\"fill_color\"},\"left\":{\"field\":\"left\"},\"line_alpha\":{\"field\":\"line_alpha\"},\"line_color\":{\"field\":\"line_color\"},\"right\":{\"field\":\"right\"},\"top\":{\"field\":\"top\"}},\"id\":\"300c91c2-f238-4abc-bda5-b1dec4bf784b\",\"type\":\"Quad\"},{\"attributes\":{},\"id\":\"3f4c85c3-5e8d-41c2-8214-96aff2c15789\",\"type\":\"LinearScale\"},{\"attributes\":{},\"id\":\"4a75cb43-c36e-4944-b39f-6f563cb839a5\",\"type\":\"UnionRenderers\"},{\"attributes\":{},\"id\":\"598890d3-7c82-425d-b89b-0d578f070e80\",\"type\":\"SaveTool\"},{\"attributes\":{\"formatter\":{\"id\":\"7920a511-a968-4642-89c0-cae397d92ff1\",\"type\":\"BasicTickFormatter\"},\"plot\":{\"id\":\"d9c7b135-4da1-4971-ab85-5f67054851ef\",\"subtype\":\"Figure\",\"type\":\"Plot\"},\"ticker\":{\"id\":\"1fa054ed-cac1-4648-984c-d5379f687450\",\"type\":\"BasicTicker\"}},\"id\":\"8378e6e6-a634-4d68-b3e0-a069d3516cc8\",\"type\":\"LinearAxis\"},{\"attributes\":{\"overlay\":{\"id\":\"1fe051af-2cf2-42ea-9631-0f99f53898e7\",\"type\":\"BoxAnnotation\"}},\"id\":\"2ecdbad9-d0fb-43c4-9231-f0ea34f7ded5\",\"type\":\"BoxZoomTool\"},{\"attributes\":{\"callback\":null,\"data\":{\"bottom\":[1,3],\"fill_alpha\":[0.3,0.4],\"fill_color\":[\"orange\",\"blue\"],\"left\":[2,5],\"line_alpha\":[0.6,0.8],\"line_color\":[\"orange\",\"blue\"],\"right\":[4,8],\"top\":[5,5]},\"selected\":{\"id\":\"6541e927-7d28-40b3-ab45-40b6df95e06b\",\"type\":\"Selection\"},\"selection_policy\":{\"id\":\"4a75cb43-c36e-4944-b39f-6f563cb839a5\",\"type\":\"UnionRenderers\"}},\"id\":\"fb735ff0-f073-474a-8f1c-74e90f4a249a\",\"type\":\"ColumnDataSource\"},{\"attributes\":{},\"id\":\"480d9241-ff3c-424f-8b89-84174681a5ca\",\"type\":\"LinearScale\"},{\"attributes\":{},\"id\":\"b4e8f52a-dd67-4b5f-a905-3162bbc871c6\",\"type\":\"HelpTool\"},{\"attributes\":{\"plot\":{\"id\":\"d9c7b135-4da1-4971-ab85-5f67054851ef\",\"subtype\":\"Figure\",\"type\":\"Plot\"},\"ticker\":{\"id\":\"e0d0b008-2e0e-461c-8e90-d5c4350b32f4\",\"type\":\"BasicTicker\"}},\"id\":\"1955d15e-d8e0-4b28-a79d-3e6ffa030780\",\"type\":\"Grid\"},{\"attributes\":{},\"id\":\"1fa054ed-cac1-4648-984c-d5379f687450\",\"type\":\"BasicTicker\"},{\"attributes\":{},\"id\":\"0e81caea-0554-4cf3-a47f-15c3c3c4c5d3\",\"type\":\"ResetTool\"},{\"attributes\":{\"dimension\":1,\"plot\":{\"id\":\"d9c7b135-4da1-4971-ab85-5f67054851ef\",\"subtype\":\"Figure\",\"type\":\"Plot\"},\"ticker\":{\"id\":\"1fa054ed-cac1-4648-984c-d5379f687450\",\"type\":\"BasicTicker\"}},\"id\":\"a2b63dff-d1c8-4b67-a6d0-06754f1c7596\",\"type\":\"Grid\"},{\"attributes\":{\"plot\":null,\"text\":\"Quads\"},\"id\":\"ace13507-8772-4e52-8789-0ebf11d719e1\",\"type\":\"Title\"},{\"attributes\":{\"callback\":null},\"id\":\"6b5be677-9cec-45f0-8708-9b9baab40c5e\",\"type\":\"DataRange1d\"},{\"attributes\":{},\"id\":\"7920a511-a968-4642-89c0-cae397d92ff1\",\"type\":\"BasicTickFormatter\"},{\"attributes\":{\"active_drag\":\"auto\",\"active_inspect\":\"auto\",\"active_scroll\":\"auto\",\"active_tap\":\"auto\",\"tools\":[{\"id\":\"d52f6391-b474-41b2-9f3e-17feb4bc0bf7\",\"type\":\"PanTool\"},{\"id\":\"a797da94-b224-48bb-bfda-b8b8f848c49e\",\"type\":\"WheelZoomTool\"},{\"id\":\"2ecdbad9-d0fb-43c4-9231-f0ea34f7ded5\",\"type\":\"BoxZoomTool\"},{\"id\":\"598890d3-7c82-425d-b89b-0d578f070e80\",\"type\":\"SaveTool\"},{\"id\":\"0e81caea-0554-4cf3-a47f-15c3c3c4c5d3\",\"type\":\"ResetTool\"},{\"id\":\"b4e8f52a-dd67-4b5f-a905-3162bbc871c6\",\"type\":\"HelpTool\"}]},\"id\":\"b761a365-a00b-4042-a6bc-011e9027dbf9\",\"type\":\"Toolbar\"},{\"attributes\":{\"bottom_units\":\"screen\",\"fill_alpha\":{\"value\":0.5},\"fill_color\":{\"value\":\"lightgrey\"},\"left_units\":\"screen\",\"level\":\"overlay\",\"line_alpha\":{\"value\":1.0},\"line_color\":{\"value\":\"black\"},\"line_dash\":[4,4],\"line_width\":{\"value\":2},\"plot\":null,\"render_mode\":\"css\",\"right_units\":\"screen\",\"top_units\":\"screen\"},\"id\":\"1fe051af-2cf2-42ea-9631-0f99f53898e7\",\"type\":\"BoxAnnotation\"},{\"attributes\":{\"formatter\":{\"id\":\"8ecf3990-54ab-4962-8011-8fbb0e6e29d6\",\"type\":\"BasicTickFormatter\"},\"plot\":{\"id\":\"d9c7b135-4da1-4971-ab85-5f67054851ef\",\"subtype\":\"Figure\",\"type\":\"Plot\"},\"ticker\":{\"id\":\"e0d0b008-2e0e-461c-8e90-d5c4350b32f4\",\"type\":\"BasicTicker\"}},\"id\":\"f1025674-f931-4bba-ad29-a9db46aa1d82\",\"type\":\"LinearAxis\"},{\"attributes\":{},\"id\":\"6541e927-7d28-40b3-ab45-40b6df95e06b\",\"type\":\"Selection\"},{\"attributes\":{\"callback\":null},\"id\":\"d8b182ef-d23a-4057-9fac-e2844bdbffa6\",\"type\":\"DataRange1d\"}],\"root_ids\":[\"d9c7b135-4da1-4971-ab85-5f67054851ef\"]},\"title\":\"Bokeh Application\",\"version\":\"0.12.16\"}};\n",
       "  var render_items = [{\"docid\":\"32bc7801-ca25-41aa-a395-4a104e8fc54d\",\"elementid\":\"433fcbb8-e77d-4d70-a16f-afce92460cce\",\"modelid\":\"d9c7b135-4da1-4971-ab85-5f67054851ef\"}];\n",
       "  root.Bokeh.embed.embed_items_notebook(docs_json, render_items);\n",
       "\n",
       "  }\n",
       "  if (root.Bokeh !== undefined) {\n",
       "    embed_document(root);\n",
       "  } else {\n",
       "    var attempts = 0;\n",
       "    var timer = setInterval(function(root) {\n",
       "      if (root.Bokeh !== undefined) {\n",
       "        embed_document(root);\n",
       "        clearInterval(timer);\n",
       "      }\n",
       "      attempts++;\n",
       "      if (attempts > 100) {\n",
       "        console.log(\"Bokeh: ERROR: Unable to run BokehJS code because BokehJS library is missing\")\n",
       "        clearInterval(timer);\n",
       "      }\n",
       "    }, 10, root)\n",
       "  }\n",
       "})(window);"
      ],
      "application/vnd.bokehjs_exec.v0+json": ""
     },
     "metadata": {
      "application/vnd.bokehjs_exec.v0+json": {
       "id": "d9c7b135-4da1-4971-ab85-5f67054851ef"
      }
     },
     "output_type": "display_data"
    }
   ],
   "source": [
    "quad_plot = figure(title='Quads', plot_height=400,plot_width=640)\n",
    "\n",
    "quad_plot.quad(\n",
    "        bottom=[1,3],\n",
    "        top=[5,5],\n",
    "        left=[2,5],\n",
    "        right=[4,8],\n",
    "      \n",
    "        fill_color=['orange','blue'],\n",
    "        fill_alpha=[0.3,0.4],\n",
    "        line_color=['orange','blue'],\n",
    "        line_alpha=[0.6,0.8])\n",
    "\n",
    "show(quad_plot)"
   ]
  },
  {
   "cell_type": "code",
   "execution_count": 59,
   "metadata": {},
   "outputs": [
    {
     "data": {
      "text/html": [
       "\n",
       "<div class=\"bk-root\">\n",
       "    <div class=\"bk-plotdiv\" id=\"009e9709-589c-41ef-bb37-380126b894db\"></div>\n",
       "</div>"
      ]
     },
     "metadata": {},
     "output_type": "display_data"
    },
    {
     "data": {
      "application/javascript": [
       "(function(root) {\n",
       "  function embed_document(root) {\n",
       "    \n",
       "  var docs_json = {\"58f0388b-dd25-4402-a13c-1c788a52f2a0\":{\"roots\":{\"references\":[{\"attributes\":{\"callback\":null},\"id\":\"65d25be6-7427-4358-8f93-27f1127977c9\",\"type\":\"DataRange1d\"},{\"attributes\":{\"fill_alpha\":0.3,\"fill_color\":\"orange\",\"line_alpha\":0.6,\"line_color\":\"orange\",\"x\":{\"field\":\"x\"},\"y\":{\"field\":\"y\"}},\"id\":\"f81a6446-8213-4e58-90dd-509cee6cceea\",\"type\":\"Patch\"},{\"attributes\":{},\"id\":\"b3e1221d-6cc5-4c11-b1ce-6964277b3691\",\"type\":\"BasicTicker\"},{\"attributes\":{\"dimension\":1,\"plot\":{\"id\":\"70f49e69-1558-4aed-8e4b-883d80bce621\",\"subtype\":\"Figure\",\"type\":\"Plot\"},\"ticker\":{\"id\":\"b3e1221d-6cc5-4c11-b1ce-6964277b3691\",\"type\":\"BasicTicker\"}},\"id\":\"1faf693f-0933-43d3-babe-cd9e8400b250\",\"type\":\"Grid\"},{\"attributes\":{},\"id\":\"2d780e96-fbb2-45c3-be21-5be57807db21\",\"type\":\"SaveTool\"},{\"attributes\":{\"fill_alpha\":0.1,\"fill_color\":\"#1f77b4\",\"line_alpha\":0.1,\"line_color\":\"#1f77b4\",\"x\":{\"field\":\"x\"},\"y\":{\"field\":\"y\"}},\"id\":\"0909e89d-af8d-4271-88c8-dce08edf492d\",\"type\":\"Patch\"},{\"attributes\":{},\"id\":\"1d430883-710b-49e7-a202-8e25ae367184\",\"type\":\"LinearScale\"},{\"attributes\":{\"formatter\":{\"id\":\"82b6f96d-cc2f-4e17-848b-c40bb286c733\",\"type\":\"BasicTickFormatter\"},\"plot\":{\"id\":\"70f49e69-1558-4aed-8e4b-883d80bce621\",\"subtype\":\"Figure\",\"type\":\"Plot\"},\"ticker\":{\"id\":\"9a434e37-7a01-460b-ba90-f4d305417697\",\"type\":\"BasicTicker\"}},\"id\":\"011ed890-8378-451c-8e9e-d90af7bec7e3\",\"type\":\"LinearAxis\"},{\"attributes\":{},\"id\":\"83c6729f-c32e-4f44-8582-da73f423072a\",\"type\":\"HelpTool\"},{\"attributes\":{\"overlay\":{\"id\":\"77673552-89bb-426c-bd64-55a3700621f6\",\"type\":\"BoxAnnotation\"}},\"id\":\"a334d83a-4405-42b7-9f36-8dba64632b72\",\"type\":\"BoxZoomTool\"},{\"attributes\":{},\"id\":\"9a434e37-7a01-460b-ba90-f4d305417697\",\"type\":\"BasicTicker\"},{\"attributes\":{\"data_source\":{\"id\":\"5d7eaedf-fce1-4ad9-b83b-3086c47f67f0\",\"type\":\"ColumnDataSource\"},\"glyph\":{\"id\":\"f81a6446-8213-4e58-90dd-509cee6cceea\",\"type\":\"Patch\"},\"hover_glyph\":null,\"muted_glyph\":null,\"nonselection_glyph\":{\"id\":\"0909e89d-af8d-4271-88c8-dce08edf492d\",\"type\":\"Patch\"},\"selection_glyph\":null,\"view\":{\"id\":\"4ee17645-d2fd-4833-a1b3-7b5dbfa849c2\",\"type\":\"CDSView\"}},\"id\":\"7d99bf52-91f6-48a1-aa2a-8d9e72dfeb56\",\"type\":\"GlyphRenderer\"},{\"attributes\":{\"bottom_units\":\"screen\",\"fill_alpha\":{\"value\":0.5},\"fill_color\":{\"value\":\"lightgrey\"},\"left_units\":\"screen\",\"level\":\"overlay\",\"line_alpha\":{\"value\":1.0},\"line_color\":{\"value\":\"black\"},\"line_dash\":[4,4],\"line_width\":{\"value\":2},\"plot\":null,\"render_mode\":\"css\",\"right_units\":\"screen\",\"top_units\":\"screen\"},\"id\":\"77673552-89bb-426c-bd64-55a3700621f6\",\"type\":\"BoxAnnotation\"},{\"attributes\":{\"callback\":null},\"id\":\"10b54d2a-0c0c-4114-94d1-3cde5432efae\",\"type\":\"DataRange1d\"},{\"attributes\":{},\"id\":\"7f39a0ab-5dec-4e81-9ed6-9d96a14d963c\",\"type\":\"PanTool\"},{\"attributes\":{},\"id\":\"212a1efb-13e8-4a11-b863-13254e00654e\",\"type\":\"UnionRenderers\"},{\"attributes\":{\"active_drag\":\"auto\",\"active_inspect\":\"auto\",\"active_scroll\":\"auto\",\"active_tap\":\"auto\",\"tools\":[{\"id\":\"7f39a0ab-5dec-4e81-9ed6-9d96a14d963c\",\"type\":\"PanTool\"},{\"id\":\"12e28622-6335-4f1d-a903-618d2bce3a08\",\"type\":\"WheelZoomTool\"},{\"id\":\"a334d83a-4405-42b7-9f36-8dba64632b72\",\"type\":\"BoxZoomTool\"},{\"id\":\"2d780e96-fbb2-45c3-be21-5be57807db21\",\"type\":\"SaveTool\"},{\"id\":\"16d4afde-127c-490b-9677-dedda11d0c2e\",\"type\":\"ResetTool\"},{\"id\":\"83c6729f-c32e-4f44-8582-da73f423072a\",\"type\":\"HelpTool\"}]},\"id\":\"0fa707e9-d925-400d-b7d1-61b373971366\",\"type\":\"Toolbar\"},{\"attributes\":{\"source\":{\"id\":\"5d7eaedf-fce1-4ad9-b83b-3086c47f67f0\",\"type\":\"ColumnDataSource\"}},\"id\":\"4ee17645-d2fd-4833-a1b3-7b5dbfa849c2\",\"type\":\"CDSView\"},{\"attributes\":{},\"id\":\"12e28622-6335-4f1d-a903-618d2bce3a08\",\"type\":\"WheelZoomTool\"},{\"attributes\":{},\"id\":\"d56aebe4-7f87-47c5-b7ab-78b7047bdf44\",\"type\":\"Selection\"},{\"attributes\":{},\"id\":\"16d4afde-127c-490b-9677-dedda11d0c2e\",\"type\":\"ResetTool\"},{\"attributes\":{\"plot\":null,\"text\":\"Patch\"},\"id\":\"31f304a3-9cd6-4fff-9aa9-600b166d811a\",\"type\":\"Title\"},{\"attributes\":{},\"id\":\"82b6f96d-cc2f-4e17-848b-c40bb286c733\",\"type\":\"BasicTickFormatter\"},{\"attributes\":{\"formatter\":{\"id\":\"004c1f2c-86c8-4e58-bb82-57f318727d3b\",\"type\":\"BasicTickFormatter\"},\"plot\":{\"id\":\"70f49e69-1558-4aed-8e4b-883d80bce621\",\"subtype\":\"Figure\",\"type\":\"Plot\"},\"ticker\":{\"id\":\"b3e1221d-6cc5-4c11-b1ce-6964277b3691\",\"type\":\"BasicTicker\"}},\"id\":\"e31fa3f4-4da5-4d5d-870c-07725a5443f5\",\"type\":\"LinearAxis\"},{\"attributes\":{\"callback\":null,\"data\":{\"x\":[1,2,3,4,5,4,3,2,1],\"y\":[3,4,4,6,5,3,1,1,2]},\"selected\":{\"id\":\"d56aebe4-7f87-47c5-b7ab-78b7047bdf44\",\"type\":\"Selection\"},\"selection_policy\":{\"id\":\"212a1efb-13e8-4a11-b863-13254e00654e\",\"type\":\"UnionRenderers\"}},\"id\":\"5d7eaedf-fce1-4ad9-b83b-3086c47f67f0\",\"type\":\"ColumnDataSource\"},{\"attributes\":{\"below\":[{\"id\":\"011ed890-8378-451c-8e9e-d90af7bec7e3\",\"type\":\"LinearAxis\"}],\"left\":[{\"id\":\"e31fa3f4-4da5-4d5d-870c-07725a5443f5\",\"type\":\"LinearAxis\"}],\"plot_height\":400,\"plot_width\":640,\"renderers\":[{\"id\":\"011ed890-8378-451c-8e9e-d90af7bec7e3\",\"type\":\"LinearAxis\"},{\"id\":\"0b0c4985-e432-4bde-a08d-5295d656de17\",\"type\":\"Grid\"},{\"id\":\"e31fa3f4-4da5-4d5d-870c-07725a5443f5\",\"type\":\"LinearAxis\"},{\"id\":\"1faf693f-0933-43d3-babe-cd9e8400b250\",\"type\":\"Grid\"},{\"id\":\"77673552-89bb-426c-bd64-55a3700621f6\",\"type\":\"BoxAnnotation\"},{\"id\":\"7d99bf52-91f6-48a1-aa2a-8d9e72dfeb56\",\"type\":\"GlyphRenderer\"}],\"title\":{\"id\":\"31f304a3-9cd6-4fff-9aa9-600b166d811a\",\"type\":\"Title\"},\"toolbar\":{\"id\":\"0fa707e9-d925-400d-b7d1-61b373971366\",\"type\":\"Toolbar\"},\"x_range\":{\"id\":\"10b54d2a-0c0c-4114-94d1-3cde5432efae\",\"type\":\"DataRange1d\"},\"x_scale\":{\"id\":\"1d430883-710b-49e7-a202-8e25ae367184\",\"type\":\"LinearScale\"},\"y_range\":{\"id\":\"65d25be6-7427-4358-8f93-27f1127977c9\",\"type\":\"DataRange1d\"},\"y_scale\":{\"id\":\"74e40c7a-4e1a-4bdd-849b-f7ee7358cb10\",\"type\":\"LinearScale\"}},\"id\":\"70f49e69-1558-4aed-8e4b-883d80bce621\",\"subtype\":\"Figure\",\"type\":\"Plot\"},{\"attributes\":{\"plot\":{\"id\":\"70f49e69-1558-4aed-8e4b-883d80bce621\",\"subtype\":\"Figure\",\"type\":\"Plot\"},\"ticker\":{\"id\":\"9a434e37-7a01-460b-ba90-f4d305417697\",\"type\":\"BasicTicker\"}},\"id\":\"0b0c4985-e432-4bde-a08d-5295d656de17\",\"type\":\"Grid\"},{\"attributes\":{},\"id\":\"74e40c7a-4e1a-4bdd-849b-f7ee7358cb10\",\"type\":\"LinearScale\"},{\"attributes\":{},\"id\":\"004c1f2c-86c8-4e58-bb82-57f318727d3b\",\"type\":\"BasicTickFormatter\"}],\"root_ids\":[\"70f49e69-1558-4aed-8e4b-883d80bce621\"]},\"title\":\"Bokeh Application\",\"version\":\"0.12.16\"}};\n",
       "  var render_items = [{\"docid\":\"58f0388b-dd25-4402-a13c-1c788a52f2a0\",\"elementid\":\"009e9709-589c-41ef-bb37-380126b894db\",\"modelid\":\"70f49e69-1558-4aed-8e4b-883d80bce621\"}];\n",
       "  root.Bokeh.embed.embed_items_notebook(docs_json, render_items);\n",
       "\n",
       "  }\n",
       "  if (root.Bokeh !== undefined) {\n",
       "    embed_document(root);\n",
       "  } else {\n",
       "    var attempts = 0;\n",
       "    var timer = setInterval(function(root) {\n",
       "      if (root.Bokeh !== undefined) {\n",
       "        embed_document(root);\n",
       "        clearInterval(timer);\n",
       "      }\n",
       "      attempts++;\n",
       "      if (attempts > 100) {\n",
       "        console.log(\"Bokeh: ERROR: Unable to run BokehJS code because BokehJS library is missing\")\n",
       "        clearInterval(timer);\n",
       "      }\n",
       "    }, 10, root)\n",
       "  }\n",
       "})(window);"
      ],
      "application/vnd.bokehjs_exec.v0+json": ""
     },
     "metadata": {
      "application/vnd.bokehjs_exec.v0+json": {
       "id": "70f49e69-1558-4aed-8e4b-883d80bce621"
      }
     },
     "output_type": "display_data"
    }
   ],
   "source": [
    "patch_plot = figure(title='Patch', plot_height=400,plot_width=640)\n",
    "\n",
    "patch_plot.patch(\n",
    "        [1,2,3,4,5,4,3,2,1],\n",
    "        [3,4,4,6,5,3,1,1,2],\n",
    "        fill_color='orange',\n",
    "        fill_alpha=0.3,\n",
    "        line_color='orange',\n",
    "        line_alpha=0.6)\n",
    "\n",
    "show(patch_plot)"
   ]
  },
  {
   "cell_type": "markdown",
   "metadata": {},
   "source": [
    "## Importing data\n",
    "\n",
    "For CSV file, I find it easier to use panda rather than NumPy since `read_csv()` is very powerful. You can use panda dataframes as input for your plots, because after all they are NumPy arrays. "
   ]
  },
  {
   "cell_type": "code",
   "execution_count": 60,
   "metadata": {},
   "outputs": [
    {
     "data": {
      "text/html": [
       "\n",
       "<div class=\"bk-root\">\n",
       "    <div class=\"bk-plotdiv\" id=\"d9fe6609-c15d-4773-8ba4-a001b09b9b9f\"></div>\n",
       "</div>"
      ]
     },
     "metadata": {},
     "output_type": "display_data"
    },
    {
     "data": {
      "application/javascript": [
       "(function(root) {\n",
       "  function embed_document(root) {\n",
       "    \n",
       "  var docs_json = {\"7cb00a65-af43-44b2-b151-ac81f240390a\":{\"roots\":{\"references\":[{\"attributes\":{\"line_color\":\"orange\",\"x\":{\"field\":\"x\"},\"y\":{\"field\":\"y\"}},\"id\":\"a7cd8b93-d6e1-4c87-9e4e-0f35704d6a45\",\"type\":\"Line\"},{\"attributes\":{},\"id\":\"4834dd8d-f2d4-439f-a59b-a6e8996d4dac\",\"type\":\"LinearScale\"},{\"attributes\":{\"plot\":{\"id\":\"3a98bfc6-467e-4296-b721-e20eba9fe11f\",\"subtype\":\"Figure\",\"type\":\"Plot\"},\"ticker\":{\"id\":\"e5adf89f-651d-43ca-bf0b-991164b2ad7b\",\"type\":\"BasicTicker\"}},\"id\":\"fc72047c-dadb-4aff-8bf0-8d825b5459e3\",\"type\":\"Grid\"},{\"attributes\":{\"formatter\":{\"id\":\"02b3b1d5-9ec3-41ac-82a1-b88c33e78b79\",\"type\":\"BasicTickFormatter\"},\"plot\":{\"id\":\"3a98bfc6-467e-4296-b721-e20eba9fe11f\",\"subtype\":\"Figure\",\"type\":\"Plot\"},\"ticker\":{\"id\":\"e5adf89f-651d-43ca-bf0b-991164b2ad7b\",\"type\":\"BasicTicker\"}},\"id\":\"7c730156-1760-4de1-8d08-246c539f74d7\",\"type\":\"LinearAxis\"},{\"attributes\":{},\"id\":\"e5adf89f-651d-43ca-bf0b-991164b2ad7b\",\"type\":\"BasicTicker\"},{\"attributes\":{\"formatter\":{\"id\":\"96ee3f58-fce9-4ae6-a36a-0962b4ac4999\",\"type\":\"BasicTickFormatter\"},\"plot\":{\"id\":\"3a98bfc6-467e-4296-b721-e20eba9fe11f\",\"subtype\":\"Figure\",\"type\":\"Plot\"},\"ticker\":{\"id\":\"26774dab-0f6a-4584-9082-33a54aae43e6\",\"type\":\"BasicTicker\"}},\"id\":\"febc55fa-d9fe-4029-af84-79c5cd24c95c\",\"type\":\"LinearAxis\"},{\"attributes\":{},\"id\":\"26774dab-0f6a-4584-9082-33a54aae43e6\",\"type\":\"BasicTicker\"},{\"attributes\":{\"dimension\":1,\"plot\":{\"id\":\"3a98bfc6-467e-4296-b721-e20eba9fe11f\",\"subtype\":\"Figure\",\"type\":\"Plot\"},\"ticker\":{\"id\":\"26774dab-0f6a-4584-9082-33a54aae43e6\",\"type\":\"BasicTicker\"}},\"id\":\"6b93e3d0-ab3e-45f3-b711-b9a91609f319\",\"type\":\"Grid\"},{\"attributes\":{\"line_alpha\":0.1,\"line_color\":\"#1f77b4\",\"x\":{\"field\":\"x\"},\"y\":{\"field\":\"y\"}},\"id\":\"2f2a07fe-edcc-4401-b734-827215c7fa4c\",\"type\":\"Line\"},{\"attributes\":{\"below\":[{\"id\":\"7c730156-1760-4de1-8d08-246c539f74d7\",\"type\":\"LinearAxis\"}],\"left\":[{\"id\":\"febc55fa-d9fe-4029-af84-79c5cd24c95c\",\"type\":\"LinearAxis\"}],\"plot_height\":300,\"plot_width\":900,\"renderers\":[{\"id\":\"7c730156-1760-4de1-8d08-246c539f74d7\",\"type\":\"LinearAxis\"},{\"id\":\"fc72047c-dadb-4aff-8bf0-8d825b5459e3\",\"type\":\"Grid\"},{\"id\":\"febc55fa-d9fe-4029-af84-79c5cd24c95c\",\"type\":\"LinearAxis\"},{\"id\":\"6b93e3d0-ab3e-45f3-b711-b9a91609f319\",\"type\":\"Grid\"},{\"id\":\"c63cc8d7-bd13-460f-8f34-cb54d7bc7000\",\"type\":\"BoxAnnotation\"},{\"id\":\"765a048a-236d-4cc9-bf56-a2c015e38778\",\"type\":\"Legend\"},{\"id\":\"9ad509db-9193-4ce2-b270-6f8d381c5cc3\",\"type\":\"GlyphRenderer\"},{\"id\":\"9a49c354-5087-4abd-99f8-aba96ac6c739\",\"type\":\"GlyphRenderer\"}],\"title\":{\"id\":\"5921a6fe-691a-4e40-895b-4f1e18c30a2f\",\"type\":\"Title\"},\"toolbar\":{\"id\":\"a5453d54-25d2-43f4-b7fa-ee887a992d59\",\"type\":\"Toolbar\"},\"x_range\":{\"id\":\"a77b0971-927f-4609-9825-a8b6d1c4ed6a\",\"type\":\"DataRange1d\"},\"x_scale\":{\"id\":\"5b32f226-3568-4686-8e23-4ba8f943cb38\",\"type\":\"LinearScale\"},\"y_range\":{\"id\":\"9deebf6e-9d46-4a5e-bf93-5f4f640242c8\",\"type\":\"DataRange1d\"},\"y_scale\":{\"id\":\"4834dd8d-f2d4-439f-a59b-a6e8996d4dac\",\"type\":\"LinearScale\"}},\"id\":\"3a98bfc6-467e-4296-b721-e20eba9fe11f\",\"subtype\":\"Figure\",\"type\":\"Plot\"},{\"attributes\":{\"callback\":null,\"data\":{\"x\":[1915,1916,1917,1918,1919,1920,1921,1922,1923,1924,1925,1926,1927,1928,1929,1930,1931,1932,1933,1934,1935,1936,1937,1938,1939,1940,1941,1942,1943,1944,1945,1946,1947,1948,1949,1950,1951,1952,1953,1954,1955,1956,1957,1958,1959,1960,1961,1962,1963,1964,1965,1966,1967,1968,1969,1970,1971,1972,1973,1974,1975,1976,1977,1978,1979,1980,1981,1982,1983,1984,1985,1986,1987,1988,1989,1990,1991,1992,1993,1994,1995,1996,1997,1998,1999,2000,2001,2002,2003,2004],\"y\":{\"__ndarray__\":\"VOOlm8QgEEAEVg4tsp0NQKabxCCwcghAc2iR7Xw/CkDhehSuR+EHQFpkO99PjQ1AAyuHFtnOCUCF61G4HoUBQM3MzMzMzARApHA9CtejCEBxPQrXo3AHQPyp8dJNYgdA4XoUrkfhCUB3vp8aL90HQBKDwMqhRQpA2/l+arx0DkBI4XoUrkcOQF+6SQwCKwVAI9v5fmq8CECkcD0K16MJQEFg5dAi2whAI9v5fmq8C0CsHFpkO98HQFg5tMh2vglABFYOLbKdBkDb+X5qvHQJQBbZzvdT4wFA3SQGgZVDAEBSuB6F61H6P0A1XrpJDPo/DQIrhxbZ+j/ZzvdT46UCQMHKoUW28wNAdJMYBFYOAkBzaJHtfD8FQDEIrBxaZAJAzczMzMzMBEBcj8L1KFwIQIgW2c73UwZAN4lBYOXQCUAj2/l+arwHQE+Nl24SgwdA001iEFg5CkAxCKwcWmQLQC/dJAaBlQhA1HjpJjEIBkBI4XoUrkcHQDEIrBxaZAlAJQaBlUOLCEC4HoXrUbgIQKjGSzeJQQdAppvEILByB0Bpke18PzUIQIXrUbgehQdAu0kMAiuHBUAv3SQGgZUJQM/3U+OlmwhAtvP91HjpBkDpJjEIrBwIQAaBlUOLbAhA7FG4HoXrBkDb+X5qvHQIQHjpJjEIrAdAarx0kxgECkBt5/up8dIMQJZDi2zn+wtAxks3iUFgCkA3iUFg5dAMQGZmZmZmZgpAne+nxks3C0CgGi/dJAYMQJ3vp8ZLNwtAyqFFtvP9C0CamZmZmZkJQJqZmZmZmQVAnMQgsHJoBkD91HjpJjEHQJzEILByaAZAMzMzMzMzA0DTTWIQWDkDQARWDi2ynQFAbef7qfHSAED4U+Olm8T8PwisHFpkO/M/ZmZmZmZm9j+d76fGSzfzP/hT46WbxPQ/mpmZmZmZ8T9qvHSTGATwP42XbhKDwOo/\",\"dtype\":\"float64\",\"shape\":[90]}},\"selected\":{\"id\":\"b91a4c57-dc89-4806-a16f-6bb489a2f549\",\"type\":\"Selection\"},\"selection_policy\":{\"id\":\"d1cb7522-4097-4d5e-8411-50a5b23eba5d\",\"type\":\"UnionRenderers\"}},\"id\":\"94f526c8-49db-4faf-8035-c79b6f0d4563\",\"type\":\"ColumnDataSource\"},{\"attributes\":{\"callback\":null,\"data\":{\"x\":[1915,1916,1917,1918,1919,1920,1921,1922,1923,1924,1925,1926,1927,1928,1929,1930,1931,1932,1933,1934,1935,1936,1937,1938,1939,1940,1941,1942,1943,1944,1945,1946,1947,1948,1949,1950,1951,1952,1953,1954,1955,1956,1957,1958,1959,1960,1961,1962,1963,1964,1965,1966,1967,1968,1969,1970,1971,1972,1973,1974,1975,1976,1977,1978,1979,1980,1981,1982,1983,1984,1985,1986,1987,1988,1989,1990,1991,1992,1993,1994,1995,1996,1997,1998,1999,2000,2001,2002,2003,2004],\"y\":{\"__ndarray__\":\"pHA9Ctej4D/hehSuR+HaP4XrUbgehds/uB6F61G43j+PwvUoXI/qP9ejcD0K1+M/rkfhehSu1z+F61G4HoXbP+xRuB6F69E/cT0K16Nw3T9I4XoUrkfRP4/C9Shcj+I/PQrXo3A94j9SuB6F61HgPwAAAAAAAOg/w/UoXI/C5T+kcD0K16PoP3E9CtejcN0/AAAAAAAA4D/hehSuR+HaP4XrUbgeheM/cT0K16Nw3T89CtejcD3iP2ZmZmZmZtY/9ihcj8L12D+PwvUoXI/iP7gehetRuM4/uB6F61G4zj+kcD0K16PQP+F6FK5H4do/rkfhehSu1z9SuB6F61HYPz0K16NwPdo/9ihcj8L12D+4HoXrUbjOP3sUrkfhesQ/KVyPwvUo3D9SuB6F61HgP65H4XoUrtc/hetRuB6F2z89CtejcD3aPx+F61G4HtU/pHA9Ctej4D+amZmZmZnhP5qZmZmZmeE/AAAAAAAA4D/2KFyPwvXgPzMzMzMzM+M/7FG4HoXr4T89CtejcD3iPwAAAAAAAOA/SOF6FK5H4T/sUbgehevhPxSuR+F6FOY/KVyPwvUo3D89CtejcD3iPzMzMzMzM+M/FK5H4XoU3j/hehSuR+HiPzMzMzMzM+M/KVyPwvUo5D+F61G4HoXjP2ZmZmZmZuY/uB6F61G43j9mZmZmZmbmP2ZmZmZmZuY/MzMzMzMz4z9mZmZmZmbmPzMzMzMzM+M/mpmZmZmZ6T8zMzMzMzPjPzMzMzMzM+M/MzMzMzMz4z9mZmZmZmbmPwAAAAAAAOA/AAAAAAAA4D8AAAAAAADgPzMzMzMzM+M/H4XrUbge1T9I4XoUrkfRP3sUrkfhetQ/SOF6FK5H4T89CtejcD3aP4/C9Shcj9I/H4XrUbge1T/Xo3A9CtfTP6RwPQrXo9A/4XoUrkfhyj9SuB6F61HIP3sUrkfhesQ/\",\"dtype\":\"float64\",\"shape\":[90]}},\"selected\":{\"id\":\"36ea7ea5-c7a6-444a-86d4-30eaa86dec33\",\"type\":\"Selection\"},\"selection_policy\":{\"id\":\"0611c75b-1a24-4c13-8909-cea65a50c119\",\"type\":\"UnionRenderers\"}},\"id\":\"fe561bbb-2ac3-4172-9250-8f9ee2d32d74\",\"type\":\"ColumnDataSource\"},{\"attributes\":{\"bottom_units\":\"screen\",\"fill_alpha\":{\"value\":0.5},\"fill_color\":{\"value\":\"lightgrey\"},\"left_units\":\"screen\",\"level\":\"overlay\",\"line_alpha\":{\"value\":1.0},\"line_color\":{\"value\":\"black\"},\"line_dash\":[4,4],\"line_width\":{\"value\":2},\"plot\":null,\"render_mode\":\"css\",\"right_units\":\"screen\",\"top_units\":\"screen\"},\"id\":\"c63cc8d7-bd13-460f-8f34-cb54d7bc7000\",\"type\":\"BoxAnnotation\"},{\"attributes\":{},\"id\":\"af87af4b-b869-466e-8956-49f9110b3986\",\"type\":\"PanTool\"},{\"attributes\":{\"data_source\":{\"id\":\"fe561bbb-2ac3-4172-9250-8f9ee2d32d74\",\"type\":\"ColumnDataSource\"},\"glyph\":{\"id\":\"a7cd8b93-d6e1-4c87-9e4e-0f35704d6a45\",\"type\":\"Line\"},\"hover_glyph\":null,\"muted_glyph\":null,\"nonselection_glyph\":{\"id\":\"2f2a07fe-edcc-4401-b734-827215c7fa4c\",\"type\":\"Line\"},\"selection_glyph\":null,\"view\":{\"id\":\"9cbcc75f-180c-4fa7-abfd-0bb35ada0e1c\",\"type\":\"CDSView\"}},\"id\":\"9ad509db-9193-4ce2-b270-6f8d381c5cc3\",\"type\":\"GlyphRenderer\"},{\"attributes\":{},\"id\":\"fd383853-a825-47d3-966d-c85b0d2632c0\",\"type\":\"WheelZoomTool\"},{\"attributes\":{\"overlay\":{\"id\":\"c63cc8d7-bd13-460f-8f34-cb54d7bc7000\",\"type\":\"BoxAnnotation\"}},\"id\":\"763da1f9-1b6a-4eeb-a65a-fae60f9c7ee6\",\"type\":\"BoxZoomTool\"},{\"attributes\":{},\"id\":\"3187a997-d1f7-4dbd-b97c-33abeea64bd8\",\"type\":\"SaveTool\"},{\"attributes\":{},\"id\":\"a61eec9c-4102-4174-972e-18b0c5445eea\",\"type\":\"ResetTool\"},{\"attributes\":{},\"id\":\"44445288-6122-4513-b52b-204fad5a8050\",\"type\":\"HelpTool\"},{\"attributes\":{\"active_drag\":\"auto\",\"active_inspect\":\"auto\",\"active_scroll\":\"auto\",\"active_tap\":\"auto\",\"tools\":[{\"id\":\"af87af4b-b869-466e-8956-49f9110b3986\",\"type\":\"PanTool\"},{\"id\":\"fd383853-a825-47d3-966d-c85b0d2632c0\",\"type\":\"WheelZoomTool\"},{\"id\":\"763da1f9-1b6a-4eeb-a65a-fae60f9c7ee6\",\"type\":\"BoxZoomTool\"},{\"id\":\"3187a997-d1f7-4dbd-b97c-33abeea64bd8\",\"type\":\"SaveTool\"},{\"id\":\"a61eec9c-4102-4174-972e-18b0c5445eea\",\"type\":\"ResetTool\"},{\"id\":\"44445288-6122-4513-b52b-204fad5a8050\",\"type\":\"HelpTool\"}]},\"id\":\"a5453d54-25d2-43f4-b7fa-ee887a992d59\",\"type\":\"Toolbar\"},{\"attributes\":{},\"id\":\"96ee3f58-fce9-4ae6-a36a-0962b4ac4999\",\"type\":\"BasicTickFormatter\"},{\"attributes\":{\"callback\":null},\"id\":\"a77b0971-927f-4609-9825-a8b6d1c4ed6a\",\"type\":\"DataRange1d\"},{\"attributes\":{\"source\":{\"id\":\"fe561bbb-2ac3-4172-9250-8f9ee2d32d74\",\"type\":\"ColumnDataSource\"}},\"id\":\"9cbcc75f-180c-4fa7-abfd-0bb35ada0e1c\",\"type\":\"CDSView\"},{\"attributes\":{},\"id\":\"02b3b1d5-9ec3-41ac-82a1-b88c33e78b79\",\"type\":\"BasicTickFormatter\"},{\"attributes\":{},\"id\":\"b91a4c57-dc89-4806-a16f-6bb489a2f549\",\"type\":\"Selection\"},{\"attributes\":{\"label\":{\"value\":\"Homicide\"},\"renderers\":[{\"id\":\"9ad509db-9193-4ce2-b270-6f8d381c5cc3\",\"type\":\"GlyphRenderer\"}]},\"id\":\"d17ec22f-941e-4cb6-b56b-8a5f47c4a022\",\"type\":\"LegendItem\"},{\"attributes\":{},\"id\":\"d1cb7522-4097-4d5e-8411-50a5b23eba5d\",\"type\":\"UnionRenderers\"},{\"attributes\":{\"line_color\":\"purple\",\"x\":{\"field\":\"x\"},\"y\":{\"field\":\"y\"}},\"id\":\"93155647-3113-4b35-9106-6c90e145cac8\",\"type\":\"Line\"},{\"attributes\":{\"callback\":null},\"id\":\"9deebf6e-9d46-4a5e-bf93-5f4f640242c8\",\"type\":\"DataRange1d\"},{\"attributes\":{\"items\":[{\"id\":\"d17ec22f-941e-4cb6-b56b-8a5f47c4a022\",\"type\":\"LegendItem\"},{\"id\":\"2a7f5e76-e9fb-4357-83a1-90d733086086\",\"type\":\"LegendItem\"}],\"plot\":{\"id\":\"3a98bfc6-467e-4296-b721-e20eba9fe11f\",\"subtype\":\"Figure\",\"type\":\"Plot\"}},\"id\":\"765a048a-236d-4cc9-bf56-a2c015e38778\",\"type\":\"Legend\"},{\"attributes\":{},\"id\":\"5b32f226-3568-4686-8e23-4ba8f943cb38\",\"type\":\"LinearScale\"},{\"attributes\":{\"source\":{\"id\":\"94f526c8-49db-4faf-8035-c79b6f0d4563\",\"type\":\"ColumnDataSource\"}},\"id\":\"fcce8f2b-9cd1-4d5d-9ea8-bbd922d856f6\",\"type\":\"CDSView\"},{\"attributes\":{\"line_alpha\":0.1,\"line_color\":\"#1f77b4\",\"x\":{\"field\":\"x\"},\"y\":{\"field\":\"y\"}},\"id\":\"5597a025-894a-47c7-b2f0-b3ebdd5ee200\",\"type\":\"Line\"},{\"attributes\":{\"data_source\":{\"id\":\"94f526c8-49db-4faf-8035-c79b6f0d4563\",\"type\":\"ColumnDataSource\"},\"glyph\":{\"id\":\"93155647-3113-4b35-9106-6c90e145cac8\",\"type\":\"Line\"},\"hover_glyph\":null,\"muted_glyph\":null,\"nonselection_glyph\":{\"id\":\"5597a025-894a-47c7-b2f0-b3ebdd5ee200\",\"type\":\"Line\"},\"selection_glyph\":null,\"view\":{\"id\":\"fcce8f2b-9cd1-4d5d-9ea8-bbd922d856f6\",\"type\":\"CDSView\"}},\"id\":\"9a49c354-5087-4abd-99f8-aba96ac6c739\",\"type\":\"GlyphRenderer\"},{\"attributes\":{},\"id\":\"36ea7ea5-c7a6-444a-86d4-30eaa86dec33\",\"type\":\"Selection\"},{\"attributes\":{},\"id\":\"0611c75b-1a24-4c13-8909-cea65a50c119\",\"type\":\"UnionRenderers\"},{\"attributes\":{\"plot\":null,\"text\":\"Homicide and suicide rate, 1915-2004\"},\"id\":\"5921a6fe-691a-4e40-895b-4f1e18c30a2f\",\"type\":\"Title\"},{\"attributes\":{\"label\":{\"value\":\"Suicide\"},\"renderers\":[{\"id\":\"9a49c354-5087-4abd-99f8-aba96ac6c739\",\"type\":\"GlyphRenderer\"}]},\"id\":\"2a7f5e76-e9fb-4357-83a1-90d733086086\",\"type\":\"LegendItem\"}],\"root_ids\":[\"3a98bfc6-467e-4296-b721-e20eba9fe11f\"]},\"title\":\"Bokeh Application\",\"version\":\"0.12.16\"}};\n",
       "  var render_items = [{\"docid\":\"7cb00a65-af43-44b2-b151-ac81f240390a\",\"elementid\":\"d9fe6609-c15d-4773-8ba4-a001b09b9b9f\",\"modelid\":\"3a98bfc6-467e-4296-b721-e20eba9fe11f\"}];\n",
       "  root.Bokeh.embed.embed_items_notebook(docs_json, render_items);\n",
       "\n",
       "  }\n",
       "  if (root.Bokeh !== undefined) {\n",
       "    embed_document(root);\n",
       "  } else {\n",
       "    var attempts = 0;\n",
       "    var timer = setInterval(function(root) {\n",
       "      if (root.Bokeh !== undefined) {\n",
       "        embed_document(root);\n",
       "        clearInterval(timer);\n",
       "      }\n",
       "      attempts++;\n",
       "      if (attempts > 100) {\n",
       "        console.log(\"Bokeh: ERROR: Unable to run BokehJS code because BokehJS library is missing\")\n",
       "        clearInterval(timer);\n",
       "      }\n",
       "    }, 10, root)\n",
       "  }\n",
       "})(window);"
      ],
      "application/vnd.bokehjs_exec.v0+json": ""
     },
     "metadata": {
      "application/vnd.bokehjs_exec.v0+json": {
       "id": "3a98bfc6-467e-4296-b721-e20eba9fe11f"
      }
     },
     "output_type": "display_data"
    }
   ],
   "source": [
    "import pandas as pd\n",
    "death_data = pd.read_csv('../data/deaths_homicide_suicide.csv')\n",
    "\n",
    "death_plot = figure(title=\"Homicide and suicide rate, 1915-2004\",plot_height=300, plot_width=900)\n",
    "death_plot.line(death_data['Year'],death_data['Homicide'],line_color='orange',legend='Homicide')\n",
    "death_plot.line(death_data['Year'],death_data['Suicide'],line_color='purple',legend='Suicide')\n",
    "show(death_plot)"
   ]
  },
  {
   "cell_type": "markdown",
   "metadata": {},
   "source": [
    "## Customising axes\n",
    "\n",
    "In the previous examples we have been customising a plot using keyword arguments, i.e. upon creation. You can actually further modify a figure using additional functions. Here I am listing the more common ones. You can see the list for available functions [here](https://bokeh.pydata.org/en/latest/docs/reference/models/axes.html).\n",
    "\n",
    "Sometimes it requires you to access bokeh.models library."
   ]
  },
  {
   "cell_type": "code",
   "execution_count": 114,
   "metadata": {},
   "outputs": [
    {
     "data": {
      "text/html": [
       "\n",
       "<div class=\"bk-root\">\n",
       "    <div class=\"bk-plotdiv\" id=\"2c54be8e-fdd9-4b51-9dcd-0e1bbc441d62\"></div>\n",
       "</div>"
      ]
     },
     "metadata": {},
     "output_type": "display_data"
    },
    {
     "data": {
      "application/javascript": [
       "(function(root) {\n",
       "  function embed_document(root) {\n",
       "    \n",
       "  var docs_json = {\"776bcf36-7bcd-49fb-a617-abbacbf0e107\":{\"roots\":{\"references\":[{\"attributes\":{\"plot\":null,\"text\":\"Square plot\"},\"id\":\"e86c11cc-425d-4c79-9115-af75f6bb9079\",\"type\":\"Title\"},{\"attributes\":{},\"id\":\"02418490-7942-4c02-a4ee-681c251c31e2\",\"type\":\"PanTool\"},{\"attributes\":{\"formatter\":{\"id\":\"01545627-9b45-4ccb-9558-e593d0800da8\",\"type\":\"BasicTickFormatter\"},\"plot\":{\"id\":\"504dbe2a-b038-4bc9-859a-ef38f03d4006\",\"subtype\":\"Figure\",\"type\":\"Plot\"},\"ticker\":{\"id\":\"ee2f4f21-8935-4561-9708-e473c0669a33\",\"type\":\"BasicTicker\"}},\"id\":\"7d289594-59fb-4f0c-bf44-301c7d1369e9\",\"type\":\"LinearAxis\"},{\"attributes\":{},\"id\":\"74c62401-0249-49d4-991f-415027474221\",\"type\":\"Selection\"},{\"attributes\":{\"data_source\":{\"id\":\"293cb409-1c58-42ef-bd19-7b6865742e4c\",\"type\":\"ColumnDataSource\"},\"glyph\":{\"id\":\"29ae719d-3980-44be-b4a0-c0455ebd08c7\",\"type\":\"Square\"},\"hover_glyph\":null,\"muted_glyph\":null,\"nonselection_glyph\":{\"id\":\"adf8cca3-090f-47e5-9bbd-2f8c3ff09a3d\",\"type\":\"Square\"},\"selection_glyph\":null,\"view\":{\"id\":\"03faf208-adf1-4f4a-9832-780221588ad3\",\"type\":\"CDSView\"}},\"id\":\"d1d17291-0e74-4dbb-9cd6-dfb0d9823f9f\",\"type\":\"GlyphRenderer\"},{\"attributes\":{\"overlay\":{\"id\":\"4ee5fec7-785e-4421-9354-b01c90a701e9\",\"type\":\"BoxAnnotation\"}},\"id\":\"343ded0e-906b-4b28-9a2a-50dd2109a10a\",\"type\":\"BoxZoomTool\"},{\"attributes\":{\"dimension\":1,\"plot\":{\"id\":\"504dbe2a-b038-4bc9-859a-ef38f03d4006\",\"subtype\":\"Figure\",\"type\":\"Plot\"},\"ticker\":{\"id\":\"ee2f4f21-8935-4561-9708-e473c0669a33\",\"type\":\"BasicTicker\"}},\"id\":\"f1c72013-a4b7-4524-bbc4-67ee6b9e5d03\",\"type\":\"Grid\"},{\"attributes\":{},\"id\":\"7a598447-04b5-4f71-835a-22e86f489c47\",\"type\":\"BasicTicker\"},{\"attributes\":{\"bottom_units\":\"screen\",\"fill_alpha\":{\"value\":0.5},\"fill_color\":{\"value\":\"lightgrey\"},\"left_units\":\"screen\",\"level\":\"overlay\",\"line_alpha\":{\"value\":1.0},\"line_color\":{\"value\":\"black\"},\"line_dash\":[4,4],\"line_width\":{\"value\":2},\"plot\":null,\"render_mode\":\"css\",\"right_units\":\"screen\",\"top_units\":\"screen\"},\"id\":\"4ee5fec7-785e-4421-9354-b01c90a701e9\",\"type\":\"BoxAnnotation\"},{\"attributes\":{},\"id\":\"55623ceb-ff08-4de4-9a01-3fbc3c209e92\",\"type\":\"LinearScale\"},{\"attributes\":{\"callback\":null,\"end\":20},\"id\":\"c1220edc-4377-4a09-9f22-3ac54c8f7f32\",\"type\":\"Range1d\"},{\"attributes\":{},\"id\":\"f8febc21-68ea-4831-a178-073a6fdb3db3\",\"type\":\"BasicTickFormatter\"},{\"attributes\":{\"callback\":null,\"end\":12},\"id\":\"98379e79-d01a-4272-babf-8917f27e0c05\",\"type\":\"Range1d\"},{\"attributes\":{},\"id\":\"b6120373-33a6-4cd3-9fde-6e0b1d69d78c\",\"type\":\"SaveTool\"},{\"attributes\":{},\"id\":\"60069d7c-1cea-40b3-a382-8e6af4ea69aa\",\"type\":\"UnionRenderers\"},{\"attributes\":{},\"id\":\"29323424-1a15-4538-b666-1e40c5ea67aa\",\"type\":\"LinearScale\"},{\"attributes\":{\"plot\":{\"id\":\"504dbe2a-b038-4bc9-859a-ef38f03d4006\",\"subtype\":\"Figure\",\"type\":\"Plot\"},\"ticker\":{\"id\":\"7a598447-04b5-4f71-835a-22e86f489c47\",\"type\":\"BasicTicker\"}},\"id\":\"1b857589-2c00-4d0a-a827-5cff0dcee2a4\",\"type\":\"Grid\"},{\"attributes\":{\"fill_alpha\":{\"value\":0.3},\"fill_color\":{\"value\":\"orange\"},\"line_color\":{\"value\":\"orange\"},\"size\":{\"field\":\"size\",\"units\":\"screen\"},\"x\":{\"field\":\"x\"},\"y\":{\"field\":\"y\"}},\"id\":\"29ae719d-3980-44be-b4a0-c0455ebd08c7\",\"type\":\"Square\"},{\"attributes\":{\"source\":{\"id\":\"293cb409-1c58-42ef-bd19-7b6865742e4c\",\"type\":\"ColumnDataSource\"}},\"id\":\"03faf208-adf1-4f4a-9832-780221588ad3\",\"type\":\"CDSView\"},{\"attributes\":{},\"id\":\"31e871c6-f465-4df9-922b-f68491bf5f74\",\"type\":\"ResetTool\"},{\"attributes\":{},\"id\":\"ee2f4f21-8935-4561-9708-e473c0669a33\",\"type\":\"BasicTicker\"},{\"attributes\":{\"formatter\":{\"id\":\"f8febc21-68ea-4831-a178-073a6fdb3db3\",\"type\":\"BasicTickFormatter\"},\"plot\":{\"id\":\"504dbe2a-b038-4bc9-859a-ef38f03d4006\",\"subtype\":\"Figure\",\"type\":\"Plot\"},\"ticker\":{\"id\":\"7a598447-04b5-4f71-835a-22e86f489c47\",\"type\":\"BasicTicker\"}},\"id\":\"19bfcd00-8731-4d70-b165-c395e91804e7\",\"type\":\"LinearAxis\"},{\"attributes\":{},\"id\":\"5236b480-a269-4282-9366-d5fbac1af532\",\"type\":\"HelpTool\"},{\"attributes\":{\"fill_alpha\":{\"value\":0.1},\"fill_color\":{\"value\":\"#1f77b4\"},\"line_alpha\":{\"value\":0.1},\"line_color\":{\"value\":\"#1f77b4\"},\"size\":{\"field\":\"size\",\"units\":\"screen\"},\"x\":{\"field\":\"x\"},\"y\":{\"field\":\"y\"}},\"id\":\"adf8cca3-090f-47e5-9bbd-2f8c3ff09a3d\",\"type\":\"Square\"},{\"attributes\":{\"callback\":null,\"data\":{\"size\":[0,6,12,18,24,30,36,42,48,54],\"x\":[0,1,2,3,4,5,6,7,8,9],\"y\":{\"__ndarray__\":\"nTbx8qJgLUDxYWvhhDYyQA6YQusHVi5A7FVrcHXY6z+MumgAgrkbQPJcvJtNGyFA+9Np1eqDIEBT0RSVDhMFQLr2M9vB4RFAgqibfmNeMkA=\",\"dtype\":\"float64\",\"shape\":[10]}},\"selected\":{\"id\":\"74c62401-0249-49d4-991f-415027474221\",\"type\":\"Selection\"},\"selection_policy\":{\"id\":\"60069d7c-1cea-40b3-a382-8e6af4ea69aa\",\"type\":\"UnionRenderers\"}},\"id\":\"293cb409-1c58-42ef-bd19-7b6865742e4c\",\"type\":\"ColumnDataSource\"},{\"attributes\":{},\"id\":\"8d50dbad-71bf-4b64-96da-63a67b34de47\",\"type\":\"WheelZoomTool\"},{\"attributes\":{\"below\":[{\"id\":\"19bfcd00-8731-4d70-b165-c395e91804e7\",\"type\":\"LinearAxis\"}],\"left\":[{\"id\":\"7d289594-59fb-4f0c-bf44-301c7d1369e9\",\"type\":\"LinearAxis\"}],\"plot_height\":300,\"plot_width\":500,\"renderers\":[{\"id\":\"19bfcd00-8731-4d70-b165-c395e91804e7\",\"type\":\"LinearAxis\"},{\"id\":\"1b857589-2c00-4d0a-a827-5cff0dcee2a4\",\"type\":\"Grid\"},{\"id\":\"7d289594-59fb-4f0c-bf44-301c7d1369e9\",\"type\":\"LinearAxis\"},{\"id\":\"f1c72013-a4b7-4524-bbc4-67ee6b9e5d03\",\"type\":\"Grid\"},{\"id\":\"4ee5fec7-785e-4421-9354-b01c90a701e9\",\"type\":\"BoxAnnotation\"},{\"id\":\"d1d17291-0e74-4dbb-9cd6-dfb0d9823f9f\",\"type\":\"GlyphRenderer\"}],\"title\":{\"id\":\"e86c11cc-425d-4c79-9115-af75f6bb9079\",\"type\":\"Title\"},\"toolbar\":{\"id\":\"a79218aa-ba85-408b-9717-da6ee710d27f\",\"type\":\"Toolbar\"},\"x_range\":{\"id\":\"98379e79-d01a-4272-babf-8917f27e0c05\",\"type\":\"Range1d\"},\"x_scale\":{\"id\":\"55623ceb-ff08-4de4-9a01-3fbc3c209e92\",\"type\":\"LinearScale\"},\"y_range\":{\"id\":\"c1220edc-4377-4a09-9f22-3ac54c8f7f32\",\"type\":\"Range1d\"},\"y_scale\":{\"id\":\"29323424-1a15-4538-b666-1e40c5ea67aa\",\"type\":\"LinearScale\"}},\"id\":\"504dbe2a-b038-4bc9-859a-ef38f03d4006\",\"subtype\":\"Figure\",\"type\":\"Plot\"},{\"attributes\":{},\"id\":\"01545627-9b45-4ccb-9558-e593d0800da8\",\"type\":\"BasicTickFormatter\"},{\"attributes\":{\"active_drag\":\"auto\",\"active_inspect\":\"auto\",\"active_scroll\":\"auto\",\"active_tap\":\"auto\",\"tools\":[{\"id\":\"02418490-7942-4c02-a4ee-681c251c31e2\",\"type\":\"PanTool\"},{\"id\":\"8d50dbad-71bf-4b64-96da-63a67b34de47\",\"type\":\"WheelZoomTool\"},{\"id\":\"343ded0e-906b-4b28-9a2a-50dd2109a10a\",\"type\":\"BoxZoomTool\"},{\"id\":\"b6120373-33a6-4cd3-9fde-6e0b1d69d78c\",\"type\":\"SaveTool\"},{\"id\":\"31e871c6-f465-4df9-922b-f68491bf5f74\",\"type\":\"ResetTool\"},{\"id\":\"5236b480-a269-4282-9366-d5fbac1af532\",\"type\":\"HelpTool\"}]},\"id\":\"a79218aa-ba85-408b-9717-da6ee710d27f\",\"type\":\"Toolbar\"}],\"root_ids\":[\"504dbe2a-b038-4bc9-859a-ef38f03d4006\"]},\"title\":\"Bokeh Application\",\"version\":\"0.12.16\"}};\n",
       "  var render_items = [{\"docid\":\"776bcf36-7bcd-49fb-a617-abbacbf0e107\",\"elementid\":\"2c54be8e-fdd9-4b51-9dcd-0e1bbc441d62\",\"modelid\":\"504dbe2a-b038-4bc9-859a-ef38f03d4006\"}];\n",
       "  root.Bokeh.embed.embed_items_notebook(docs_json, render_items);\n",
       "\n",
       "  }\n",
       "  if (root.Bokeh !== undefined) {\n",
       "    embed_document(root);\n",
       "  } else {\n",
       "    var attempts = 0;\n",
       "    var timer = setInterval(function(root) {\n",
       "      if (root.Bokeh !== undefined) {\n",
       "        embed_document(root);\n",
       "        clearInterval(timer);\n",
       "      }\n",
       "      attempts++;\n",
       "      if (attempts > 100) {\n",
       "        console.log(\"Bokeh: ERROR: Unable to run BokehJS code because BokehJS library is missing\")\n",
       "        clearInterval(timer);\n",
       "      }\n",
       "    }, 10, root)\n",
       "  }\n",
       "})(window);"
      ],
      "application/vnd.bokehjs_exec.v0+json": ""
     },
     "metadata": {
      "application/vnd.bokehjs_exec.v0+json": {
       "id": "504dbe2a-b038-4bc9-859a-ef38f03d4006"
      }
     },
     "output_type": "display_data"
    }
   ],
   "source": [
    "square_x = np.arange(10)\n",
    "square_y = np.random.rand(10)*20\n",
    "square_plot = figure(title='Square plot',plot_height=300, plot_width=500, x_range=(0,12), y_range=(0,20))\n",
    "square_plot.square(square_x,square_y,size=6*square_x,fill_color='orange',fill_alpha=0.3,line_color='orange')\n",
    "show(square_plot)"
   ]
  },
  {
   "cell_type": "code",
   "execution_count": 116,
   "metadata": {},
   "outputs": [
    {
     "data": {
      "text/html": [
       "\n",
       "<div class=\"bk-root\">\n",
       "    <div class=\"bk-plotdiv\" id=\"b3724154-a03c-4403-a255-e0c52513b24d\"></div>\n",
       "</div>"
      ]
     },
     "metadata": {},
     "output_type": "display_data"
    },
    {
     "data": {
      "application/javascript": [
       "(function(root) {\n",
       "  function embed_document(root) {\n",
       "    \n",
       "  var docs_json = {\"8e12750b-0edf-4d8b-abfe-b28fc9018977\":{\"roots\":{\"references\":[{\"attributes\":{\"plot\":null,\"text\":\"Square plot\"},\"id\":\"e86c11cc-425d-4c79-9115-af75f6bb9079\",\"type\":\"Title\"},{\"attributes\":{},\"id\":\"02418490-7942-4c02-a4ee-681c251c31e2\",\"type\":\"PanTool\"},{\"attributes\":{\"axis_label\":\"Left Text\",\"axis_label_text_color\":{\"value\":\"black\"},\"formatter\":{\"id\":\"01545627-9b45-4ccb-9558-e593d0800da8\",\"type\":\"BasicTickFormatter\"},\"major_label_text_color\":{\"value\":\"red\"},\"plot\":{\"id\":\"504dbe2a-b038-4bc9-859a-ef38f03d4006\",\"subtype\":\"Figure\",\"type\":\"Plot\"},\"ticker\":{\"id\":\"ee2f4f21-8935-4561-9708-e473c0669a33\",\"type\":\"BasicTicker\"}},\"id\":\"7d289594-59fb-4f0c-bf44-301c7d1369e9\",\"type\":\"LinearAxis\"},{\"attributes\":{\"callback\":null,\"end\":80},\"id\":\"abebb7b3-8830-4031-8c15-02bcf9f14593\",\"type\":\"Range1d\"},{\"attributes\":{},\"id\":\"74c62401-0249-49d4-991f-415027474221\",\"type\":\"Selection\"},{\"attributes\":{\"data_source\":{\"id\":\"293cb409-1c58-42ef-bd19-7b6865742e4c\",\"type\":\"ColumnDataSource\"},\"glyph\":{\"id\":\"29ae719d-3980-44be-b4a0-c0455ebd08c7\",\"type\":\"Square\"},\"hover_glyph\":null,\"muted_glyph\":null,\"nonselection_glyph\":{\"id\":\"adf8cca3-090f-47e5-9bbd-2f8c3ff09a3d\",\"type\":\"Square\"},\"selection_glyph\":null,\"view\":{\"id\":\"03faf208-adf1-4f4a-9832-780221588ad3\",\"type\":\"CDSView\"}},\"id\":\"d1d17291-0e74-4dbb-9cd6-dfb0d9823f9f\",\"type\":\"GlyphRenderer\"},{\"attributes\":{\"overlay\":{\"id\":\"4ee5fec7-785e-4421-9354-b01c90a701e9\",\"type\":\"BoxAnnotation\"}},\"id\":\"343ded0e-906b-4b28-9a2a-50dd2109a10a\",\"type\":\"BoxZoomTool\"},{\"attributes\":{\"dimension\":1,\"plot\":{\"id\":\"504dbe2a-b038-4bc9-859a-ef38f03d4006\",\"subtype\":\"Figure\",\"type\":\"Plot\"},\"ticker\":{\"id\":\"ee2f4f21-8935-4561-9708-e473c0669a33\",\"type\":\"BasicTicker\"}},\"id\":\"f1c72013-a4b7-4524-bbc4-67ee6b9e5d03\",\"type\":\"Grid\"},{\"attributes\":{},\"id\":\"7a598447-04b5-4f71-835a-22e86f489c47\",\"type\":\"BasicTicker\"},{\"attributes\":{\"bottom_units\":\"screen\",\"fill_alpha\":{\"value\":0.5},\"fill_color\":{\"value\":\"lightgrey\"},\"left_units\":\"screen\",\"level\":\"overlay\",\"line_alpha\":{\"value\":1.0},\"line_color\":{\"value\":\"black\"},\"line_dash\":[4,4],\"line_width\":{\"value\":2},\"plot\":null,\"render_mode\":\"css\",\"right_units\":\"screen\",\"top_units\":\"screen\"},\"id\":\"4ee5fec7-785e-4421-9354-b01c90a701e9\",\"type\":\"BoxAnnotation\"},{\"attributes\":{},\"id\":\"55623ceb-ff08-4de4-9a01-3fbc3c209e92\",\"type\":\"LinearScale\"},{\"attributes\":{},\"id\":\"f8febc21-68ea-4831-a178-073a6fdb3db3\",\"type\":\"BasicTickFormatter\"},{\"attributes\":{},\"id\":\"60069d7c-1cea-40b3-a382-8e6af4ea69aa\",\"type\":\"UnionRenderers\"},{\"attributes\":{},\"id\":\"b6120373-33a6-4cd3-9fde-6e0b1d69d78c\",\"type\":\"SaveTool\"},{\"attributes\":{},\"id\":\"29323424-1a15-4538-b666-1e40c5ea67aa\",\"type\":\"LinearScale\"},{\"attributes\":{\"plot\":{\"id\":\"504dbe2a-b038-4bc9-859a-ef38f03d4006\",\"subtype\":\"Figure\",\"type\":\"Plot\"},\"ticker\":{\"id\":\"7a598447-04b5-4f71-835a-22e86f489c47\",\"type\":\"BasicTicker\"}},\"id\":\"1b857589-2c00-4d0a-a827-5cff0dcee2a4\",\"type\":\"Grid\"},{\"attributes\":{\"fill_alpha\":{\"value\":0.3},\"fill_color\":{\"value\":\"orange\"},\"line_color\":{\"value\":\"orange\"},\"size\":{\"field\":\"size\",\"units\":\"screen\"},\"x\":{\"field\":\"x\"},\"y\":{\"field\":\"y\"}},\"id\":\"29ae719d-3980-44be-b4a0-c0455ebd08c7\",\"type\":\"Square\"},{\"attributes\":{\"source\":{\"id\":\"293cb409-1c58-42ef-bd19-7b6865742e4c\",\"type\":\"ColumnDataSource\"}},\"id\":\"03faf208-adf1-4f4a-9832-780221588ad3\",\"type\":\"CDSView\"},{\"attributes\":{},\"id\":\"31e871c6-f465-4df9-922b-f68491bf5f74\",\"type\":\"ResetTool\"},{\"attributes\":{},\"id\":\"ee2f4f21-8935-4561-9708-e473c0669a33\",\"type\":\"BasicTicker\"},{\"attributes\":{\"axis_label\":\"Bottom Text\",\"axis_label_text_color\":{\"value\":\"black\"},\"formatter\":{\"id\":\"f8febc21-68ea-4831-a178-073a6fdb3db3\",\"type\":\"BasicTickFormatter\"},\"plot\":{\"id\":\"504dbe2a-b038-4bc9-859a-ef38f03d4006\",\"subtype\":\"Figure\",\"type\":\"Plot\"},\"ticker\":{\"id\":\"7a598447-04b5-4f71-835a-22e86f489c47\",\"type\":\"BasicTicker\"}},\"id\":\"19bfcd00-8731-4d70-b165-c395e91804e7\",\"type\":\"LinearAxis\"},{\"attributes\":{},\"id\":\"5236b480-a269-4282-9366-d5fbac1af532\",\"type\":\"HelpTool\"},{\"attributes\":{\"callback\":null,\"end\":40},\"id\":\"bcb39a98-acd1-4010-a9f1-62a0bd198dc1\",\"type\":\"Range1d\"},{\"attributes\":{\"fill_alpha\":{\"value\":0.1},\"fill_color\":{\"value\":\"#1f77b4\"},\"line_alpha\":{\"value\":0.1},\"line_color\":{\"value\":\"#1f77b4\"},\"size\":{\"field\":\"size\",\"units\":\"screen\"},\"x\":{\"field\":\"x\"},\"y\":{\"field\":\"y\"}},\"id\":\"adf8cca3-090f-47e5-9bbd-2f8c3ff09a3d\",\"type\":\"Square\"},{\"attributes\":{},\"id\":\"8d50dbad-71bf-4b64-96da-63a67b34de47\",\"type\":\"WheelZoomTool\"},{\"attributes\":{\"callback\":null,\"data\":{\"size\":[0,6,12,18,24,30,36,42,48,54],\"x\":[0,1,2,3,4,5,6,7,8,9],\"y\":{\"__ndarray__\":\"nTbx8qJgLUDxYWvhhDYyQA6YQusHVi5A7FVrcHXY6z+MumgAgrkbQPJcvJtNGyFA+9Np1eqDIEBT0RSVDhMFQLr2M9vB4RFAgqibfmNeMkA=\",\"dtype\":\"float64\",\"shape\":[10]}},\"selected\":{\"id\":\"74c62401-0249-49d4-991f-415027474221\",\"type\":\"Selection\"},\"selection_policy\":{\"id\":\"60069d7c-1cea-40b3-a382-8e6af4ea69aa\",\"type\":\"UnionRenderers\"}},\"id\":\"293cb409-1c58-42ef-bd19-7b6865742e4c\",\"type\":\"ColumnDataSource\"},{\"attributes\":{\"below\":[{\"id\":\"19bfcd00-8731-4d70-b165-c395e91804e7\",\"type\":\"LinearAxis\"}],\"left\":[{\"id\":\"7d289594-59fb-4f0c-bf44-301c7d1369e9\",\"type\":\"LinearAxis\"}],\"plot_height\":300,\"plot_width\":500,\"renderers\":[{\"id\":\"19bfcd00-8731-4d70-b165-c395e91804e7\",\"type\":\"LinearAxis\"},{\"id\":\"1b857589-2c00-4d0a-a827-5cff0dcee2a4\",\"type\":\"Grid\"},{\"id\":\"7d289594-59fb-4f0c-bf44-301c7d1369e9\",\"type\":\"LinearAxis\"},{\"id\":\"f1c72013-a4b7-4524-bbc4-67ee6b9e5d03\",\"type\":\"Grid\"},{\"id\":\"4ee5fec7-785e-4421-9354-b01c90a701e9\",\"type\":\"BoxAnnotation\"},{\"id\":\"d1d17291-0e74-4dbb-9cd6-dfb0d9823f9f\",\"type\":\"GlyphRenderer\"}],\"title\":{\"id\":\"e86c11cc-425d-4c79-9115-af75f6bb9079\",\"type\":\"Title\"},\"toolbar\":{\"id\":\"a79218aa-ba85-408b-9717-da6ee710d27f\",\"type\":\"Toolbar\"},\"x_range\":{\"id\":\"bcb39a98-acd1-4010-a9f1-62a0bd198dc1\",\"type\":\"Range1d\"},\"x_scale\":{\"id\":\"55623ceb-ff08-4de4-9a01-3fbc3c209e92\",\"type\":\"LinearScale\"},\"y_range\":{\"id\":\"abebb7b3-8830-4031-8c15-02bcf9f14593\",\"type\":\"Range1d\"},\"y_scale\":{\"id\":\"29323424-1a15-4538-b666-1e40c5ea67aa\",\"type\":\"LinearScale\"}},\"id\":\"504dbe2a-b038-4bc9-859a-ef38f03d4006\",\"subtype\":\"Figure\",\"type\":\"Plot\"},{\"attributes\":{},\"id\":\"01545627-9b45-4ccb-9558-e593d0800da8\",\"type\":\"BasicTickFormatter\"},{\"attributes\":{\"active_drag\":\"auto\",\"active_inspect\":\"auto\",\"active_scroll\":\"auto\",\"active_tap\":\"auto\",\"tools\":[{\"id\":\"02418490-7942-4c02-a4ee-681c251c31e2\",\"type\":\"PanTool\"},{\"id\":\"8d50dbad-71bf-4b64-96da-63a67b34de47\",\"type\":\"WheelZoomTool\"},{\"id\":\"343ded0e-906b-4b28-9a2a-50dd2109a10a\",\"type\":\"BoxZoomTool\"},{\"id\":\"b6120373-33a6-4cd3-9fde-6e0b1d69d78c\",\"type\":\"SaveTool\"},{\"id\":\"31e871c6-f465-4df9-922b-f68491bf5f74\",\"type\":\"ResetTool\"},{\"id\":\"5236b480-a269-4282-9366-d5fbac1af532\",\"type\":\"HelpTool\"}]},\"id\":\"a79218aa-ba85-408b-9717-da6ee710d27f\",\"type\":\"Toolbar\"}],\"root_ids\":[\"504dbe2a-b038-4bc9-859a-ef38f03d4006\"]},\"title\":\"Bokeh Application\",\"version\":\"0.12.16\"}};\n",
       "  var render_items = [{\"docid\":\"8e12750b-0edf-4d8b-abfe-b28fc9018977\",\"elementid\":\"b3724154-a03c-4403-a255-e0c52513b24d\",\"modelid\":\"504dbe2a-b038-4bc9-859a-ef38f03d4006\"}];\n",
       "  root.Bokeh.embed.embed_items_notebook(docs_json, render_items);\n",
       "\n",
       "  }\n",
       "  if (root.Bokeh !== undefined) {\n",
       "    embed_document(root);\n",
       "  } else {\n",
       "    var attempts = 0;\n",
       "    var timer = setInterval(function(root) {\n",
       "      if (root.Bokeh !== undefined) {\n",
       "        embed_document(root);\n",
       "        clearInterval(timer);\n",
       "      }\n",
       "      attempts++;\n",
       "      if (attempts > 100) {\n",
       "        console.log(\"Bokeh: ERROR: Unable to run BokehJS code because BokehJS library is missing\")\n",
       "        clearInterval(timer);\n",
       "      }\n",
       "    }, 10, root)\n",
       "  }\n",
       "})(window);"
      ],
      "application/vnd.bokehjs_exec.v0+json": ""
     },
     "metadata": {
      "application/vnd.bokehjs_exec.v0+json": {
       "id": "504dbe2a-b038-4bc9-859a-ef38f03d4006"
      }
     },
     "output_type": "display_data"
    }
   ],
   "source": [
    "square_plot.yaxis.axis_label = 'Left Text'\n",
    "square_plot.xaxis.axis_label = 'Bottom Text'\n",
    "\n",
    "from bokeh.models import Range1d\n",
    "square_plot.x_range=(Range1d(0,40))\n",
    "square_plot.y_range=(Range1d(0,80))\n",
    "\n",
    "square_plot.xaxis.axis_label_text_color = 'black'\n",
    "square_plot.yaxis.axis_label_text_color = 'black'\n",
    "\n",
    "square_plot.yaxis.major_label_text_color = 'red'\n",
    "\n",
    "square_plot.yaxis.minor_tick_in = 0\n",
    "\n",
    "\n",
    "show(square_plot)"
   ]
  },
  {
   "cell_type": "code",
   "execution_count": null,
   "metadata": {},
   "outputs": [],
   "source": []
  },
  {
   "cell_type": "code",
   "execution_count": null,
   "metadata": {},
   "outputs": [],
   "source": []
  }
 ],
 "metadata": {
  "kernelspec": {
   "display_name": "Python 3",
   "language": "python",
   "name": "python3"
  },
  "language_info": {
   "codemirror_mode": {
    "name": "ipython",
    "version": 3
   },
   "file_extension": ".py",
   "mimetype": "text/x-python",
   "name": "python",
   "nbconvert_exporter": "python",
   "pygments_lexer": "ipython3",
   "version": "3.6.5"
  }
 },
 "nbformat": 4,
 "nbformat_minor": 2
}
