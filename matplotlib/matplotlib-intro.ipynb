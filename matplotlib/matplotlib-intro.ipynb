{
 "cells": [
  {
   "cell_type": "markdown",
   "metadata": {},
   "source": [
    "# Matplotlib - Introduction\n",
    "\n",
    "## Contents\n",
    "\n",
    "* [Installation](#Installation)\n",
    "* [Basic plot](#Basic-plot)\n",
    "\n",
    "## Installation\n",
    "\n",
    "#### Prerequisites:\n",
    "\n",
    "* Anaconda Python 3.6 version (download from https://www.anaconda.com/download)\n",
    "* Jupyter Notebook (comes with Anaconda)\n",
    "* NumPy (also comes with Anaconda)\n",
    "\n",
    "I also assume that you can find your ways around Jupyter Notebook and also that you know some basic NumPy concepts. I have written a [short tutorial on NumPy](../numpy_tutorial/NumPy.ipynb).\n",
    "\n",
    "To check if matplotlib is already installed, run the following cell:"
   ]
  },
  {
   "cell_type": "code",
   "execution_count": 27,
   "metadata": {},
   "outputs": [
    {
     "name": "stdout",
     "output_type": "stream",
     "text": [
      "3.0.0\n"
     ]
    }
   ],
   "source": [
    "import matplotlib as mpl\n",
    "print(mpl.__version__)"
   ]
  },
  {
   "cell_type": "markdown",
   "metadata": {},
   "source": [
    "If the installation is missing, you need to run the following from the shell:\n",
    "```\n",
    "pip3 install matplotlib --upgrade\n",
    "```\n",
    "Matplotlib contains two main modules: pylab and pyplot. Pylab combines pyplot with numpy in the same namespace, which is more convenient, but its use has been discouraged. If you don't understand what a namespace is, you don't need to worry about it. For this course, we are going to import the pyplot and numpy modules separately, and this is the approach I recommend that you use when writing short python scripts to visualise your data.\n",
    "\n",
    "The imports you need are as follows:"
   ]
  },
  {
   "cell_type": "code",
   "execution_count": 28,
   "metadata": {},
   "outputs": [],
   "source": [
    "import matplotlib.pyplot as plt\n",
    "import numpy as np"
   ]
  },
  {
   "cell_type": "markdown",
   "metadata": {},
   "source": [
    "## Basic Plotting"
   ]
  },
  {
   "cell_type": "code",
   "execution_count": 24,
   "metadata": {},
   "outputs": [
    {
     "data": {
      "text/plain": [
       "[<matplotlib.lines.Line2D at 0x116d8b198>]"
      ]
     },
     "execution_count": 24,
     "metadata": {},
     "output_type": "execute_result"
    },
    {
     "data": {
      "image/png": "[encoded data removed]",
      "text/plain": [
       "<Figure size 432x288 with 1 Axes>"
      ]
     },
     "metadata": {
      "needs_background": "light"
     },
     "output_type": "display_data"
    }
   ],
   "source": [
    "plt.plot([2,4,6,8],[4,8,12,16])"
   ]
  },
  {
   "cell_type": "code",
   "execution_count": null,
   "metadata": {},
   "outputs": [],
   "source": []
  },
  {
   "cell_type": "code",
   "execution_count": null,
   "metadata": {},
   "outputs": [],
   "source": []
  }
 ],
 "metadata": {
  "kernelspec": {
   "display_name": "Python 3",
   "language": "python",
   "name": "python3"
  },
  "language_info": {
   "codemirror_mode": {
    "name": "ipython",
    "version": 3
   },
   "file_extension": ".py",
   "mimetype": "text/x-python",
   "name": "python",
   "nbconvert_exporter": "python",
   "pygments_lexer": "ipython3",
   "version": "3.6.3"
  }
 },
 "nbformat": 4,
 "nbformat_minor": 2
}
