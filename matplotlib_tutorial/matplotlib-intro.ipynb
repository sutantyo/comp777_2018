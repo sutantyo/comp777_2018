{
 "cells": [
  {
   "cell_type": "markdown",
   "metadata": {},
   "source": [
    "# Matplotlib - Introduction\n",
    "\n",
    "## Contents\n",
    "\n",
    "* [Installation](#Installation)\n",
    "* [Basic plot](#Basic-plot)\n",
    "\n",
    "## Installation\n",
    "\n",
    "### Prerequisites:\n",
    "\n",
    "* Anaconda Python 3.6 version (download from https://www.anaconda.com/download)\n",
    "* Jupyter Notebook (comes with Anaconda)\n",
    "* NumPy (also comes with Anaconda)\n",
    "\n",
    "I also assume that you can find your ways around Jupyter Notebook and also that you know some basic NumPy concepts. I have written a [short tutorial on NumPy](../numpy_tutorial/NumPy.ipynb).\n",
    "\n",
    "To check if matplotlib is already installed, run the following cell:"
   ]
  },
  {
   "cell_type": "code",
   "execution_count": null,
   "metadata": {},
   "outputs": [],
   "source": [
    "import matplotlib\n",
    "print(matplotlib.__version__)"
   ]
  },
  {
   "cell_type": "markdown",
   "metadata": {},
   "source": [
    "If the installation is missing, you need to run the following from the shell:\n",
    "```\n",
    "pip3 install matplotlib --upgrade\n",
    "```\n",
    "Matplotlib contains two main modules: pylab and pyplot. Pylab combines pyplot with numpy in the same namespace, which is more convenient, but its use has been discouraged. If you don't understand what a namespace is, you don't need to worry about it. For this course, we are going to import the pyplot and numpy modules separately, and this is the approach I recommend that you use when writing short python scripts to visualise your data.\n",
    "\n",
    "### Choosing a backend\n",
    "\n",
    "One complexity I would like to avoid is the choice of backends. Matplotlib can be used in many ways, e.g. you can write a python script that you run on the shell to generate a pdf, or you may only use matplotlib with Jupyter notebooks and draw inline plots. Depending on how it is used, users can choose a different backend to best suit the use case. You can read more about this [on the official documentation](https://matplotlib.org/tutorials/introductory/usage.html#backends).\n",
    "\n",
    "For this tutorial, we are going to use nbAgg backend, which is an interactive backend. An interactive backend allows you to interact with the resulting plot (zoom in and pan). It also means you can keep on modifying the image once it is drawn (it will be made clear later). Unfortunately I cannot seem to get the download button to work on Jupyter. To save the image, you will need to call \n",
    "```\n",
    "plot.savefig('filename.png')\n",
    "```\n",
    "\n",
    "### Interactive mode\n",
    "\n",
    "Finally, you need to turn on interactive mode for the frontend. By default it should already be turned on, but we will enable it anyway just in case it wasn't. In interactive mode as soon as you call `plt.plot()` to draw a diagram, the resulting image will be displayed right away. In non-interactive mode, you need to call `plt.show()` as well. If you want to know the use case for non-interactive mode, have a read [on what the interactive mode is](https://matplotlib.org/tutorials/introductory/usage.html#what-is-interactive-mode).\n",
    "\n",
    "Putting it all together, here are the cell you need to run (with the recommended settings) before you can start drawing things on Jupyter notebook:"
   ]
  },
  {
   "cell_type": "code",
   "execution_count": null,
   "metadata": {
    "scrolled": true
   },
   "outputs": [],
   "source": [
    "import matplotlib\n",
    "%matplotlib notebook\n",
    "matplotlib.interactive(True)\n",
    "matplotlib.is_interactive()\n",
    "import matplotlib.pyplot as plt\n",
    "import numpy as np\n",
    "\n",
    "print(\"Backend: \" + matplotlib.get_backend())\n",
    "print(\"Interactive: \" + str(matplotlib.is_interactive()))"
   ]
  },
  {
   "cell_type": "markdown",
   "metadata": {},
   "source": [
    "## Basic plot\n",
    "\n",
    "Let us now start a very simple plot. Here is a very simple plot mapping `x` to `2x`, with 5 data points:"
   ]
  },
  {
   "cell_type": "code",
   "execution_count": null,
   "metadata": {},
   "outputs": [],
   "source": [
    "plt.plot([0,2,4,6,8],[0,4,8,12,16], label='First Curve')"
   ]
  },
  {
   "cell_type": "markdown",
   "metadata": {},
   "source": [
    "Since we are in interactive mode, we can modify the above plot even after we have drawn it. Let us add a few more features. The commands should be self-explanatory, but in case something doesn't make sense, you can refer to [the pyplot documentation](https://matplotlib.org/api/pyplot_summary.html).\n",
    "In particular, the documentation for `xlabel()` and `ylabel()` is found [here](https://matplotlib.org/api/_as_gen/matplotlib.pyplot.xlabel.html). Note that it can accept further kwarg (keyword argument) specified as specified [here](https://matplotlib.org/api/text_api.html#matplotlib.text.Text).\n",
    "\n",
    "For the colors, I am using html color names (see https://htmlcolorcodes.com/color-names/)"
   ]
  },
  {
   "cell_type": "code",
   "execution_count": null,
   "metadata": {},
   "outputs": [],
   "source": [
    "plt.title(\"Our First Plot\",color='slategrey')\n",
    "\n",
    "plt.xlabel('x axis',fontsize=12,color='slategrey',fontfamily='sans-serif')\n",
    "plt.ylabel('2x',fontsize=12,color='slategrey')"
   ]
  },
  {
   "cell_type": "markdown",
   "metadata": {},
   "source": [
    "We can even add another plot. However, this is not advisable in Jupyter notebook, because if you re-run the cell, you will keep on adding another plot (I added `plt.legend()` so that you can see that the same lines are being added)."
   ]
  },
  {
   "cell_type": "code",
   "execution_count": null,
   "metadata": {},
   "outputs": [],
   "source": [
    "plt.plot([0,2,4,6,8],[0,2,11,3,5], label='Second Curve',color='orange')\n",
    "plt.legend()"
   ]
  },
  {
   "cell_type": "markdown",
   "metadata": {},
   "source": [
    "If you need to add more plots, I advise that you do this in just one cell. "
   ]
  },
  {
   "cell_type": "markdown",
   "metadata": {},
   "source": [
    "You can use the `figure()` command to create a new figure, with an optional input number. You can then use this command to switch between figures, for example to modify the previous figure. "
   ]
  },
  {
   "cell_type": "code",
   "execution_count": null,
   "metadata": {},
   "outputs": [],
   "source": [
    "plt.figure(2)\n",
    "plt.plot(np.linspace(0,8,5),np.geomspace(1,30,5), label='Random Curve',color='orange')\n",
    "plt.figure(1)\n",
    "plt.plot(np.linspace(0,8,5),np.geomspace(1,10,5), label='Random Curve',color='red')"
   ]
  },
  {
   "cell_type": "markdown",
   "metadata": {},
   "source": [
    "However, I still recommend that you do not do this because if you re-run the cell, you will still keep on adding a new plot to the first figure. \n",
    "\n",
    "From this point on you should enough to get started on [the Pyplot tutorial]( https://matplotlib.org/tutorials/introductory/pyplot.html) or play around with `plot()` (reference and more examples [here](https://matplotlib.org/api/_as_gen/matplotlib.pyplot.plot.html#matplotlib.pyplot.plot)). If you are only looking into doing basic visualisations, then this should be enough.\n",
    "\n",
    "In the next tutorial, we are going to use a different coding style, namely toe object-oriented interface. \n",
    "\n",
    "To do:\n",
    "* examples on loading data from a file (can be done via NumPy instead)\n",
    "* some other basic chart types "
   ]
  },
  {
   "cell_type": "code",
   "execution_count": null,
   "metadata": {},
   "outputs": [],
   "source": []
  }
 ],
 "metadata": {
  "kernelspec": {
   "display_name": "Python 3",
   "language": "python",
   "name": "python3"
  },
  "language_info": {
   "codemirror_mode": {
    "name": "ipython",
    "version": 3
   },
   "file_extension": ".py",
   "mimetype": "text/x-python",
   "name": "python",
   "nbconvert_exporter": "python",
   "pygments_lexer": "ipython3",
   "version": "3.6.3"
  }
 },
 "nbformat": 4,
 "nbformat_minor": 2
}
