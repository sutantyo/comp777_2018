{
 "cells": [
  {
   "cell_type": "code",
   "execution_count": 2,
   "metadata": {},
   "outputs": [],
   "source": [
    "import numpy as np"
   ]
  },
  {
   "cell_type": "markdown",
   "metadata": {},
   "source": [
    "## NumPy array\n",
    "\n",
    "The main object in NumPy is the multi-dimensional array data structure called `ndarray`, or simply as `array`. The `ndarray` data structure is different to Python standard list, tuple, or `array.array` object, since it offers a lot more functionality. The following notebook lists the more important concepts and functions involving `ndarray` that we are going to use in this course, so that you can quickly refer to it should you need to. For a more complete introduction to NumPy, please refer to the official quickstart page at https://docs.scipy.org/doc/numpy-1.15.1/user/quickstart.html.\n",
    "\n",
    "To simplify the discussion, we are going to refer to the `ndarray` object simply as array. \n",
    "\n",
    "\n",
    "### Array creation\n",
    "\n",
    "Main reference: https://docs.scipy.org/doc/numpy-1.13.0/user/basics.creation.html\n",
    "\n",
    "There are two main methods of creating an array: we can convert a Python list or tuple into one, or we construct one from scratch using one of the array-creation function.\n",
    "\n",
    "Conversion from other Python structures is straightforward:"
   ]
  },
  {
   "cell_type": "code",
   "execution_count": 16,
   "metadata": {},
   "outputs": [
    {
     "data": {
      "text/plain": [
       "array([1, 2, 3, 4])"
      ]
     },
     "execution_count": 16,
     "metadata": {},
     "output_type": "execute_result"
    }
   ],
   "source": [
    "a = np.array([1,2,3,4])\n",
    "a"
   ]
  },
  {
   "cell_type": "markdown",
   "metadata": {},
   "source": [
    "Otherwise, we can use one of many array-creation functions, which are mostly self-explanatory:\n",
    "* `ones([m,n])` - create an array of 1s\n",
    "* `zeros([m,n])` - create an array of 0s\n",
    "* `full([m,n], x)` - create an array filled with `x`\n",
    "* `empty([m,n])` - create an array, but do not initialise the values (may contain garbage), but marginally faster\n",
    "\n",
    "All of the above functions create an array with m rows and n columns. You can increase the dimension by adding more values in the list. For example:"
   ]
  },
  {
   "cell_type": "code",
   "execution_count": 29,
   "metadata": {},
   "outputs": [
    {
     "data": {
      "text/plain": [
       "array([[[0., 0., 0.],\n",
       "        [0., 0., 0.]],\n",
       "\n",
       "       [[0., 0., 0.],\n",
       "        [0., 0., 0.]]])"
      ]
     },
     "execution_count": 29,
     "metadata": {},
     "output_type": "execute_result"
    }
   ],
   "source": [
    "a = np.zeros([2,2,3])\n",
    "a"
   ]
  },
  {
   "cell_type": "markdown",
   "metadata": {},
   "source": [
    "You can also specify the type using the `dtype` parameter:"
   ]
  },
  {
   "cell_type": "code",
   "execution_count": 30,
   "metadata": {},
   "outputs": [
    {
     "data": {
      "text/plain": [
       "array([[5.+0.j, 5.+0.j, 5.+0.j],\n",
       "       [5.+0.j, 5.+0.j, 5.+0.j]], dtype=complex64)"
      ]
     },
     "execution_count": 30,
     "metadata": {},
     "output_type": "execute_result"
    }
   ],
   "source": [
    "a = np.full([2,3],5,dtype=np.complex64)\n",
    "a"
   ]
  },
  {
   "cell_type": "markdown",
   "metadata": {},
   "source": [
    "The basic data types in NumPy can be found here: https://docs.scipy.org/doc/numpy-1.13.0/user/basics.types.html"
   ]
  },
  {
   "cell_type": "code",
   "execution_count": null,
   "metadata": {},
   "outputs": [],
   "source": []
  }
 ],
 "metadata": {
  "kernelspec": {
   "display_name": "Python 3",
   "language": "python",
   "name": "python3"
  },
  "language_info": {
   "codemirror_mode": {
    "name": "ipython",
    "version": 3
   },
   "file_extension": ".py",
   "mimetype": "text/x-python",
   "name": "python",
   "nbconvert_exporter": "python",
   "pygments_lexer": "ipython3",
   "version": "3.6.3"
  }
 },
 "nbformat": 4,
 "nbformat_minor": 2
}
